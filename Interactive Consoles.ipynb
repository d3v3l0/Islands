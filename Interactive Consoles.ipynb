{
 "cells": [
  {
   "cell_type": "code",
   "execution_count": 1,
   "metadata": {
    "autoscroll": false,
    "collapsed": false,
    "ein.hycell": false,
    "ein.tags": "worksheet-0",
    "slideshow": {
     "slide_type": "-"
    }
   },
   "outputs": [
    {
     "data": {
      "text/plain": [
       "'3.7.2 (default, Dec 29 2018, 06:19:36) \\n[GCC 7.3.0]'"
      ]
     },
     "execution_count": 1,
     "metadata": {},
     "output_type": "execute_result"
    }
   ],
   "source": [
    "import sys\n",
    "sys.version"
   ]
  },
  {
   "cell_type": "code",
   "execution_count": 2,
   "metadata": {
    "autoscroll": false,
    "collapsed": false,
    "ein.hycell": false,
    "ein.tags": "worksheet-0",
    "slideshow": {
     "slide_type": "-"
    }
   },
   "outputs": [],
   "source": [
    "import attr\n",
    "#attr."
   ]
  },
  {
   "cell_type": "code",
   "execution_count": 3,
   "metadata": {
    "autoscroll": false,
    "collapsed": false,
    "ein.hycell": false,
    "ein.tags": "worksheet-0",
    "slideshow": {
     "slide_type": "-"
    }
   },
   "outputs": [],
   "source": [
    "#import tcod, color\n",
    "#import tcod.console as console\n",
    "from ipykernel.eventloops import register_integration\n",
    "import attr\n",
    "from gameclock import GameClock\n",
    "from MapChunk import PolygonMap\n",
    "import random as rand\n",
    "import numpy as np\n",
    "\n",
    "import IPython.core\n",
    "shell = IPython.core.getipython.get_ipython()\n",
    "\n",
    "\n",
    "import matplotlib\n",
    "import matplotlib.pyplot as plt\n",
    "%matplotlib inline\n",
    "\n",
    "\n",
    "matplotlib.style.use('seaborn-talk')\n",
    "plt.rcParams['figure.figsize'] = 10, 8\n",
    "plt.rcParams['figure.dpi'] = 120\n",
    "\n",
    "%load_ext autoreload\n",
    "%autoreload 2\n"
   ]
  },
  {
   "cell_type": "markdown",
   "metadata": {
    "ein.tags": "worksheet-0",
    "slideshow": {
     "slide_type": "-"
    }
   },
   "source": [
    "# Simple Interactive Application With Canvas"
   ]
  },
  {
   "cell_type": "markdown",
   "metadata": {
    "ein.tags": "worksheet-0",
    "slideshow": {
     "slide_type": "-"
    }
   },
   "source": [
    "python-tdl wants one to call tdl.init() to set up the root console.\n",
    "\n",
    "For event handling the python-tdl way is to subclass tdl.App. The action happens\n",
    "in `tdl.App.run_once`, but the time tracking is simple and would probably\n",
    "benefit from the inclusion of GameClock.\n"
   ]
  },
  {
   "cell_type": "code",
   "execution_count": null,
   "metadata": {
    "autoscroll": false,
    "collapsed": false,
    "ein.hycell": false,
    "ein.tags": "worksheet-0",
    "slideshow": {
     "slide_type": "-"
    }
   },
   "outputs": [
    {
     "name": "stderr",
     "output_type": "stream",
     "text": [
      "/mnt/c/Users/mille/Dropbox/Projects/Islands/ipy_app.py:1: DeprecationWarning: The tdl module has been deprecated.\n",
      "  import tdl, tcod\n"
     ]
    }
   ],
   "source": [
    "%run ipy_app.py\n",
    "app = InteractiveApp(shell.kernel)\n",
    "app.init_root(width=80, height=80, show_credits=False)\n",
    "app.run()"
   ]
  },
  {
   "cell_type": "markdown",
   "metadata": {
    "ein.tags": "worksheet-0",
    "slideshow": {
     "slide_type": "-"
    }
   },
   "source": [
    "We can update and draw to the application by manipulating the canvas attribute,\n",
    "which is an off-screen representation that is periodically blitted onto the root\n",
    "console."
   ]
  },
  {
   "cell_type": "code",
   "execution_count": 4,
   "metadata": {
    "autoscroll": false,
    "collapsed": false,
    "ein.hycell": false,
    "ein.tags": "worksheet-0",
    "slideshow": {
     "slide_type": "-"
    }
   },
   "outputs": [],
   "source": [
    "app.canvas.clear()"
   ]
  },
  {
   "cell_type": "code",
   "execution_count": 5,
   "metadata": {
    "autoscroll": false,
    "collapsed": false,
    "ein.hycell": false,
    "ein.tags": "worksheet-0",
    "slideshow": {
     "slide_type": "-"
    }
   },
   "outputs": [],
   "source": [
    "app.canvas.draw_rect(0, 1, 10, 10, \".\", fg=tcod.light_amber)\n",
    "app.canvas.draw_rect(0, 0, 15, 3, None, bg=tcod.white)\n",
    "app.canvas.draw_str(10, 10, \"Help me!\")\n",
    "app.canvas.draw_str(10, 11, \"Another line.\")\n",
    "app.canvas.draw_frame(20,0, 10, 10, None, fg=tcod.white, bg=tcod.grey)"
   ]
  },
  {
   "cell_type": "code",
   "execution_count": 6,
   "metadata": {
    "autoscroll": false,
    "collapsed": false,
    "ein.hycell": false,
    "ein.tags": "worksheet-0",
    "slideshow": {
     "slide_type": "-"
    }
   },
   "outputs": [
    {
     "data": {
      "text/plain": [
       "(72, (255, 255, 255), (0, 0, 0))"
      ]
     },
     "execution_count": 6,
     "metadata": {},
     "output_type": "execute_result"
    }
   ],
   "source": [
    "app.canvas.get_char(10,10)"
   ]
  },
  {
   "cell_type": "markdown",
   "metadata": {
    "ein.tags": "worksheet-0",
    "slideshow": {
     "slide_type": "-"
    }
   },
   "source": [
    "## Heightmaps"
   ]
  },
  {
   "cell_type": "code",
   "execution_count": 7,
   "metadata": {
    "autoscroll": false,
    "collapsed": false,
    "ein.hycell": false,
    "ein.tags": "worksheet-0",
    "slideshow": {
     "slide_type": "-"
    }
   },
   "outputs": [],
   "source": [
    "h2 = tcod.heightmap_new(80, 80)\n",
    "h2[:] = 0"
   ]
  },
  {
   "cell_type": "code",
   "execution_count": 8,
   "metadata": {
    "autoscroll": false,
    "collapsed": false,
    "ein.hycell": false,
    "ein.tags": "worksheet-0",
    "slideshow": {
     "slide_type": "-"
    }
   },
   "outputs": [
    {
     "data": {
      "text/plain": [
       "array([[0., 0., 0., ..., 0., 0., 0.],\n       [0., 0., 0., ..., 0., 0., 0.],\n       [0., 0., 0., ..., 0., 0., 0.],\n       ...,\n       [0., 0., 0., ..., 0., 0., 0.],\n       [0., 0., 0., ..., 0., 0., 0.],\n       [0., 0., 0., ..., 0., 0., 0.]], dtype=float32)"
      ]
     },
     "execution_count": 8,
     "metadata": {},
     "output_type": "execute_result"
    }
   ],
   "source": [
    "h2"
   ]
  },
  {
   "cell_type": "code",
   "execution_count": 9,
   "metadata": {
    "autoscroll": false,
    "collapsed": false,
    "ein.hycell": false,
    "ein.tags": "worksheet-0",
    "slideshow": {
     "slide_type": "-"
    }
   },
   "outputs": [],
   "source": [
    "tcod.heightmap_add_hill(h2, 20, 20, 5, 5)"
   ]
  },
  {
   "cell_type": "code",
   "execution_count": 10,
   "metadata": {
    "autoscroll": false,
    "collapsed": false,
    "ein.hycell": false,
    "ein.tags": "worksheet-0",
    "slideshow": {
     "slide_type": "-"
    }
   },
   "outputs": [
    {
     "data": {
      "text/plain": [
       "<matplotlib.image.AxesImage at 0x7f786c1285f8>"
      ]
     },
     "execution_count": 10,
     "metadata": {},
     "output_type": "execute_result"
    },
    {
     "data": {
      "image/png": "[encoded data removed]",
      "text/plain": [
       "<Figure size 432x288 with 1 Axes>"
      ]
     },
     "metadata": {},
     "output_type": "display_data"
    }
   ],
   "source": [
    "plt.imshow(h2)"
   ]
  },
  {
   "cell_type": "code",
   "execution_count": 11,
   "metadata": {
    "autoscroll": false,
    "collapsed": false,
    "ein.hycell": false,
    "ein.tags": "worksheet-0",
    "slideshow": {
     "slide_type": "-"
    }
   },
   "outputs": [],
   "source": [
    "tcod.heightmap_rain_erosion(h2, 100, 0.5, 0.1)"
   ]
  },
  {
   "cell_type": "code",
   "execution_count": 12,
   "metadata": {
    "autoscroll": false,
    "collapsed": false,
    "ein.hycell": false,
    "ein.tags": "worksheet-0",
    "slideshow": {
     "slide_type": "-"
    }
   },
   "outputs": [
    {
     "data": {
      "text/plain": [
       "<matplotlib.image.AxesImage at 0x7f786c0526a0>"
      ]
     },
     "execution_count": 12,
     "metadata": {},
     "output_type": "execute_result"
    },
    {
     "data": {
      "image/png": "[encoded data removed]",
      "text/plain": [
       "<Figure size 432x288 with 1 Axes>"
      ]
     },
     "metadata": {},
     "output_type": "display_data"
    }
   ],
   "source": [
    "plt.imshow(h2)"
   ]
  },
  {
   "cell_type": "code",
   "execution_count": 13,
   "metadata": {
    "autoscroll": false,
    "collapsed": false,
    "ein.hycell": false,
    "ein.tags": "worksheet-0",
    "slideshow": {
     "slide_type": "-"
    }
   },
   "outputs": [],
   "source": [
    "from tdl.noise import Noise\n",
    "\n",
    "n = Noise()"
   ]
  },
  {
   "cell_type": "code",
   "execution_count": 14,
   "metadata": {
    "autoscroll": false,
    "collapsed": false,
    "ein.hycell": false,
    "ein.tags": "worksheet-0",
    "slideshow": {
     "slide_type": "-"
    }
   },
   "outputs": [
    {
     "data": {
      "text/plain": [
       "0.38356614112854004"
      ]
     },
     "execution_count": 14,
     "metadata": {},
     "output_type": "execute_result"
    }
   ],
   "source": [
    "n.get_point(2.3,2.4,0)"
   ]
  },
  {
   "cell_type": "code",
   "execution_count": 15,
   "metadata": {
    "autoscroll": false,
    "collapsed": false,
    "ein.hycell": false,
    "ein.tags": "worksheet-0",
    "slideshow": {
     "slide_type": "-"
    }
   },
   "outputs": [
    {
     "data": {
      "text/plain": [
       "array([[0., 0., 0., ..., 0., 0., 0.],\n       [0., 0., 0., ..., 0., 0., 0.],\n       [0., 0., 0., ..., 0., 0., 0.],\n       ...,\n       [0., 0., 0., ..., 0., 0., 0.],\n       [0., 0., 0., ..., 0., 0., 0.],\n       [0., 0., 0., ..., 0., 0., 0.]], dtype=float32)"
      ]
     },
     "execution_count": 15,
     "metadata": {},
     "output_type": "execute_result"
    }
   ],
   "source": [
    "hn = tcod.heightmap_new(80, 80)\n",
    "hn[:] = 0.0\n",
    "hn"
   ]
  },
  {
   "cell_type": "code",
   "execution_count": 16,
   "metadata": {
    "autoscroll": false,
    "collapsed": false,
    "ein.hycell": false,
    "ein.tags": "worksheet-0",
    "slideshow": {
     "slide_type": "-"
    }
   },
   "outputs": [
    {
     "name": "stdout",
     "output_type": "stream",
     "text": [
      "(75.99865655983494, 25.576420293015776) = 1.5951903741860263, 4.919641364878436\n",
      "(27.679159332647572, 65.82654953127512) = 6.881719420265247, 1.5870653389398792\n",
      "(54.72561207378796, 59.042237888879384) = 11.811474107622065, 6.886360632341663\n",
      "(29.719765197374286, 46.744769836269015) = 9.195532683330224, 9.976257081964913\n",
      "(23.614345289375454, 6.063273371826705) = 18.933685417753882, 1.576514200970499\n",
      "(28.891818171625374, 25.699554042774473) = 18.189089783876668, 4.917096433095615\n",
      "(52.94595642074589, 25.357173145159155) = 13.727203318845831, 5.9288646171283546\n",
      "(16.783850328547842, 3.5490039570248033) = 15.580124079951325, 5.897918035579984\n",
      "(71.98888541236076, 63.585441497306704) = 6.125504341755892, 1.8388382632823308\n",
      "(35.622634196413856, 56.38836125905773) = 5.254917452526526, 1.9833636798099052\n",
      "(14.232562248886538, 34.76451360820397) = 0.09839944484526075, 3.200317755268479\n",
      "(6.949663351608306, 55.38649652910194) = 19.52198263280222, 0.43393881266585943\n",
      "(76.81637164148893, 32.60460406015274) = 6.5083062476519205, 9.243474457801561\n",
      "(7.116977253319181, 26.568513258972573) = 0.15930367639434007, 0.5566457318294293\n",
      "(12.630527131484746, 19.88388363144911) = 5.421177255407191, 3.9697724842013082\n",
      "(9.823476344996225, 51.33270423224089) = 19.258138193618915, 8.633170860888397\n",
      "(49.07731017236689, 44.09284048490289) = 15.202738450600737, 3.6374810628390266\n",
      "(27.898836978922024, 66.58711387122506) = 12.034849640804682, 5.028703780787366\n",
      "(69.24884379639799, 34.18569054577647) = 15.355122183252178, 4.158342559507422\n",
      "(40.99841853952678, 62.61557502644483) = 2.7123602032796, 1.1073724671211138\n",
      "(48.178272122289215, 53.22957938329986) = 3.2970581335775617, 6.168116514073436\n",
      "(24.764350204743543, 22.05453980486989) = 17.64233514922129, 8.298560001831012\n",
      "(17.748035910472908, 42.63190094175452) = 15.234208607548185, 5.2672417609206255\n",
      "(13.826527022480786, 33.71881696254596) = 12.56559600604124, 6.165707238919472\n",
      "(20.121863008205445, 28.203969168043336) = 14.034910014252704, 7.612631105266302\n",
      "(58.28599501471721, 61.005836555206315) = 6.026042106330543, 9.671476471971289\n",
      "(24.9488880485342, 11.493612263809023) = 5.878708976187184, 7.458802568093955\n",
      "(8.635506550742535, 54.944904253966286) = 2.7408194170691957, 6.360250881911814\n",
      "(64.2411027602408, 25.196295102462017) = 12.197659850088298, 5.499439528255614\n",
      "(71.89336280229927, 62.147792314565244) = 11.932963511737803, 9.324460902180725\n",
      "(44.80032566022238, 43.47535234513383) = 0.9604020881660302, 2.190921117099168\n",
      "(59.4174886633452, 67.99849349158944) = 5.918259978392033, 7.2788379417588605\n",
      "(22.67025041024492, 7.5563381158892895) = 7.251259224619917, 6.7695437646833625\n",
      "(66.57971326815662, 33.678649500680805) = 15.621991319048153, 5.9159846292227956\n",
      "(36.250356291094775, 68.08971599798119) = 16.24425516226085, 6.634720818674427\n",
      "(70.46901722206302, 56.99973347280945) = 14.798837075689411, 5.569604551590501\n",
      "(15.194575879478585, 65.18148071395996) = 11.174604220106, 9.343507934742705\n",
      "(45.257051817166605, 21.776122959778466) = 5.912593807777185, 0.604632486489548\n",
      "(10.584279785371855, 65.4826358574669) = 14.58715657626977, 4.1042318079725595\n",
      "(15.350743643978051, 35.602482882500595) = 4.0708582844008845, 2.96136692595815\n",
      "(68.92926035064792, 0.4837284351212823) = 0.41698321229855617, 2.702078720342257\n",
      "(42.297302943769026, 50.65315406352629) = 6.713882580456108, 1.7624788143389158\n",
      "(4.027437557215512, 18.910885944006637) = 8.285787144883127, 5.945629252903368\n",
      "(55.188838621869834, 23.394817874241358) = 16.9110707074094, 2.5700602860068136\n",
      "(3.887835094493104, 38.33659194018576) = 0.749259162692768, 4.8247673597198055\n",
      "(28.692398174921394, 23.91824003809793) = 15.057902699691859, 8.35160481067831\n",
      "(68.45283926737144, 25.880056545208177) = 5.256729944300034, 2.266617012881038\n",
      "(24.73113975589273, 79.78740826347331) = 1.4521675676622903, 1.7378477658954328\n",
      "(17.032007897492925, 65.96769225665061) = 10.300107587153587, 1.7301798672267354\n",
      "(31.20801458218896, 20.519128629118804) = 16.661942281592957, 7.818980256853912\n",
      "(43.40939906591406, 41.75037160298112) = 18.037045356779036, 4.4819739677550725\n",
      "(56.20695837785428, 15.160858334651444) = 4.534525497624935, 5.380692381894394\n",
      "(26.607903899345835, 5.742551051245179) = 18.5192803589073, 7.988575643945531\n",
      "(8.483908147110064, 74.14055192644012) = 7.104806372277482, 1.6820155643893153\n",
      "(9.09083511559361, 29.543858681564448) = 14.409519746882983, 7.599506992529955\n",
      "(56.50142817963055, 1.3232641692665226) = 1.518091198810878, 7.56265673269866\n",
      "(56.728960657051076, 71.68488309010718) = 17.615177100827665, 5.155908797557722\n",
      "(44.107594612492846, 77.94823725710057) = 17.622280761157285, 0.3890266534455533\n",
      "(7.067408032943563, 5.428602042111885) = 19.64077344351541, 5.366885550969363\n",
      "(35.13587380164288, 3.58487067675628) = 8.597695985825503, 6.446648272088994\n",
      "(62.70329982365038, 51.28958195390132) = 3.5760595509190596, 0.8211130559630819\n",
      "(25.701410461440233, 7.1831560432359876) = 4.935264319082711, 8.879386578015541\n",
      "(21.876228838879392, 21.57709451942999) = 17.816400390410312, 6.380266372211828\n",
      "(52.3789308171789, 49.93088793691591) = 10.10251662078594, 6.543938199192131\n",
      "(34.58913673169416, 70.81406170728086) = 9.414805357943763, 5.442599485353348\n",
      "(59.11997361226681, 60.407201516095775) = 13.889967148254103, 1.4191683204206484\n",
      "(31.508497488014314, 56.06871820183102) = 11.364091621725903, 8.631835824659625\n",
      "(20.08100727952188, 41.89650150532784) = 10.38572022461931, 3.1442172833468875\n",
      "(62.407239765550806, 70.65442678723667) = 15.917986019087728, 6.22205241189225\n",
      "(42.75756011486256, 51.877322804646354) = 13.01542109358226, 8.944042082125188\n",
      "(31.326568280130722, 58.690146562968685) = 5.0961909542785815, 5.961301128695366\n",
      "(21.011132519149793, 49.57364957157512) = 6.261899354318405, 5.7308215552477515\n",
      "(47.367496187529675, 71.50034501100733) = 7.702886130049979, 9.981263227466384\n",
      "(49.52836799390174, 28.110545258058906) = 0.08529674490759698, 9.311706766531163\n",
      "(77.15066614435608, 30.632719049541475) = 7.730916593416561, 2.0997003705193498\n",
      "(20.410887974620557, 78.07960236977773) = 5.94335543324479, 0.6659495099593593\n",
      "(62.0759288524998, 60.87256973213471) = 15.038499824659572, 2.64685056336086\n",
      "(3.4976459670699445, 67.09976246202129) = 2.6221788827287007, 9.959567368780833\n",
      "(59.26194208060682, 2.9514685988105693) = 2.2505061335871646, 9.779089304551835\n",
      "(38.60019905572181, 75.19690704926154) = 19.912859050839756, 4.474595377410272\n",
      "(24.60982478617523, 65.4159446521263) = 13.764553746698102, 8.770693749186524\n",
      "(32.74233003774303, 26.952021470353074) = 17.742022620850538, 5.888708768100046\n",
      "(73.56330065169254, 58.042878673096695) = 5.735864238220234, 5.351124050947419\n",
      "(63.88435402230283, 52.04438213825473) = 9.17339103769059, 1.807881891622558\n",
      "(5.536942014249577, 75.74344211210953) = 6.007215876155905, 3.1734705022387475\n",
      "(78.34327122647028, 8.327192654539042) = 7.50093283689464, 9.818534803041564\n",
      "(46.97921926359171, 3.4008519271324023) = 3.1216033049006797, 7.055221320445546\n",
      "(56.2031027897625, 5.047921836159945) = 15.670163915011269, 7.73608899962924\n",
      "(4.246251399819672, 46.570959616965204) = 12.078388864596718, 6.492895267632486\n",
      "(18.580545223626093, 39.12547129796697) = 9.935971154694588, 6.281136442792824\n",
      "(74.20278365497686, 58.280368678908665) = 0.25316007039989596, 9.486029052139198\n",
      "(33.14941919803409, 1.7247071892924826) = 17.97525143927741, 8.105142382974055\n",
      "(33.399811862512074, 52.68602852260669) = 5.137732914647925, 4.645651016934725\n",
      "(31.579374680422106, 30.765508623704658) = 17.368625660925588, 2.6143982313470273\n",
      "(13.989104367461715, 6.73130309307818) = 1.9334381591412542, 8.129902507279587\n",
      "(5.425316628649908, 38.12486309185459) = 17.34862086507895, 3.345007105675167\n",
      "(53.03590737006637, 62.3926584492679) = 14.69150029854201, 1.776400789279139\n",
      "(22.310670721691032, 23.706074780192736) = 17.63396142314334, 2.798170430810872\n",
      "(2.225835742746858, 8.301715899912372) = 0.761129201059827, 1.5363953020583243\n",
      "(62.29487629715749, 36.54960419635023) = 6.839136149550975, 4.860715645374274\n",
      "(42.134557383642786, 34.92011438135534) = 15.000501912728229, 9.489594158401204\n",
      "(28.24294904308669, 10.017089273335893) = 10.542605312178353, 3.553913084228361\n",
      "(39.58677406962125, 17.287379193037005) = 13.232314856215675, 0.9725327896612357\n",
      "(44.55873414077482, 61.72036697897002) = 7.4856880260129515, 5.13013935197689\n",
      "(57.01047161833512, 18.878432055900845) = 15.839348316125397, 9.47236519493252\n",
      "(55.8412022423073, 44.65009392749793) = 6.953695378505593, 4.642883057156807\n",
      "(48.42265650404102, 41.304469195487535) = 0.3591116082797319, 9.695276876381458\n",
      "(54.73452015992552, 56.91132041790229) = 0.37959795483895276, 5.52438763275663\n",
      "(27.76191585215301, 72.1484735317077) = 7.807953860256214, 9.654381095541037\n",
      "(25.09910519098274, 73.01362926345101) = 19.396971868553024, 0.7064792221621619\n",
      "(57.140121126376215, 47.84523767818985) = 8.242648321034128, 8.21873741146462\n",
      "(22.1028941069492, 59.47737099458537) = 6.291518406011325, 8.970844955353956\n",
      "(42.070263681159624, 37.15227274637063) = 18.22350682053948, 4.934575292682419\n",
      "(42.58932382353166, 55.65434051431303) = 1.787473410731406, 3.2077922623011768\n",
      "(60.8687603605746, 26.037477149003003) = 12.686462784592846, 3.5681259635179288\n",
      "(6.852041120396679, 55.70880634174478) = 8.079118372190173, 0.15100734114347092\n",
      "(64.2972085242985, 55.76975107393547) = 4.1675225270465655, 6.37895290982671\n",
      "(74.37484771740442, 50.78647779636796) = 16.135396358063726, 0.30700220695084157\n",
      "(15.827964474061424, 24.54494261164948) = 11.794464714249608, 1.4804681700100653\n",
      "(15.67969564088136, 59.37938296645634) = 2.1760374870014565, 2.2053655161453256\n",
      "(25.413482413972233, 75.5298272582924) = 10.7002898436353, 6.023983054542416\n",
      "(36.36950548752756, 77.13706919963455) = 19.829379640375187, 7.735205157753797\n",
      "(21.685235509929175, 13.00368984772442) = 2.467973563785799, 0.5422771963250939\n",
      "(53.44952208828988, 17.67413928978936) = 0.7035852419530819, 2.888901270817461\n",
      "(78.95459310971789, 61.61958396754688) = 14.62018214295419, 1.912978919836118\n",
      "(22.85302977041633, 59.35312685873281) = 7.524698035903787, 6.6082974213713355\n",
      "(55.304204542380965, 19.22729115433168) = 16.648756131085463, 6.920581559831735\n",
      "(70.97963690019367, 68.36083326378039) = 15.930819882136385, 6.464966915883791\n",
      "(35.24287702861543, 16.891352849735313) = 6.117442352228588, 2.053290948784303\n",
      "(66.60688731072918, 36.978871265950424) = 3.622773882700787, 4.099016677809497\n",
      "(66.19962259768775, 25.219488142911246) = 8.473037758447393, 0.49005584366744515\n",
      "(7.389187826675281, 66.05892103039517) = 2.5240446857371457, 9.589739852335722\n",
      "(49.806119925727764, 26.63642621142671) = 10.766202274831825, 0.05543777841711117\n",
      "(77.39611178060395, 7.603246443226386) = 4.912636249436981, 1.9410116147152967\n",
      "(69.92855285373055, 42.43523488494996) = 13.934404380383825, 3.380662343321359\n",
      "(24.97341671668928, 40.741412174458446) = 9.3688994493873, 6.841773363025028\n",
      "(3.3518632822587424, 77.24933601524) = 8.596550474136436, 9.000805617078644\n",
      "(0.8051707105256067, 35.534975208664726) = 4.6182075393510225, 8.977635972382913\n",
      "(10.129350531393007, 68.10337550682051) = 7.589866902868556, 5.190306742152676\n",
      "(60.38594097244936, 18.67085639346719) = 11.496057513311463, 0.4736911538332367\n",
      "(60.52679427375362, 9.652266670868439) = 11.187866739425662, 0.45922252324576474\n",
      "(14.810257078780165, 15.327821738523237) = 4.888253332709239, 3.4043625736782266\n",
      "(47.0863927886193, 56.92552639371594) = 6.703959402717561, 4.056245720242511\n",
      "(54.99680674234824, 55.226598702778006) = 13.670315897245693, 3.212643184399661\n",
      "(64.35038972308645, 38.03045147774629) = 6.861808904433211, 6.028667400280376\n",
      "(0.31296000722256245, 11.741585000099253) = 0.3576531762272106, 9.007217997595026\n",
      "(3.5015924478167815, 5.022098180829211) = 1.5779116790654202, 6.069816954889467\n",
      "(26.628330628525205, 38.33665316299562) = 4.693490652241039, 7.016987879045262\n",
      "(52.857307205378945, 74.21373163555407) = 9.23607246804007, 1.2287801399972653\n",
      "(51.81683430233007, 63.281658145626345) = 14.133704639543684, 4.445085535923502\n",
      "(4.878249214772392, 38.003923841573084) = 13.71891041273459, 6.825787873774436\n",
      "(50.49785621806974, 5.39886913182972) = 9.777526497891953, 1.7672170605244797\n",
      "(33.2892937044314, 14.234090367399359) = 3.9975717218928386, 3.1686956382070997\n",
      "(2.5740229472084586, 56.91543699493603) = 13.340127566781646, 0.9133160858508726\n",
      "(12.245683343709794, 46.717594267553224) = 5.93361179941263, 5.169723522950235\n",
      "(71.68043171430334, 12.412508552552755) = 18.306830690051907, 4.798869998620818\n",
      "(70.14411022465856, 58.81658332162268) = 12.177147842366756, 0.7795255785357447\n",
      "(57.992543960781774, 37.961521155176065) = 7.365984174281994, 7.40985322365924\n",
      "(4.847099848063481, 11.199717739059016) = 15.624856926514932, 9.77151438491881\n",
      "(18.755895939617613, 39.90076445686154) = 3.6132222060414976, 3.474737246580497\n",
      "(57.16382778402708, 3.610177948585127) = 14.113337653002345, 4.3190145926573384\n",
      "(37.146590053783505, 16.507595415669982) = 15.23764860849978, 5.709590766477428\n",
      "(7.539714200335439, 26.657249527894827) = 14.062035333579534, 5.96760029758582\n",
      "(28.545117912531943, 29.54443846254847) = 13.348492747494983, 0.9409646669939886\n",
      "(59.80541526818168, 5.662068841373218) = 1.3587260458462769, 4.012735529692291\n",
      "(33.29127520104092, 23.873663957833422) = 11.30529153082313, 2.022395750674768\n",
      "(59.83888292965359, 78.71820065541286) = 6.174637869010122, 2.8636335663931654\n",
      "(32.45179955779008, 30.665763391810408) = 18.119411912360178, 8.34715424021183\n",
      "(24.47239900918703, 57.441392917949905) = 18.99292940223536, 3.502236161730462\n",
      "(55.83393801748345, 79.1178029565889) = 12.57089250979318, 9.004911240348816\n",
      "(6.190866848769243, 24.68737799771107) = 0.12141603889470387, 1.9305882415310471\n",
      "(72.56194902515143, 9.263233510532247) = 0.6542557219028944, 2.328816027900081\n",
      "(29.82590797961043, 62.20563161115875) = 12.168343630719615, 2.2323032311060165\n",
      "(55.76968165129797, 7.336771076565851) = 9.780850018635011, 7.2012426765854265\n",
      "(42.48982022750961, 76.77953256259505) = 4.164496634024976, 9.330109924746626\n",
      "(69.55008310492371, 21.175026062223168) = 18.658612072594693, 4.400787050617732\n",
      "(39.83321099541026, 29.141374492839827) = 11.44962635136463, 2.5715825805882133\n",
      "(63.59987287405951, 20.583341842189284) = 9.878809187975659, 5.810473500931826\n",
      "(20.271685057527478, 19.880418211085107) = 18.316388628325026, 3.693498860816172\n",
      "(20.898155927742028, 21.54779957158711) = 1.2888114459967825, 9.304196448214082\n",
      "(36.318403303273605, 55.563788621272465) = 18.306302479919022, 6.825240548870712\n",
      "(10.123746487687892, 24.843824176246994) = 10.150965802975055, 4.6863932493411635\n",
      "(57.52156954566523, 63.48023179635314) = 15.108243349710103, 1.103672819640369\n",
      "(29.01795421341265, 24.999536649017564) = 10.037178230567074, 9.58206671193627\n",
      "(3.209436367556835, 65.26012532043065) = 4.076308460969997, 7.349712394555176\n",
      "(77.15248719165943, 29.895131674544942) = 7.182617850027806, 5.641345617530361\n",
      "(9.740019692225133, 56.96129513969108) = 13.002842294890202, 8.62106415952279\n",
      "(72.77920281558524, 58.73125414017881) = 14.228885074049325, 0.4581742856799975\n",
      "(62.050114754083054, 57.924552801902465) = 19.103603111769058, 1.0114011950875845\n",
      "(57.61489416380188, 59.93436299213819) = 8.987162111306837, 6.765008504802973\n",
      "(76.18426385965654, 30.063411053311178) = 10.451260772649674, 1.5905117760689613\n",
      "(76.99182763670441, 6.503353769299478) = 3.9950356369159157, 4.460355360025118\n",
      "(19.813968264649205, 35.75242931480762) = 3.649500317570973, 0.2503795331143277\n"
     ]
    }
   ],
   "source": [
    "for i in range(rand.randint(100, 1000)):\n",
    "    x, y = rand.random()*80, rand.random()*80\n",
    "    radius = rand.random()*20\n",
    "    height = rand.random()*10\n",
    "    print(\"({}, {}) = {}, {}\".format(x, y, radius, height))\n",
    "    tcod.heightmap_add_hill(hn, x, y, radius, height)"
   ]
  },
  {
   "cell_type": "code",
   "execution_count": 17,
   "metadata": {
    "autoscroll": false,
    "collapsed": false,
    "ein.hycell": false,
    "ein.tags": "worksheet-0",
    "slideshow": {
     "slide_type": "-"
    }
   },
   "outputs": [
    {
     "data": {
      "text/plain": [
       "<matplotlib.image.AxesImage at 0x7f785f5b7550>"
      ]
     },
     "execution_count": 17,
     "metadata": {},
     "output_type": "execute_result"
    },
    {
     "data": {
      "image/png": "[encoded data removed]",
      "text/plain": [
       "<Figure size 432x288 with 1 Axes>"
      ]
     },
     "metadata": {},
     "output_type": "display_data"
    }
   ],
   "source": [
    "plt.imshow(hn)\n"
   ]
  },
  {
   "cell_type": "code",
   "execution_count": 18,
   "metadata": {
    "autoscroll": false,
    "collapsed": false,
    "ein.hycell": false,
    "ein.tags": "worksheet-0",
    "slideshow": {
     "slide_type": "-"
    }
   },
   "outputs": [],
   "source": [
    "tcod.heightmap_rain_erosion(hn, 80*80, 0.05, 0.01)"
   ]
  },
  {
   "cell_type": "code",
   "execution_count": 19,
   "metadata": {
    "autoscroll": false,
    "collapsed": false,
    "ein.hycell": false,
    "ein.tags": "worksheet-0",
    "slideshow": {
     "slide_type": "-"
    }
   },
   "outputs": [
    {
     "data": {
      "text/plain": [
       "(80, 80)"
      ]
     },
     "execution_count": 19,
     "metadata": {},
     "output_type": "execute_result"
    }
   ],
   "source": [
    "np.shape(hn)"
   ]
  },
  {
   "cell_type": "code",
   "execution_count": 20,
   "metadata": {
    "autoscroll": false,
    "collapsed": false,
    "ein.hycell": false,
    "ein.tags": "worksheet-0",
    "slideshow": {
     "slide_type": "-"
    }
   },
   "outputs": [
    {
     "name": "stderr",
     "output_type": "stream",
     "text": [
      "/home/millejoh/miniconda3/envs/islands/lib/python3.7/site-packages/ipykernel_launcher.py:1: DeprecationWarning: Use `hm.min()` and `hm.max()` instead.\n",
      "  \"\"\"Entry point for launching an IPython kernel.\n"
     ]
    }
   ],
   "source": [
    "min, max = tcod.heightmap_get_minmax(hn)\n",
    "width, height = np.shape(hn)\n",
    "for i in range(width):\n",
    "    for j in range(height):\n",
    "        color = tcod.color_lerp(tcod.dark_blue, tcod.white, hn[i, j]/max)\n",
    "        app.canvas.draw_char(i, j, ' ', fg=tcod.white, bg=color)"
   ]
  },
  {
   "cell_type": "markdown",
   "metadata": {
    "ein.tags": "worksheet-0",
    "slideshow": {
     "slide_type": "-"
    }
   },
   "source": [
    "## Integrating PolygonMap with InteractiveApp"
   ]
  },
  {
   "cell_type": "code",
   "execution_count": 21,
   "metadata": {
    "autoscroll": false,
    "collapsed": false,
    "ein.hycell": false,
    "ein.tags": "worksheet-0",
    "slideshow": {
     "slide_type": "-"
    }
   },
   "outputs": [],
   "source": [
    "map = PolygonMap(feature_cnt=500, width=100.0, height=100.0)"
   ]
  },
  {
   "cell_type": "code",
   "execution_count": 22,
   "metadata": {
    "autoscroll": false,
    "collapsed": false,
    "ein.hycell": false,
    "ein.tags": "worksheet-0",
    "slideshow": {
     "slide_type": "-"
    }
   },
   "outputs": [
    {
     "data": {
      "text/plain": [
       "TerrainFeatures(idx=466, parent=<MapChunk.PolygonMap object at 0x7f785f4a2e10>, elevation=0.0, water=False, ocean=False, precipitation=0.0, temperature=0.0, color=0.0)"
      ]
     },
     "execution_count": 22,
     "metadata": {},
     "output_type": "execute_result"
    }
   ],
   "source": [
    "f = map[0,0]\n",
    "f"
   ]
  },
  {
   "cell_type": "code",
   "execution_count": 23,
   "metadata": {
    "autoscroll": false,
    "collapsed": false,
    "ein.hycell": false,
    "ein.tags": "worksheet-0",
    "slideshow": {
     "slide_type": "-"
    }
   },
   "outputs": [
    {
     "data": {
      "text/plain": [
       "10"
      ]
     },
     "execution_count": 23,
     "metadata": {},
     "output_type": "execute_result"
    }
   ],
   "source": [
    "f.__setattr__('elevation', 10)\n",
    "f.__getattribute__('elevation')"
   ]
  },
  {
   "cell_type": "code",
   "execution_count": 24,
   "metadata": {
    "autoscroll": false,
    "collapsed": false,
    "ein.hycell": false,
    "ein.tags": "worksheet-0",
    "slideshow": {
     "slide_type": "-"
    }
   },
   "outputs": [
    {
     "data": {
      "text/plain": [
       "10"
      ]
     },
     "execution_count": 24,
     "metadata": {},
     "output_type": "execute_result"
    }
   ],
   "source": [
    "elev = map.terrain(0,0,'elevation')\n",
    "elev"
   ]
  },
  {
   "cell_type": "code",
   "execution_count": 25,
   "metadata": {
    "autoscroll": false,
    "collapsed": false,
    "ein.hycell": false,
    "ein.tags": "worksheet-0",
    "slideshow": {
     "slide_type": "-"
    }
   },
   "outputs": [
    {
     "data": {
      "text/plain": [
       "(10.0, 10.0, 0.0)"
      ]
     },
     "execution_count": 25,
     "metadata": {},
     "output_type": "execute_result"
    }
   ],
   "source": [
    "hm = map.terrain_to_hm('elevation')\n",
    "(hm[0,0], hm[0,1], hm[0,9])"
   ]
  },
  {
   "cell_type": "code",
   "execution_count": 26,
   "metadata": {
    "autoscroll": false,
    "collapsed": false,
    "ein.hycell": false,
    "ein.tags": "worksheet-0",
    "slideshow": {
     "slide_type": "-"
    }
   },
   "outputs": [
    {
     "ename": "AttributeError",
     "evalue": "'numpy.ndarray' object has no attribute 'add_hill'",
     "output_type": "error",
     "traceback": [
      "\u001b[0;31m\u001b[0m",
      "\u001b[0;31mAttributeError\u001b[0mTraceback (most recent call last)",
      "\u001b[0;32m<ipython-input-26-529bd3824e4f>\u001b[0m in \u001b[0;36m<module>\u001b[0;34m\u001b[0m\n\u001b[1;32m      8\u001b[0m     \u001b[0mradius\u001b[0m \u001b[0;34m=\u001b[0m \u001b[0mrand\u001b[0m\u001b[0;34m.\u001b[0m\u001b[0mrandint\u001b[0m\u001b[0;34m(\u001b[0m\u001b[0;36m0\u001b[0m\u001b[0;34m,\u001b[0m \u001b[0;36m20\u001b[0m\u001b[0;34m)\u001b[0m\u001b[0;34m\u001b[0m\u001b[0;34m\u001b[0m\u001b[0m\n\u001b[1;32m      9\u001b[0m     \u001b[0mheight\u001b[0m \u001b[0;34m=\u001b[0m \u001b[0mrand\u001b[0m\u001b[0;34m.\u001b[0m\u001b[0mrandint\u001b[0m\u001b[0;34m(\u001b[0m\u001b[0;36m0\u001b[0m\u001b[0;34m,\u001b[0m \u001b[0;36m10\u001b[0m\u001b[0;34m)\u001b[0m\u001b[0;34m\u001b[0m\u001b[0;34m\u001b[0m\u001b[0m\n\u001b[0;32m---> 10\u001b[0;31m     \u001b[0mhn\u001b[0m\u001b[0;34m.\u001b[0m\u001b[0madd_hill\u001b[0m\u001b[0;34m(\u001b[0m\u001b[0mx\u001b[0m\u001b[0;34m,\u001b[0m \u001b[0my\u001b[0m\u001b[0;34m,\u001b[0m \u001b[0mradius\u001b[0m\u001b[0;34m,\u001b[0m \u001b[0mheight\u001b[0m\u001b[0;34m)\u001b[0m\u001b[0;34m\u001b[0m\u001b[0;34m\u001b[0m\u001b[0m\n\u001b[0m\u001b[1;32m     11\u001b[0m \u001b[0;34m\u001b[0m\u001b[0m\n\u001b[1;32m     12\u001b[0m \u001b[0mmap\u001b[0m\u001b[0;34m.\u001b[0m\u001b[0mhm_to_terrain\u001b[0m\u001b[0;34m(\u001b[0m\u001b[0mhn\u001b[0m\u001b[0;34m,\u001b[0m \u001b[0;34m'elevation'\u001b[0m\u001b[0;34m)\u001b[0m\u001b[0;34m\u001b[0m\u001b[0;34m\u001b[0m\u001b[0m\n",
      "\u001b[0;31mAttributeError\u001b[0m: 'numpy.ndarray' object has no attribute 'add_hill'"
     ]
    }
   ],
   "source": [
    "import random as rand\n",
    "\n",
    "map = PolygonMap(feature_cnt=int((80*60)/10), width=80, height=60)\n",
    "hn = map.terrain_to_hm('elevation')\n",
    "\n",
    "for i in range(rand.randint(20, 100)):\n",
    "    x, y = rand.randint(0, 80), rand.randint(0, 60)\n",
    "    radius = rand.randint(0, 20)\n",
    "    height = rand.randint(0, 10)\n",
    "    hn.add_hill(x, y, radius, height)\n",
    "\n",
    "map.hm_to_terrain(hn, 'elevation')"
   ]
  },
  {
   "cell_type": "code",
   "execution_count": 28,
   "metadata": {
    "autoscroll": false,
    "collapsed": false,
    "ein.hycell": false,
    "ein.tags": "worksheet-0",
    "slideshow": {
     "slide_type": "-"
    }
   },
   "outputs": [
    {
     "data": {
      "text/plain": [
       "(0.0,\n TerrainFeatures(idx=154, parent=<MapChunk.PolygonMap object at 0x7f785f2bbbe0>, elevation=0.0, water=False, ocean=False, precipitation=0.0, temperature=0.0, color=0.0))"
      ]
     },
     "execution_count": 28,
     "metadata": {},
     "output_type": "execute_result"
    }
   ],
   "source": [
    "(hn[0,4], map[0,4])"
   ]
  },
  {
   "cell_type": "markdown",
   "metadata": {
    "ein.tags": "worksheet-0",
    "slideshow": {
     "slide_type": "-"
    }
   },
   "source": [
    "Game logic updates:\n",
    "\n",
    "1. Update world state.\n",
    "2. Update agents.\n",
    "3. Update canvas.\n",
    "4. Draw (this is InteractiveApp.my_update)\n",
    "\n"
   ]
  },
  {
   "cell_type": "markdown",
   "metadata": {
    "ein.tags": "worksheet-0",
    "slideshow": {
     "slide_type": "-"
    }
   },
   "source": [
    "### Canvas Update"
   ]
  },
  {
   "cell_type": "markdown",
   "metadata": {
    "ein.tags": "worksheet-0",
    "slideshow": {
     "slide_type": "-"
    }
   },
   "source": [
    "A naive, slow canvas update:"
   ]
  },
  {
   "cell_type": "code",
   "execution_count": 29,
   "metadata": {
    "autoscroll": false,
    "collapsed": false,
    "ein.hycell": false,
    "ein.tags": "worksheet-0",
    "slideshow": {
     "slide_type": "-"
    }
   },
   "outputs": [],
   "source": [
    "def canvas_update(canvas):\n",
    "    canvas.clear()\n",
    "    canvas.draw_terrain()\n",
    "    canvas.draw_features() # Features are things like walls, trees\n",
    "    canvas.draw_agents()"
   ]
  },
  {
   "cell_type": "markdown",
   "metadata": {
    "ein.tags": "worksheet-0",
    "slideshow": {
     "slide_type": "-"
    }
   },
   "source": [
    "# Sample App Using Polygon Maps"
   ]
  },
  {
   "cell_type": "code",
   "execution_count": 30,
   "metadata": {
    "autoscroll": false,
    "collapsed": false,
    "ein.hycell": false,
    "ein.tags": "worksheet-0",
    "slideshow": {
     "slide_type": "-"
    }
   },
   "outputs": [],
   "source": [
    "import tdl, tcod\n",
    "from gameclock import GameClock\n",
    "from MapChunk import PolygonMap, gEntity\n",
    "from ipy_app import WorldState, GameApp\n",
    "import numpy as np"
   ]
  },
  {
   "cell_type": "code",
   "execution_count": null,
   "metadata": {
    "autoscroll": false,
    "collapsed": false,
    "ein.hycell": false,
    "ein.tags": "worksheet-0",
    "slideshow": {
     "slide_type": "-"
    }
   },
   "outputs": [],
   "source": [
    "state = WorldState(80,40)\n",
    "app = GameApp(shell.kernel)\n",
    "app.init_root(state, width=80, height=40, show_credits=False)\n",
    "app.run()"
   ]
  },
  {
   "cell_type": "markdown",
   "metadata": {
    "ein.tags": "worksheet-0",
    "slideshow": {
     "slide_type": "-"
    }
   },
   "source": [
    "Generate a very basic elevation map."
   ]
  },
  {
   "cell_type": "code",
   "execution_count": 31,
   "metadata": {
    "autoscroll": false,
    "collapsed": false,
    "ein.hycell": false,
    "ein.tags": "worksheet-0",
    "slideshow": {
     "slide_type": "-"
    }
   },
   "outputs": [
    {
     "name": "stdout",
     "output_type": "stream",
     "text": [
      "ERROR! Session/line number was not unique in database. History logging moved to new session 1104\n"
     ]
    },
    {
     "ename": "AttributeError",
     "evalue": "'numpy.ndarray' object has no attribute 'add_hill'",
     "output_type": "error",
     "traceback": [
      "\u001b[0;31m\u001b[0m",
      "\u001b[0;31mAttributeError\u001b[0mTraceback (most recent call last)",
      "\u001b[0;32m<ipython-input-31-3294ab76130d>\u001b[0m in \u001b[0;36m<module>\u001b[0;34m\u001b[0m\n\u001b[1;32m      6\u001b[0m     \u001b[0mradius\u001b[0m \u001b[0;34m=\u001b[0m \u001b[0mrand\u001b[0m\u001b[0;34m.\u001b[0m\u001b[0mrandint\u001b[0m\u001b[0;34m(\u001b[0m\u001b[0;36m0\u001b[0m\u001b[0;34m,\u001b[0m \u001b[0;36m20\u001b[0m\u001b[0;34m)\u001b[0m\u001b[0;34m\u001b[0m\u001b[0;34m\u001b[0m\u001b[0m\n\u001b[1;32m      7\u001b[0m     \u001b[0mheight\u001b[0m \u001b[0;34m=\u001b[0m \u001b[0mrand\u001b[0m\u001b[0;34m.\u001b[0m\u001b[0mrandint\u001b[0m\u001b[0;34m(\u001b[0m\u001b[0;36m0\u001b[0m\u001b[0;34m,\u001b[0m \u001b[0;36m10\u001b[0m\u001b[0;34m)\u001b[0m\u001b[0;34m\u001b[0m\u001b[0;34m\u001b[0m\u001b[0m\n\u001b[0;32m----> 8\u001b[0;31m     \u001b[0mhn\u001b[0m\u001b[0;34m.\u001b[0m\u001b[0madd_hill\u001b[0m\u001b[0;34m(\u001b[0m\u001b[0mx\u001b[0m\u001b[0;34m,\u001b[0m \u001b[0my\u001b[0m\u001b[0;34m,\u001b[0m \u001b[0mradius\u001b[0m\u001b[0;34m,\u001b[0m \u001b[0mheight\u001b[0m\u001b[0;34m)\u001b[0m\u001b[0;34m\u001b[0m\u001b[0;34m\u001b[0m\u001b[0m\n\u001b[0m\u001b[1;32m      9\u001b[0m \u001b[0;34m\u001b[0m\u001b[0m\n\u001b[1;32m     10\u001b[0m \u001b[0mstate\u001b[0m\u001b[0;34m.\u001b[0m\u001b[0mwmap\u001b[0m\u001b[0;34m.\u001b[0m\u001b[0mhm_to_terrain\u001b[0m\u001b[0;34m(\u001b[0m\u001b[0mhn\u001b[0m\u001b[0;34m,\u001b[0m \u001b[0;34m'elevation'\u001b[0m\u001b[0;34m)\u001b[0m\u001b[0;34m\u001b[0m\u001b[0;34m\u001b[0m\u001b[0m\n",
      "\u001b[0;31mAttributeError\u001b[0m: 'numpy.ndarray' object has no attribute 'add_hill'"
     ]
    }
   ],
   "source": [
    "import random as rand\n",
    "hn = state.wmap.terrain_to_hm('elevation')\n",
    "\n",
    "for i in range(rand.randint(20, 100)):\n",
    "    x, y = rand.randint(0, 80), rand.randint(0, 60)\n",
    "    radius = rand.randint(0, 20)\n",
    "    height = rand.randint(0, 10)\n",
    "    hn.add_hill(x, y, radius, height)\n",
    "\n",
    "state.wmap.hm_to_terrain(hn, 'elevation')"
   ]
  },
  {
   "cell_type": "code",
   "execution_count": 32,
   "metadata": {
    "autoscroll": false,
    "collapsed": false,
    "ein.hycell": false,
    "ein.tags": "worksheet-0",
    "slideshow": {
     "slide_type": "-"
    }
   },
   "outputs": [
    {
     "ename": "AttributeError",
     "evalue": "'numpy.ndarray' object has no attribute 'get_minmax'",
     "output_type": "error",
     "traceback": [
      "\u001b[0;31m\u001b[0m",
      "\u001b[0;31mAttributeError\u001b[0mTraceback (most recent call last)",
      "\u001b[0;32m<ipython-input-32-65729f4efab8>\u001b[0m in \u001b[0;36m<module>\u001b[0;34m\u001b[0m\n\u001b[0;32m----> 1\u001b[0;31m \u001b[0mstate\u001b[0m\u001b[0;34m.\u001b[0m\u001b[0mdraw_terrain\u001b[0m\u001b[0;34m(\u001b[0m\u001b[0;34m)\u001b[0m\u001b[0;34m\u001b[0m\u001b[0;34m\u001b[0m\u001b[0m\n\u001b[0m",
      "\u001b[0;32m/mnt/c/Users/mille/Dropbox/Projects/Islands/ipy_app.py\u001b[0m in \u001b[0;36mdraw_terrain\u001b[0;34m(self)\u001b[0m\n\u001b[1;32m     91\u001b[0m     \u001b[0;32mdef\u001b[0m \u001b[0mdraw_terrain\u001b[0m\u001b[0;34m(\u001b[0m\u001b[0mself\u001b[0m\u001b[0;34m)\u001b[0m\u001b[0;34m:\u001b[0m\u001b[0;34m\u001b[0m\u001b[0;34m\u001b[0m\u001b[0m\n\u001b[1;32m     92\u001b[0m         \u001b[0mhn\u001b[0m \u001b[0;34m=\u001b[0m \u001b[0mself\u001b[0m\u001b[0;34m.\u001b[0m\u001b[0mwmap\u001b[0m\u001b[0;34m.\u001b[0m\u001b[0mterrain_to_hm\u001b[0m\u001b[0;34m(\u001b[0m\u001b[0;34m'elevation'\u001b[0m\u001b[0;34m)\u001b[0m\u001b[0;34m\u001b[0m\u001b[0;34m\u001b[0m\u001b[0m\n\u001b[0;32m---> 93\u001b[0;31m         \u001b[0mamin\u001b[0m\u001b[0;34m,\u001b[0m \u001b[0mmax\u001b[0m \u001b[0;34m=\u001b[0m \u001b[0mhn\u001b[0m\u001b[0;34m.\u001b[0m\u001b[0mget_minmax\u001b[0m\u001b[0;34m(\u001b[0m\u001b[0;34m)\u001b[0m\u001b[0;34m\u001b[0m\u001b[0;34m\u001b[0m\u001b[0m\n\u001b[0m\u001b[1;32m     94\u001b[0m         \u001b[0;32mfor\u001b[0m \u001b[0mi\u001b[0m \u001b[0;32min\u001b[0m \u001b[0mrange\u001b[0m\u001b[0;34m(\u001b[0m\u001b[0mhn\u001b[0m\u001b[0;34m.\u001b[0m\u001b[0mwidth\u001b[0m\u001b[0;34m)\u001b[0m\u001b[0;34m:\u001b[0m\u001b[0;34m\u001b[0m\u001b[0;34m\u001b[0m\u001b[0m\n\u001b[1;32m     95\u001b[0m             \u001b[0;32mfor\u001b[0m \u001b[0mj\u001b[0m \u001b[0;32min\u001b[0m \u001b[0mrange\u001b[0m\u001b[0;34m(\u001b[0m\u001b[0mhn\u001b[0m\u001b[0;34m.\u001b[0m\u001b[0mheight\u001b[0m\u001b[0;34m)\u001b[0m\u001b[0;34m:\u001b[0m\u001b[0;34m\u001b[0m\u001b[0;34m\u001b[0m\u001b[0m\n",
      "\u001b[0;31mAttributeError\u001b[0m: 'numpy.ndarray' object has no attribute 'get_minmax'"
     ]
    }
   ],
   "source": [
    "state.draw_terrain()"
   ]
  },
  {
   "cell_type": "code",
   "execution_count": 33,
   "metadata": {
    "autoscroll": false,
    "collapsed": false,
    "ein.hycell": false,
    "ein.tags": "worksheet-0",
    "slideshow": {
     "slide_type": "-"
    }
   },
   "outputs": [
    {
     "ename": "AttributeError",
     "evalue": "'gEntity' object has no attribute '_id'",
     "output_type": "error",
     "traceback": [
      "\u001b[0;31m\u001b[0m",
      "\u001b[0;31mAttributeError\u001b[0mTraceback (most recent call last)",
      "\u001b[0;32m<ipython-input-33-f3a9da108166>\u001b[0m in \u001b[0;36m<module>\u001b[0;34m\u001b[0m\n\u001b[1;32m      8\u001b[0m \u001b[0;34m\u001b[0m\u001b[0m\n\u001b[1;32m      9\u001b[0m \u001b[0mstate\u001b[0m\u001b[0;34m.\u001b[0m\u001b[0mactors\u001b[0m \u001b[0;34m=\u001b[0m \u001b[0;34m{\u001b[0m\u001b[0;34m}\u001b[0m\u001b[0;34m\u001b[0m\u001b[0;34m\u001b[0m\u001b[0m\n\u001b[0;32m---> 10\u001b[0;31m \u001b[0mstate\u001b[0m\u001b[0;34m.\u001b[0m\u001b[0mactors\u001b[0m\u001b[0;34m[\u001b[0m\u001b[0mplayer\u001b[0m\u001b[0;34m.\u001b[0m\u001b[0m_id\u001b[0m\u001b[0;34m]\u001b[0m \u001b[0;34m=\u001b[0m \u001b[0mplayer\u001b[0m\u001b[0;34m\u001b[0m\u001b[0;34m\u001b[0m\u001b[0m\n\u001b[0m\u001b[1;32m     11\u001b[0m \u001b[0mstate\u001b[0m\u001b[0;34m.\u001b[0m\u001b[0mactors\u001b[0m\u001b[0;34m[\u001b[0m\u001b[0morc\u001b[0m\u001b[0;34m.\u001b[0m\u001b[0m_id\u001b[0m\u001b[0;34m]\u001b[0m \u001b[0;34m=\u001b[0m \u001b[0morc\u001b[0m\u001b[0;34m\u001b[0m\u001b[0;34m\u001b[0m\u001b[0m\n",
      "\u001b[0;31mAttributeError\u001b[0m: 'gEntity' object has no attribute '_id'"
     ]
    }
   ],
   "source": [
    "player = gEntity(eclass='actor', name='Player')\n",
    "orc = gEntity(eclass='actor', name='Orc')\n",
    "player.pos = np.array((5,5))\n",
    "player.glyph = '@'\n",
    "orc.glyph = 'o'\n",
    "orc.pos = np.array((20, 20))\n",
    "orc.color = tcod.black\n",
    "\n",
    "state.actors = {}\n",
    "state.actors[player._id] = player\n",
    "state.actors[orc._id] = orc"
   ]
  },
  {
   "cell_type": "code",
   "execution_count": 34,
   "metadata": {
    "autoscroll": false,
    "collapsed": false,
    "ein.hycell": false,
    "ein.tags": "worksheet-0",
    "slideshow": {
     "slide_type": "-"
    }
   },
   "outputs": [
    {
     "ename": "AttributeError",
     "evalue": "'gEntity' object has no attribute '_id'",
     "output_type": "error",
     "traceback": [
      "\u001b[0;31m\u001b[0m",
      "\u001b[0;31mAttributeError\u001b[0mTraceback (most recent call last)",
      "\u001b[0;32m<ipython-input-34-6c19f424453c>\u001b[0m in \u001b[0;36m<module>\u001b[0;34m\u001b[0m\n\u001b[0;32m----> 1\u001b[0;31m \u001b[0morc\u001b[0m\u001b[0;34m.\u001b[0m\u001b[0m_id\u001b[0m\u001b[0;34m\u001b[0m\u001b[0;34m\u001b[0m\u001b[0m\n\u001b[0m",
      "\u001b[0;31mAttributeError\u001b[0m: 'gEntity' object has no attribute '_id'"
     ]
    }
   ],
   "source": [
    "orc._id"
   ]
  },
  {
   "cell_type": "code",
   "execution_count": 12,
   "metadata": {
    "autoscroll": false,
    "collapsed": false,
    "ein.hycell": false,
    "ein.tags": "worksheet-0",
    "slideshow": {
     "slide_type": "-"
    }
   },
   "outputs": [],
   "source": [
    "state.draw_actors()"
   ]
  },
  {
   "cell_type": "code",
   "execution_count": 13,
   "metadata": {
    "autoscroll": false,
    "collapsed": false,
    "ein.hycell": false,
    "ein.tags": "worksheet-0",
    "slideshow": {
     "slide_type": "-"
    }
   },
   "outputs": [
    {
     "ename": "ValueError",
     "evalue": "operands could not be broadcast together with shapes (2,) (3,) (2,) ",
     "output_type": "error",
     "traceback": [
      "\u001b[1;31m---------------------------------------------------------------------------\u001b[0m",
      "\u001b[1;31mValueError\u001b[0m                                Traceback (most recent call last)",
      "\u001b[1;32m<ipython-input-13-388d1d3ec7a6>\u001b[0m in \u001b[0;36m<module>\u001b[1;34m()\u001b[0m\n\u001b[1;32m----> 1\u001b[1;33m \u001b[0morc\u001b[0m\u001b[1;33m.\u001b[0m\u001b[0mmove\u001b[0m\u001b[1;33m(\u001b[0m\u001b[1;36m1\u001b[0m\u001b[1;33m,\u001b[0m \u001b[1;36m0\u001b[0m\u001b[1;33m)\u001b[0m\u001b[1;33m\u001b[0m\u001b[0m\n\u001b[0m\u001b[0;32m      2\u001b[0m \u001b[0mstate\u001b[0m\u001b[1;33m.\u001b[0m\u001b[0mdraw_actors\u001b[0m\u001b[1;33m(\u001b[0m\u001b[1;33m)\u001b[0m\u001b[1;33m\u001b[0m\u001b[0m\n",
      "\u001b[1;32mc:\\Users\\mille\\Dropbox\\Projects\\Islands\\MapChunk.py\u001b[0m in \u001b[0;36mmove\u001b[1;34m(self, dx, dy, dz)\u001b[0m\n\u001b[0;32m    205\u001b[0m     \u001b[1;32mdef\u001b[0m \u001b[0mmove\u001b[0m\u001b[1;33m(\u001b[0m\u001b[0mself\u001b[0m\u001b[1;33m,\u001b[0m \u001b[0mdx\u001b[0m\u001b[1;33m,\u001b[0m \u001b[0mdy\u001b[0m\u001b[1;33m,\u001b[0m \u001b[0mdz\u001b[0m\u001b[1;33m=\u001b[0m\u001b[1;36m0\u001b[0m\u001b[1;33m)\u001b[0m\u001b[1;33m:\u001b[0m\u001b[1;33m\u001b[0m\u001b[0m\n\u001b[0;32m    206\u001b[0m         \u001b[0mself\u001b[0m\u001b[1;33m.\u001b[0m\u001b[0moopos\u001b[0m \u001b[1;33m=\u001b[0m \u001b[0mself\u001b[0m\u001b[1;33m.\u001b[0m\u001b[0mpos\u001b[0m\u001b[1;33m.\u001b[0m\u001b[0mcopy\u001b[0m\u001b[1;33m(\u001b[0m\u001b[1;33m)\u001b[0m\u001b[1;33m\u001b[0m\u001b[0m\n\u001b[1;32m--> 207\u001b[1;33m         \u001b[0mself\u001b[0m\u001b[1;33m.\u001b[0m\u001b[0mpos\u001b[0m \u001b[1;33m+=\u001b[0m \u001b[0mnp\u001b[0m\u001b[1;33m.\u001b[0m\u001b[0marray\u001b[0m\u001b[1;33m(\u001b[0m\u001b[1;33m(\u001b[0m\u001b[0mdx\u001b[0m\u001b[1;33m,\u001b[0m \u001b[0mdy\u001b[0m\u001b[1;33m,\u001b[0m \u001b[0mdz\u001b[0m\u001b[1;33m)\u001b[0m\u001b[1;33m)\u001b[0m\u001b[1;33m\u001b[0m\u001b[0m\n\u001b[0m\u001b[0;32m    208\u001b[0m \u001b[1;33m\u001b[0m\u001b[0m\n\u001b[0;32m    209\u001b[0m     \u001b[1;32mdef\u001b[0m \u001b[0mclear\u001b[0m\u001b[1;33m(\u001b[0m\u001b[0mself\u001b[0m\u001b[1;33m,\u001b[0m \u001b[0mcanvas\u001b[0m\u001b[1;33m)\u001b[0m\u001b[1;33m:\u001b[0m\u001b[1;33m\u001b[0m\u001b[0m\n",
      "\u001b[1;31mValueError\u001b[0m: operands could not be broadcast together with shapes (2,) (3,) (2,) "
     ]
    }
   ],
   "source": [
    "orc.move(1, 0)\n",
    "state.draw_actors()"
   ]
  },
  {
   "cell_type": "markdown",
   "metadata": {
    "ein.tags": "worksheet-0",
    "slideshow": {
     "slide_type": "-"
    }
   },
   "source": [
    "Now animate!"
   ]
  },
  {
   "cell_type": "code",
   "execution_count": 145,
   "metadata": {
    "autoscroll": false,
    "collapsed": false,
    "ein.hycell": false,
    "ein.tags": "worksheet-0",
    "slideshow": {
     "slide_type": "-"
    }
   },
   "outputs": [],
   "source": [
    "def move_me(actor):\n",
    "    dx = rand.choice([1, 0, -1])\n",
    "    dy = rand.choice([1, 0, -1])\n",
    "    actor.move(dx, dy)\n",
    "\n",
    "def move_actors(dt):\n",
    "    for _, actor in state.actors.items():\n",
    "        move_me(actor)\n",
    "    state.draw_actors()"
   ]
  },
  {
   "cell_type": "code",
   "execution_count": 146,
   "metadata": {
    "autoscroll": false,
    "collapsed": false,
    "ein.hycell": false,
    "ein.tags": "worksheet-0",
    "slideshow": {
     "slide_type": "-"
    }
   },
   "outputs": [],
   "source": [
    "app.clock.schedule_interval(move_actors, 1.0)"
   ]
  },
  {
   "cell_type": "code",
   "execution_count": 147,
   "metadata": {
    "autoscroll": false,
    "collapsed": false,
    "ein.hycell": false,
    "ein.tags": "worksheet-0",
    "slideshow": {
     "slide_type": "-"
    }
   },
   "outputs": [
    {
     "data": {
      "text/plain": [
       "[]"
      ]
     },
     "execution_count": 147,
     "metadata": {},
     "output_type": "execute_result"
    }
   ],
   "source": [
    "app.clock.schedules"
   ]
  },
  {
   "cell_type": "code",
   "execution_count": 3,
   "metadata": {
    "autoscroll": false,
    "collapsed": false,
    "ein.hycell": false,
    "ein.tags": "worksheet-0",
    "slideshow": {
     "slide_type": "-"
    }
   },
   "outputs": [],
   "source": [
    "import attr"
   ]
  },
  {
   "cell_type": "code",
   "execution_count": 4,
   "metadata": {
    "autoscroll": false,
    "collapsed": false,
    "ein.hycell": false,
    "ein.tags": "worksheet-0",
    "slideshow": {
     "slide_type": "-"
    }
   },
   "outputs": [
    {
     "data": {
      "text/plain": [
       "'16.3.0'"
      ]
     },
     "execution_count": 4,
     "metadata": {},
     "output_type": "execute_result"
    }
   ],
   "source": [
    "attr.__version__"
   ]
  },
  {
   "cell_type": "code",
   "execution_count": 1,
   "metadata": {
    "autoscroll": false,
    "collapsed": false,
    "ein.hycell": false,
    "ein.tags": "worksheet-0",
    "slideshow": {
     "slide_type": "-"
    }
   },
   "outputs": [],
   "source": [
    "import esper"
   ]
  },
  {
   "cell_type": "code",
   "execution_count": 0,
   "metadata": {
    "autoscroll": false,
    "collapsed": false,
    "ein.hycell": false,
    "ein.tags": "worksheet-0",
    "slideshow": {
     "slide_type": "-"
    }
   },
   "outputs": [],
   "source": []
  }
 ],
 "metadata": {
  "kernelspec": {
   "display_name": "Islands (py37)",
   "name": "islands"
  },
  "name": "Interactive Consoles.ipynb"
 },
 "nbformat": 4,
 "nbformat_minor": 0
}
