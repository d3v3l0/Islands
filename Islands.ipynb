{
 "metadata": {
  "name": ""
 },
 "nbformat": 3,
 "nbformat_minor": 0,
 "worksheets": [
  {
   "cells": [
    {
     "cell_type": "code",
     "collapsed": false,
     "input": [
      "%qtconsole"
     ],
     "language": "python",
     "outputs": [],
     "prompt_number": 2
    },
    {
     "cell_type": "code",
     "collapsed": false,
     "input": [
      "%cd /Users/millejoh/Documents/GitHub/Islands/\n",
      "%load_ext autoreload\n",
      "import numpy as np\n",
      "import tcod\n",
      "from tcod import console\n",
      "from tcod.gui import Window, Viewport\n",
      "from MapChunk import MapChunk, Prop\n",
      "%autoreload 2"
     ],
     "language": "python",
     "outputs": [
      {
       "output_type": "stream",
       "stream": "stdout",
       "text": [
        "C:\\Users\\millejoh\\Documents\\GitHub\\Islands\n",
        "The autoreload extension is already loaded. To reload it, use:"
       ]
      },
      {
       "output_type": "stream",
       "stream": "stdout",
       "text": [
        "\n",
        "  %reload_ext autoreload\n"
       ]
      }
     ],
     "prompt_number": 5
    },
    {
     "cell_type": "heading",
     "level": 2,
     "source": [
      "LibTCOD"
     ]
    },
    {
     "cell_type": "markdown",
     "source": [
      "Testing RootConsole, basic gui event loop and windows. When running this\n",
      "double check that:\n",
      "\n",
      " 1) Windows are draggable.\n",
      " 2) Windows can be resized.\n",
      " 3) Window focus changes on click.\n",
      " 4) Window close button works.\n",
      " "
     ]
    },
    {
     "cell_type": "code",
     "collapsed": false,
     "input": [
      "r = console.RootConsole(80, 60)\n",
      "r.start()\n",
      "w = Window(5, 5, 15, 15,title='Window 1', framed=True)\n",
      "w2 = Window(10, 10, 20, 30, title='Window 2', framed=True)\n"
     ],
     "language": "python",
     "outputs": [],
     "prompt_number": 2
    },
    {
     "cell_type": "code",
     "collapsed": false,
     "input": [
      "w2.hide()"
     ],
     "language": "python",
     "outputs": [],
     "prompt_number": 3
    },
    {
     "cell_type": "code",
     "collapsed": false,
     "input": [
      "v = Viewport(tlx=10, tly=10, width=40, height=40, framed=True, map_width=120,\n",
      "             map_height=120, view_tlx=0, view_tly=0)"
     ],
     "language": "python",
     "outputs": [],
     "prompt_number": 3
    },
    {
     "cell_type": "code",
     "collapsed": false,
     "input": [
      "v.map_console[1,1]"
     ],
     "language": "python",
     "outputs": [
      {
       "output_type": "pyout",
       "prompt_number": 5,
       "text": [
        "(' ', Color(0,0,0), Color(0,0,0))"
       ]
      }
     ],
     "prompt_number": 5
    },
    {
     "cell_type": "code",
     "collapsed": false,
     "input": [
      "v.map_console[1,1] = '.'"
     ],
     "language": "python",
     "outputs": [],
     "prompt_number": 6
    },
    {
     "cell_type": "code",
     "collapsed": false,
     "input": [
      "v[1,1] = ' '"
     ],
     "language": "python",
     "outputs": [],
     "prompt_number": 7
    },
    {
     "cell_type": "code",
     "collapsed": false,
     "input": [
      "tcod.gui.all_windows()"
     ],
     "language": "python",
     "outputs": [
      {
       "output_type": "pyout",
       "prompt_number": 8,
       "text": [
        "[Viewport(25,10,40,40,title=''),\n",
        " Window(5,5,15,15,title='Window 1'),\n",
        " Window(10,10,20,30,title='Window 2')]"
       ]
      }
     ],
     "prompt_number": 8
    },
    {
     "cell_type": "code",
     "collapsed": false,
     "input": [
      "map = MapChunk(120,120)"
     ],
     "language": "python",
     "outputs": [],
     "prompt_number": 9
    },
    {
     "cell_type": "code",
     "collapsed": false,
     "input": [
      "map.elevation.as_ndarray()"
     ],
     "language": "python",
     "outputs": [
      {
       "output_type": "pyout",
       "prompt_number": 10,
       "text": [
        "array([[ 0.,  0.,  0., ...,  0.,  0.,  0.],\n",
        "       [ 0.,  0.,  0., ...,  0.,  0.,  0.],\n",
        "       [ 0.,  0.,  0., ...,  0.,  0.,  0.],\n",
        "       ..., \n",
        "       [ 0.,  0.,  0., ...,  0.,  0.,  0.],\n",
        "       [ 0.,  0.,  0., ...,  0.,  0.,  0.],\n",
        "       [ 0.,  0.,  0., ...,  0.,  0.,  0.]])"
       ]
      }
     ],
     "prompt_number": 10
    },
    {
     "cell_type": "code",
     "collapsed": false,
     "input": [
      "map.random_island(0, 0, 20, 20)"
     ],
     "language": "python",
     "outputs": [],
     "prompt_number": 11
    },
    {
     "cell_type": "code",
     "collapsed": false,
     "input": [
      "map.draw_elevation_region((0,0,120,120),v.map_console) "
     ],
     "language": "python",
     "outputs": [],
     "prompt_number": 12
    },
    {
     "cell_type": "code",
     "collapsed": false,
     "input": [
      "tree = Prop(10, 10, '^', tcod.green)\n",
      "tree.draw_to(v.map_console)"
     ],
     "language": "python",
     "outputs": [],
     "prompt_number": 16
    },
    {
     "cell_type": "raw",
     "source": [
      "#plt.imshow(map.elevation.as_ndarray())"
     ]
    },
    {
     "cell_type": "heading",
     "level": 1,
     "source": [
      "Representing the World"
     ]
    },
    {
     "cell_type": "markdown",
     "source": [
      "Need to represent:\n",
      " 1. Terrain.\n",
      " 2. Objects (walls, doors, tables, trees, etc.)\n",
      " 3. Actors\n",
      "\n",
      "In terms of drawing, terrain type (or biome) determines background color of a cell.\n",
      "\n",
      "From libtcod's wordlgen exampe here is a example of biome/terrain types arranged\n",
      "in a matrix (Whittaker diagram). Columns are precipitation levels, rows are temperature.\n",
      "\n"
     ]
    },
    {
     "cell_type": "code",
     "collapsed": false,
     "input": [
      "biomes = [ # artic/alpine climate (below -5degC)\n",
      "\t   [ 'TUNDRA', 'TUNDRA', 'TUNDRA', 'TUNDRA', 'TUNDRA' ],\n",
      "\t   # cold climate (-5 / 5 degC)\n",
      "\t   [ 'COLD_DESERT', 'GRASSLAND', 'BOREAL_FOREST', 'BOREAL_FOREST', 'BOREAL_FOREST' ],\n",
      "\t   # temperate climate (5 / 15 degC)\n",
      "\t   [ 'COLD_DESERT', 'GRASSLAND', 'TEMPERATE_FOREST', 'TEMPERATE_FOREST', 'TROPICAL_MONTANE_FOREST' ],\n",
      "\t   # warm climate (15 - 20 degC)\n",
      "\t   [ 'HOT_DESERT', 'SAVANNA', 'TROPICAL_DRY_FOREST', 'TROPICAL_EVERGREEN_FOREST', 'TROPICAL_EVERGREEN_FOREST' ],\n",
      "\t   # tropical climate (above 20 degC)\n",
      "\t   [ 'HOT_DESERT', 'THORN_FOREST', 'TROPICAL_DRY_FOREST', 'TROPICAL_EVERGREEN_FOREST', 'TROPICAL_EVERGREEN_FOREST' ] ]\n",
      "\n"
     ],
     "language": "python",
     "outputs": []
    },
    {
     "cell_type": "markdown",
     "source": [
      "[Polygonal map generation](http://www-cs-students.stanford.edu/~amitp/game-programming/polygon-map-generation/)\n",
      "is a neat page and discusses biomes. It bins elevations and moisture levels to provide to following matrix:\n",
      "\n"
     ]
    },
    {
     "cell_type": "code",
     "collapsed": false,
     "input": [
      "biomes = [ ['SNOW', 'SNOW', 'SNOW', 'TUNDRA', 'BARE', 'SCORCHED'],\n",
      "       \t   ['TAIGA', 'TAIGA', 'SHRUBLAND', 'SHRUBLAND', 'TEMPERATE_DESERT', 'TEMPERATE_DESERT'],\n",
      "\t   ['TEMPERATE_RAIN_FOREST', 'TEMPERATE_DECIDUOUS_FOREST', 'TEMPERATE_DECIDUOUS_FOREST', 'GRASSLAND', 'GRASSLAND', 'TEMPERATE_DESERT'],\n",
      "\t   ['TROPICAL_RAIN_FOREST', 'TROPICAL_RAIN_FOREST', 'TROPICAL_SEASONAL_FOREST', 'TROPICAL_SEASONAL_FOREST', 'GRASSLAND', 'SUBTROPICAL_DESERT'] ]\n",
      "\n",
      "biome_colors = { 'SNOW'      : tcod.Color(248,248,248),\n",
      "\t\t 'TUNDRA'    : tcod.Color(221,221,187),\n",
      "\t\t 'BARE'      : tcod.Color(187,187,187),\n",
      "\t\t 'SCORCHED'  : tcod.Color(153,153,153),\n",
      "\t\t 'TAIGA'     : tcod.Color(204,212,187),\n",
      "\t\t 'SHRUBLAND' : tcod.Color(194,204,187),\n",
      "\t\t 'GRASSLAND' : tcod.Color(192,212,170),\n",
      "\t\t 'TEMPERATE_DESERT'           : tcod.Color(228,232,202),\n",
      "\t\t 'TEMPERATE_RAIN_FOREST'      : tcod.Color(164,196,168),\n",
      "\t\t 'TEMPERATE_DECIDUOUS_FOREST' : tcod.Color(180,201,169),\n",
      "\t\t 'TROPICAL_RAIN_FOREST'       : tcod.Color(156,187,169),\n",
      "\t\t 'TROPICAL_SEASONAL_FOREST'   : tcod.Color(169,204,164),\n",
      "\t\t 'SUBTROPICAL_DESERT'         : tcod.Color(233,221,199) }\n"
     ],
     "language": "python",
     "outputs": []
    },
    {
     "cell_type": "heading",
     "level": 1,
     "source": [
      "Unit Tests for the TCOD GUI"
     ]
    },
    {
     "cell_type": "markdown",
     "source": [
      "Really need some good unit tests for window management, i.e. managing the window\n",
      "stack (`WindowStack`) and determining when windows are touching."
     ]
    },
    {
     "cell_type": "code",
     "collapsed": false,
     "input": [
      "from tcod.events import KeyEvent\n",
      "k = KeyEvent('key', winx=10, winy=0)"
     ],
     "language": "python",
     "outputs": [],
     "prompt_number": 11
    },
    {
     "cell_type": "code",
     "collapsed": false,
     "input": [
      "k.key_info"
     ],
     "language": "python",
     "outputs": [
      {
       "output_type": "pyout",
       "prompt_number": 14,
       "text": [
        "'key'"
       ]
      }
     ],
     "prompt_number": 14
    },
    {
     "cell_type": "heading",
     "level": 2,
     "source": [
      "Pyglet"
     ]
    },
    {
     "cell_type": "code",
     "collapsed": false,
     "input": [
      "from threading import Thread\n",
      "import IPython.lib.inputhook as ih\n",
      "ih.enable_pyglet()"
     ],
     "language": "python",
     "outputs": []
    },
    {
     "cell_type": "code",
     "collapsed": false,
     "input": [
      "w1"
     ],
     "language": "python",
     "outputs": []
    },
    {
     "cell_type": "code",
     "collapsed": false,
     "input": [
      "w2"
     ],
     "language": "python",
     "outputs": []
    },
    {
     "cell_type": "code",
     "collapsed": false,
     "input": [
      "pyglet_thread = Thread(target=pyglet.app.run)"
     ],
     "language": "python",
     "outputs": []
    },
    {
     "cell_type": "code",
     "collapsed": false,
     "input": [
      "pyglet_thread.start()"
     ],
     "language": "python",
     "outputs": []
    },
    {
     "cell_type": "code",
     "collapsed": false,
     "input": [
      "pyglet.app.windows"
     ],
     "language": "python",
     "outputs": [
      {
       "ename": "NameError",
       "evalue": "name 'pyglet' is not defined",
       "output_type": "pyerr",
       "traceback": [
        "\u001b[1;31m---------------------------------------------------------------------------\u001b[0m\n\u001b[1;31mNameError\u001b[0m                                 Traceback (most recent call last)",
        "\u001b[1;32m<ipython-input-18-ec4d7d13a83f>\u001b[0m in \u001b[0;36m<module>\u001b[1;34m()\u001b[0m\n\u001b[1;32m----> 1\u001b[1;33m \u001b[0mpyglet\u001b[0m\u001b[1;33m.\u001b[0m\u001b[0mapp\u001b[0m\u001b[1;33m.\u001b[0m\u001b[0mwindows\u001b[0m\u001b[1;33m\u001b[0m\u001b[0m\n\u001b[0m",
        "\u001b[1;31mNameError\u001b[0m: name 'pyglet' is not defined"
       ]
      }
     ],
     "prompt_number": 18
    },
    {
     "cell_type": "code",
     "collapsed": false,
     "input": [
      "import events"
     ],
     "language": "python",
     "outputs": [],
     "prompt_number": 8
    },
    {
     "cell_type": "code",
     "collapsed": false,
     "input": [
      "dir(events)"
     ],
     "language": "python",
     "outputs": [
      {
       "output_type": "pyout",
       "prompt_number": 10,
       "text": [
        "['__builtins__',\n",
        " '__cached__',\n",
        " '__doc__',\n",
        " '__file__',\n",
        " '__initializing__',\n",
        " '__loader__',\n",
        " '__name__',\n",
        " '__package__',\n",
        " 'key_dispatch_table']"
       ]
      }
     ],
     "prompt_number": 10
    },
    {
     "cell_type": "code",
     "collapsed": false,
     "input": [
      "from tcod.events import *"
     ],
     "language": "python",
     "outputs": [],
     "prompt_number": 55
    },
    {
     "cell_type": "code",
     "collapsed": false,
     "input": [
      "a = MouseEvent(window=w,winx=0,winy=0,mouse_state=None)"
     ],
     "language": "python",
     "outputs": [
      {
       "output_type": "stream",
       "stream": "stdout",
       "text": [
        "{'window': Window(5,5,15,15,title='Window 1'), 'winy': 0, 'winx': 0}\n"
       ]
      }
     ],
     "prompt_number": 62
    },
    {
     "cell_type": "code",
     "collapsed": false,
     "input": [
      "a.time"
     ],
     "language": "python",
     "outputs": [
      {
       "output_type": "pyout",
       "prompt_number": 63,
       "text": [
        "2223264"
       ]
      }
     ],
     "prompt_number": 63
    },
    {
     "cell_type": "code",
     "collapsed": false,
     "input": [],
     "language": "python",
     "outputs": []
    }
   ]
  }
 ]
}