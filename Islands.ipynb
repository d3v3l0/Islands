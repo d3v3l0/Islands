{
 "metadata": {
  "name": ""
 },
 "nbformat": 3,
 "nbformat_minor": 0,
 "worksheets": [
  {
   "cells": [
    {
     "cell_type": "code",
     "collapsed": false,
     "input": [
      "%cd /Users/millejoh/Documents/GitHub/Islands/\n",
      "%load_ext autoreload\n",
      "import numpy as np\n",
      "import tcod\n",
      "from tcod import console\n",
      "from tcod.gui import Window, GhostWindow\n",
      "%autoreload 2"
     ],
     "language": "python",
     "outputs": [
      {
       "output_type": "stream",
       "stream": "stdout",
       "text": [
        "C:\\Users\\millejoh\\Documents\\GitHub\\Islands\n",
        "The autoreload extension is already loaded. To reload it, use:\n",
        "  %reload_ext autoreload\n"
       ]
      }
     ],
     "prompt_number": 6
    },
    {
     "cell_type": "heading",
     "level": 2,
     "source": [
      "LibTCOD"
     ]
    },
    {
     "cell_type": "code",
     "collapsed": false,
     "input": [
      "bytes(tcod.default_font,'utf-8')"
     ],
     "language": "python",
     "outputs": [
      {
       "output_type": "pyout",
       "prompt_number": 7,
       "text": [
        "b'C:\\\\Users\\\\millejoh\\\\Documents\\\\GitHub\\\\Islands\\\\tcod\\\\data\\\\fonts\\\\consolas10x10_gs_tc.png'"
       ]
      }
     ],
     "prompt_number": 7
    },
    {
     "cell_type": "code",
     "collapsed": false,
     "input": [
      "g = GhostWindow(0, 0, 40, 40)\n",
      "not type(g) is GhostWindow"
     ],
     "language": "python",
     "outputs": [
      {
       "output_type": "pyout",
       "prompt_number": 8,
       "text": [
        "False"
       ]
      }
     ],
     "prompt_number": 8
    },
    {
     "cell_type": "code",
     "collapsed": false,
     "input": [
      "tcod"
     ],
     "language": "python",
     "outputs": [
      {
       "output_type": "pyout",
       "prompt_number": 9,
       "text": [
        "<module 'tcod' from '.\\\\tcod\\\\__init__.py'>"
       ]
      }
     ],
     "prompt_number": 9
    },
    {
     "cell_type": "code",
     "collapsed": false,
     "input": [
      "r = console.RootConsole(80, 50)\n"
     ],
     "language": "python",
     "outputs": [],
     "prompt_number": 10
    },
    {
     "cell_type": "code",
     "collapsed": false,
     "input": [
      "console.RootConsole.active_root"
     ],
     "language": "python",
     "outputs": [
      {
       "output_type": "pyout",
       "prompt_number": 11,
       "text": [
        "<tcod.console.RootConsole at 0x4821830>"
       ]
      }
     ],
     "prompt_number": 11
    },
    {
     "cell_type": "code",
     "collapsed": false,
     "input": [
      "r.clear()\n",
      "r.flush()"
     ],
     "language": "python",
     "outputs": [],
     "prompt_number": 12
    },
    {
     "cell_type": "code",
     "collapsed": false,
     "input": [
      "r.background = tcod.sepia"
     ],
     "language": "python",
     "outputs": [],
     "prompt_number": 13
    },
    {
     "cell_type": "code",
     "collapsed": false,
     "input": [
      "r.write(0,0,\"Hello World!\")\n",
      "r.flush()"
     ],
     "language": "python",
     "outputs": [],
     "prompt_number": 14
    },
    {
     "cell_type": "code",
     "collapsed": false,
     "input": [
      "r[0,0]"
     ],
     "language": "python",
     "outputs": [
      {
       "output_type": "pyout",
       "prompt_number": 15,
       "text": [
        "('H', Color(255,255,255), Color(63,50,31))"
       ]
      }
     ],
     "prompt_number": 15
    },
    {
     "cell_type": "code",
     "collapsed": false,
     "input": [
      "r[0,0] = 'B'\n",
      "r.flush()"
     ],
     "language": "python",
     "outputs": [],
     "prompt_number": 16
    },
    {
     "cell_type": "code",
     "collapsed": false,
     "input": [
      "r[0,1] = 29\n",
      "r.flush()"
     ],
     "language": "python",
     "outputs": [],
     "prompt_number": 17
    },
    {
     "cell_type": "code",
     "collapsed": false,
     "input": [
      "w = Window(5, 5, 20, 20)\n"
     ],
     "language": "python",
     "outputs": [],
     "prompt_number": 18
    },
    {
     "cell_type": "code",
     "collapsed": false,
     "input": [
      "w.background"
     ],
     "language": "python",
     "outputs": [
      {
       "output_type": "pyout",
       "prompt_number": 19,
       "text": [
        "Color(0,0,0)"
       ]
      }
     ],
     "prompt_number": 19
    },
    {
     "cell_type": "code",
     "collapsed": false,
     "input": [
      "w.prepare()\n",
      "w.redraw()\n",
      "r.flush()"
     ],
     "language": "python",
     "outputs": [
      {
       "ename": "AttributeError",
       "evalue": "'NoneType' object has no attribute '_c'",
       "output_type": "pyerr",
       "traceback": [
        "\u001b[1;31m---------------------------------------------------------------------------\u001b[0m\n\u001b[1;31mAttributeError\u001b[0m                            Traceback (most recent call last)",
        "\u001b[1;32m<ipython-input-20-358059835b4e>\u001b[0m in \u001b[0;36m<module>\u001b[1;34m()\u001b[0m\n\u001b[0;32m      1\u001b[0m \u001b[0mw\u001b[0m\u001b[1;33m.\u001b[0m\u001b[0mprepare\u001b[0m\u001b[1;33m(\u001b[0m\u001b[1;33m)\u001b[0m\u001b[1;33m\u001b[0m\u001b[0m\n\u001b[1;32m----> 2\u001b[1;33m \u001b[0mw\u001b[0m\u001b[1;33m.\u001b[0m\u001b[0mredraw\u001b[0m\u001b[1;33m(\u001b[0m\u001b[1;33m)\u001b[0m\u001b[1;33m\u001b[0m\u001b[0m\n\u001b[0m\u001b[0;32m      3\u001b[0m \u001b[0mr\u001b[0m\u001b[1;33m.\u001b[0m\u001b[0mflush\u001b[0m\u001b[1;33m(\u001b[0m\u001b[1;33m)\u001b[0m\u001b[1;33m\u001b[0m\u001b[0m\n",
        "\u001b[1;32mC:\\Users\\millejoh\\Documents\\GitHub\\Islands\\tcod\\gui.py\u001b[0m in \u001b[0;36mredraw\u001b[1;34m(self)\u001b[0m\n\u001b[0;32m    278\u001b[0m     \u001b[1;32mdef\u001b[0m \u001b[0mredraw\u001b[0m\u001b[1;33m(\u001b[0m\u001b[0mself\u001b[0m\u001b[1;33m)\u001b[0m\u001b[1;33m:\u001b[0m\u001b[1;33m\u001b[0m\u001b[0m\n\u001b[0;32m    279\u001b[0m         \u001b[1;34m\"\"\"Update window onto the root console.\"\"\"\u001b[0m\u001b[1;33m\u001b[0m\u001b[0m\n\u001b[1;32m--> 280\u001b[1;33m         \u001b[0mself\u001b[0m\u001b[1;33m.\u001b[0m\u001b[0mcopy_to_console\u001b[0m\u001b[1;33m(\u001b[0m\u001b[0mRootConsole\u001b[0m\u001b[1;33m.\u001b[0m\u001b[0mactive_root\u001b[0m\u001b[1;33m)\u001b[0m\u001b[1;33m\u001b[0m\u001b[0m\n\u001b[0m\u001b[0;32m    281\u001b[0m \u001b[1;33m\u001b[0m\u001b[0m\n\u001b[0;32m    282\u001b[0m     \u001b[1;32mdef\u001b[0m \u001b[0mredraw_at\u001b[0m\u001b[1;33m(\u001b[0m\u001b[0mself\u001b[0m\u001b[1;33m,\u001b[0m \u001b[0mroot_x\u001b[0m\u001b[1;33m,\u001b[0m \u001b[0mroot_y\u001b[0m\u001b[1;33m)\u001b[0m\u001b[1;33m:\u001b[0m\u001b[1;33m\u001b[0m\u001b[0m\n",
        "\u001b[1;32mC:\\Users\\millejoh\\Documents\\GitHub\\Islands\\tcod\\gui.py\u001b[0m in \u001b[0;36mcopy_to_console\u001b[1;34m(self, console)\u001b[0m\n\u001b[0;32m    274\u001b[0m         \u001b[1;34m\"\"\"Copy contents of current window to console object <console>.\"\"\"\u001b[0m\u001b[1;33m\u001b[0m\u001b[0m\n\u001b[0;32m    275\u001b[0m         self.blit(console, 0, 0, self.width, self.height, self.tlx, self.tly,\n\u001b[1;32m--> 276\u001b[1;33m                   self.transparency, self.transparency)\n\u001b[0m\u001b[0;32m    277\u001b[0m \u001b[1;33m\u001b[0m\u001b[0m\n\u001b[0;32m    278\u001b[0m     \u001b[1;32mdef\u001b[0m \u001b[0mredraw\u001b[0m\u001b[1;33m(\u001b[0m\u001b[0mself\u001b[0m\u001b[1;33m)\u001b[0m\u001b[1;33m:\u001b[0m\u001b[1;33m\u001b[0m\u001b[0m\n",
        "\u001b[1;32mC:\\Users\\millejoh\\Documents\\GitHub\\Islands\\tcod\\console.py\u001b[0m in \u001b[0;36mblit\u001b[1;34m(self, dest, sx, sy, width, height, dx, dy, fore_alpha, back_alpha)\u001b[0m\n\u001b[0;32m    156\u001b[0m         \u001b[0mdx\u001b[0m\u001b[1;33m,\u001b[0m \u001b[0mdy\u001b[0m \u001b[1;33m=\u001b[0m \u001b[0mLocation\u001b[0m \u001b[1;32min\u001b[0m \u001b[0mdestination\u001b[0m \u001b[0mconsole\u001b[0m \u001b[0mwhere\u001b[0m \u001b[0mrectangle\u001b[0m \u001b[0mwill\u001b[0m \u001b[0mbe\u001b[0m \u001b[0mblitted\u001b[0m\u001b[1;33m.\u001b[0m\u001b[1;33m\u001b[0m\u001b[0m\n\u001b[0;32m    157\u001b[0m         fore_alpha, back_alpha = Foreground and background transparency parameters.\"\"\"\n\u001b[1;32m--> 158\u001b[1;33m         tcod.console_blit(self._c, sx, sy, width, height, dest._c, dx, dy,\n\u001b[0m\u001b[0;32m    159\u001b[0m                           fore_alpha, back_alpha)\n\u001b[0;32m    160\u001b[0m \u001b[1;33m\u001b[0m\u001b[0m\n",
        "\u001b[1;31mAttributeError\u001b[0m: 'NoneType' object has no attribute '_c'"
       ]
      }
     ],
     "prompt_number": 20
    },
    {
     "cell_type": "code",
     "collapsed": false,
     "input": [
      "c = console.Console(40,40)"
     ],
     "language": "python",
     "outputs": []
    },
    {
     "cell_type": "code",
     "collapsed": false,
     "input": [
      "c.background"
     ],
     "language": "python",
     "outputs": []
    },
    {
     "cell_type": "code",
     "collapsed": false,
     "input": [
      "map = MapChunk(100,100)"
     ],
     "language": "python",
     "outputs": []
    },
    {
     "cell_type": "code",
     "collapsed": false,
     "input": [
      "map.elevation.as_ndarray()"
     ],
     "language": "python",
     "outputs": []
    },
    {
     "cell_type": "code",
     "collapsed": false,
     "input": [
      "map.random_island(0, 0, 20, 20)"
     ],
     "language": "python",
     "outputs": []
    },
    {
     "cell_type": "raw",
     "source": [
      "#plt.imshow(map.elevation.as_ndarray())"
     ]
    },
    {
     "cell_type": "heading",
     "level": 1,
     "source": [
      "Representing the World"
     ]
    },
    {
     "cell_type": "markdown",
     "source": [
      "Need to represent:\n",
      " 1. Terrain.\n",
      " 2. Objects (walls, doors, tables, trees, etc.)\n",
      " 3. Actors\n",
      "\n",
      "In terms of drawing, terrain type (or biome) determines background color of a cell.\n",
      "\n",
      "From libtcod's wordlgen exampe here is a example of biome/terrain types arranged\n",
      "in a matrix (Whittaker diagram). Columns are precipitation levels, rows are temperature.\n",
      "\n"
     ]
    },
    {
     "cell_type": "code",
     "collapsed": false,
     "input": [
      "biomes = [ # artic/alpine climate (below -5degC)\n",
      "\t   [ 'TUNDRA', 'TUNDRA', 'TUNDRA', 'TUNDRA', 'TUNDRA' ],\n",
      "\t   # cold climate (-5 / 5 degC)\n",
      "\t   [ 'COLD_DESERT', 'GRASSLAND', 'BOREAL_FOREST', 'BOREAL_FOREST', 'BOREAL_FOREST' ],\n",
      "\t   # temperate climate (5 / 15 degC)\n",
      "\t   [ 'COLD_DESERT', 'GRASSLAND', 'TEMPERATE_FOREST', 'TEMPERATE_FOREST', 'TROPICAL_MONTANE_FOREST' ],\n",
      "\t   # warm climate (15 - 20 degC)\n",
      "\t   [ 'HOT_DESERT', 'SAVANNA', 'TROPICAL_DRY_FOREST', 'TROPICAL_EVERGREEN_FOREST', 'TROPICAL_EVERGREEN_FOREST' ],\n",
      "\t   # tropical climate (above 20 degC)\n",
      "\t   [ 'HOT_DESERT', 'THORN_FOREST', 'TROPICAL_DRY_FOREST', 'TROPICAL_EVERGREEN_FOREST', 'TROPICAL_EVERGREEN_FOREST' ] ]\n",
      "\n"
     ],
     "language": "python",
     "outputs": []
    },
    {
     "cell_type": "markdown",
     "source": [
      "[Polygonal map generation](http://www-cs-students.stanford.edu/~amitp/game-programming/polygon-map-generation/)\n",
      "is a neat page and discusses biomes. It bins elevations and moisture levels to provide to following matrix:\n",
      "\n"
     ]
    },
    {
     "cell_type": "code",
     "collapsed": false,
     "input": [
      "biomes = [ ['SNOW', 'SNOW', 'SNOW', 'TUNDRA', 'BARE', 'SCORCHED'],\n",
      "       \t   ['TAIGA', 'TAIGA', 'SHRUBLAND', 'SHRUBLAND', 'TEMPERATE_DESERT', 'TEMPERATE_DESERT'],\n",
      "\t   ['TEMPERATE_RAIN_FOREST', 'TEMPERATE_DECIDUOUS_FOREST', 'TEMPERATE_DECIDUOUS_FOREST', 'GRASSLAND', 'GRASSLAND', 'TEMPERATE_DESERT'],\n",
      "\t   ['TROPICAL_RAIN_FOREST', 'TROPICAL_RAIN_FOREST', 'TROPICAL_SEASONAL_FOREST', 'TROPICAL_SEASONAL_FOREST', 'GRASSLAND', 'SUBTROPICAL_DESERT'] ]\n",
      "\n",
      "biome_colors = { 'SNOW'      : tcod.Color(248,248,248),\n",
      "\t\t 'TUNDRA'    : tcod.Color(221,221,187),\n",
      "\t\t 'BARE'      : tcod.Color(187,187,187),\n",
      "\t\t 'SCORCHED'  : tcod.Color(153,153,153),\n",
      "\t\t 'TAIGA'     : tcod.Color(204,212,187),\n",
      "\t\t 'SHRUBLAND' : tcod.Color(194,204,187),\n",
      "\t\t 'GRASSLAND' : tcod.Color(192,212,170),\n",
      "\t\t 'TEMPERATE_DESERT'           : tcod.Color(228,232,202),\n",
      "\t\t 'TEMPERATE_RAIN_FOREST'      : tcod.Color(164,196,168),\n",
      "\t\t 'TEMPERATE_DECIDUOUS_FOREST' : tcod.Color(180,201,169),\n",
      "\t\t 'TROPICAL_RAIN_FOREST'       : tcod.Color(156,187,169),\n",
      "\t\t 'TROPICAL_SEASONAL_FOREST'   : tcod.Color(169,204,164),\n",
      "\t\t 'SUBTROPICAL_DESERT'         : tcod.Color(233,221,199) }\n"
     ],
     "language": "python",
     "outputs": []
    },
    {
     "cell_type": "heading",
     "level": 1,
     "source": [
      "Unit Tests for the TCOD GUI"
     ]
    },
    {
     "cell_type": "markdown",
     "source": [
      "Really need some good unit tests for window management, i.e. managing the window\n",
      "stack (`WindowStack`) and determining when windows are touching"
     ]
    },
    {
     "cell_type": "code",
     "collapsed": false,
     "input": [],
     "language": "python",
     "outputs": []
    },
    {
     "cell_type": "heading",
     "level": 2,
     "source": [
      "Pyglet"
     ]
    },
    {
     "cell_type": "code",
     "collapsed": false,
     "input": [
      "from threading import Thread\n",
      "import IPython.lib.inputhook as ih\n",
      "ih.enable_pyglet()"
     ],
     "language": "python",
     "outputs": []
    },
    {
     "cell_type": "code",
     "collapsed": false,
     "input": [
      "w1"
     ],
     "language": "python",
     "outputs": []
    },
    {
     "cell_type": "code",
     "collapsed": false,
     "input": [
      "w2"
     ],
     "language": "python",
     "outputs": []
    },
    {
     "cell_type": "code",
     "collapsed": false,
     "input": [
      "pyglet_thread = Thread(target=pyglet.app.run)"
     ],
     "language": "python",
     "outputs": []
    },
    {
     "cell_type": "code",
     "collapsed": false,
     "input": [
      "pyglet_thread.start()"
     ],
     "language": "python",
     "outputs": []
    },
    {
     "cell_type": "code",
     "collapsed": false,
     "input": [
      "pyglet.app.windows"
     ],
     "language": "python",
     "outputs": []
    },
    {
     "cell_type": "code",
     "collapsed": false,
     "input": [],
     "language": "python",
     "outputs": []
    },
    {
     "cell_type": "code",
     "collapsed": false,
     "input": [],
     "language": "python",
     "outputs": []
    }
   ]
  }
 ]
}