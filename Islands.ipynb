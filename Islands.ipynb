{
 "metadata": {
  "name": ""
 },
 "nbformat": 3,
 "nbformat_minor": 0,
 "worksheets": [
  {
   "cells": [
    {
     "cell_type": "code",
     "collapsed": false,
     "input": [
      "%qtconsole"
     ],
     "language": "python",
     "outputs": [],
     "prompt_number": 2
    },
    {
     "cell_type": "code",
     "collapsed": false,
     "input": [
      "%cd /Users/millejoh/Documents/GitHub/Islands/\n",
      "%load_ext autoreload\n",
      "import numpy as np\n",
      "import tcod\n",
      "from tcod import console\n",
      "from tcod.gui import Window, GhostWindow\n",
      "%autoreload 2"
     ],
     "language": "python",
     "outputs": [
      {
       "output_type": "stream",
       "stream": "stdout",
       "text": [
        "[WinError 3] The system cannot find the path specified: '/Users/millejoh/Documents/GitHub/Islands/'\n",
        "c:\\Users\\e341194\\Documents\\GitHub\\Islands\n",
        "Tcod load path =  c:\\Users\\e341194\\Documents\\GitHub\\Islands\\tcod\n"
       ]
      }
     ],
     "prompt_number": 1
    },
    {
     "cell_type": "heading",
     "level": 2,
     "source": [
      "LibTCOD"
     ]
    },
    {
     "cell_type": "code",
     "collapsed": false,
     "input": [
      "r = console.RootConsole(80, 60)\n"
     ],
     "language": "python",
     "outputs": [],
     "prompt_number": 2
    },
    {
     "cell_type": "code",
     "collapsed": false,
     "input": [
      "r.start()"
     ],
     "language": "python",
     "outputs": [],
     "prompt_number": 3
    },
    {
     "cell_type": "code",
     "collapsed": false,
     "input": [
      "r.background = tcod.sepia\n",
      "r.foreground = tcod.white"
     ],
     "language": "python",
     "outputs": [],
     "prompt_number": 4
    },
    {
     "cell_type": "code",
     "collapsed": false,
     "input": [
      "w = Window(5, 5, 15, 15,title='Window 1', framed=True)\n"
     ],
     "language": "python",
     "outputs": [],
     "prompt_number": 4
    },
    {
     "cell_type": "code",
     "collapsed": false,
     "input": [
      "w2 = Window(10, 10, 20, 30, title='Window 2', framed=True)"
     ],
     "language": "python",
     "outputs": [],
     "prompt_number": 7
    },
    {
     "cell_type": "code",
     "collapsed": false,
     "input": [],
     "language": "python",
     "outputs": [
      {
       "output_type": "stream",
       "stream": "stderr",
       "text": [
        "Exception in thread Thread-4:\n",
        "Traceback (most recent call last):\n",
        "  File \"c:\\Anaconda\\envs\\py33\\lib\\threading.py\", line 637, in _bootstrap_inner\n",
        "    self.run()\n",
        "  File \".\\tcod\\console.py\", line 246, in run\n",
        "    tcod.gui.gui_loop(events)\n",
        "  File \".\\tcod\\gui.py\", line 264, in gui_loop\n",
        "    send_mouse_click_event(event)\n",
        "  File \".\\tcod\\gui.py\", line 214, in send_mouse_click_event\n",
        "    TOPWIN.raise_window()\n",
        "  File \".\\tcod\\gui.py\", line 357, in raise_window\n",
        "    assert not self.hidden_p\n",
        "AssertionError\n",
        "\n"
       ]
      }
     ],
     "prompt_number": 4
    },
    {
     "cell_type": "code",
     "collapsed": false,
     "input": [
      "type(tcod.gui.LAST_MOUSE_CLICK)"
     ],
     "language": "python",
     "outputs": [
      {
       "output_type": "pyout",
       "prompt_number": 5,
       "text": [
        "builtins.NoneType"
       ]
      }
     ],
     "prompt_number": 5
    },
    {
     "cell_type": "code",
     "collapsed": false,
     "input": [
      "ev = tcod.events.MouseClick(winx=0,winy=0,mouse_state=tcod.Mouse())"
     ],
     "language": "python",
     "outputs": [],
     "prompt_number": 16
    },
    {
     "cell_type": "code",
     "collapsed": false,
     "input": [
      "ev"
     ],
     "language": "python",
     "outputs": [
      {
       "output_type": "pyout",
       "prompt_number": 18,
       "text": [
        "GUIEvent(window={},winx=0,winy=0)"
       ]
      }
     ],
     "prompt_number": 18
    },
    {
     "cell_type": "code",
     "collapsed": false,
     "input": [
      "tcod.gui.screen_to_win_coord(w, (10, 10))"
     ],
     "language": "python",
     "outputs": [
      {
       "output_type": "pyout",
       "prompt_number": 14,
       "text": [
        "(2, 2)"
       ]
      }
     ],
     "prompt_number": 14
    },
    {
     "cell_type": "code",
     "collapsed": false,
     "input": [
      "tcod.gui.all_windows()"
     ],
     "language": "python",
     "outputs": [
      {
       "output_type": "pyout",
       "prompt_number": 7,
       "text": [
        "[Window(5,5,15,15,title='Window 1')]"
       ]
      }
     ],
     "prompt_number": 7
    },
    {
     "cell_type": "code",
     "collapsed": false,
     "input": [
      "map = MapChunk(100,100)"
     ],
     "language": "python",
     "outputs": []
    },
    {
     "cell_type": "code",
     "collapsed": false,
     "input": [
      "map.elevation.as_ndarray()"
     ],
     "language": "python",
     "outputs": []
    },
    {
     "cell_type": "code",
     "collapsed": false,
     "input": [
      "map.random_island(0, 0, 20, 20)"
     ],
     "language": "python",
     "outputs": []
    },
    {
     "cell_type": "raw",
     "source": [
      "#plt.imshow(map.elevation.as_ndarray())"
     ]
    },
    {
     "cell_type": "heading",
     "level": 1,
     "source": [
      "Representing the World"
     ]
    },
    {
     "cell_type": "markdown",
     "source": [
      "Need to represent:\n",
      " 1. Terrain.\n",
      " 2. Objects (walls, doors, tables, trees, etc.)\n",
      " 3. Actors\n",
      "\n",
      "In terms of drawing, terrain type (or biome) determines background color of a cell.\n",
      "\n",
      "From libtcod's wordlgen exampe here is a example of biome/terrain types arranged\n",
      "in a matrix (Whittaker diagram). Columns are precipitation levels, rows are temperature.\n",
      "\n"
     ]
    },
    {
     "cell_type": "code",
     "collapsed": false,
     "input": [
      "biomes = [ # artic/alpine climate (below -5degC)\n",
      "\t   [ 'TUNDRA', 'TUNDRA', 'TUNDRA', 'TUNDRA', 'TUNDRA' ],\n",
      "\t   # cold climate (-5 / 5 degC)\n",
      "\t   [ 'COLD_DESERT', 'GRASSLAND', 'BOREAL_FOREST', 'BOREAL_FOREST', 'BOREAL_FOREST' ],\n",
      "\t   # temperate climate (5 / 15 degC)\n",
      "\t   [ 'COLD_DESERT', 'GRASSLAND', 'TEMPERATE_FOREST', 'TEMPERATE_FOREST', 'TROPICAL_MONTANE_FOREST' ],\n",
      "\t   # warm climate (15 - 20 degC)\n",
      "\t   [ 'HOT_DESERT', 'SAVANNA', 'TROPICAL_DRY_FOREST', 'TROPICAL_EVERGREEN_FOREST', 'TROPICAL_EVERGREEN_FOREST' ],\n",
      "\t   # tropical climate (above 20 degC)\n",
      "\t   [ 'HOT_DESERT', 'THORN_FOREST', 'TROPICAL_DRY_FOREST', 'TROPICAL_EVERGREEN_FOREST', 'TROPICAL_EVERGREEN_FOREST' ] ]\n",
      "\n"
     ],
     "language": "python",
     "outputs": []
    },
    {
     "cell_type": "markdown",
     "source": [
      "[Polygonal map generation](http://www-cs-students.stanford.edu/~amitp/game-programming/polygon-map-generation/)\n",
      "is a neat page and discusses biomes. It bins elevations and moisture levels to provide to following matrix:\n",
      "\n"
     ]
    },
    {
     "cell_type": "code",
     "collapsed": false,
     "input": [
      "biomes = [ ['SNOW', 'SNOW', 'SNOW', 'TUNDRA', 'BARE', 'SCORCHED'],\n",
      "       \t   ['TAIGA', 'TAIGA', 'SHRUBLAND', 'SHRUBLAND', 'TEMPERATE_DESERT', 'TEMPERATE_DESERT'],\n",
      "\t   ['TEMPERATE_RAIN_FOREST', 'TEMPERATE_DECIDUOUS_FOREST', 'TEMPERATE_DECIDUOUS_FOREST', 'GRASSLAND', 'GRASSLAND', 'TEMPERATE_DESERT'],\n",
      "\t   ['TROPICAL_RAIN_FOREST', 'TROPICAL_RAIN_FOREST', 'TROPICAL_SEASONAL_FOREST', 'TROPICAL_SEASONAL_FOREST', 'GRASSLAND', 'SUBTROPICAL_DESERT'] ]\n",
      "\n",
      "biome_colors = { 'SNOW'      : tcod.Color(248,248,248),\n",
      "\t\t 'TUNDRA'    : tcod.Color(221,221,187),\n",
      "\t\t 'BARE'      : tcod.Color(187,187,187),\n",
      "\t\t 'SCORCHED'  : tcod.Color(153,153,153),\n",
      "\t\t 'TAIGA'     : tcod.Color(204,212,187),\n",
      "\t\t 'SHRUBLAND' : tcod.Color(194,204,187),\n",
      "\t\t 'GRASSLAND' : tcod.Color(192,212,170),\n",
      "\t\t 'TEMPERATE_DESERT'           : tcod.Color(228,232,202),\n",
      "\t\t 'TEMPERATE_RAIN_FOREST'      : tcod.Color(164,196,168),\n",
      "\t\t 'TEMPERATE_DECIDUOUS_FOREST' : tcod.Color(180,201,169),\n",
      "\t\t 'TROPICAL_RAIN_FOREST'       : tcod.Color(156,187,169),\n",
      "\t\t 'TROPICAL_SEASONAL_FOREST'   : tcod.Color(169,204,164),\n",
      "\t\t 'SUBTROPICAL_DESERT'         : tcod.Color(233,221,199) }\n"
     ],
     "language": "python",
     "outputs": []
    },
    {
     "cell_type": "heading",
     "level": 1,
     "source": [
      "Unit Tests for the TCOD GUI"
     ]
    },
    {
     "cell_type": "markdown",
     "source": [
      "Really need some good unit tests for window management, i.e. managing the window\n",
      "stack (`WindowStack`) and determining when windows are touching"
     ]
    },
    {
     "cell_type": "code",
     "collapsed": false,
     "input": [],
     "language": "python",
     "outputs": []
    },
    {
     "cell_type": "heading",
     "level": 2,
     "source": [
      "Pyglet"
     ]
    },
    {
     "cell_type": "code",
     "collapsed": false,
     "input": [
      "from threading import Thread\n",
      "import IPython.lib.inputhook as ih\n",
      "ih.enable_pyglet()"
     ],
     "language": "python",
     "outputs": []
    },
    {
     "cell_type": "code",
     "collapsed": false,
     "input": [
      "w1"
     ],
     "language": "python",
     "outputs": []
    },
    {
     "cell_type": "code",
     "collapsed": false,
     "input": [
      "w2"
     ],
     "language": "python",
     "outputs": []
    },
    {
     "cell_type": "code",
     "collapsed": false,
     "input": [
      "pyglet_thread = Thread(target=pyglet.app.run)"
     ],
     "language": "python",
     "outputs": []
    },
    {
     "cell_type": "code",
     "collapsed": false,
     "input": [
      "pyglet_thread.start()"
     ],
     "language": "python",
     "outputs": []
    },
    {
     "cell_type": "code",
     "collapsed": false,
     "input": [
      "pyglet.app.windows"
     ],
     "language": "python",
     "outputs": [
      {
       "ename": "NameError",
       "evalue": "name 'pyglet' is not defined",
       "output_type": "pyerr",
       "traceback": [
        "\u001b[1;31m---------------------------------------------------------------------------\u001b[0m\n\u001b[1;31mNameError\u001b[0m                                 Traceback (most recent call last)",
        "\u001b[1;32m<ipython-input-18-ec4d7d13a83f>\u001b[0m in \u001b[0;36m<module>\u001b[1;34m()\u001b[0m\n\u001b[1;32m----> 1\u001b[1;33m \u001b[0mpyglet\u001b[0m\u001b[1;33m.\u001b[0m\u001b[0mapp\u001b[0m\u001b[1;33m.\u001b[0m\u001b[0mwindows\u001b[0m\u001b[1;33m\u001b[0m\u001b[0m\n\u001b[0m",
        "\u001b[1;31mNameError\u001b[0m: name 'pyglet' is not defined"
       ]
      }
     ],
     "prompt_number": 18
    },
    {
     "cell_type": "code",
     "collapsed": false,
     "input": [
      "import events"
     ],
     "language": "python",
     "outputs": [],
     "prompt_number": 8
    },
    {
     "cell_type": "code",
     "collapsed": false,
     "input": [
      "dir(events)"
     ],
     "language": "python",
     "outputs": [
      {
       "output_type": "pyout",
       "prompt_number": 10,
       "text": [
        "['__builtins__',\n",
        " '__cached__',\n",
        " '__doc__',\n",
        " '__file__',\n",
        " '__initializing__',\n",
        " '__loader__',\n",
        " '__name__',\n",
        " '__package__',\n",
        " 'key_dispatch_table']"
       ]
      }
     ],
     "prompt_number": 10
    },
    {
     "cell_type": "code",
     "collapsed": false,
     "input": [
      "from tcod.events import *"
     ],
     "language": "python",
     "outputs": [],
     "prompt_number": 55
    },
    {
     "cell_type": "code",
     "collapsed": false,
     "input": [
      "a = MouseEvent(window=w,winx=0,winy=0,mouse_state=None)"
     ],
     "language": "python",
     "outputs": [
      {
       "output_type": "stream",
       "stream": "stdout",
       "text": [
        "{'window': Window(5,5,15,15,title='Window 1'), 'winy': 0, 'winx': 0}\n"
       ]
      }
     ],
     "prompt_number": 62
    },
    {
     "cell_type": "code",
     "collapsed": false,
     "input": [
      "a.time"
     ],
     "language": "python",
     "outputs": [
      {
       "output_type": "pyout",
       "prompt_number": 63,
       "text": [
        "2223264"
       ]
      }
     ],
     "prompt_number": 63
    },
    {
     "cell_type": "code",
     "collapsed": false,
     "input": [],
     "language": "python",
     "outputs": []
    }
   ]
  }
 ]
}