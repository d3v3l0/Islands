{
 "metadata": {
  "name": ""
 },
 "nbformat": 3,
 "nbformat_minor": 0,
 "worksheets": [
  {
   "cells": [
    {
     "cell_type": "code",
     "collapsed": false,
     "input": [
      "%cd /Users/E341194/Documents/GitHub/Islands/\n",
      "%load_ext autoreload\n",
      "import numpy as np\n",
      "import tcod\n",
      "from tcod import console\n",
      "%autoreload 2"
     ],
     "language": "python",
     "outputs": [
      {
       "output_type": "stream",
       "stream": "stdout",
       "text": [
        "c:\\Users\\E341194\\Documents\\GitHub\\Islands\n",
        "The autoreload extension is already loaded. To reload it, use:\n",
        "  %reload_ext autoreload\n"
       ]
      }
     ],
     "prompt_number": 2
    },
    {
     "cell_type": "code",
     "collapsed": false,
     "input": [],
     "language": "python",
     "outputs": [
      {
       "output_type": "pyout",
       "prompt_number": 5,
       "text": [
        "0"
       ]
      }
     ],
     "prompt_number": 5
    },
    {
     "cell_type": "heading",
     "level": 2,
     "source": [
      "LibTCOD"
     ]
    },
    {
     "cell_type": "code",
     "collapsed": false,
     "input": [
      "tcod"
     ],
     "language": "python",
     "outputs": []
    },
    {
     "cell_type": "code",
     "collapsed": false,
     "input": [
      "r = console.RootConsole(80, 50)"
     ],
     "language": "python",
     "outputs": [],
     "prompt_number": 3
    },
    {
     "cell_type": "code",
     "collapsed": false,
     "input": [
      "r.clear()\n",
      "r.flush()"
     ],
     "language": "python",
     "outputs": [],
     "prompt_number": 4
    },
    {
     "cell_type": "code",
     "collapsed": false,
     "input": [
      "r.background = tcod.sepia"
     ],
     "language": "python",
     "outputs": [],
     "prompt_number": 5
    },
    {
     "cell_type": "code",
     "collapsed": false,
     "input": [
      "r.write(0,0,\"Hello World!\")\n",
      "r.flush()"
     ],
     "language": "python",
     "outputs": [],
     "prompt_number": 6
    },
    {
     "cell_type": "code",
     "collapsed": false,
     "input": [
      "r[0,0]"
     ],
     "language": "python",
     "outputs": [
      {
       "output_type": "pyout",
       "prompt_number": 7,
       "text": [
        "('H', Color(255,255,255), Color(63,50,31))"
       ]
      }
     ],
     "prompt_number": 7
    },
    {
     "cell_type": "code",
     "collapsed": false,
     "input": [
      "r[0,0] = 'B'\n",
      "r.flush()"
     ],
     "language": "python",
     "outputs": [],
     "prompt_number": 8
    },
    {
     "cell_type": "code",
     "collapsed": false,
     "input": [
      "c = console.Console(40,40)"
     ],
     "language": "python",
     "outputs": [],
     "prompt_number": 9
    },
    {
     "cell_type": "code",
     "collapsed": false,
     "input": [
      "map = MapChunk(100,100)"
     ],
     "language": "python",
     "outputs": [],
     "prompt_number": 3
    },
    {
     "cell_type": "code",
     "collapsed": false,
     "input": [
      "map.elevation.as_ndarray()"
     ],
     "language": "python",
     "outputs": [
      {
       "output_type": "pyout",
       "prompt_number": 4,
       "text": [
        "array([[ 0.,  0.,  0., ...,  0.,  0.,  0.],\n",
        "       [ 0.,  0.,  0., ...,  0.,  0.,  0.],\n",
        "       [ 0.,  0.,  0., ...,  0.,  0.,  0.],\n",
        "       ..., \n",
        "       [ 0.,  0.,  0., ...,  0.,  0.,  0.],\n",
        "       [ 0.,  0.,  0., ...,  0.,  0.,  0.],\n",
        "       [ 0.,  0.,  0., ...,  0.,  0.,  0.]])"
       ]
      }
     ],
     "prompt_number": 4
    },
    {
     "cell_type": "code",
     "collapsed": false,
     "input": [
      "map.random_island(0, 0, 20, 20)"
     ],
     "language": "python",
     "outputs": [],
     "prompt_number": 18
    },
    {
     "cell_type": "raw",
     "source": [
      "#plt.imshow(map.elevation.as_ndarray())"
     ]
    },
    {
     "cell_type": "heading",
     "level": 1,
     "source": [
      "Representing the World"
     ]
    },
    {
     "cell_type": "markdown",
     "source": [
      "Need to represent:\n",
      " 1. Terrain.\n",
      " 2. Objects (walls, doors, tables, trees, etc.)\n",
      " 3. Actors\n",
      "\n",
      "In terms of drawing, terrain type (or biome) determines background color of a cell.\n",
      "\n",
      "From libtcod's wordlgen exampe here is a example of biome/terrain types arranged\n",
      "in a matrix (Whittaker diagram). Columns are precipitation levels, rows are temperature.\n",
      "\n"
     ]
    },
    {
     "cell_type": "code",
     "collapsed": false,
     "input": [
      "biomes = [ # artic/alpine climate (below -5degC)\n",
      "\t   [ 'TUNDRA', 'TUNDRA', 'TUNDRA', 'TUNDRA', 'TUNDRA' ],\n",
      "\t   # cold climate (-5 / 5 degC)\n",
      "\t   [ 'COLD_DESERT', 'GRASSLAND', 'BOREAL_FOREST', 'BOREAL_FOREST', 'BOREAL_FOREST' ],\n",
      "\t   # temperate climate (5 / 15 degC)\n",
      "\t   [ 'COLD_DESERT', 'GRASSLAND', 'TEMPERATE_FOREST', 'TEMPERATE_FOREST', 'TROPICAL_MONTANE_FOREST' ],\n",
      "\t   # warm climate (15 - 20 degC)\n",
      "\t   [ 'HOT_DESERT', 'SAVANNA', 'TROPICAL_DRY_FOREST', 'TROPICAL_EVERGREEN_FOREST', 'TROPICAL_EVERGREEN_FOREST' ],\n",
      "\t   # tropical climate (above 20 degC)\n",
      "\t   [ 'HOT_DESERT', 'THORN_FOREST', 'TROPICAL_DRY_FOREST', 'TROPICAL_EVERGREEN_FOREST', 'TROPICAL_EVERGREEN_FOREST' ] ]\n",
      "\n"
     ],
     "language": "python",
     "outputs": [],
     "prompt_number": 3
    },
    {
     "cell_type": "markdown",
     "source": [
      "[Polygonal map generation](http://www-cs-students.stanford.edu/~amitp/game-programming/polygon-map-generation/)\n",
      "is a neat page and discusses biomes. It bins elevations and moisture levels to provide to following matrix:\n",
      "\n"
     ]
    },
    {
     "cell_type": "code",
     "collapsed": false,
     "input": [
      "biomes = [ ['SNOW', 'SNOW', 'SNOW', 'TUNDRA', 'BARE', 'SCORCHED'],\n",
      "       \t   ['TAIGA', 'TAIGA', 'SHRUBLAND', 'SHRUBLAND', 'TEMPERATE_DESERT', 'TEMPERATE_DESERT'],\n",
      "\t   ['TEMPERATE_RAIN_FOREST', 'TEMPERATE_DECIDUOUS_FOREST', 'TEMPERATE_DECIDUOUS_FOREST', 'GRASSLAND', 'GRASSLAND', 'TEMPERATE_DESERT'],\n",
      "\t   ['TROPICAL_RAIN_FOREST', 'TROPICAL_RAIN_FOREST', 'TROPICAL_SEASONAL_FOREST', 'TROPICAL_SEASONAL_FOREST', 'GRASSLAND', 'SUBTROPICAL_DESERT'] ]\n",
      "\n",
      "biome_colors = { 'SNOW'      : tcod.Color(248,248,248),\n",
      "\t\t 'TUNDRA'    : tcod.Color(221,221,187),\n",
      "\t\t 'BARE'      : tcod.Color(187,187,187),\n",
      "\t\t 'SCORCHED'  : tcod.Color(153,153,153),\n",
      "\t\t 'TAIGA'     : tcod.Color(204,212,187),\n",
      "\t\t 'SHRUBLAND' : tcod.Color(194,204,187),\n",
      "\t\t 'GRASSLAND' : tcod.Color(192,212,170),\n",
      "\t\t 'TEMPERATE_DESERT'           : tcod.Color(228,232,202),\n",
      "\t\t 'TEMPERATE_RAIN_FOREST'      : tcod.Color(164,196,168),\n",
      "\t\t 'TEMPERATE_DECIDUOUS_FOREST' : tcod.Color(180,201,169),\n",
      "\t\t 'TROPICAL_RAIN_FOREST'       : tcod.Color(156,187,169),\n",
      "\t\t 'TROPICAL_SEASONAL_FOREST'   : tcod.Color(169,204,164),\n",
      "\t\t 'SUBTROPICAL_DESERT'         : tcod.Color(233,221,199) }\n"
     ],
     "language": "python",
     "outputs": [],
     "prompt_number": 25
    },
    {
     "cell_type": "heading",
     "level": 2,
     "source": [
      "Pyglet"
     ]
    },
    {
     "cell_type": "code",
     "collapsed": false,
     "input": [
      "from threading import Thread\n",
      "import IPython.lib.inputhook as ih\n",
      "ih.enable_pyglet()"
     ],
     "language": "python",
     "outputs": [],
     "prompt_number": 5
    },
    {
     "cell_type": "code",
     "collapsed": false,
     "input": [
      "w1"
     ],
     "language": "python",
     "outputs": [
      {
       "output_type": "pyout",
       "prompt_number": 6,
       "text": [
        "Win32Window(width=200, height=200)"
       ]
      }
     ],
     "prompt_number": 6
    },
    {
     "cell_type": "code",
     "collapsed": false,
     "input": [
      "w2"
     ],
     "language": "python",
     "outputs": [
      {
       "output_type": "pyout",
       "prompt_number": 7,
       "text": [
        "Win32Window(width=300, height=300)"
       ]
      }
     ],
     "prompt_number": 7
    },
    {
     "cell_type": "code",
     "collapsed": false,
     "input": [
      "pyglet_thread = Thread(target=pyglet.app.run)"
     ],
     "language": "python",
     "outputs": [],
     "prompt_number": 8
    },
    {
     "cell_type": "code",
     "collapsed": false,
     "input": [
      "pyglet_thread.start()"
     ],
     "language": "python",
     "outputs": [],
     "prompt_number": 9
    },
    {
     "cell_type": "code",
     "collapsed": false,
     "input": [
      "pyglet.app.windows"
     ],
     "language": "python",
     "outputs": [
      {
       "ename": "TypeError",
       "evalue": "'WeakSet' object does not support indexing",
       "output_type": "pyerr",
       "traceback": [
        "\u001b[1;31m---------------------------------------------------------------------------\u001b[0m\n\u001b[1;31mTypeError\u001b[0m                                 Traceback (most recent call last)",
        "\u001b[1;32m<ipython-input-15-85472ff6c693>\u001b[0m in \u001b[0;36m<module>\u001b[1;34m()\u001b[0m\n\u001b[1;32m----> 1\u001b[1;33m \u001b[0mpyglet\u001b[0m\u001b[1;33m.\u001b[0m\u001b[0mapp\u001b[0m\u001b[1;33m.\u001b[0m\u001b[0mwindows\u001b[0m\u001b[1;33m[\u001b[0m\u001b[1;36m0\u001b[0m\u001b[1;33m]\u001b[0m\u001b[1;33m\u001b[0m\u001b[0m\n\u001b[0m",
        "\u001b[1;31mTypeError\u001b[0m: 'WeakSet' object does not support indexing"
       ]
      }
     ],
     "prompt_number": 15
    },
    {
     "cell_type": "code",
     "collapsed": false,
     "input": [],
     "language": "python",
     "outputs": [
      {
       "output_type": "stream",
       "stream": "stderr",
       "text": [
        "ERROR: Invalid GUI request 'pyglet', valid ones are:['tk', 'wx', 'inline', 'gtk', 'qt', None, 'osx', 'qt4']\n"
       ]
      }
     ],
     "prompt_number": 2
    },
    {
     "cell_type": "code",
     "collapsed": false,
     "input": [],
     "language": "python",
     "outputs": []
    }
   ]
  }
 ]
}