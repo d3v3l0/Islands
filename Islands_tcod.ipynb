{
 "cells": [
  {
   "cell_type": "code",
   "execution_count": 2,
   "metadata": {
    "autoscroll": false,
    "collapsed": false,
    "ein.hycell": false,
    "ein.tags": "worksheet-0",
    "execute-time": [
     "2019-10-27T15:59:00.430620Z",
     "2019-10-27T15:59:00.579518Z"
    ],
    "slideshow": {
     "slide_type": "-"
    }
   },
   "outputs": [],
   "source": [
    "import tcod\n",
    "tcod.console_set_custom_font(b\"gui/data/fonts/terminal8x8_gs_tc.png\", tcod.FONT_LAYOUT_TCOD | tcod.FONT_TYPE_GREYSCALE)\n"
   ]
  },
  {
   "cell_type": "code",
   "execution_count": null,
   "metadata": {
    "autoscroll": false,
    "collapsed": false,
    "ein.hycell": false,
    "ein.tags": "worksheet-0",
    "slideshow": {
     "slide_type": "-"
    }
   },
   "outputs": [],
   "source": [
    "tcod.console_init_root(80, 50, b\"Welcome to the Island\", False, tcod.RENDERER_SDL)"
   ]
  },
  {
   "cell_type": "code",
   "execution_count": 2,
   "metadata": {
    "autoscroll": false,
    "collapsed": false,
    "ein.hycell": false,
    "ein.tags": "worksheet-0",
    "slideshow": {
     "slide_type": "-"
    }
   },
   "outputs": [
    {
     "data": {
      "text/plain": [
       "'/home/millejoh/Dropbox/Projects/Islands'"
      ]
     },
     "execution_count": 2,
     "metadata": {},
     "output_type": "execute_result"
    }
   ],
   "source": [
    "%pwd"
   ]
  },
  {
   "cell_type": "code",
   "execution_count": 6,
   "metadata": {
    "autoscroll": false,
    "collapsed": false,
    "ein.hycell": false,
    "ein.tags": "worksheet-0",
    "execute-time": [
     "2018-11-02T21:32:44.624782Z",
     "2018-11-02T21:32:44.751929Z"
    ],
    "slideshow": {
     "slide_type": "-"
    }
   },
   "outputs": [],
   "source": [
    "%load_ext autoreload\n",
    "%autoreload 2\n",
    "import numpy as np"
   ]
  },
  {
   "cell_type": "markdown",
   "metadata": {
    "ein.tags": "worksheet-0",
    "slideshow": {
     "slide_type": "-"
    }
   },
   "source": [
    "# Scaffolding"
   ]
  },
  {
   "cell_type": "markdown",
   "metadata": {
    "ein.tags": "worksheet-0",
    "slideshow": {
     "slide_type": "-"
    }
   },
   "source": [
    "Either call the below or execute the code in Island_Manual.org"
   ]
  },
  {
   "cell_type": "code",
   "execution_count": 11,
   "metadata": {
    "autoscroll": false,
    "collapsed": false,
    "ein.hycell": false,
    "ein.tags": "worksheet-0",
    "slideshow": {
     "slide_type": "-"
    }
   },
   "outputs": [],
   "source": [
    "import ctypes\n",
    "import tcod\n",
    "from tcod.console import Console\n",
    "#from tcod.console import ConsoleCell\n",
    "from gui.window import Window, Viewport, ListWindow\n",
    "from gui.managers import WindowManager, GuiEventLoop\n",
    "import matplotlib.pyplot as plt\n",
    "#from MapChunk import MapChunk, gEntity\n",
    "#from pyDatalog import pyDatalog"
   ]
  },
  {
   "cell_type": "code",
   "execution_count": 12,
   "metadata": {
    "autoscroll": false,
    "collapsed": false,
    "ein.hycell": false,
    "ein.tags": "worksheet-0",
    "slideshow": {
     "slide_type": "-"
    }
   },
   "outputs": [
    {
     "data": {
      "text/plain": [
       "array([['', '', '', '', '', '', '', '', '', '', '', '', '', '', '', '',\n",
       "        '', '', '', ''],\n",
       "       ['', '', '', '', '', '', '', '', '', '', '', '', '', '', '', '',\n",
       "        '', '', '', ''],\n",
       "       ['', '', '', '', '', '', '', '', '', '', '', '', '', '', '', '',\n",
       "        '', '', '', ''],\n",
       "       ['', '', '', '', '', '', '', '', '', '', '', '', '', '', '', '',\n",
       "        '', '', '', ''],\n",
       "       ['', '', '', '', '', '', '', '', '', '', '', '', '', '', '', '',\n",
       "        '', '', '', ''],\n",
       "       ['', '', '', '', '', '', '', '', '', '', '', '', '', '', '', '',\n",
       "        '', '', '', ''],\n",
       "       ['', '', '', '', '', '', '', '', '', '', '', '', '', '', '', '',\n",
       "        '', '', '', ''],\n",
       "       ['', '', '', '', '', '', '', '', '', '', '', '', '', '', '', '',\n",
       "        '', '', '', ''],\n",
       "       ['', '', '', '', '', '', '', '', '', '', '', '', '', '', '', '',\n",
       "        '', '', '', ''],\n",
       "       ['', '', '', '', '', '', '', '', '', '', '', '', '', '', '', '',\n",
       "        '', '', '', '']], dtype='<U1')"
      ]
     },
     "execution_count": 12,
     "metadata": {},
     "output_type": "execute_result"
    }
   ],
   "source": [
    "c_init = [[' ']*20]*10\n",
    "c = np.empty_like(c_init)\n",
    "c"
   ]
  },
  {
   "cell_type": "code",
   "execution_count": 5,
   "metadata": {
    "autoscroll": false,
    "collapsed": false,
    "ein.hycell": false,
    "ein.tags": "worksheet-0",
    "slideshow": {
     "slide_type": "-"
    }
   },
   "outputs": [],
   "source": [
    "np.ravel?"
   ]
  },
  {
   "cell_type": "code",
   "execution_count": 13,
   "metadata": {
    "autoscroll": false,
    "collapsed": false,
    "ein.hycell": false,
    "ein.tags": "worksheet-0",
    "slideshow": {
     "slide_type": "-"
    }
   },
   "outputs": [],
   "source": [
    "a = np.zeros((10,10,3))\n",
    "a[0,0] = tcod.white"
   ]
  },
  {
   "cell_type": "code",
   "execution_count": 14,
   "metadata": {
    "autoscroll": false,
    "collapsed": false,
    "ein.hycell": false,
    "ein.tags": "worksheet-0",
    "slideshow": {
     "slide_type": "-"
    }
   },
   "outputs": [
    {
     "data": {
      "text/plain": [
       "array([255.,   0.,   0.,   0.,   0.,   0.,   0.,   0.,   0.,   0.,   0.,\n",
       "         0.,   0.,   0.,   0.,   0.,   0.,   0.,   0.,   0.,   0.,   0.,\n",
       "         0.,   0.,   0.,   0.,   0.,   0.,   0.,   0.,   0.,   0.,   0.,\n",
       "         0.,   0.,   0.,   0.,   0.,   0.,   0.,   0.,   0.,   0.,   0.,\n",
       "         0.,   0.,   0.,   0.,   0.,   0.,   0.,   0.,   0.,   0.,   0.,\n",
       "         0.,   0.,   0.,   0.,   0.,   0.,   0.,   0.,   0.,   0.,   0.,\n",
       "         0.,   0.,   0.,   0.,   0.,   0.,   0.,   0.,   0.,   0.,   0.,\n",
       "         0.,   0.,   0.,   0.,   0.,   0.,   0.,   0.,   0.,   0.,   0.,\n",
       "         0.,   0.,   0.,   0.,   0.,   0.,   0.,   0.,   0.,   0.,   0.,\n",
       "         0.])"
      ]
     },
     "execution_count": 14,
     "metadata": {},
     "output_type": "execute_result"
    }
   ],
   "source": [
    "a[..., 2].ravel()"
   ]
  },
  {
   "cell_type": "markdown",
   "metadata": {
    "ein.tags": "worksheet-0",
    "slideshow": {
     "slide_type": "-"
    }
   },
   "source": [
    "## LibTCOD"
   ]
  },
  {
   "cell_type": "markdown",
   "metadata": {
    "ein.tags": "worksheet-0",
    "slideshow": {
     "slide_type": "-"
    }
   },
   "source": [
    "Testing RootConsole, basic gui event loop and windows. When running this\n",
    "double check that:\n",
    "\n",
    " 1) Windows are draggable.\n",
    " 2) Windows can be resized.\n",
    " 3) Window focus changes on click.\n",
    " 4) Window close button works.\n"
   ]
  },
  {
   "cell_type": "markdown",
   "metadata": {
    "ein.tags": "worksheet-0",
    "slideshow": {
     "slide_type": "-"
    }
   },
   "source": [
    "The New Manager API\n",
    "-------------------\n",
    "\n",
    "Because I am insane, and felt that far too many global variables were\n",
    "being used to store and communicate state I have factored out event\n",
    "loop and window management function into two Python classes:\n",
    "- `WindowManager`\n",
    "- `GuiEventLoop`\n",
    "\n"
   ]
  },
  {
   "cell_type": "code",
   "execution_count": 1,
   "metadata": {
    "autoscroll": false,
    "collapsed": false,
    "ein.hycell": false,
    "ein.tags": "worksheet-0",
    "slideshow": {
     "slide_type": "-"
    }
   },
   "outputs": [],
   "source": [
    "from worldgen import WorldGenerator"
   ]
  },
  {
   "cell_type": "code",
   "execution_count": 2,
   "metadata": {
    "autoscroll": false,
    "collapsed": false,
    "ein.hycell": false,
    "ein.tags": "worksheet-0",
    "slideshow": {
     "slide_type": "-"
    }
   },
   "outputs": [],
   "source": [
    "w = WorldGenerator(50, 80)"
   ]
  },
  {
   "cell_type": "code",
   "execution_count": 3,
   "metadata": {
    "autoscroll": false,
    "collapsed": false,
    "ein.hycell": false,
    "ein.tags": "worksheet-0",
    "slideshow": {
     "slide_type": "-"
    }
   },
   "outputs": [
    {
     "name": "stdout",
     "output_type": "stream",
     "text": [
      "24.7 ms ± 3.78 ms per loop (mean ± std. dev. of 7 runs, 10 loops each)\n"
     ]
    }
   ],
   "source": [
    "%%timeit\n",
    "\n",
    "w = WorldGenerator(100, 100)\n"
   ]
  },
  {
   "cell_type": "code",
   "execution_count": 3,
   "metadata": {
    "autoscroll": false,
    "collapsed": false,
    "ein.hycell": false,
    "ein.tags": "worksheet-0",
    "slideshow": {
     "slide_type": "-"
    }
   },
   "outputs": [
    {
     "name": "stderr",
     "output_type": "stream",
     "text": [
      "/home/millejoh/Dropbox/Projects/Islands/worldgen.py:458: NumbaWarning: \n",
      "Compilation is falling back to object mode WITH looplifting enabled because Function \"build_base_map\" failed type inference due to: Untyped global name 'noise2d': cannot determine Numba type of <class 'tcod.noise.Noise'>\n",
      "\n",
      "File \"worldgen.py\", line 462:\n",
      "    def build_base_map(self, hill_cnt=60):\n",
      "        <source elided>\n",
      "        tcod.heightmap_normalize(self._hm)\n",
      "        tcod.heightmap_add_fbm(self._hm, noise2d, 2.20 * self.width / 400,\n",
      "        ^\n",
      "\n",
      "  @jit\n",
      "/home/millejoh/Dropbox/Projects/Islands/worldgen.py:458: NumbaWarning: \n",
      "Compilation is falling back to object mode WITHOUT looplifting enabled because Function \"build_base_map\" failed type inference due to: Untyped global name 'noise2d': cannot determine Numba type of <class 'tcod.noise.Noise'>\n",
      "\n",
      "File \"worldgen.py\", line 462:\n",
      "    def build_base_map(self, hill_cnt=60):\n",
      "        <source elided>\n",
      "        tcod.heightmap_normalize(self._hm)\n",
      "        tcod.heightmap_add_fbm(self._hm, noise2d, 2.20 * self.width / 400,\n",
      "        ^\n",
      "\n",
      "  @jit\n"
     ]
    },
    {
     "name": "stderr",
     "output_type": "stream",
     "text": [
      "/home/millejoh/miniconda3/envs/islands/lib/python3.7/site-packages/numba/compiler.py:742: NumbaWarning: Function \"build_base_map\" was compiled in object mode without forceobj=True, but has lifted loops.\n",
      "\n",
      "File \"worldgen.py\", line 459:\n",
      "    @jit\n",
      "    def build_base_map(self, hill_cnt=60):\n",
      "    ^\n",
      "\n",
      "  self.func_ir.loc))\n",
      "/home/millejoh/miniconda3/envs/islands/lib/python3.7/site-packages/numba/compiler.py:751: NumbaDeprecationWarning: \n",
      "Fall-back from the nopython compilation path to the object mode compilation path has been detected, this is deprecated behaviour.\n",
      "\n",
      "For more information visit http://numba.pydata.org/numba-doc/latest/reference/deprecation.html#deprecation-of-object-mode-fall-back-behaviour-when-using-jit\n",
      "\n",
      "File \"worldgen.py\", line 459:\n",
      "    @jit\n",
      "    def build_base_map(self, hill_cnt=60):\n",
      "    ^\n",
      "\n",
      "  warnings.warn(errors.NumbaDeprecationWarning(msg, self.func_ir.loc))\n"
     ]
    },
    {
     "name": "stderr",
     "output_type": "stream",
     "text": [
      "/home/millejoh/Dropbox/Projects/Islands/worldgen.py:417: NumbaWarning: \n",
      "Compilation is falling back to object mode WITH looplifting enabled because Function \"add_land\" failed type inference due to: non-precise type pyobject\n",
      "[1] During: typing of argument at /home/millejoh/Dropbox/Projects/Islands/worldgen.py (419)\n",
      "\n",
      "File \"worldgen.py\", line 419:\n",
      "    def add_land(self, cnt, base_radius, radius_var, height):\n",
      "        for i in range(cnt):\n",
      "        ^\n",
      "\n",
      "  @jit\n",
      "/home/millejoh/Dropbox/Projects/Islands/worldgen.py:417: NumbaWarning: \n",
      "Compilation is falling back to object mode WITHOUT looplifting enabled because Function \"add_land\" failed type inference due to: cannot determine Numba type of <class 'numba.dispatcher.LiftedLoop'>\n",
      "\n",
      "File \"worldgen.py\", line 419:\n",
      "    def add_land(self, cnt, base_radius, radius_var, height):\n",
      "        for i in range(cnt):\n",
      "        ^\n",
      "\n",
      "  @jit\n",
      "/home/millejoh/miniconda3/envs/islands/lib/python3.7/site-packages/numba/compiler.py:742: NumbaWarning: Function \"add_land\" was compiled in object mode without forceobj=True, but has lifted loops.\n",
      "\n",
      "File \"worldgen.py\", line 418:\n",
      "    @jit\n",
      "    def add_land(self, cnt, base_radius, radius_var, height):\n",
      "    ^\n",
      "\n",
      "  self.func_ir.loc))\n",
      "/home/millejoh/miniconda3/envs/islands/lib/python3.7/site-packages/numba/compiler.py:751: NumbaDeprecationWarning: \n",
      "Fall-back from the nopython compilation path to the object mode compilation path has been detected, this is deprecated behaviour.\n",
      "\n",
      "For more information visit http://numba.pydata.org/numba-doc/latest/reference/deprecation.html#deprecation-of-object-mode-fall-back-behaviour-when-using-jit\n",
      "\n",
      "File \"worldgen.py\", line 418:\n",
      "    @jit\n",
      "    def add_land(self, cnt, base_radius, radius_var, height):\n",
      "    ^\n",
      "\n",
      "  warnings.warn(errors.NumbaDeprecationWarning(msg, self.func_ir.loc))\n",
      "/home/millejoh/Dropbox/Projects/Islands/worldgen.py:417: NumbaWarning: \n",
      "Compilation is falling back to object mode WITHOUT looplifting enabled because Function \"add_land\" failed type inference due to: non-precise type pyobject\n",
      "[1] During: typing of argument at /home/millejoh/Dropbox/Projects/Islands/worldgen.py (419)\n",
      "\n",
      "File \"worldgen.py\", line 419:\n",
      "    def add_land(self, cnt, base_radius, radius_var, height):\n",
      "        for i in range(cnt):\n",
      "        ^\n",
      "\n",
      "  @jit\n"
     ]
    },
    {
     "name": "stderr",
     "output_type": "stream",
     "text": [
      "/home/millejoh/miniconda3/envs/islands/lib/python3.7/site-packages/numba/compiler.py:742: NumbaWarning: Function \"add_land\" was compiled in object mode without forceobj=True.\n",
      "\n",
      "File \"worldgen.py\", line 419:\n",
      "    def add_land(self, cnt, base_radius, radius_var, height):\n",
      "        for i in range(cnt):\n",
      "        ^\n",
      "\n",
      "  self.func_ir.loc))\n",
      "/home/millejoh/miniconda3/envs/islands/lib/python3.7/site-packages/numba/compiler.py:751: NumbaDeprecationWarning: \n",
      "Fall-back from the nopython compilation path to the object mode compilation path has been detected, this is deprecated behaviour.\n",
      "\n",
      "For more information visit http://numba.pydata.org/numba-doc/latest/reference/deprecation.html#deprecation-of-object-mode-fall-back-behaviour-when-using-jit\n",
      "\n",
      "File \"worldgen.py\", line 419:\n",
      "    def add_land(self, cnt, base_radius, radius_var, height):\n",
      "        for i in range(cnt):\n",
      "        ^\n",
      "\n",
      "  warnings.warn(errors.NumbaDeprecationWarning(msg, self.func_ir.loc))\n"
     ]
    },
    {
     "name": "stderr",
     "output_type": "stream",
     "text": [
      "/home/millejoh/miniconda3/envs/islands/lib/python3.7/site-packages/ipykernel_launcher.py:1: DeprecationWarning: Arrays of noise should be sampled using the tcod.noise module.\n",
      "  \"\"\"Entry point for launching an IPython kernel.\n",
      "/home/millejoh/Dropbox/Projects/Islands/worldgen.py:428: NumbaWarning: \n",
      "Compilation is falling back to object mode WITH looplifting enabled because Function \"set_land_mass\" failed type inference due to: non-precise type pyobject\n",
      "[1] During: typing of argument at /home/millejoh/Dropbox/Projects/Islands/worldgen.py (431)\n",
      "\n",
      "File \"worldgen.py\", line 431:\n",
      "    def set_land_mass(self, land_mass, water_level):\n",
      "        <source elided>\n",
      "        \"Ensure that a proportion <land_mass | [0,1]> of the map is above sea level.\"\n",
      "        heightcount = np.zeros(256)\n",
      "        ^\n",
      "\n",
      "  @jit\n",
      "/home/millejoh/Dropbox/Projects/Islands/worldgen.py:428: NumbaWarning: \n",
      "Compilation is falling back to object mode WITHOUT looplifting enabled because Function \"set_land_mass\" failed type inference due to: cannot determine Numba type of <class 'numba.dispatcher.LiftedLoop'>\n",
      "\n",
      "File \"worldgen.py\", line 432:\n",
      "    def set_land_mass(self, land_mass, water_level):\n",
      "        <source elided>\n",
      "        heightcount = np.zeros(256)\n",
      "        for x in range(self.width):\n",
      "        ^\n",
      "\n",
      "  @jit\n"
     ]
    },
    {
     "name": "stderr",
     "output_type": "stream",
     "text": [
      "/home/millejoh/miniconda3/envs/islands/lib/python3.7/site-packages/numba/compiler.py:742: NumbaWarning: Function \"set_land_mass\" was compiled in object mode without forceobj=True, but has lifted loops.\n",
      "\n",
      "File \"worldgen.py\", line 429:\n",
      "    @jit\n",
      "    def set_land_mass(self, land_mass, water_level):\n",
      "    ^\n",
      "\n",
      "  self.func_ir.loc))\n",
      "/home/millejoh/miniconda3/envs/islands/lib/python3.7/site-packages/numba/compiler.py:751: NumbaDeprecationWarning: \n",
      "Fall-back from the nopython compilation path to the object mode compilation path has been detected, this is deprecated behaviour.\n",
      "\n",
      "For more information visit http://numba.pydata.org/numba-doc/latest/reference/deprecation.html#deprecation-of-object-mode-fall-back-behaviour-when-using-jit\n",
      "\n",
      "File \"worldgen.py\", line 429:\n",
      "    @jit\n",
      "    def set_land_mass(self, land_mass, water_level):\n",
      "    ^\n",
      "\n",
      "  warnings.warn(errors.NumbaDeprecationWarning(msg, self.func_ir.loc))\n",
      "/home/millejoh/Dropbox/Projects/Islands/worldgen.py:428: NumbaWarning: \n",
      "Compilation is falling back to object mode WITHOUT looplifting enabled because Function \"set_land_mass\" failed type inference due to: non-precise type pyobject\n",
      "[1] During: typing of argument at /home/millejoh/Dropbox/Projects/Islands/worldgen.py (432)\n",
      "\n",
      "File \"worldgen.py\", line 432:\n",
      "    def set_land_mass(self, land_mass, water_level):\n",
      "        <source elided>\n",
      "        heightcount = np.zeros(256)\n",
      "        for x in range(self.width):\n",
      "        ^\n",
      "\n",
      "  @jit\n"
     ]
    },
    {
     "name": "stderr",
     "output_type": "stream",
     "text": [
      "/home/millejoh/miniconda3/envs/islands/lib/python3.7/site-packages/numba/compiler.py:742: NumbaWarning: Function \"set_land_mass\" was compiled in object mode without forceobj=True.\n",
      "\n",
      "File \"worldgen.py\", line 432:\n",
      "    def set_land_mass(self, land_mass, water_level):\n",
      "        <source elided>\n",
      "        heightcount = np.zeros(256)\n",
      "        for x in range(self.width):\n",
      "        ^\n",
      "\n",
      "  self.func_ir.loc))\n",
      "/home/millejoh/miniconda3/envs/islands/lib/python3.7/site-packages/numba/compiler.py:751: NumbaDeprecationWarning: \n",
      "Fall-back from the nopython compilation path to the object mode compilation path has been detected, this is deprecated behaviour.\n",
      "\n",
      "For more information visit http://numba.pydata.org/numba-doc/latest/reference/deprecation.html#deprecation-of-object-mode-fall-back-behaviour-when-using-jit\n",
      "\n",
      "File \"worldgen.py\", line 432:\n",
      "    def set_land_mass(self, land_mass, water_level):\n",
      "        <source elided>\n",
      "        heightcount = np.zeros(256)\n",
      "        for x in range(self.width):\n",
      "        ^\n",
      "\n",
      "  warnings.warn(errors.NumbaDeprecationWarning(msg, self.func_ir.loc))\n"
     ]
    },
    {
     "name": "stderr",
     "output_type": "stream",
     "text": [
      "/home/millejoh/Dropbox/Projects/Islands/worldgen.py:428: NumbaWarning: \n",
      "Compilation is falling back to object mode WITHOUT looplifting enabled because Function \"set_land_mass\" failed type inference due to: non-precise type pyobject\n",
      "[1] During: typing of argument at /home/millejoh/Dropbox/Projects/Islands/worldgen.py (441)\n",
      "\n",
      "File \"worldgen.py\", line 441:\n",
      "    def set_land_mass(self, land_mass, water_level):\n",
      "        <source elided>\n",
      "        tcnt = 0\n",
      "        i = 0\n",
      "        ^\n",
      "\n",
      "  @jit\n",
      "/home/millejoh/miniconda3/envs/islands/lib/python3.7/site-packages/numba/compiler.py:742: NumbaWarning: Function \"set_land_mass\" was compiled in object mode without forceobj=True.\n",
      "\n",
      "File \"worldgen.py\", line 441:\n",
      "    def set_land_mass(self, land_mass, water_level):\n",
      "        <source elided>\n",
      "        tcnt = 0\n",
      "        i = 0\n",
      "        ^\n",
      "\n",
      "  self.func_ir.loc))\n",
      "/home/millejoh/miniconda3/envs/islands/lib/python3.7/site-packages/numba/compiler.py:751: NumbaDeprecationWarning: \n",
      "Fall-back from the nopython compilation path to the object mode compilation path has been detected, this is deprecated behaviour.\n",
      "\n",
      "For more information visit http://numba.pydata.org/numba-doc/latest/reference/deprecation.html#deprecation-of-object-mode-fall-back-behaviour-when-using-jit\n",
      "\n",
      "File \"worldgen.py\", line 441:\n",
      "    def set_land_mass(self, land_mass, water_level):\n",
      "        <source elided>\n",
      "        tcnt = 0\n",
      "        i = 0\n",
      "        ^\n",
      "\n",
      "  warnings.warn(errors.NumbaDeprecationWarning(msg, self.func_ir.loc))\n",
      "/home/millejoh/Dropbox/Projects/Islands/worldgen.py:428: NumbaWarning: \n",
      "Compilation is falling back to object mode WITHOUT looplifting enabled because Function \"set_land_mass\" failed type inference due to: non-precise type pyobject\n",
      "[1] During: typing of argument at /home/millejoh/Dropbox/Projects/Islands/worldgen.py (449)\n",
      "\n",
      "File \"worldgen.py\", line 449:\n",
      "    def set_land_mass(self, land_mass, water_level):\n",
      "        <source elided>\n",
      "        water_coef = water_level / new_water_level\n",
      "        for x in range(self.width):\n",
      "        ^\n",
      "\n",
      "  @jit\n"
     ]
    },
    {
     "name": "stderr",
     "output_type": "stream",
     "text": [
      "/home/millejoh/miniconda3/envs/islands/lib/python3.7/site-packages/numba/compiler.py:742: NumbaWarning: Function \"set_land_mass\" was compiled in object mode without forceobj=True.\n",
      "\n",
      "File \"worldgen.py\", line 449:\n",
      "    def set_land_mass(self, land_mass, water_level):\n",
      "        <source elided>\n",
      "        water_coef = water_level / new_water_level\n",
      "        for x in range(self.width):\n",
      "        ^\n",
      "\n",
      "  self.func_ir.loc))\n",
      "/home/millejoh/miniconda3/envs/islands/lib/python3.7/site-packages/numba/compiler.py:751: NumbaDeprecationWarning: \n",
      "Fall-back from the nopython compilation path to the object mode compilation path has been detected, this is deprecated behaviour.\n",
      "\n",
      "For more information visit http://numba.pydata.org/numba-doc/latest/reference/deprecation.html#deprecation-of-object-mode-fall-back-behaviour-when-using-jit\n",
      "\n",
      "File \"worldgen.py\", line 449:\n",
      "    def set_land_mass(self, land_mass, water_level):\n",
      "        <source elided>\n",
      "        water_coef = water_level / new_water_level\n",
      "        for x in range(self.width):\n",
      "        ^\n",
      "\n",
      "  warnings.warn(errors.NumbaDeprecationWarning(msg, self.func_ir.loc))\n"
     ]
    },
    {
     "name": "stderr",
     "output_type": "stream",
     "text": [
      "/home/millejoh/Dropbox/Projects/Islands/worldgen.py:458: NumbaWarning: \n",
      "Compilation is falling back to object mode WITHOUT looplifting enabled because Function \"build_base_map\" failed type inference due to: non-precise type pyobject\n",
      "[1] During: typing of argument at /home/millejoh/Dropbox/Projects/Islands/worldgen.py (468)\n",
      "\n",
      "File \"worldgen.py\", line 468:\n",
      "    def build_base_map(self, hill_cnt=60):\n",
      "        <source elided>\n",
      "        # Fix land/mountain ratio using x^3 curve above sea level\n",
      "        for x in range(self.width):\n",
      "        ^\n",
      "\n",
      "  @jit\n"
     ]
    },
    {
     "name": "stderr",
     "output_type": "stream",
     "text": [
      "/home/millejoh/miniconda3/envs/islands/lib/python3.7/site-packages/numba/compiler.py:742: NumbaWarning: Function \"build_base_map\" was compiled in object mode without forceobj=True.\n",
      "\n",
      "File \"worldgen.py\", line 468:\n",
      "    def build_base_map(self, hill_cnt=60):\n",
      "        <source elided>\n",
      "        # Fix land/mountain ratio using x^3 curve above sea level\n",
      "        for x in range(self.width):\n",
      "        ^\n",
      "\n",
      "  self.func_ir.loc))\n",
      "/home/millejoh/miniconda3/envs/islands/lib/python3.7/site-packages/numba/compiler.py:751: NumbaDeprecationWarning: \n",
      "Fall-back from the nopython compilation path to the object mode compilation path has been detected, this is deprecated behaviour.\n",
      "\n",
      "For more information visit http://numba.pydata.org/numba-doc/latest/reference/deprecation.html#deprecation-of-object-mode-fall-back-behaviour-when-using-jit\n",
      "\n",
      "File \"worldgen.py\", line 468:\n",
      "    def build_base_map(self, hill_cnt=60):\n",
      "        <source elided>\n",
      "        # Fix land/mountain ratio using x^3 curve above sea level\n",
      "        for x in range(self.width):\n",
      "        ^\n",
      "\n",
      "  warnings.warn(errors.NumbaDeprecationWarning(msg, self.func_ir.loc))\n"
     ]
    },
    {
     "name": "stderr",
     "output_type": "stream",
     "text": [
      "/home/millejoh/Dropbox/Projects/Islands/worldgen.py:458: NumbaWarning: \n",
      "Compilation is falling back to object mode WITHOUT looplifting enabled because Function \"build_base_map\" failed type inference due to: Untyped global name 'noise2d': cannot determine Numba type of <class 'tcod.noise.Noise'>\n",
      "\n",
      "File \"worldgen.py\", line 482:\n",
      "    def build_base_map(self, hill_cnt=60):\n",
      "        <source elided>\n",
      "                self._clouds[y, x] = 0.5 * (1.0 + 0.8 * tcod.noise_get_fbm(\n",
      "                    noise2d, f, 4.0, tcod.NOISE_SIMPLEX))\n",
      "                    ^\n",
      "\n",
      "  @jit\n"
     ]
    },
    {
     "name": "stderr",
     "output_type": "stream",
     "text": [
      "/home/millejoh/miniconda3/envs/islands/lib/python3.7/site-packages/numba/compiler.py:742: NumbaWarning: Function \"build_base_map\" was compiled in object mode without forceobj=True.\n",
      "\n",
      "File \"worldgen.py\", line 477:\n",
      "    def build_base_map(self, hill_cnt=60):\n",
      "        <source elided>\n",
      "        f = [0, 0]\n",
      "        for x in range(self.width):\n",
      "        ^\n",
      "\n",
      "  self.func_ir.loc))\n",
      "/home/millejoh/miniconda3/envs/islands/lib/python3.7/site-packages/numba/compiler.py:751: NumbaDeprecationWarning: \n",
      "Fall-back from the nopython compilation path to the object mode compilation path has been detected, this is deprecated behaviour.\n",
      "\n",
      "For more information visit http://numba.pydata.org/numba-doc/latest/reference/deprecation.html#deprecation-of-object-mode-fall-back-behaviour-when-using-jit\n",
      "\n",
      "File \"worldgen.py\", line 477:\n",
      "    def build_base_map(self, hill_cnt=60):\n",
      "        <source elided>\n",
      "        f = [0, 0]\n",
      "        for x in range(self.width):\n",
      "        ^\n",
      "\n",
      "  warnings.warn(errors.NumbaDeprecationWarning(msg, self.func_ir.loc))\n",
      "/home/millejoh/miniconda3/envs/islands/lib/python3.7/site-packages/ipykernel_launcher.py:1: DeprecationWarning: Arrays of noise should be sampled using the tcod.noise module.\n",
      "  \"\"\"Entry point for launching an IPython kernel.\n"
     ]
    },
    {
     "name": "stdout",
     "output_type": "stream",
     "text": [
      "160 ms ± 3.64 ms per loop (mean ± std. dev. of 7 runs, 1 loop each)\n"
     ]
    }
   ],
   "source": [
    "%%timeit\n",
    "\n",
    "w.build_base_map(600)\n"
   ]
  },
  {
   "cell_type": "code",
   "execution_count": 4,
   "metadata": {
    "autoscroll": false,
    "collapsed": false,
    "ein.hycell": false,
    "ein.tags": "worksheet-0",
    "slideshow": {
     "slide_type": "-"
    }
   },
   "outputs": [
    {
     "name": "stderr",
     "output_type": "stream",
     "text": [
      "/home/millejoh/Dropbox/Projects/Islands/worldgen.py:497: NumbaWarning: \n",
      "Compilation is falling back to object mode WITH looplifting enabled because Function \"compute_precipitation\" failed type inference due to: Untyped global name 'noise1d': cannot determine Numba type of <class 'tcod.noise.Noise'>\n",
      "\n",
      "File \"worldgen.py\", line 505:\n",
      "    def compute_precipitation(self):\n",
      "        <source elided>\n",
      "                water_amount = 1.0 + tcod.noise_get_fbm(\n",
      "                    noise1d, noisex, 3.0, tcod.NOISE_SIMPLEX)\n",
      "                    ^\n",
      "\n",
      "  @jit\n",
      "/home/millejoh/Dropbox/Projects/Islands/worldgen.py:497: NumbaWarning: \n",
      "Compilation is falling back to object mode WITHOUT looplifting enabled because Function \"compute_precipitation\" failed type inference due to: cannot determine Numba type of <class 'numba.dispatcher.LiftedLoop'>\n",
      "\n",
      "File \"worldgen.py\", line 501:\n",
      "    def compute_precipitation(self):\n",
      "        <source elided>\n",
      "        # // north/south winds\n",
      "        for dir_y in [-1, 1]:\n",
      "        ^\n",
      "\n",
      "  @jit\n"
     ]
    },
    {
     "name": "stderr",
     "output_type": "stream",
     "text": [
      "/home/millejoh/miniconda3/envs/islands/lib/python3.7/site-packages/numba/compiler.py:742: NumbaWarning: Function \"compute_precipitation\" was compiled in object mode without forceobj=True, but has lifted loops.\n",
      "\n",
      "File \"worldgen.py\", line 498:\n",
      "    @jit\n",
      "    def compute_precipitation(self):\n",
      "    ^\n",
      "\n",
      "  self.func_ir.loc))\n",
      "/home/millejoh/miniconda3/envs/islands/lib/python3.7/site-packages/numba/compiler.py:751: NumbaDeprecationWarning: \n",
      "Fall-back from the nopython compilation path to the object mode compilation path has been detected, this is deprecated behaviour.\n",
      "\n",
      "For more information visit http://numba.pydata.org/numba-doc/latest/reference/deprecation.html#deprecation-of-object-mode-fall-back-behaviour-when-using-jit\n",
      "\n",
      "File \"worldgen.py\", line 498:\n",
      "    @jit\n",
      "    def compute_precipitation(self):\n",
      "    ^\n",
      "\n",
      "  warnings.warn(errors.NumbaDeprecationWarning(msg, self.func_ir.loc))\n"
     ]
    },
    {
     "name": "stderr",
     "output_type": "stream",
     "text": [
      "/home/millejoh/Dropbox/Projects/Islands/worldgen.py:497: NumbaWarning: \n",
      "Compilation is falling back to object mode WITHOUT looplifting enabled because Function \"compute_precipitation\" failed type inference due to: Untyped global name 'noise1d': cannot determine Numba type of <class 'tcod.noise.Noise'>\n",
      "\n",
      "File \"worldgen.py\", line 505:\n",
      "    def compute_precipitation(self):\n",
      "        <source elided>\n",
      "                water_amount = 1.0 + tcod.noise_get_fbm(\n",
      "                    noise1d, noisex, 3.0, tcod.NOISE_SIMPLEX)\n",
      "                    ^\n",
      "\n",
      "  @jit\n"
     ]
    },
    {
     "name": "stderr",
     "output_type": "stream",
     "text": [
      "/home/millejoh/miniconda3/envs/islands/lib/python3.7/site-packages/numba/compiler.py:742: NumbaWarning: Function \"compute_precipitation\" was compiled in object mode without forceobj=True.\n",
      "\n",
      "File \"worldgen.py\", line 501:\n",
      "    def compute_precipitation(self):\n",
      "        <source elided>\n",
      "        # // north/south winds\n",
      "        for dir_y in [-1, 1]:\n",
      "        ^\n",
      "\n",
      "  self.func_ir.loc))\n",
      "/home/millejoh/miniconda3/envs/islands/lib/python3.7/site-packages/numba/compiler.py:751: NumbaDeprecationWarning: \n",
      "Fall-back from the nopython compilation path to the object mode compilation path has been detected, this is deprecated behaviour.\n",
      "\n",
      "For more information visit http://numba.pydata.org/numba-doc/latest/reference/deprecation.html#deprecation-of-object-mode-fall-back-behaviour-when-using-jit\n",
      "\n",
      "File \"worldgen.py\", line 501:\n",
      "    def compute_precipitation(self):\n",
      "        <source elided>\n",
      "        # // north/south winds\n",
      "        for dir_y in [-1, 1]:\n",
      "        ^\n",
      "\n",
      "  warnings.warn(errors.NumbaDeprecationWarning(msg, self.func_ir.loc))\n"
     ]
    },
    {
     "name": "stderr",
     "output_type": "stream",
     "text": [
      "/home/millejoh/Dropbox/Projects/Islands/worldgen.py:497: NumbaWarning: \n",
      "Compilation is falling back to object mode WITHOUT looplifting enabled because Function \"compute_precipitation\" failed type inference due to: Untyped global name 'noise1d': cannot determine Numba type of <class 'tcod.noise.Noise'>\n",
      "\n",
      "File \"worldgen.py\", line 529:\n",
      "    def compute_precipitation(self):\n",
      "        <source elided>\n",
      "                water_amount = 1.0 + tcod.noise_get_fbm(\n",
      "                    noise1d, noisey, 3.0, tcod.NOISE_SIMPLEX)\n",
      "                    ^\n",
      "\n",
      "  @jit\n"
     ]
    },
    {
     "name": "stderr",
     "output_type": "stream",
     "text": [
      "/home/millejoh/miniconda3/envs/islands/lib/python3.7/site-packages/numba/compiler.py:742: NumbaWarning: Function \"compute_precipitation\" was compiled in object mode without forceobj=True.\n",
      "\n",
      "File \"worldgen.py\", line 525:\n",
      "    def compute_precipitation(self):\n",
      "        <source elided>\n",
      "        # east/west winds\n",
      "        for dir_x in [-1, 1]:\n",
      "        ^\n",
      "\n",
      "  self.func_ir.loc))\n",
      "/home/millejoh/miniconda3/envs/islands/lib/python3.7/site-packages/numba/compiler.py:751: NumbaDeprecationWarning: \n",
      "Fall-back from the nopython compilation path to the object mode compilation path has been detected, this is deprecated behaviour.\n",
      "\n",
      "For more information visit http://numba.pydata.org/numba-doc/latest/reference/deprecation.html#deprecation-of-object-mode-fall-back-behaviour-when-using-jit\n",
      "\n",
      "File \"worldgen.py\", line 525:\n",
      "    def compute_precipitation(self):\n",
      "        <source elided>\n",
      "        # east/west winds\n",
      "        for dir_x in [-1, 1]:\n",
      "        ^\n",
      "\n",
      "  warnings.warn(errors.NumbaDeprecationWarning(msg, self.func_ir.loc))\n"
     ]
    },
    {
     "name": "stderr",
     "output_type": "stream",
     "text": [
      "/home/millejoh/Dropbox/Projects/Islands/worldgen.py:497: NumbaWarning: \n",
      "Compilation is falling back to object mode WITHOUT looplifting enabled because Function \"compute_precipitation\" failed type inference due to: Untyped global name 'noise2d': cannot determine Numba type of <class 'tcod.noise.Noise'>\n",
      "\n",
      "File \"worldgen.py\", line 557:\n",
      "    def compute_precipitation(self):\n",
      "        <source elided>\n",
      "                xcoef = coef + 0.5 * tcod.noise_get_fbm(\n",
      "                    noise2d, f, 3.0, tcod.NOISE_SIMPLEX)\n",
      "                    ^\n",
      "\n",
      "  @jit\n"
     ]
    },
    {
     "name": "stderr",
     "output_type": "stream",
     "text": [
      "/home/millejoh/miniconda3/envs/islands/lib/python3.7/site-packages/numba/compiler.py:742: NumbaWarning: Function \"compute_precipitation\" was compiled in object mode without forceobj=True.\n",
      "\n",
      "File \"worldgen.py\", line 550:\n",
      "    def compute_precipitation(self):\n",
      "        <source elided>\n",
      "        # latitude impact\n",
      "        for y in range(self.height // 4, 3 * self.height // 4):\n",
      "        ^\n",
      "\n",
      "  self.func_ir.loc))\n",
      "/home/millejoh/miniconda3/envs/islands/lib/python3.7/site-packages/numba/compiler.py:751: NumbaDeprecationWarning: \n",
      "Fall-back from the nopython compilation path to the object mode compilation path has been detected, this is deprecated behaviour.\n",
      "\n",
      "For more information visit http://numba.pydata.org/numba-doc/latest/reference/deprecation.html#deprecation-of-object-mode-fall-back-behaviour-when-using-jit\n",
      "\n",
      "File \"worldgen.py\", line 550:\n",
      "    def compute_precipitation(self):\n",
      "        <source elided>\n",
      "        # latitude impact\n",
      "        for y in range(self.height // 4, 3 * self.height // 4):\n",
      "        ^\n",
      "\n",
      "  warnings.warn(errors.NumbaDeprecationWarning(msg, self.func_ir.loc))\n"
     ]
    },
    {
     "name": "stderr",
     "output_type": "stream",
     "text": [
      "/home/millejoh/Dropbox/Projects/Islands/worldgen.py:497: NumbaWarning: \n",
      "Compilation is falling back to object mode WITHOUT looplifting enabled because Function \"compute_precipitation\" failed type inference due to: non-precise type pyobject\n",
      "[1] During: typing of argument at /home/millejoh/Dropbox/Projects/Islands/worldgen.py (564)\n",
      "\n",
      "File \"worldgen.py\", line 564:\n",
      "    def compute_precipitation(self):\n",
      "        <source elided>\n",
      "        low_res_map = np.zeros((small_width, small_height))\n",
      "        for x in range(self.width):\n",
      "        ^\n",
      "\n",
      "  @jit\n"
     ]
    },
    {
     "name": "stderr",
     "output_type": "stream",
     "text": [
      "/home/millejoh/miniconda3/envs/islands/lib/python3.7/site-packages/numba/compiler.py:742: NumbaWarning: Function \"compute_precipitation\" was compiled in object mode without forceobj=True.\n",
      "\n",
      "File \"worldgen.py\", line 564:\n",
      "    def compute_precipitation(self):\n",
      "        <source elided>\n",
      "        low_res_map = np.zeros((small_width, small_height))\n",
      "        for x in range(self.width):\n",
      "        ^\n",
      "\n",
      "  self.func_ir.loc))\n",
      "/home/millejoh/miniconda3/envs/islands/lib/python3.7/site-packages/numba/compiler.py:751: NumbaDeprecationWarning: \n",
      "Fall-back from the nopython compilation path to the object mode compilation path has been detected, this is deprecated behaviour.\n",
      "\n",
      "For more information visit http://numba.pydata.org/numba-doc/latest/reference/deprecation.html#deprecation-of-object-mode-fall-back-behaviour-when-using-jit\n",
      "\n",
      "File \"worldgen.py\", line 564:\n",
      "    def compute_precipitation(self):\n",
      "        <source elided>\n",
      "        low_res_map = np.zeros((small_width, small_height))\n",
      "        for x in range(self.width):\n",
      "        ^\n",
      "\n",
      "  warnings.warn(errors.NumbaDeprecationWarning(msg, self.func_ir.loc))\n"
     ]
    },
    {
     "name": "stderr",
     "output_type": "stream",
     "text": [
      "/home/millejoh/Dropbox/Projects/Islands/worldgen.py:497: NumbaWarning: \n",
      "Compilation is falling back to object mode WITHOUT looplifting enabled because Function \"compute_precipitation\" failed type inference due to: Untyped global name 'get_interpolated_float': cannot determine Numba type of <class 'function'>\n",
      "\n",
      "File \"worldgen.py\", line 573:\n",
      "    def compute_precipitation(self):\n",
      "        <source elided>\n",
      "            for y in range(self.height):\n",
      "                v = get_interpolated_float(low_res_map, x * coef, y * coef,\n",
      "                ^\n",
      "\n",
      "  @jit\n",
      "/home/millejoh/miniconda3/envs/islands/lib/python3.7/site-packages/numba/compiler.py:742: NumbaWarning: Function \"compute_precipitation\" was compiled in object mode without forceobj=True.\n",
      "\n",
      "File \"worldgen.py\", line 571:\n",
      "    def compute_precipitation(self):\n",
      "        <source elided>\n",
      "        coef = 1.0 / factor\n",
      "        for x in range(self.width):\n",
      "        ^\n",
      "\n",
      "  self.func_ir.loc))\n",
      "/home/millejoh/miniconda3/envs/islands/lib/python3.7/site-packages/numba/compiler.py:751: NumbaDeprecationWarning: \n",
      "Fall-back from the nopython compilation path to the object mode compilation path has been detected, this is deprecated behaviour.\n",
      "\n",
      "For more information visit http://numba.pydata.org/numba-doc/latest/reference/deprecation.html#deprecation-of-object-mode-fall-back-behaviour-when-using-jit\n",
      "\n",
      "File \"worldgen.py\", line 571:\n",
      "    def compute_precipitation(self):\n",
      "        <source elided>\n",
      "        coef = 1.0 / factor\n",
      "        for x in range(self.width):\n",
      "        ^\n",
      "\n",
      "  warnings.warn(errors.NumbaDeprecationWarning(msg, self.func_ir.loc))\n"
     ]
    },
    {
     "name": "stdout",
     "output_type": "stream",
     "text": [
      "222 ms ± 2.11 ms per loop (mean ± std. dev. of 7 runs, 1 loop each)\n"
     ]
    }
   ],
   "source": [
    "%%timeit\n",
    "\n",
    "w.compute_precipitation()\n"
   ]
  },
  {
   "cell_type": "code",
   "execution_count": 6,
   "metadata": {
    "autoscroll": false,
    "collapsed": false,
    "ein.hycell": false,
    "ein.tags": "worksheet-0",
    "slideshow": {
     "slide_type": "-"
    }
   },
   "outputs": [
    {
     "name": "stdout",
     "output_type": "stream",
     "text": [
      "849 ms ± 51.3 ms per loop (mean ± std. dev. of 7 runs, 1 loop each)\n"
     ]
    }
   ],
   "source": [
    "%%timeit\n",
    "\n",
    "w.erode_map()\n"
   ]
  },
  {
   "cell_type": "code",
   "execution_count": 7,
   "metadata": {
    "autoscroll": false,
    "collapsed": false,
    "ein.hycell": false,
    "ein.tags": "worksheet-0",
    "slideshow": {
     "slide_type": "-"
    }
   },
   "outputs": [
    {
     "name": "stdout",
     "output_type": "stream",
     "text": [
      "310 µs ± 2.63 µs per loop (mean ± std. dev. of 7 runs, 1000 loops each)\n"
     ]
    }
   ],
   "source": [
    "%%timeit\n",
    "\n",
    "w.smooth_map()"
   ]
  },
  {
   "cell_type": "code",
   "execution_count": null,
   "metadata": {
    "autoscroll": false,
    "collapsed": false,
    "ein.hycell": false,
    "ein.tags": "worksheet-0",
    "slideshow": {
     "slide_type": "-"
    }
   },
   "outputs": [],
   "source": [
    "%run demo_test.py\n",
    "#from worldgen import WorldGenerator"
   ]
  },
  {
   "cell_type": "code",
   "execution_count": null,
   "metadata": {
    "autoscroll": false,
    "collapsed": false,
    "ein.hycell": false,
    "ein.tags": "worksheet-0",
    "slideshow": {
     "slide_type": "-"
    }
   },
   "outputs": [],
   "source": [
    "%debug"
   ]
  },
  {
   "cell_type": "code",
   "execution_count": 3,
   "metadata": {
    "autoscroll": false,
    "collapsed": false,
    "ein.hycell": false,
    "ein.tags": "worksheet-0",
    "slideshow": {
     "slide_type": "-"
    }
   },
   "outputs": [
    {
     "data": {
      "text/plain": [
       "<Lib object for 'tcod._libtcod'>"
      ]
     },
     "execution_count": 3,
     "metadata": {},
     "output_type": "execute_result"
    }
   ],
   "source": [
    "tcod.loader.lib.TCOD_console_set_dirty"
   ]
  },
  {
   "cell_type": "markdown",
   "metadata": {
    "ein.tags": "worksheet-0",
    "slideshow": {
     "slide_type": "-"
    }
   },
   "source": [
    "### Regression Testing"
   ]
  },
  {
   "cell_type": "code",
   "execution_count": 14,
   "metadata": {
    "autoscroll": false,
    "collapsed": false,
    "ein.hycell": false,
    "ein.tags": "worksheet-0",
    "slideshow": {
     "slide_type": "-"
    }
   },
   "outputs": [],
   "source": [
    "from gui.window import Window, Viewport, ListWindow\n",
    "from gui.managers import WindowManager\n",
    "from gui.console import ConsoleCell"
   ]
  },
  {
   "cell_type": "code",
   "execution_count": 2,
   "metadata": {
    "autoscroll": false,
    "collapsed": false,
    "ein.hycell": false,
    "ein.tags": "worksheet-0",
    "slideshow": {
     "slide_type": "-"
    }
   },
   "outputs": [],
   "source": [
    "wm = WindowManager(80, 60)"
   ]
  },
  {
   "cell_type": "code",
   "execution_count": 11,
   "metadata": {
    "autoscroll": false,
    "collapsed": false,
    "ein.hycell": false,
    "ein.tags": "worksheet-0",
    "slideshow": {
     "slide_type": "-"
    }
   },
   "outputs": [],
   "source": [
    "w = Window(5, 5, 15, 15,title='Window 1', framed=True, window_manager=wm)\n",
    "w2 = Window(10, 10, 20, 30, title='Window 2', framed=True, window_manager=wm)"
   ]
  },
  {
   "cell_type": "code",
   "execution_count": 4,
   "metadata": {
    "autoscroll": false,
    "collapsed": false,
    "ein.hycell": false,
    "ein.tags": "worksheet-0",
    "slideshow": {
     "slide_type": "-"
    }
   },
   "outputs": [],
   "source": [
    "w2.unhide(False)"
   ]
  },
  {
   "cell_type": "code",
   "execution_count": 5,
   "metadata": {
    "autoscroll": false,
    "collapsed": false,
    "ein.hycell": false,
    "ein.tags": "worksheet-0",
    "slideshow": {
     "slide_type": "-"
    }
   },
   "outputs": [],
   "source": [
    "v = Viewport(tlx=10, tly=10, width=40, height=40, framed=True, map_width=120,\n",
    "             map_height=120, view_tlx=0, view_tly=0, title='The View',\n",
    "             window_manager=wm)"
   ]
  },
  {
   "cell_type": "code",
   "execution_count": 6,
   "metadata": {
    "autoscroll": false,
    "collapsed": false,
    "ein.hycell": false,
    "ein.tags": "worksheet-0",
    "slideshow": {
     "slide_type": "-"
    }
   },
   "outputs": [
    {
     "data": {
      "text/plain": [
       "ConsoleCell(symbol=' ', foreground=Color(255, 255, 255), background=Color(0, 0, 0))"
      ]
     },
     "execution_count": 6,
     "metadata": {},
     "output_type": "execute_result"
    }
   ],
   "source": [
    "v.map_console[1,1]"
   ]
  },
  {
   "cell_type": "code",
   "execution_count": 7,
   "metadata": {
    "autoscroll": false,
    "collapsed": false,
    "ein.hycell": false,
    "ein.tags": "worksheet-0",
    "slideshow": {
     "slide_type": "-"
    }
   },
   "outputs": [],
   "source": [
    "v.map_console[1,1] = ConsoleCell('.', 'white', 'black')"
   ]
  },
  {
   "cell_type": "code",
   "execution_count": 8,
   "metadata": {
    "autoscroll": false,
    "collapsed": false,
    "ein.hycell": false,
    "ein.tags": "worksheet-0",
    "slideshow": {
     "slide_type": "-"
    }
   },
   "outputs": [],
   "source": [
    "v[1,1] = '!'"
   ]
  },
  {
   "cell_type": "code",
   "execution_count": 12,
   "metadata": {
    "autoscroll": false,
    "collapsed": false,
    "ein.hycell": false,
    "ein.tags": "worksheet-0",
    "slideshow": {
     "slide_type": "-"
    }
   },
   "outputs": [
    {
     "data": {
      "text/plain": [
       "[Window(10,10,20,30,title='Window 2'),\n",
       " Window(5,5,15,15,title='Window 1'),\n",
       " Viewport(10,10,40,40,title='The View'),\n",
       " Window(10,10,20,30,title='Window 2'),\n",
       " Window(5,5,15,15,title='Window 1')]"
      ]
     },
     "execution_count": 12,
     "metadata": {},
     "output_type": "execute_result"
    }
   ],
   "source": [
    "wm.all_windows()\n"
   ]
  },
  {
   "cell_type": "code",
   "execution_count": 16,
   "metadata": {
    "autoscroll": false,
    "collapsed": false,
    "ein.hycell": false,
    "ein.tags": "worksheet-0",
    "slideshow": {
     "slide_type": "-"
    }
   },
   "outputs": [],
   "source": [
    "list_view = ListWindow(tlx=15, tly=15, width=20, height=5, title='List Window', framed=True, window_manager=wm)\n",
    "list_view.add_item('An item.', 'An item.')"
   ]
  },
  {
   "cell_type": "code",
   "execution_count": 17,
   "metadata": {
    "autoscroll": false,
    "collapsed": false,
    "ein.hycell": false,
    "ein.tags": "worksheet-0",
    "slideshow": {
     "slide_type": "-"
    }
   },
   "outputs": [],
   "source": [
    "list_view.add_item('Another item.', 'Uhuh.')\n",
    "list_view.add_item('Keep going.', 'Number.')\n",
    "list_view.add_item('Scrolling yet?', 'Scroll')\n",
    "list_view.add_item('last one', 'the end.')"
   ]
  },
  {
   "cell_type": "code",
   "execution_count": 18,
   "metadata": {
    "autoscroll": false,
    "collapsed": false,
    "ein.hycell": false,
    "ein.tags": "worksheet-0",
    "slideshow": {
     "slide_type": "-"
    }
   },
   "outputs": [
    {
     "data": {
      "text/plain": [
       "18"
      ]
     },
     "execution_count": 18,
     "metadata": {},
     "output_type": "execute_result"
    }
   ],
   "source": [
    "list_view.width - (0 if list_view.use_borders else 2)"
   ]
  },
  {
   "cell_type": "code",
   "execution_count": 19,
   "metadata": {
    "autoscroll": false,
    "collapsed": false,
    "ein.hycell": false,
    "ein.tags": "worksheet-0",
    "slideshow": {
     "slide_type": "-"
    }
   },
   "outputs": [],
   "source": [
    "list_view.wrap_items = True"
   ]
  },
  {
   "cell_type": "markdown",
   "metadata": {
    "ein.tags": "worksheet-0",
    "slideshow": {
     "slide_type": "-"
    }
   },
   "source": [
    "# TCOD Utilities in Python"
   ]
  },
  {
   "cell_type": "markdown",
   "metadata": {
    "ein.tags": "worksheet-0",
    "slideshow": {
     "slide_type": "-"
    }
   },
   "source": [
    "# Representing the World"
   ]
  },
  {
   "cell_type": "markdown",
   "metadata": {
    "ein.tags": "worksheet-0",
    "slideshow": {
     "slide_type": "-"
    }
   },
   "source": [
    "Need to represent:\n",
    " 1. Terrain.\n",
    " 2. Objects (walls, doors, tables, trees, etc.)\n",
    " 3. Actors\n",
    "\n",
    "In terms of drawing, terrain type (or biome) determines background color of a cell.\n",
    "\n",
    "From libtcod's wordlgen exampe here is a example of biome/terrain types arranged\n",
    "in a matrix (Whittaker diagram). Columns are precipitation levels, rows are temperature.\n",
    "\n"
   ]
  },
  {
   "cell_type": "markdown",
   "metadata": {
    "ein.tags": "worksheet-0",
    "slideshow": {
     "slide_type": "-"
    }
   },
   "source": [
    "[Polygonal map generation]\n",
    "(http://www-cs-students.stanford.edu/~amitp/game-programming/polygon-map-generation/)\n",
    "is a neat page and discusses biomes. It bins elevations and moisture levels to\n",
    "provide to following matrix:\n",
    "\n"
   ]
  },
  {
   "cell_type": "markdown",
   "metadata": {
    "ein.tags": "worksheet-0",
    "slideshow": {
     "slide_type": "-"
    }
   },
   "source": [
    "# Unit Tests for the TCOD GUI"
   ]
  },
  {
   "cell_type": "markdown",
   "metadata": {
    "ein.tags": "worksheet-0",
    "slideshow": {
     "slide_type": "-"
    }
   },
   "source": [
    "Really need some good unit tests for window management, i.e. managing the window\n",
    "stack (`WindowStack`) and determining when windows are touching."
   ]
  },
  {
   "cell_type": "markdown",
   "metadata": {
    "ein.tags": "worksheet-0",
    "slideshow": {
     "slide_type": "-"
    }
   },
   "source": [
    "### Events"
   ]
  },
  {
   "cell_type": "markdown",
   "metadata": {
    "ein.tags": "worksheet-0",
    "slideshow": {
     "slide_type": "-"
    }
   },
   "source": [
    "### Colors"
   ]
  },
  {
   "cell_type": "code",
   "execution_count": 11,
   "metadata": {
    "autoscroll": false,
    "collapsed": false,
    "ein.hycell": false,
    "ein.tags": "worksheet-0",
    "slideshow": {
     "slide_type": "-"
    }
   },
   "outputs": [
    {
     "data": {
      "text/plain": [
       "(3, 2, 1)"
      ]
     },
     "execution_count": 11,
     "metadata": {},
     "output_type": "execute_result"
    }
   ],
   "source": [
    "import gui.color\n",
    "\n",
    "gui.color.decompose_color(0x010203)"
   ]
  },
  {
   "cell_type": "code",
   "execution_count": 12,
   "metadata": {
    "autoscroll": false,
    "collapsed": false,
    "ein.hycell": false,
    "ein.tags": "worksheet-0",
    "slideshow": {
     "slide_type": "-"
    }
   },
   "outputs": [
    {
     "data": {
      "text/plain": [
       "True"
      ]
     },
     "execution_count": 12,
     "metadata": {},
     "output_type": "execute_result"
    }
   ],
   "source": [
    "gui.color.compose_color(3, 2, 1) == 0x010203"
   ]
  },
  {
   "cell_type": "markdown",
   "metadata": {
    "ein.tags": "worksheet-0",
    "slideshow": {
     "slide_type": "-"
    }
   },
   "source": [
    "### Colored Strings"
   ]
  },
  {
   "cell_type": "code",
   "execution_count": 3,
   "metadata": {
    "autoscroll": false,
    "collapsed": false,
    "ein.hycell": false,
    "ein.tags": "worksheet-0",
    "slideshow": {
     "slide_type": "-"
    }
   },
   "outputs": [],
   "source": [
    "import gui.string\n",
    "import tcod\n",
    "\n",
    "t1 = \"Lisp is the {red}red{/} pill.\"\n",
    "t2 = \"G{'i}mli, son of Glo{'i}n.\"\n",
    "t3 = \"{fg:blue}Python{/} is also quite {bg:green}nice{/}.\"\n",
    "t4 = \"A test setting by foreground and background {fg:cyan,bg:grey}color{/}.\"\n",
    "t5 = \"{click:LABEL}Click me.{/}\""
   ]
  },
  {
   "cell_type": "code",
   "execution_count": 4,
   "metadata": {
    "autoscroll": false,
    "collapsed": false,
    "ein.hycell": false,
    "ein.tags": "worksheet-0",
    "slideshow": {
     "slide_type": "-"
    }
   },
   "outputs": [
    {
     "name": "stdout",
     "output_type": "stream",
     "text": [
      "Token(type='TEXT', value='A test setting by foreground and background ')\n",
      "Token(type='COLOR', value='{fg:cyan,bg:grey}')\n",
      "Token(type='TEXT', value='color')\n",
      "Token(type='MU_TERM', value='{/}')\n",
      "Token(type='TEXT', value='.')\n"
     ]
    }
   ],
   "source": [
    "for val in gui.string.next_token(t4, gui.string.master_pat):\n",
    "    print(val)"
   ]
  },
  {
   "cell_type": "code",
   "execution_count": 5,
   "metadata": {
    "autoscroll": false,
    "collapsed": false,
    "ein.hycell": false,
    "ein.tags": "worksheet-0",
    "slideshow": {
     "slide_type": "-"
    }
   },
   "outputs": [],
   "source": [
    "mu1 = '{fg:blue}Python{/}'"
   ]
  },
  {
   "cell_type": "code",
   "execution_count": 6,
   "metadata": {
    "autoscroll": false,
    "collapsed": false,
    "ein.hycell": false,
    "ein.tags": "worksheet-0",
    "slideshow": {
     "slide_type": "-"
    }
   },
   "outputs": [
    {
     "data": {
      "text/plain": [
       "'\\x06ÿ\\x01\\x01'"
      ]
     },
     "execution_count": 6,
     "metadata": {},
     "output_type": "execute_result"
    }
   ],
   "source": [
    "gui.string.color_to_control_string(255)"
   ]
  },
  {
   "cell_type": "code",
   "execution_count": 7,
   "metadata": {
    "autoscroll": false,
    "collapsed": false,
    "ein.hycell": false,
    "ein.tags": "worksheet-0",
    "slideshow": {
     "slide_type": "-"
    }
   },
   "outputs": [
    {
     "data": {
      "text/plain": [
       "'\\x06'"
      ]
     },
     "execution_count": 7,
     "metadata": {},
     "output_type": "execute_result"
    }
   ],
   "source": [
    "'{:c}'.format(tcod.COLCTRL_FORE_RGB)"
   ]
  },
  {
   "cell_type": "code",
   "execution_count": 8,
   "metadata": {
    "autoscroll": false,
    "collapsed": false,
    "ein.hycell": false,
    "ein.tags": "worksheet-0",
    "slideshow": {
     "slide_type": "-"
    }
   },
   "outputs": [
    {
     "data": {
      "text/plain": [
       "[Token(type='FG_COLOR', value='fg:'), Token(type='COLOR', value='blue')]"
      ]
     },
     "execution_count": 8,
     "metadata": {},
     "output_type": "execute_result"
    }
   ],
   "source": [
    "[tok for tok in gui.string.next_token('fg:blue', gui.string.color_pat)]"
   ]
  },
  {
   "cell_type": "code",
   "execution_count": 9,
   "metadata": {
    "autoscroll": false,
    "collapsed": false,
    "ein.hycell": false,
    "ein.tags": "worksheet-0",
    "slideshow": {
     "slide_type": "-"
    }
   },
   "outputs": [
    {
     "data": {
      "text/plain": [
       "'\\x06\\x01\\x01ÿPython\\x08 is also quite \\x07\\x01\\x80\\x01nice\\x08.'"
      ]
     },
     "execution_count": 9,
     "metadata": {},
     "output_type": "execute_result"
    }
   ],
   "source": [
    "gui.string.make_colored_string(t3)"
   ]
  },
  {
   "cell_type": "markdown",
   "metadata": {
    "ein.tags": "worksheet-0",
    "slideshow": {
     "slide_type": "-"
    }
   },
   "source": [
    "### Testing Low-level Interface"
   ]
  },
  {
   "cell_type": "code",
   "execution_count": 0,
   "metadata": {
    "autoscroll": false,
    "collapsed": false,
    "ein.hycell": false,
    "ein.tags": "worksheet-0",
    "slideshow": {
     "slide_type": "-"
    }
   },
   "outputs": [],
   "source": [
    "tcod.console_init_root(80, 60, b\"Root\")"
   ]
  },
  {
   "cell_type": "code",
   "execution_count": 2,
   "metadata": {
    "autoscroll": false,
    "collapsed": false,
    "ein.hycell": false,
    "ein.tags": "worksheet-0",
    "slideshow": {
     "slide_type": "-"
    }
   },
   "outputs": [
    {
     "ename": "NameError",
     "evalue": "name 'tcod' is not defined",
     "output_type": "error",
     "traceback": [
      "\u001b[1;31m---------------------------------------------------------------------------\u001b[0m",
      "\u001b[1;31mNameError\u001b[0m                                 Traceback (most recent call last)",
      "\u001b[1;32m<ipython-input-2-b433fa39cf9f>\u001b[0m in \u001b[0;36m<module>\u001b[1;34m()\u001b[0m\n\u001b[1;32m----> 1\u001b[1;33m \u001b[0mtcod\u001b[0m\u001b[1;33m\u001b[0m\u001b[0m\n\u001b[0m",
      "\u001b[1;31mNameError\u001b[0m: name 'tcod' is not defined"
     ]
    }
   ],
   "source": [
    "tcod"
   ]
  },
  {
   "cell_type": "code",
   "execution_count": 22,
   "metadata": {
    "autoscroll": false,
    "collapsed": false,
    "ein.hycell": false,
    "ein.tags": "worksheet-0",
    "slideshow": {
     "slide_type": "-"
    }
   },
   "outputs": [],
   "source": [
    "wg = WorldGenerator(40, 40)"
   ]
  },
  {
   "cell_type": "code",
   "execution_count": 35,
   "metadata": {
    "autoscroll": false,
    "collapsed": false,
    "ein.hycell": false,
    "ein.tags": "worksheet-0",
    "slideshow": {
     "slide_type": "-"
    }
   },
   "outputs": [
    {
     "data": {
      "text/plain": [
       "array(Heightmap(40, 40), dtype=object)"
      ]
     },
     "execution_count": 35,
     "metadata": {},
     "output_type": "execute_result"
    }
   ],
   "source": [
    "wg._hm"
   ]
  },
  {
   "cell_type": "code",
   "execution_count": 30,
   "metadata": {
    "autoscroll": false,
    "collapsed": false,
    "ein.hycell": false,
    "ein.tags": "worksheet-0",
    "slideshow": {
     "slide_type": "-"
    }
   },
   "outputs": [],
   "source": [
    "wg.build_base_map(30)"
   ]
  },
  {
   "cell_type": "code",
   "execution_count": 31,
   "metadata": {
    "autoscroll": false,
    "collapsed": false,
    "ein.hycell": false,
    "ein.tags": "worksheet-0",
    "slideshow": {
     "slide_type": "-"
    }
   },
   "outputs": [],
   "source": [
    "wg.compute_precipitation()"
   ]
  },
  {
   "cell_type": "code",
   "execution_count": 32,
   "metadata": {
    "autoscroll": false,
    "collapsed": false,
    "ein.hycell": false,
    "ein.tags": "worksheet-0",
    "slideshow": {
     "slide_type": "-"
    }
   },
   "outputs": [],
   "source": [
    "wg.erode_map()"
   ]
  },
  {
   "cell_type": "code",
   "execution_count": 33,
   "metadata": {
    "autoscroll": false,
    "collapsed": false,
    "ein.hycell": false,
    "ein.tags": "worksheet-0",
    "slideshow": {
     "slide_type": "-"
    }
   },
   "outputs": [
    {
     "ename": "AttributeError",
     "evalue": "'numpy.ndarray' object has no attribute 'kernel_transform'",
     "output_type": "error",
     "traceback": [
      "\u001b[0;31m\u001b[0m",
      "\u001b[0;31mAttributeError\u001b[0mTraceback (most recent call last)",
      "\u001b[0;32m<ipython-input-33-a9c4d8af7752>\u001b[0m in \u001b[0;36m<module>\u001b[0;34m\u001b[0m\n\u001b[0;32m----> 1\u001b[0;31m \u001b[0mwg\u001b[0m\u001b[0;34m.\u001b[0m\u001b[0msmooth_map\u001b[0m\u001b[0;34m(\u001b[0m\u001b[0;34m)\u001b[0m\u001b[0;34m\u001b[0m\u001b[0;34m\u001b[0m\u001b[0m\n\u001b[0m",
      "\u001b[0;32m~/Dropbox/Projects/Islands/worldgen.py\u001b[0m in \u001b[0;36msmooth_map\u001b[0;34m(self)\u001b[0m\n\u001b[1;32m    383\u001b[0m         \u001b[0msmooth_weight\u001b[0m \u001b[0;34m=\u001b[0m \u001b[0;34m[\u001b[0m\u001b[0;36m2\u001b[0m\u001b[0;34m,\u001b[0m \u001b[0;36m8\u001b[0m\u001b[0;34m,\u001b[0m \u001b[0;36m2\u001b[0m\u001b[0;34m,\u001b[0m \u001b[0;36m8\u001b[0m\u001b[0;34m,\u001b[0m \u001b[0;36m20\u001b[0m\u001b[0;34m,\u001b[0m \u001b[0;36m8\u001b[0m\u001b[0;34m,\u001b[0m \u001b[0;36m2\u001b[0m\u001b[0;34m,\u001b[0m \u001b[0;36m8\u001b[0m\u001b[0;34m,\u001b[0m \u001b[0;36m2\u001b[0m\u001b[0;34m]\u001b[0m\u001b[0;34m\u001b[0m\u001b[0;34m\u001b[0m\u001b[0m\n\u001b[1;32m    384\u001b[0m \u001b[0;34m\u001b[0m\u001b[0m\n\u001b[0;32m--> 385\u001b[0;31m         self._hm.kernel_transform(smooth_ks, smooth_dx, smooth_dy,\n\u001b[0m\u001b[1;32m    386\u001b[0m                                   smooth_weight, -1000, 1000)\n\u001b[1;32m    387\u001b[0m         self._hm2.kernel_transform(self._hm2, smooth_ks, smooth_dx, smooth_dy,\n",
      "\u001b[0;31mAttributeError\u001b[0m: 'numpy.ndarray' object has no attribute 'kernel_transform'"
     ]
    }
   ],
   "source": [
    "wg.smooth_map()"
   ]
  },
  {
   "cell_type": "code",
   "execution_count": 34,
   "metadata": {
    "autoscroll": false,
    "collapsed": false,
    "ein.hycell": false,
    "ein.tags": "worksheet-0",
    "slideshow": {
     "slide_type": "-"
    }
   },
   "outputs": [
    {
     "ename": "AttributeError",
     "evalue": "'numpy.ndarray' object has no attribute 'kernel_transform'",
     "output_type": "error",
     "traceback": [
      "\u001b[0;31m\u001b[0m",
      "\u001b[0;31mAttributeError\u001b[0mTraceback (most recent call last)",
      "\u001b[0;32m<ipython-input-34-46fb7634b386>\u001b[0m in \u001b[0;36m<module>\u001b[0;34m\u001b[0m\n\u001b[0;32m----> 1\u001b[0;31m \u001b[0mwg\u001b[0m\u001b[0;34m.\u001b[0m\u001b[0m_hm\u001b[0m\u001b[0;34m.\u001b[0m\u001b[0mkernel_transform\u001b[0m\u001b[0;34m(\u001b[0m\u001b[0;34m)\u001b[0m\u001b[0;34m\u001b[0m\u001b[0;34m\u001b[0m\u001b[0m\n\u001b[0m",
      "\u001b[0;31mAttributeError\u001b[0m: 'numpy.ndarray' object has no attribute 'kernel_transform'"
     ]
    }
   ],
   "source": [
    "wg._hm.kernel_transform()"
   ]
  },
  {
   "cell_type": "code",
   "execution_count": null,
   "metadata": {
    "autoscroll": false,
    "collapsed": false,
    "ein.hycell": false,
    "ein.tags": "worksheet-0",
    "slideshow": {
     "slide_type": "-"
    }
   },
   "outputs": [],
   "source": [
    "tcod.mouse_"
   ]
  }
 ],
 "metadata": {
  "kernelspec": {
   "argv": [
    "/home/millejoh/miniconda3/envs/islands/bin/python",
    "-m",
    "ipykernel_launcher",
    "-f",
    "{connection_file}"
   ],
   "display_name": "Islands (py37)",
   "env": null,
   "interrupt_mode": "signal",
   "language": "python",
   "metadata": null,
   "name": "islands"
  },
  "language_info": {
   "codemirror_mode": {
    "name": "ipython",
    "version": 3.0
   },
   "file_extension": ".py",
   "mimetype": "text/x-python",
   "name": "python",
   "nbconvert_exporter": "python",
   "pygments_lexer": "ipython3",
   "version": "3.4.3"
  },
  "name": "Islands_tcod.ipynb"
 },
 "nbformat": 4,
 "nbformat_minor": 0
}
