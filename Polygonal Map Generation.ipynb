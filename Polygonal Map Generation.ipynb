{
 "cells": [
  {
   "cell_type": "markdown",
   "metadata": {
    "ein.tags": [
     "worksheet-0"
    ]
   },
   "source": [
    "# Polygonal Map Generation using Voronoi Maps"
   ]
  },
  {
   "cell_type": "markdown",
   "metadata": {
    "ein.tags": [
     "worksheet-0"
    ]
   },
   "source": [
    "See Design.org for the research. Minimal description here as we develop the\n",
    "idea.\n",
    "\n",
    "First step is to recreate the [tutorial](http://docs.scipy.org/doc/scipy-0.14.0/reference/tutorial/spatial.html) on using SciPy's spatial data structures\n",
    "and algorithms."
   ]
  },
  {
   "cell_type": "code",
   "execution_count": 1,
   "metadata": {
    "autoscroll": "json-false",
    "collapsed": false,
    "ein.tags": [
     "worksheet-0"
    ]
   },
   "outputs": [],
   "source": [
    "from scipy.spatial import Voronoi\n",
    "import numpy as np\n",
    "import matplotlib.pyplot as plt\n",
    "\n",
    "%matplotlib inline"
   ]
  },
  {
   "cell_type": "code",
   "execution_count": 9,
   "metadata": {
    "autoscroll": "json-false",
    "collapsed": false,
    "ein.tags": [
     "worksheet-0"
    ]
   },
   "outputs": [],
   "source": [
    "points = np.array([[0., 0.], [0., 1.], [0., 2.], [1., 0.], [1., 1.], [1., 2.],\n",
    "                   [2., 0.], [2., 1.], [2., 2.]])"
   ]
  },
  {
   "cell_type": "code",
   "execution_count": 10,
   "metadata": {
    "autoscroll": "json-false",
    "collapsed": false,
    "ein.tags": [
     "worksheet-0"
    ]
   },
   "outputs": [
    {
     "data": {
      "image/png": "[encoded data removed]",
      "text/plain": [
       "<matplotlib.figure.Figure at 0x7fc499a76b70>"
      ]
     },
     "metadata": {},
     "output_type": "display_data"
    }
   ],
   "source": [
    "plt.plot(points[:,0], points[:,1], 'ko')\n",
    "plt.show()"
   ]
  },
  {
   "cell_type": "code",
   "execution_count": 4,
   "metadata": {
    "autoscroll": "json-false",
    "collapsed": false,
    "ein.tags": [
     "worksheet-0"
    ]
   },
   "outputs": [
    {
     "data": {
      "text/plain": [
       "array([[ 0.5,  0.5],\n",
       "       [ 1.5,  0.5],\n",
       "       [ 0.5,  1.5],\n",
       "       [ 1.5,  1.5]])"
      ]
     },
     "execution_count": 4,
     "metadata": {},
     "output_type": "execute_result"
    }
   ],
   "source": [
    "vor = Voronoi(points)\n",
    "vor.vertices"
   ]
  },
  {
   "cell_type": "markdown",
   "metadata": {
    "ein.tags": [
     "worksheet-0"
    ]
   },
   "source": [
    "The values in `vor.regions` denote the set of points from `vor.vertices` forming\n",
    "the Polygonal edges of the Voronoi regions. Negative numbers indicate points at\n",
    "infinity."
   ]
  },
  {
   "cell_type": "code",
   "execution_count": 5,
   "metadata": {
    "autoscroll": "json-false",
    "collapsed": false,
    "ein.tags": [
     "worksheet-0"
    ]
   },
   "outputs": [
    {
     "data": {
      "text/plain": [
       "[[],\n",
       " [-1, 0],\n",
       " [-1, 1],\n",
       " [1, -1, 0],\n",
       " [3, -1, 2],\n",
       " [-1, 3],\n",
       " [-1, 2],\n",
       " [3, 2, 0, 1],\n",
       " [2, -1, 0],\n",
       " [3, -1, 1]]"
      ]
     },
     "execution_count": 5,
     "metadata": {},
     "output_type": "execute_result"
    }
   ],
   "source": [
    "vor.regions"
   ]
  },
  {
   "cell_type": "markdown",
   "metadata": {
    "ein.tags": [
     "worksheet-0"
    ]
   },
   "source": [
    "`vor.ridge_vertices` indicate lines in 2-D that separate the regions. Voronoi\n",
    "ridges are perpendicular to lines drawn between the input points.\n",
    "`vor.ridge_points` are the two points each ridge corresponds to."
   ]
  },
  {
   "cell_type": "code",
   "execution_count": 6,
   "metadata": {
    "autoscroll": "json-false",
    "collapsed": false,
    "ein.tags": [
     "worksheet-0"
    ]
   },
   "outputs": [
    {
     "data": {
      "text/plain": [
       "array([[0, 1],\n",
       "       [0, 3],\n",
       "       [6, 3],\n",
       "       [6, 7],\n",
       "       [3, 4],\n",
       "       [5, 8],\n",
       "       [5, 2],\n",
       "       [5, 4],\n",
       "       [8, 7],\n",
       "       [2, 1],\n",
       "       [4, 1],\n",
       "       [4, 7]], dtype=int32)"
      ]
     },
     "execution_count": 6,
     "metadata": {},
     "output_type": "execute_result"
    }
   ],
   "source": [
    "vor.ridge_points"
   ]
  },
  {
   "cell_type": "code",
   "execution_count": 11,
   "metadata": {
    "autoscroll": "json-false",
    "collapsed": false,
    "ein.tags": [
     "worksheet-0"
    ]
   },
   "outputs": [
    {
     "data": {
      "image/png": "[encoded data removed]",
      "text/plain": [
       "<matplotlib.figure.Figure at 0x7fc4999c1e10>"
      ]
     },
     "metadata": {},
     "output_type": "display_data"
    }
   ],
   "source": [
    "plt.plot(points[:,0], points[:, 1], 'o')\n",
    "plt.plot(vor.vertices[:,0], vor.vertices[:,1], '*')\n",
    "plt.xlim(-1, 3)\n",
    "plt.ylim(-1, 3)\n",
    "# Draw edges while avoiding points at infinity\n",
    "for simplex in vor.ridge_vertices:\n",
    "    simplex = np.asarray(simplex)\n",
    "    if np.all(simplex >= 0):\n",
    "        plt.plot(vor.vertices[simplex, 0], vor.vertices[simplex, 1], 'k-')\n",
    "\n",
    "# Special care for the lines extending to infinity\n",
    "center = points.mean(axis=0)\n",
    "for pointidx, simplex in zip(vor.ridge_points, vor.ridge_vertices):\n",
    "    simplex = np.asarray(simplex)\n",
    "    if np.any(simplex < 0):\n",
    "        i = simplex[simplex >= 0][0]\n",
    "        t = points[pointidx[1]] - points[pointidx[0]] # tangent\n",
    "        t /= np.linalg.norm(t)\n",
    "        n = np.array([-t[1], t[0]]) # Normal\n",
    "        midpoint = points[pointidx].mean(axis=0)\n",
    "        far_point = vor.vertices[i] + np.sign(np.dot(midpoint - center, n)) * n * 100\n",
    "        plt.plot([vor.vertices[i,0], far_point[0]],\n",
    "                 [vor.vertices[i, 1], far_point[1]], 'k--')\n",
    "plt.show()"
   ]
  },
  {
   "cell_type": "code",
   "execution_count": 50,
   "metadata": {
    "autoscroll": "json-false",
    "collapsed": false,
    "ein.tags": [
     "worksheet-0"
    ]
   },
   "outputs": [],
   "source": [
    "def plot_voronoi(p, v):\n",
    "    plt.plot(p[:,0], p[:, 1], 'o')\n",
    "    plt.plot(v.vertices[:,0], v.vertices[:,1], '*')\n",
    "    plt.xlim(0, np.max(p))\n",
    "    plt.ylim(0, np.max(p))\n",
    "    # Draw edges while avoiding points at infinity\n",
    "    for simplex in v.ridge_vertices:\n",
    "        simplex = np.asarray(simplex)\n",
    "        if np.all(simplex >= 0):\n",
    "            plt.plot(v.vertices[simplex, 0], v.vertices[simplex, 1], 'k-')\n",
    "\n",
    "    # Special care for the lines extending to infinity\n",
    "    center = p.mean(axis=0)\n",
    "    for pointidx, simplex in zip(v.ridge_points, v.ridge_vertices):\n",
    "        simplex = np.asarray(simplex)\n",
    "        if np.any(simplex < 0):\n",
    "            i = simplex[simplex >= 0][0]\n",
    "            t = p[pointidx[1]] - p[pointidx[0]] # tangent\n",
    "            t /= np.linalg.norm(t)\n",
    "            n = np.array([-t[1], t[0]]) # Normal\n",
    "            midpoint = p[pointidx].mean(axis=0)\n",
    "            far_point = v.vertices[i] + np.sign(np.dot(midpoint - center, n)) * n * 100\n",
    "            plt.plot([v.vertices[i,0], far_point[0]],\n",
    "                     [v.vertices[i, 1], far_point[1]], 'k--')\n"
   ]
  },
  {
   "cell_type": "markdown",
   "metadata": {
    "ein.tags": [
     "worksheet-0"
    ]
   },
   "source": [
    "Now can we do the same with a set of random points?"
   ]
  },
  {
   "cell_type": "code",
   "execution_count": 60,
   "metadata": {
    "autoscroll": "json-false",
    "collapsed": true,
    "ein.tags": [
     "worksheet-0"
    ]
   },
   "outputs": [],
   "source": [
    "rand_points = np.random.random_sample(size=(100,2))*100\n",
    "#rand_points"
   ]
  },
  {
   "cell_type": "code",
   "execution_count": 61,
   "metadata": {
    "autoscroll": "json-false",
    "collapsed": false,
    "ein.tags": [
     "worksheet-0"
    ]
   },
   "outputs": [
    {
     "data": {
      "image/png": "[encoded data removed]",
      "text/plain": [
       "<matplotlib.figure.Figure at 0x7fc4980919e8>"
      ]
     },
     "metadata": {},
     "output_type": "display_data"
    }
   ],
   "source": [
    "plt.plot(rand_points[:,0], rand_points[:,1], 'ko')\n",
    "plt.show()"
   ]
  },
  {
   "cell_type": "code",
   "execution_count": 62,
   "metadata": {
    "autoscroll": "json-false",
    "collapsed": true,
    "ein.tags": [
     "worksheet-0"
    ]
   },
   "outputs": [],
   "source": [
    "vor_r = Voronoi(rand_points)\n",
    "#vor_r.vertices\n"
   ]
  },
  {
   "cell_type": "code",
   "execution_count": 63,
   "metadata": {
    "autoscroll": "json-false",
    "collapsed": false,
    "ein.tags": [
     "worksheet-0"
    ]
   },
   "outputs": [
    {
     "data": {
      "image/png": "[encoded data removed]",
      "text/plain": [
       "<matplotlib.figure.Figure at 0x7fc4937977b8>"
      ]
     },
     "metadata": {},
     "output_type": "display_data"
    }
   ],
   "source": [
    "plot_voronoi(rand_points, vor_r)\n"
   ]
  },
  {
   "cell_type": "markdown",
   "metadata": {
    "ein.tags": [
     "worksheet-0"
    ]
   },
   "source": [
    "As Amit notes, a strictly random distribution makes for irregular polygon shapes\n",
    "and sizes. What one wants is semi-random \"blue noise\", which Amit approximates\n",
    "using Lloyd Relaxation. Easiest way to do that in 2D is calculate the [centroid](https://en.wikipedia.org/wiki/Centroid#Centroid_of_polygon) of each polygon.\n"
   ]
  },
  {
   "cell_type": "code",
   "execution_count": 79,
   "metadata": {
    "autoscroll": "json-false",
    "collapsed": false,
    "ein.tags": [
     "worksheet-0"
    ]
   },
   "outputs": [],
   "source": [
    "def centroid(vertices):\n",
    "    x = vertices[:, 0]\n",
    "    y = vertices[:, 1]\n",
    "    c_x, c_y, a = 0., 0., 0.\n",
    "    for i in range(len(vertices)-1):\n",
    "        c_x += (x[i] + x[i+1])*(x[i]*y[i+1] - x[i+1]*y[i])\n",
    "        c_y += (y[i] + y[i+1])*(x[i]*y[i+1] - x[i+1]*y[1])\n",
    "        a += x[i]*y[i+1] - x[i+1]*y[i]\n",
    "    \n",
    "    return np.asarray([c_x/(3*a), c_y/(3*a)])"
   ]
  },
  {
   "cell_type": "code",
   "execution_count": 101,
   "metadata": {
    "autoscroll": "json-false",
    "collapsed": false,
    "ein.tags": [
     "worksheet-0"
    ]
   },
   "outputs": [
    {
     "data": {
      "text/plain": [
       "186"
      ]
     },
     "execution_count": 101,
     "metadata": {},
     "output_type": "execute_result"
    }
   ],
   "source": [
    "len(vor_r.vertices)"
   ]
  },
  {
   "cell_type": "code",
   "execution_count": 102,
   "metadata": {
    "autoscroll": "json-false",
    "collapsed": false,
    "ein.tags": [
     "worksheet-0"
    ]
   },
   "outputs": [],
   "source": [
    "polygon = np.asarray([vor_r.vertices[i] for i in vor_r.regions[0]])"
   ]
  },
  {
   "cell_type": "code",
   "execution_count": 103,
   "metadata": {
    "autoscroll": "json-false",
    "collapsed": false,
    "ein.tags": [
     "worksheet-0"
    ]
   },
   "outputs": [
    {
     "data": {
      "text/plain": [
       "array([[  89.68982438,   87.59497274],\n",
       "       [ 106.65252408,   88.63239391],\n",
       "       [  95.80753792,   15.6799995 ],\n",
       "       [  82.78669572,  163.37578307]])"
      ]
     },
     "execution_count": 103,
     "metadata": {},
     "output_type": "execute_result"
    }
   ],
   "source": [
    "polygon"
   ]
  },
  {
   "cell_type": "code",
   "execution_count": 104,
   "metadata": {
    "autoscroll": "json-false",
    "collapsed": false,
    "ein.tags": [
     "worksheet-0"
    ]
   },
   "outputs": [
    {
     "data": {
      "text/plain": [
       "array([ 49.3579211 ,  27.81584586])"
      ]
     },
     "execution_count": 104,
     "metadata": {},
     "output_type": "execute_result"
    }
   ],
   "source": [
    "centroid(polygon)"
   ]
  },
  {
   "cell_type": "code",
   "execution_count": 123,
   "metadata": {
    "autoscroll": "json-false",
    "collapsed": false,
    "ein.tags": [
     "worksheet-0"
    ]
   },
   "outputs": [],
   "source": [
    "def poly_verts(region):\n",
    "    return [vor_r.vertices[i] for i in region]"
   ]
  },
  {
   "cell_type": "code",
   "execution_count": 124,
   "metadata": {
    "autoscroll": "json-false",
    "collapsed": false,
    "ein.tags": [
     "worksheet-0"
    ]
   },
   "outputs": [
    {
     "ename": "IndexError",
     "evalue": "too many indices for array",
     "output_type": "error",
     "traceback": [
      "\u001b[1;31m---------------------------------------------------------------------------\u001b[0m",
      "\u001b[1;31mIndexError\u001b[0m                                Traceback (most recent call last)",
      "\u001b[1;32m<ipython-input-124-c9e2ef2742de>\u001b[0m in \u001b[0;36m<module>\u001b[1;34m()\u001b[0m\n\u001b[0;32m      1\u001b[0m \u001b[0mall_polys\u001b[0m \u001b[1;33m=\u001b[0m \u001b[1;33m[\u001b[0m\u001b[0mpoly_verts\u001b[0m\u001b[1;33m(\u001b[0m\u001b[0mr\u001b[0m\u001b[1;33m)\u001b[0m \u001b[1;32mfor\u001b[0m \u001b[0mr\u001b[0m \u001b[1;32min\u001b[0m \u001b[0mvor_r\u001b[0m\u001b[1;33m.\u001b[0m\u001b[0mregions\u001b[0m\u001b[1;33m]\u001b[0m\u001b[1;33m\u001b[0m\u001b[0m\n\u001b[0;32m      2\u001b[0m \u001b[1;33m\u001b[0m\u001b[0m\n\u001b[1;32m----> 3\u001b[1;33m \u001b[0mrelaxed\u001b[0m \u001b[1;33m=\u001b[0m \u001b[1;33m[\u001b[0m\u001b[0mcentroid\u001b[0m\u001b[1;33m(\u001b[0m\u001b[0mnp\u001b[0m\u001b[1;33m.\u001b[0m\u001b[0masarray\u001b[0m\u001b[1;33m(\u001b[0m\u001b[0mpoly\u001b[0m\u001b[1;33m)\u001b[0m\u001b[1;33m)\u001b[0m \u001b[1;32mfor\u001b[0m \u001b[0mpoly\u001b[0m \u001b[1;32min\u001b[0m \u001b[0mall_polys\u001b[0m\u001b[1;33m]\u001b[0m\u001b[1;33m\u001b[0m\u001b[0m\n\u001b[0m",
      "\u001b[1;32m<ipython-input-124-c9e2ef2742de>\u001b[0m in \u001b[0;36m<listcomp>\u001b[1;34m(.0)\u001b[0m\n\u001b[0;32m      1\u001b[0m \u001b[0mall_polys\u001b[0m \u001b[1;33m=\u001b[0m \u001b[1;33m[\u001b[0m\u001b[0mpoly_verts\u001b[0m\u001b[1;33m(\u001b[0m\u001b[0mr\u001b[0m\u001b[1;33m)\u001b[0m \u001b[1;32mfor\u001b[0m \u001b[0mr\u001b[0m \u001b[1;32min\u001b[0m \u001b[0mvor_r\u001b[0m\u001b[1;33m.\u001b[0m\u001b[0mregions\u001b[0m\u001b[1;33m]\u001b[0m\u001b[1;33m\u001b[0m\u001b[0m\n\u001b[0;32m      2\u001b[0m \u001b[1;33m\u001b[0m\u001b[0m\n\u001b[1;32m----> 3\u001b[1;33m \u001b[0mrelaxed\u001b[0m \u001b[1;33m=\u001b[0m \u001b[1;33m[\u001b[0m\u001b[0mcentroid\u001b[0m\u001b[1;33m(\u001b[0m\u001b[0mnp\u001b[0m\u001b[1;33m.\u001b[0m\u001b[0masarray\u001b[0m\u001b[1;33m(\u001b[0m\u001b[0mpoly\u001b[0m\u001b[1;33m)\u001b[0m\u001b[1;33m)\u001b[0m \u001b[1;32mfor\u001b[0m \u001b[0mpoly\u001b[0m \u001b[1;32min\u001b[0m \u001b[0mall_polys\u001b[0m\u001b[1;33m]\u001b[0m\u001b[1;33m\u001b[0m\u001b[0m\n\u001b[0m",
      "\u001b[1;32m<ipython-input-79-3be3f7b96820>\u001b[0m in \u001b[0;36mcentroid\u001b[1;34m(vertices)\u001b[0m\n\u001b[0;32m      1\u001b[0m \u001b[1;32mdef\u001b[0m \u001b[0mcentroid\u001b[0m\u001b[1;33m(\u001b[0m\u001b[0mvertices\u001b[0m\u001b[1;33m)\u001b[0m\u001b[1;33m:\u001b[0m\u001b[1;33m\u001b[0m\u001b[0m\n\u001b[1;32m----> 2\u001b[1;33m     \u001b[0mx\u001b[0m \u001b[1;33m=\u001b[0m \u001b[0mvertices\u001b[0m\u001b[1;33m[\u001b[0m\u001b[1;33m:\u001b[0m\u001b[1;33m,\u001b[0m \u001b[1;36m0\u001b[0m\u001b[1;33m]\u001b[0m\u001b[1;33m\u001b[0m\u001b[0m\n\u001b[0m\u001b[0;32m      3\u001b[0m     \u001b[0my\u001b[0m \u001b[1;33m=\u001b[0m \u001b[0mvertices\u001b[0m\u001b[1;33m[\u001b[0m\u001b[1;33m:\u001b[0m\u001b[1;33m,\u001b[0m \u001b[1;36m1\u001b[0m\u001b[1;33m]\u001b[0m\u001b[1;33m\u001b[0m\u001b[0m\n\u001b[0;32m      4\u001b[0m     \u001b[0mc_x\u001b[0m\u001b[1;33m,\u001b[0m \u001b[0mc_y\u001b[0m\u001b[1;33m,\u001b[0m \u001b[0ma\u001b[0m \u001b[1;33m=\u001b[0m \u001b[1;36m0.\u001b[0m\u001b[1;33m,\u001b[0m \u001b[1;36m0.\u001b[0m\u001b[1;33m,\u001b[0m \u001b[1;36m0.\u001b[0m\u001b[1;33m\u001b[0m\u001b[0m\n\u001b[0;32m      5\u001b[0m     \u001b[1;32mfor\u001b[0m \u001b[0mi\u001b[0m \u001b[1;32min\u001b[0m \u001b[0mrange\u001b[0m\u001b[1;33m(\u001b[0m\u001b[0mlen\u001b[0m\u001b[1;33m(\u001b[0m\u001b[0mvertices\u001b[0m\u001b[1;33m)\u001b[0m\u001b[1;33m-\u001b[0m\u001b[1;36m1\u001b[0m\u001b[1;33m)\u001b[0m\u001b[1;33m:\u001b[0m\u001b[1;33m\u001b[0m\u001b[0m\n",
      "\u001b[1;31mIndexError\u001b[0m: too many indices for array"
     ]
    }
   ],
   "source": [
    "all_polys = [poly_verts(r) for r in vor_r.regions]\n",
    "\n",
    "relaxed = [centroid(np.asarray(poly)) for poly in all_polys]"
   ]
  },
  {
   "cell_type": "code",
   "execution_count": 0,
   "metadata": {
    "autoscroll": "json-false",
    "collapsed": false,
    "ein.tags": [
     "worksheet-0"
    ]
   },
   "outputs": [],
   "source": []
  }
 ],
 "metadata": {
  "kernelspec": {
   "display_name": "Python 3",
   "name": "python3"
  },
  "name": "Polygonal Map Generation.ipynb"
 },
 "nbformat": 4,
 "nbformat_minor": 0
}
