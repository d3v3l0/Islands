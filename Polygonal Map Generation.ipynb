{
 "cells": [
  {
   "cell_type": "markdown",
   "metadata": {
    "ein.tags": [
     "worksheet-0"
    ],
    "slideshow": {
     "slide_type": "slide"
    }
   },
   "source": [
    "# Polygonal Map Generation using Voronoi Maps"
   ]
  },
  {
   "cell_type": "markdown",
   "metadata": {
    "ein.tags": [
     "worksheet-0"
    ],
    "slideshow": {
     "slide_type": "subslide"
    }
   },
   "source": [
    "See Design.org for the research. Minimal description here as we develop the\n",
    "  idea.\n",
    "\n",
    "First step is to recreate the [tutorial](http://docs.scipy.org/doc/scipy-0.14.0/reference/tutorial/spatial.html) on using SciPy's spatial data structures\n",
    "and algorithms."
   ]
  },
  {
   "cell_type": "code",
   "execution_count": 2,
   "metadata": {
    "autoscroll": "json-false",
    "collapsed": false,
    "ein.tags": [
     "worksheet-0"
    ],
    "slideshow": {
     "slide_type": "-"
    }
   },
   "outputs": [],
   "source": [
    "from scipy.spatial import Voronoi\n",
    "import numpy as np\n",
    "import matplotlib.pyplot as plt\n",
    "\n",
    "%matplotlib inline"
   ]
  },
  {
   "cell_type": "code",
   "execution_count": 3,
   "metadata": {
    "autoscroll": "json-false",
    "collapsed": false,
    "ein.tags": [
     "worksheet-0"
    ],
    "slideshow": {
     "slide_type": "-"
    }
   },
   "outputs": [],
   "source": [
    "points = np.array([[0., 0.], [0., 1.], [0., 2.], [1., 0.], [1., 1.], [1., 2.],\n",
    "                   [2., 0.], [2., 1.], [2., 2.]])"
   ]
  },
  {
   "cell_type": "code",
   "execution_count": 4,
   "metadata": {
    "autoscroll": "json-false",
    "collapsed": false,
    "ein.tags": [
     "worksheet-0"
    ],
    "slideshow": {
     "slide_type": "-"
    }
   },
   "outputs": [
    {
     "data": {
      "image/png": "[encoded data removed]",
      "text/plain": [
       "<matplotlib.figure.Figure at 0x17d5e9404a8>"
      ]
     },
     "metadata": {},
     "output_type": "display_data"
    }
   ],
   "source": [
    "plt.plot(points[:,0], points[:,1], 'ko')\n",
    "plt.show()"
   ]
  },
  {
   "cell_type": "code",
   "execution_count": 5,
   "metadata": {
    "autoscroll": "json-false",
    "collapsed": false,
    "ein.tags": [
     "worksheet-0"
    ],
    "slideshow": {
     "slide_type": "-"
    }
   },
   "outputs": [
    {
     "data": {
      "text/plain": [
       "array([[ 0.5,  0.5],\n       [ 1.5,  0.5],\n       [ 0.5,  1.5],\n       [ 1.5,  1.5]])"
      ]
     },
     "execution_count": 5,
     "metadata": {},
     "output_type": "execute_result"
    }
   ],
   "source": [
    "vor = Voronoi(points)\n",
    "vor.vertices"
   ]
  },
  {
   "cell_type": "markdown",
   "metadata": {
    "ein.tags": [
     "worksheet-0"
    ],
    "slideshow": {
     "slide_type": "-"
    }
   },
   "source": [
    "The values in `vor.regions` denote the set of points from `vor.vertices` forming\n",
    "the Polygonal edges of the Voronoi regions. Negative numbers indicate points at\n",
    "infinity."
   ]
  },
  {
   "cell_type": "code",
   "execution_count": 6,
   "metadata": {
    "autoscroll": "json-false",
    "collapsed": false,
    "ein.tags": [
     "worksheet-0"
    ],
    "slideshow": {
     "slide_type": "-"
    }
   },
   "outputs": [
    {
     "data": {
      "text/plain": [
       "[[],\n [-1, 0],\n [-1, 1],\n [1, -1, 0],\n [3, -1, 2],\n [-1, 3],\n [-1, 2],\n [3, 2, 0, 1],\n [2, -1, 0],\n [3, -1, 1]]"
      ]
     },
     "execution_count": 6,
     "metadata": {},
     "output_type": "execute_result"
    }
   ],
   "source": [
    "vor.regions"
   ]
  },
  {
   "cell_type": "markdown",
   "metadata": {
    "ein.tags": [
     "worksheet-0"
    ],
    "slideshow": {
     "slide_type": "-"
    }
   },
   "source": [
    "`vor.ridge_vertices` indicate lines in 2-D that separate the regions. Voronoi\n",
    "ridges are perpendicular to lines drawn between the input points.\n",
    "`vor.ridge_points` are the two points each ridge corresponds to."
   ]
  },
  {
   "cell_type": "code",
   "execution_count": 7,
   "metadata": {
    "autoscroll": "json-false",
    "collapsed": false,
    "ein.tags": [
     "worksheet-0"
    ],
    "slideshow": {
     "slide_type": "-"
    }
   },
   "outputs": [
    {
     "data": {
      "text/plain": [
       "array([[0, 1],\n       [0, 3],\n       [6, 3],\n       [6, 7],\n       [3, 4],\n       [5, 8],\n       [5, 2],\n       [5, 4],\n       [8, 7],\n       [2, 1],\n       [4, 1],\n       [4, 7]], dtype=int32)"
      ]
     },
     "execution_count": 7,
     "metadata": {},
     "output_type": "execute_result"
    }
   ],
   "source": [
    "vor.ridge_points"
   ]
  },
  {
   "cell_type": "code",
   "execution_count": 8,
   "metadata": {
    "autoscroll": "json-false",
    "collapsed": false,
    "ein.tags": [
     "worksheet-0"
    ],
    "slideshow": {
     "slide_type": "-"
    }
   },
   "outputs": [
    {
     "data": {
      "image/png": "[encoded data removed]",
      "text/plain": [
       "<matplotlib.figure.Figure at 0x17d5f05e048>"
      ]
     },
     "metadata": {},
     "output_type": "display_data"
    }
   ],
   "source": [
    "plt.plot(points[:,0], points[:, 1], 'o')\n",
    "plt.plot(vor.vertices[:,0], vor.vertices[:,1], '*')\n",
    "plt.xlim(-1, 3)\n",
    "plt.ylim(-1, 3)\n",
    "# Draw edges while avoiding points at infinity\n",
    "for simplex in vor.ridge_vertices:\n",
    "    simplex = np.asarray(simplex)\n",
    "    if np.all(simplex >= 0):\n",
    "        plt.plot(vor.vertices[simplex, 0], vor.vertices[simplex, 1], 'k-')\n",
    "\n",
    "# Special care for the lines extending to infinity\n",
    "center = points.mean(axis=0)\n",
    "for pointidx, simplex in zip(vor.ridge_points, vor.ridge_vertices):\n",
    "    simplex = np.asarray(simplex)\n",
    "    if np.any(simplex < 0):\n",
    "        i = simplex[simplex >= 0][0]\n",
    "        t = points[pointidx[1]] - points[pointidx[0]] # tangent\n",
    "        t /= np.linalg.norm(t)\n",
    "        n = np.array([-t[1], t[0]]) # Normal\n",
    "        midpoint = points[pointidx].mean(axis=0)\n",
    "        far_point = vor.vertices[i] + np.sign(np.dot(midpoint - center, n)) * n * 100\n",
    "        plt.plot([vor.vertices[i,0], far_point[0]],\n",
    "                 [vor.vertices[i, 1], far_point[1]], 'k--')\n",
    "plt.show()"
   ]
  },
  {
   "cell_type": "code",
   "execution_count": 9,
   "metadata": {
    "autoscroll": "json-false",
    "collapsed": false,
    "ein.tags": [
     "worksheet-0"
    ],
    "slideshow": {
     "slide_type": "-"
    }
   },
   "outputs": [],
   "source": [
    "def plot_voronoi(p, v):\n",
    "    plt.plot(p[:,0], p[:, 1], 'o')\n",
    "    plt.plot(v.vertices[:,0], v.vertices[:,1], '*')\n",
    "    plt.xlim(0, np.max(p))\n",
    "    plt.ylim(0, np.max(p))\n",
    "    # Draw edges while avoiding points at infinity\n",
    "    for simplex in v.ridge_vertices:\n",
    "        simplex = np.asarray(simplex)\n",
    "        if np.all(simplex >= 0):\n",
    "            plt.plot(v.vertices[simplex, 0], v.vertices[simplex, 1], 'k-')\n",
    "\n",
    "    # Special care for the lines extending to infinity\n",
    "    center = p.mean(axis=0)\n",
    "    for pointidx, simplex in zip(v.ridge_points, v.ridge_vertices):\n",
    "        simplex = np.asarray(simplex)\n",
    "        if np.any(simplex < 0):\n",
    "            i = simplex[simplex >= 0][0]\n",
    "            t = p[pointidx[1]] - p[pointidx[0]] # tangent\n",
    "            t /= np.linalg.norm(t)\n",
    "            n = np.array([-t[1], t[0]]) # Normal\n",
    "            midpoint = p[pointidx].mean(axis=0)\n",
    "            far_point = v.vertices[i] + np.sign(np.dot(midpoint - center, n)) * n * 100\n",
    "            plt.plot([v.vertices[i,0], far_point[0]],\n",
    "                     [v.vertices[i, 1], far_point[1]], 'k--')\n"
   ]
  },
  {
   "cell_type": "markdown",
   "metadata": {
    "ein.tags": [
     "worksheet-0"
    ],
    "slideshow": {
     "slide_type": "-"
    }
   },
   "source": [
    "Now can we do the same with a set of random points?"
   ]
  },
  {
   "cell_type": "code",
   "execution_count": 10,
   "metadata": {
    "autoscroll": "json-false",
    "collapsed": false,
    "ein.tags": [
     "worksheet-0"
    ],
    "slideshow": {
     "slide_type": "-"
    }
   },
   "outputs": [],
   "source": [
    "rand_points = np.random.random_sample(size=(100,2))*100\n",
    "#rand_points"
   ]
  },
  {
   "cell_type": "code",
   "execution_count": 11,
   "metadata": {
    "autoscroll": "json-false",
    "collapsed": false,
    "ein.tags": [
     "worksheet-0"
    ],
    "slideshow": {
     "slide_type": "-"
    }
   },
   "outputs": [
    {
     "data": {
      "image/png": "[encoded data removed]",
      "text/plain": [
       "<matplotlib.figure.Figure at 0x17d5f0e0cc0>"
      ]
     },
     "metadata": {},
     "output_type": "display_data"
    }
   ],
   "source": [
    "plt.plot(rand_points[:,0], rand_points[:,1], 'ko')\n",
    "plt.show()"
   ]
  },
  {
   "cell_type": "code",
   "execution_count": 12,
   "metadata": {
    "autoscroll": "json-false",
    "collapsed": false,
    "ein.tags": [
     "worksheet-0"
    ],
    "slideshow": {
     "slide_type": "fragment"
    }
   },
   "outputs": [],
   "source": [
    "vor_r = Voronoi(rand_points)\n",
    "#vor_r.vertices\n"
   ]
  },
  {
   "cell_type": "code",
   "execution_count": 13,
   "metadata": {
    "autoscroll": "json-false",
    "collapsed": false,
    "ein.tags": [
     "worksheet-0"
    ],
    "slideshow": {
     "slide_type": "-"
    }
   },
   "outputs": [
    {
     "data": {
      "image/png": "[encoded data removed]",
      "text/plain": [
       "<matplotlib.figure.Figure at 0x17d5f0635f8>"
      ]
     },
     "metadata": {},
     "output_type": "display_data"
    }
   ],
   "source": [
    "plot_voronoi(rand_points, vor_r)\n"
   ]
  },
  {
   "cell_type": "markdown",
   "metadata": {
    "ein.tags": [
     "worksheet-0"
    ],
    "slideshow": {
     "slide_type": "-"
    }
   },
   "source": [
    "As Amit notes, a strictly random distribution makes for irregular polygon shapes\n",
    "and sizes. What one wants is semi-random \"blue noise\", which Amit approximates\n",
    "using Lloyd Relaxation. Easiest way to do that in 2D is calculate the [centroid](https://en.wikipedia.org/wiki/Centroid#Centroid_of_polygon) of each polygon.\n"
   ]
  },
  {
   "cell_type": "code",
   "execution_count": 79,
   "metadata": {
    "autoscroll": "json-false",
    "collapsed": false,
    "ein.tags": [
     "worksheet-0"
    ],
    "slideshow": {
     "slide_type": "-"
    }
   },
   "outputs": [],
   "source": [
    "def centroid(vertices):\n",
    "    x = vertices[:, 0]\n",
    "    y = vertices[:, 1]\n",
    "    c_x, c_y, a = 0., 0., 0.\n",
    "    for i in range(len(vertices)-1):\n",
    "        c_x += (x[i] + x[i+1])*(x[i]*y[i+1] - x[i+1]*y[i])\n",
    "        c_y += (y[i] + y[i+1])*(x[i]*y[i+1] - x[i+1]*y[1])\n",
    "        a += x[i]*y[i+1] - x[i+1]*y[i]\n",
    "    \n",
    "    return np.asarray([c_x/(3*a), c_y/(3*a)])"
   ]
  },
  {
   "cell_type": "markdown",
   "metadata": {
    "ein.tags": [
     "worksheet-0"
    ],
    "slideshow": {
     "slide_type": "-"
    }
   },
   "source": [
    "This works, but not so well with infinite points (i.e. the -1 indices), so the\n",
    "solution is to calculate where the infinite lines intersection with the edges of\n",
    "the map.\n",
    "\n",
    "The below is borrowed from [stackoverflow](http://stackoverflow.com/questions/563198/how-do-you-detect-where-two-line-segments-intersect).\n",
    "\n"
   ]
  },
  {
   "cell_type": "code",
   "execution_count": 14,
   "metadata": {
    "autoscroll": "json-false",
    "collapsed": false,
    "ein.tags": [
     "worksheet-0"
    ],
    "slideshow": {
     "slide_type": "-"
    }
   },
   "outputs": [],
   "source": [
    "def line_line_intersection(p0, p1, p2, p3):\n",
    "    s1 = p1 - p0\n",
    "    s2 = p3 - p2\n",
    "    i = np.zeros([2])\n",
    "\n",
    "    s = (-s1[1]*(p0[0] - p2[0]) + s1[0] * (p0[1] - p2[1])) / (-s2[0] * s1[1] + s1[0] * s2[1])\n",
    "    t = (s2[0] * (p0[1] - p2[1]) - s2[1] * (p0[0] - p2[0])) / (-s2[0] * s1[1] + s1[0] * s2[1])\n",
    "\n",
    "    if ( 0 <= s <= 1) and (0 <= t <= 1):\n",
    "        return p0 + t*ss1\n",
    "    else:\n",
    "        return None\n",
    "        "
   ]
  },
  {
   "cell_type": "markdown",
   "metadata": {
    "ein.tags": [
     "worksheet-0"
    ],
    "slideshow": {
     "slide_type": "-"
    }
   },
   "source": [
    "We want to look at the voronoi ridges, i.e. what bounds the finit voronoi regions.\n",
    "\n",
    "`ridge_points` are in"
   ]
  },
  {
   "cell_type": "code",
   "execution_count": 0,
   "metadata": {
    "autoscroll": "json-false",
    "collapsed": false,
    "ein.tags": [
     "worksheet-0"
    ],
    "slideshow": {
     "slide_type": "-"
    }
   },
   "outputs": [],
   "source": [
    "def far_point_line(vor, idx):\n",
    "    ridge_points = vor.ridge_points[idx]\n",
    "    ridge_vertices = vor.ridge_vertices[idx]\n",
    "    p = vor.points\n",
    "    center = points.mean(axis=0)\n",
    "    ridge_vertices = np.asarray(ridge_vertices)\n",
    "    if np.any(ridge_vertices < 0):\n",
    "        i = ridge_vertices[ridge_vertices >= 0][0]\n",
    "        t = p[ridge_points[1]] - p[ridge_points[0]] # tangent\n",
    "        t /= np.linalg.norm(t)\n",
    "        n = np.array([-t[1], t[0]]) # Normal\n",
    "        midpoint = p[ridge_points].mean(axis=0)\n",
    "        far_point = vor.vertices[i] + np.sign(np.dot(midpoint - center, n)) * n * 100\n",
    "        return vor.vertices[i], far_point\n",
    "    else:\n",
    "        return None"
   ]
  },
  {
   "cell_type": "code",
   "execution_count": 17,
   "metadata": {
    "autoscroll": "json-false",
    "collapsed": false,
    "ein.tags": [
     "worksheet-0"
    ],
    "slideshow": {
     "slide_type": "-"
    }
   },
   "outputs": [
    {
     "data": {
      "text/plain": [
       "array([[54, 38],\n       [54, 71],\n       [54, 21],\n       [54,  0],\n       [54, 18],\n       [67, 92],\n       [67, 21],\n       [67, 18],\n       [24,  8],\n       [24, 74],\n       [24, 58],\n       [24,  4],\n       [24, 99],\n       [74,  9],\n       [74, 61],\n       [74,  8],\n       [74, 25],\n       [74, 86],\n       [74, 99],\n       [64, 92],\n       [64, 21],\n       [64, 91],\n       [64, 95],\n       [64, 11],\n       [71,  9],\n       [71, 21],\n       [71, 20],\n       [71, 11],\n       [21, 18],\n       [21, 92],\n       [21, 11],\n       [18,  0],\n       [18, 92],\n       [18, 79],\n       [18, 12],\n       [87, 79],\n       [87, 78],\n       [87, 90],\n       [87, 38],\n       [87,  0],\n       [38,  0],\n       [38, 16],\n       [38, 97],\n       [38, 90],\n       [ 0, 79],\n       [81, 94],\n       [81, 41],\n       [81, 86],\n       [81, 84],\n       [81, 70],\n       [81, 16],\n       [86, 41],\n       [86,  8],\n       [86, 70],\n       [70, 16],\n       [ 4, 58],\n       [ 4, 99],\n       [ 4, 30],\n       [ 4, 26],\n       [ 5, 20],\n       [ 5,  9],\n       [ 5, 46],\n       [20,  9],\n       [20, 11],\n       [20, 17],\n       [20, 40],\n       [20, 46],\n       [ 9, 61],\n       [ 9, 13],\n       [ 9, 46],\n       [44, 65],\n       [44,  1],\n       [44, 23],\n       [44, 76],\n       [45, 46],\n       [45, 13],\n       [45, 96],\n       [45,  1],\n       [46, 13],\n       [46, 40],\n       [46, 96],\n       [13, 61],\n       [13,  1],\n       [11, 95],\n       [11, 17],\n       [11, 73],\n       [97, 16],\n       [97, 90],\n       [97, 80],\n       [97, 32],\n       [97, 47],\n       [80, 32],\n       [80, 90],\n       [80, 14],\n       [55, 91],\n       [55, 92],\n       [55, 60],\n       [55, 42],\n       [55, 28],\n       [92, 91],\n       [92, 12],\n       [92, 28],\n       [12, 79],\n       [12, 28],\n       [ 3, 84],\n       [ 3, 94],\n       [ 3, 83],\n       [ 3, 16],\n       [ 3, 47],\n       [ 3, 32],\n       [84, 94],\n       [84, 16],\n       [94, 41],\n       [94, 33],\n       [94, 83],\n       [83, 33],\n       [83, 88],\n       [83,  2],\n       [83, 32],\n       [16, 47],\n       [47, 32],\n       [32,  2],\n       [32, 56],\n       [32, 27],\n       [32, 14],\n       [88,  2],\n       [88, 75],\n       [88, 33],\n       [88, 77],\n       [22,  2],\n       [22, 75],\n       [22, 39],\n       [22, 19],\n       [22, 60],\n       [60, 42],\n       [60, 91],\n       [60, 68],\n       [60, 19],\n       [60, 35],\n       [60,  2],\n       [34, 57],\n       [34, 37],\n       [34, 53],\n       [34, 66],\n       [34, 93],\n       [34, 76],\n       [34,  1],\n       [34, 61],\n       [66,  6],\n       [66, 61],\n       [66, 53],\n       [76, 23],\n       [76, 10],\n       [76, 93],\n       [76,  1],\n       [ 1, 61],\n       [ 1, 65],\n       [ 1, 96],\n       [61, 25],\n       [61,  6],\n       [57, 37],\n       [57, 93],\n       [57, 63],\n       [72, 68],\n       [72, 19],\n       [72, 10],\n       [72, 63],\n       [19, 68],\n       [19, 39],\n       [19, 63],\n       [93, 10],\n       [93, 63],\n       [10, 68],\n       [10, 23],\n       [10, 63],\n       [ 7, 30],\n       [ 7, 51],\n       [ 7, 58],\n       [ 7, 53],\n       [ 7, 31],\n       [30, 58],\n       [30, 26],\n       [30, 51],\n       [51, 53],\n       [51,  6],\n       [51, 26],\n       [43,  6],\n       [43, 25],\n       [43, 26],\n       [43, 99],\n       [ 6, 25],\n       [ 6, 53],\n       [ 6, 26],\n       [25, 99],\n       [26, 99],\n       [48, 23],\n       [48, 65],\n       [48, 68],\n       [48, 98],\n       [23, 65],\n       [23, 68],\n       [65, 96],\n       [65, 98],\n       [68, 91],\n       [68, 98],\n       [68, 29],\n       [91, 95],\n       [91, 29],\n       [96, 40],\n       [96, 49],\n       [96, 98],\n       [96, 36],\n       [49, 40],\n       [49, 73],\n       [49, 95],\n       [49, 36],\n       [89, 40],\n       [89, 17],\n       [89, 73],\n       [40, 17],\n       [40, 73],\n       [17, 73],\n       [73, 95],\n       [50, 27],\n       [50, 78],\n       [50, 14],\n       [50, 90],\n       [27, 79],\n       [27, 78],\n       [27, 56],\n       [27, 14],\n       [78, 79],\n       [78, 90],\n       [14, 90],\n       [ 8, 41],\n       [ 8, 58],\n       [ 8, 82],\n       [ 8, 15],\n       [ 8, 62],\n       [58, 31],\n       [58, 62],\n       [59, 63],\n       [59, 37],\n       [59, 39],\n       [59, 53],\n       [59, 31],\n       [59, 75],\n       [59, 62],\n       [63, 37],\n       [63, 39],\n       [37, 53],\n       [39, 75],\n       [53, 31],\n       [31, 62],\n       [75,  2],\n       [75, 77],\n       [75, 62],\n       [69, 56],\n       [69,  2],\n       [69, 35],\n       [69, 42],\n       [69, 28],\n       [69, 79],\n       [56,  2],\n       [56, 79],\n       [ 2, 35],\n       [35, 42],\n       [42, 28],\n       [28, 79],\n       [85, 29],\n       [85, 98],\n       [85, 36],\n       [85, 95],\n       [29, 98],\n       [29, 95],\n       [98, 36],\n       [36, 95],\n       [52, 62],\n       [52, 15],\n       [52, 77],\n       [52, 33],\n       [52, 41],\n       [52, 82],\n       [62, 77],\n       [62, 15],\n       [15, 82],\n       [77, 33],\n       [33, 41],\n       [41, 82]], dtype=int32)"
      ]
     },
     "execution_count": 17,
     "metadata": {},
     "output_type": "execute_result"
    }
   ],
   "source": [
    "vor_r.ridge_points"
   ]
  },
  {
   "cell_type": "code",
   "execution_count": 13,
   "metadata": {
    "autoscroll": "json-false",
    "collapsed": false,
    "ein.tags": [
     "worksheet-0"
    ],
    "slideshow": {
     "slide_type": "-"
    }
   },
   "outputs": [
    {
     "data": {
      "text/plain": [
       "190"
      ]
     },
     "execution_count": 13,
     "metadata": {},
     "output_type": "execute_result"
    }
   ],
   "source": [
    "len(vor_r.vertices)"
   ]
  },
  {
   "cell_type": "code",
   "execution_count": 102,
   "metadata": {
    "autoscroll": "json-false",
    "collapsed": false,
    "ein.tags": [
     "worksheet-0"
    ],
    "slideshow": {
     "slide_type": "-"
    }
   },
   "outputs": [],
   "source": [
    "polygon = np.asarray([vor_r.vertices[i] for i in vor_r.regions[0]])"
   ]
  },
  {
   "cell_type": "code",
   "execution_count": 103,
   "metadata": {
    "autoscroll": "json-false",
    "collapsed": false,
    "ein.tags": [
     "worksheet-0"
    ],
    "slideshow": {
     "slide_type": "-"
    }
   },
   "outputs": [
    {
     "data": {
      "text/plain": [
       "array([[  89.68982438,   87.59497274],\n       [ 106.65252408,   88.63239391],\n       [  95.80753792,   15.6799995 ],\n       [  82.78669572,  163.37578307]])"
      ]
     },
     "execution_count": 103,
     "metadata": {},
     "output_type": "execute_result"
    }
   ],
   "source": [
    "polygon"
   ]
  },
  {
   "cell_type": "code",
   "execution_count": 104,
   "metadata": {
    "autoscroll": "json-false",
    "collapsed": false,
    "ein.tags": [
     "worksheet-0"
    ],
    "slideshow": {
     "slide_type": "-"
    }
   },
   "outputs": [
    {
     "data": {
      "text/plain": [
       "array([ 49.3579211 ,  27.81584586])"
      ]
     },
     "execution_count": 104,
     "metadata": {},
     "output_type": "execute_result"
    }
   ],
   "source": [
    "centroid(polygon)"
   ]
  },
  {
   "cell_type": "code",
   "execution_count": 123,
   "metadata": {
    "autoscroll": "json-false",
    "collapsed": false,
    "ein.tags": [
     "worksheet-0"
    ],
    "slideshow": {
     "slide_type": "-"
    }
   },
   "outputs": [],
   "source": [
    "def poly_verts(region):\n",
    "    return [vor_r.vertices[i] for i in region]"
   ]
  },
  {
   "cell_type": "code",
   "execution_count": 124,
   "metadata": {
    "autoscroll": "json-false",
    "collapsed": false,
    "ein.tags": [
     "worksheet-0"
    ],
    "slideshow": {
     "slide_type": "-"
    }
   },
   "outputs": [
    {
     "ename": "IndexError",
     "evalue": "too many indices for array",
     "output_type": "error",
     "traceback": [
      "\u001b[1;31m---------------------------------------------------------------------------\u001b[0m",
      "\u001b[1;31mIndexError\u001b[0m                                Traceback (most recent call last)",
      "\u001b[1;32m<ipython-input-124-c9e2ef2742de>\u001b[0m in \u001b[0;36m<module>\u001b[1;34m()\u001b[0m\n\u001b[0;32m      1\u001b[0m \u001b[0mall_polys\u001b[0m \u001b[1;33m=\u001b[0m \u001b[1;33m[\u001b[0m\u001b[0mpoly_verts\u001b[0m\u001b[1;33m(\u001b[0m\u001b[0mr\u001b[0m\u001b[1;33m)\u001b[0m \u001b[1;32mfor\u001b[0m \u001b[0mr\u001b[0m \u001b[1;32min\u001b[0m \u001b[0mvor_r\u001b[0m\u001b[1;33m.\u001b[0m\u001b[0mregions\u001b[0m\u001b[1;33m]\u001b[0m\u001b[1;33m\u001b[0m\u001b[0m\n\u001b[0;32m      2\u001b[0m \u001b[1;33m\u001b[0m\u001b[0m\n\u001b[1;32m----> 3\u001b[1;33m \u001b[0mrelaxed\u001b[0m \u001b[1;33m=\u001b[0m \u001b[1;33m[\u001b[0m\u001b[0mcentroid\u001b[0m\u001b[1;33m(\u001b[0m\u001b[0mnp\u001b[0m\u001b[1;33m.\u001b[0m\u001b[0masarray\u001b[0m\u001b[1;33m(\u001b[0m\u001b[0mpoly\u001b[0m\u001b[1;33m)\u001b[0m\u001b[1;33m)\u001b[0m \u001b[1;32mfor\u001b[0m \u001b[0mpoly\u001b[0m \u001b[1;32min\u001b[0m \u001b[0mall_polys\u001b[0m\u001b[1;33m]\u001b[0m\u001b[1;33m\u001b[0m\u001b[0m\n\u001b[0m",
      "\u001b[1;32m<ipython-input-124-c9e2ef2742de>\u001b[0m in \u001b[0;36m<listcomp>\u001b[1;34m(.0)\u001b[0m\n\u001b[0;32m      1\u001b[0m \u001b[0mall_polys\u001b[0m \u001b[1;33m=\u001b[0m \u001b[1;33m[\u001b[0m\u001b[0mpoly_verts\u001b[0m\u001b[1;33m(\u001b[0m\u001b[0mr\u001b[0m\u001b[1;33m)\u001b[0m \u001b[1;32mfor\u001b[0m \u001b[0mr\u001b[0m \u001b[1;32min\u001b[0m \u001b[0mvor_r\u001b[0m\u001b[1;33m.\u001b[0m\u001b[0mregions\u001b[0m\u001b[1;33m]\u001b[0m\u001b[1;33m\u001b[0m\u001b[0m\n\u001b[0;32m      2\u001b[0m \u001b[1;33m\u001b[0m\u001b[0m\n\u001b[1;32m----> 3\u001b[1;33m \u001b[0mrelaxed\u001b[0m \u001b[1;33m=\u001b[0m \u001b[1;33m[\u001b[0m\u001b[0mcentroid\u001b[0m\u001b[1;33m(\u001b[0m\u001b[0mnp\u001b[0m\u001b[1;33m.\u001b[0m\u001b[0masarray\u001b[0m\u001b[1;33m(\u001b[0m\u001b[0mpoly\u001b[0m\u001b[1;33m)\u001b[0m\u001b[1;33m)\u001b[0m \u001b[1;32mfor\u001b[0m \u001b[0mpoly\u001b[0m \u001b[1;32min\u001b[0m \u001b[0mall_polys\u001b[0m\u001b[1;33m]\u001b[0m\u001b[1;33m\u001b[0m\u001b[0m\n\u001b[0m",
      "\u001b[1;32m<ipython-input-79-3be3f7b96820>\u001b[0m in \u001b[0;36mcentroid\u001b[1;34m(vertices)\u001b[0m\n\u001b[0;32m      1\u001b[0m \u001b[1;32mdef\u001b[0m \u001b[0mcentroid\u001b[0m\u001b[1;33m(\u001b[0m\u001b[0mvertices\u001b[0m\u001b[1;33m)\u001b[0m\u001b[1;33m:\u001b[0m\u001b[1;33m\u001b[0m\u001b[0m\n\u001b[1;32m----> 2\u001b[1;33m     \u001b[0mx\u001b[0m \u001b[1;33m=\u001b[0m \u001b[0mvertices\u001b[0m\u001b[1;33m[\u001b[0m\u001b[1;33m:\u001b[0m\u001b[1;33m,\u001b[0m \u001b[1;36m0\u001b[0m\u001b[1;33m]\u001b[0m\u001b[1;33m\u001b[0m\u001b[0m\n\u001b[0m\u001b[0;32m      3\u001b[0m     \u001b[0my\u001b[0m \u001b[1;33m=\u001b[0m \u001b[0mvertices\u001b[0m\u001b[1;33m[\u001b[0m\u001b[1;33m:\u001b[0m\u001b[1;33m,\u001b[0m \u001b[1;36m1\u001b[0m\u001b[1;33m]\u001b[0m\u001b[1;33m\u001b[0m\u001b[0m\n\u001b[0;32m      4\u001b[0m     \u001b[0mc_x\u001b[0m\u001b[1;33m,\u001b[0m \u001b[0mc_y\u001b[0m\u001b[1;33m,\u001b[0m \u001b[0ma\u001b[0m \u001b[1;33m=\u001b[0m \u001b[1;36m0.\u001b[0m\u001b[1;33m,\u001b[0m \u001b[1;36m0.\u001b[0m\u001b[1;33m,\u001b[0m \u001b[1;36m0.\u001b[0m\u001b[1;33m\u001b[0m\u001b[0m\n\u001b[0;32m      5\u001b[0m     \u001b[1;32mfor\u001b[0m \u001b[0mi\u001b[0m \u001b[1;32min\u001b[0m \u001b[0mrange\u001b[0m\u001b[1;33m(\u001b[0m\u001b[0mlen\u001b[0m\u001b[1;33m(\u001b[0m\u001b[0mvertices\u001b[0m\u001b[1;33m)\u001b[0m\u001b[1;33m-\u001b[0m\u001b[1;36m1\u001b[0m\u001b[1;33m)\u001b[0m\u001b[1;33m:\u001b[0m\u001b[1;33m\u001b[0m\u001b[0m\n",
      "\u001b[1;31mIndexError\u001b[0m: too many indices for array"
     ]
    }
   ],
   "source": [
    "all_polys = [poly_verts(r) for r in vor_r.regions]\n",
    "\n",
    "relaxed = [centroid(np.asarray(poly)) for poly in all_polys]"
   ]
  },
  {
   "cell_type": "code",
   "execution_count": 0,
   "metadata": {
    "autoscroll": "json-false",
    "collapsed": false,
    "ein.tags": [
     "worksheet-0"
    ],
    "slideshow": {
     "slide_type": "-"
    }
   },
   "outputs": [],
   "source": []
  }
 ],
 "metadata": {
  "kernelspec": {
   "display_name": "Python 3",
   "name": "python3"
  },
  "name": "Polygonal Map Generation.ipynb"
 },
 "nbformat": 4,
 "nbformat_minor": 0
}
