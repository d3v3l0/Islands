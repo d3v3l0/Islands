{
 "cells": [
  {
   "cell_type": "markdown",
   "metadata": {
    "ein.tags": "worksheet-0",
    "slideshow": {
     "slide_type": "slide"
    }
   },
   "source": [
    "# Polygonal Map Generation using Voronoi Maps"
   ]
  },
  {
   "cell_type": "markdown",
   "metadata": {
    "ein.tags": "worksheet-0",
    "slideshow": {
     "slide_type": "subslide"
    }
   },
   "source": [
    "See Design.org for the research. Minimal description here as we develop the\n",
    "idea.\n",
    "\n",
    "First step is to recreate the [tutorial](http://docs.scipy.org/doc/scipy-0.14.0/reference/tutorial/spatial.html) on using SciPy's spatial data structures\n",
    "and algorithms.\n"
   ]
  },
  {
   "cell_type": "code",
   "execution_count": 8,
   "metadata": {
    "autoscroll": false,
    "collapsed": false,
    "ein.hycell": false,
    "ein.tags": "worksheet-0",
    "execute-time": [
     "2018-11-02T21:24:58.234777Z",
     "2018-11-02T21:25:01.737543Z"
    ],
    "slideshow": {
     "slide_type": "-"
    }
   },
   "outputs": [],
   "source": [
    "from scipy.spatial import Voronoi, voronoi_plot_2d, KDTree\n",
    "import numpy as np\n",
    "import matplotlib.pyplot as plt\n",
    "import attr\n",
    "\n",
    "%matplotlib inline\n",
    "plt.rcParams['figure.figsize'] = [10.0, 6.0]\n",
    "\n",
    "%config InlineBackend.figure_format = 'svg'\n",
    "\n",
    "# Do some stuff"
   ]
  },
  {
   "cell_type": "code",
   "execution_count": 3,
   "metadata": {
    "autoscroll": false,
    "collapsed": false,
    "ein.hycell": false,
    "ein.tags": "worksheet-0",
    "execute-time": [
     "2018-11-02T21:26:36.780196Z",
     "2018-11-02T21:26:37.026474Z"
    ],
    "slideshow": {
     "slide_type": "-"
    }
   },
   "outputs": [
    {
     "ename": "ImportError",
     "evalue": "DLL load failed: The specified procedure could not be found.",
     "output_type": "error",
     "traceback": [
      "\u001b[1;31m---------------------------------------------------------------------------\u001b[0m",
      "\u001b[1;31mImportError\u001b[0m                               Traceback (most recent call last)",
      "\u001b[1;32m<ipython-input-3-6e8866487a77>\u001b[0m in \u001b[0;36m<module>\u001b[1;34m\u001b[0m\n\u001b[1;32m----> 1\u001b[1;33m \u001b[1;32mimport\u001b[0m \u001b[0mtcod\u001b[0m\u001b[1;33m\u001b[0m\u001b[0m\n\u001b[0m",
      "\u001b[1;32m~\\Miniconda3\\envs\\islands_py36\\lib\\site-packages\\tcod\\__init__.py\u001b[0m in \u001b[0;36m<module>\u001b[1;34m\u001b[0m\n\u001b[0;32m     22\u001b[0m \u001b[1;32mimport\u001b[0m \u001b[0mwarnings\u001b[0m\u001b[1;33m\u001b[0m\u001b[0m\n\u001b[0;32m     23\u001b[0m \u001b[1;33m\u001b[0m\u001b[0m\n\u001b[1;32m---> 24\u001b[1;33m \u001b[1;32mfrom\u001b[0m \u001b[0mtcod\u001b[0m\u001b[1;33m.\u001b[0m\u001b[0mlibtcodpy\u001b[0m \u001b[1;32mimport\u001b[0m \u001b[1;33m*\u001b[0m\u001b[1;33m\u001b[0m\u001b[0m\n\u001b[0m\u001b[0;32m     25\u001b[0m \u001b[1;32mtry\u001b[0m\u001b[1;33m:\u001b[0m\u001b[1;33m\u001b[0m\u001b[0m\n\u001b[0;32m     26\u001b[0m     \u001b[1;32mfrom\u001b[0m \u001b[0mtcod\u001b[0m\u001b[1;33m.\u001b[0m\u001b[0mversion\u001b[0m \u001b[1;32mimport\u001b[0m \u001b[0m__version__\u001b[0m\u001b[1;33m\u001b[0m\u001b[0m\n",
      "\u001b[1;32m~\\Miniconda3\\envs\\islands_py36\\lib\\site-packages\\tcod\\libtcodpy.py\u001b[0m in \u001b[0;36m<module>\u001b[1;34m\u001b[0m\n\u001b[0;32m     14\u001b[0m \u001b[1;32mimport\u001b[0m \u001b[0mnumpy\u001b[0m \u001b[1;32mas\u001b[0m \u001b[0mnp\u001b[0m\u001b[1;33m\u001b[0m\u001b[0m\n\u001b[0;32m     15\u001b[0m \u001b[1;33m\u001b[0m\u001b[0m\n\u001b[1;32m---> 16\u001b[1;33m \u001b[1;32mfrom\u001b[0m \u001b[0mtcod\u001b[0m\u001b[1;33m.\u001b[0m\u001b[0mlibtcod\u001b[0m \u001b[1;32mimport\u001b[0m \u001b[1;33m*\u001b[0m\u001b[1;33m\u001b[0m\u001b[0m\n\u001b[0m\u001b[0;32m     17\u001b[0m \u001b[1;33m\u001b[0m\u001b[0m\n\u001b[0;32m     18\u001b[0m \u001b[1;32mfrom\u001b[0m \u001b[0mtcod\u001b[0m\u001b[1;33m.\u001b[0m\u001b[0m_internal\u001b[0m \u001b[1;32mimport\u001b[0m \u001b[0mdeprecate\u001b[0m\u001b[1;33m\u001b[0m\u001b[0m\n",
      "\u001b[1;32m~\\Miniconda3\\envs\\islands_py36\\lib\\site-packages\\tcod\\libtcod.py\u001b[0m in \u001b[0;36m<module>\u001b[1;34m\u001b[0m\n\u001b[0;32m     59\u001b[0m     \u001b[0mlib\u001b[0m \u001b[1;33m=\u001b[0m \u001b[0mffi\u001b[0m \u001b[1;33m=\u001b[0m \u001b[0m_Mock\u001b[0m\u001b[1;33m(\u001b[0m\u001b[1;33m)\u001b[0m\u001b[1;33m\u001b[0m\u001b[0m\n\u001b[0;32m     60\u001b[0m \u001b[1;32melse\u001b[0m\u001b[1;33m:\u001b[0m\u001b[1;33m\u001b[0m\u001b[0m\n\u001b[1;32m---> 61\u001b[1;33m     \u001b[1;32mfrom\u001b[0m \u001b[0mtcod\u001b[0m\u001b[1;33m.\u001b[0m\u001b[0m_libtcod\u001b[0m \u001b[1;32mimport\u001b[0m \u001b[0mlib\u001b[0m\u001b[1;33m,\u001b[0m \u001b[0mffi\u001b[0m\u001b[1;33m\u001b[0m\u001b[0m\n\u001b[0m\u001b[0;32m     62\u001b[0m \u001b[1;33m\u001b[0m\u001b[0m\n\u001b[0;32m     63\u001b[0m \u001b[1;32mfrom\u001b[0m \u001b[0mtcod\u001b[0m\u001b[1;33m.\u001b[0m\u001b[0mconstants\u001b[0m \u001b[1;32mimport\u001b[0m \u001b[1;33m*\u001b[0m\u001b[1;33m\u001b[0m\u001b[0m\n",
      "\u001b[1;31mImportError\u001b[0m: DLL load failed: The specified procedure could not be found."
     ]
    }
   ],
   "source": [
    "import tcod"
   ]
  },
  {
   "cell_type": "code",
   "execution_count": 4,
   "metadata": {
    "autoscroll": false,
    "collapsed": false,
    "ein.hycell": false,
    "ein.tags": "worksheet-0",
    "execute-time": [
     "2018-11-02T21:28:08.761787Z",
     "2018-11-02T21:28:08.793061Z"
    ],
    "slideshow": {
     "slide_type": "-"
    }
   },
   "outputs": [],
   "source": [
    "points = np.array([[0., 0.], [0., 1.], [0., 2.], [1., 0.], [1., 1.], [1., 2.],\n",
    "                   [2., 0.], [2., 1.], [2., 2.]])\n"
   ]
  },
  {
   "cell_type": "code",
   "execution_count": 5,
   "metadata": {
    "autoscroll": false,
    "collapsed": false,
    "ein.hycell": false,
    "ein.tags": "worksheet-0",
    "execute-time": [
     "2018-11-02T21:28:21.107671Z",
     "2018-11-02T21:28:21.557402Z"
    ],
    "slideshow": {
     "slide_type": "-"
    }
   },
   "outputs": [
    {
     "data": {
      "image/svg": "<?xml version=\"1.0\" encoding=\"utf-8\" standalone=\"no\"?>\r\n<!DOCTYPE svg PUBLIC \"-//W3C//DTD SVG 1.1//EN\"\r\n  \"http://www.w3.org/Graphics/SVG/1.1/DTD/svg11.dtd\">\r\n<!-- Created with matplotlib (https://matplotlib.org/) -->\r\n<svg height=\"252.018125pt\" version=\"1.1\" viewBox=\"0 0 381.965625 252.018125\" width=\"381.965625pt\" xmlns=\"http://www.w3.org/2000/svg\" xmlns:xlink=\"http://www.w3.org/1999/xlink\">\r\n <defs>\r\n  <style type=\"text/css\">\r\n*{stroke-linecap:butt;stroke-linejoin:round;}\r\n  </style>\r\n </defs>\r\n <g id=\"figure_1\">\r\n  <g id=\"patch_1\">\r\n   <path d=\"M 0 252.018125 \r\nL 381.965625 252.018125 \r\nL 381.965625 0 \r\nL 0 0 \r\nz\r\n\" style=\"fill:none;\"/>\r\n  </g>\r\n  <g id=\"axes_1\">\r\n   <g id=\"patch_2\">\r\n    <path d=\"M 36.465625 228.14 \r\nL 371.265625 228.14 \r\nL 371.265625 10.7 \r\nL 36.465625 10.7 \r\nz\r\n\" style=\"fill:#ffffff;\"/>\r\n   </g>\r\n   <g id=\"matplotlib.axis_1\">\r\n    <g id=\"xtick_1\">\r\n     <g id=\"line2d_1\">\r\n      <defs>\r\n       <path d=\"M 0 0 \r\nL 0 3.5 \r\n\" id=\"m4a0c0a90e5\" style=\"stroke:#000000;stroke-width:0.8;\"/>\r\n      </defs>\r\n      <g>\r\n       <use style=\"stroke:#000000;stroke-width:0.8;\" x=\"51.683807\" xlink:href=\"#m4a0c0a90e5\" y=\"228.14\"/>\r\n      </g>\r\n     </g>\r\n     <g id=\"text_1\">\r\n      <!-- 0.00 -->\r\n      <defs>\r\n       <path d=\"M 31.78125 66.40625 \r\nQ 24.171875 66.40625 20.328125 58.90625 \r\nQ 16.5 51.421875 16.5 36.375 \r\nQ 16.5 21.390625 20.328125 13.890625 \r\nQ 24.171875 6.390625 31.78125 6.390625 \r\nQ 39.453125 6.390625 43.28125 13.890625 \r\nQ 47.125 21.390625 47.125 36.375 \r\nQ 47.125 51.421875 43.28125 58.90625 \r\nQ 39.453125 66.40625 31.78125 66.40625 \r\nz\r\nM 31.78125 74.21875 \r\nQ 44.046875 74.21875 50.515625 64.515625 \r\nQ 56.984375 54.828125 56.984375 36.375 \r\nQ 56.984375 17.96875 50.515625 8.265625 \r\nQ 44.046875 -1.421875 31.78125 -1.421875 \r\nQ 19.53125 -1.421875 13.0625 8.265625 \r\nQ 6.59375 17.96875 6.59375 36.375 \r\nQ 6.59375 54.828125 13.0625 64.515625 \r\nQ 19.53125 74.21875 31.78125 74.21875 \r\nz\r\n\" id=\"DejaVuSans-48\"/>\r\n       <path d=\"M 10.6875 12.40625 \r\nL 21 12.40625 \r\nL 21 0 \r\nL 10.6875 0 \r\nz\r\n\" id=\"DejaVuSans-46\"/>\r\n      </defs>\r\n      <g transform=\"translate(40.550994 242.738437)scale(0.1 -0.1)\">\r\n       <use xlink:href=\"#DejaVuSans-48\"/>\r\n       <use x=\"63.623047\" xlink:href=\"#DejaVuSans-46\"/>\r\n       <use x=\"95.410156\" xlink:href=\"#DejaVuSans-48\"/>\r\n       <use x=\"159.033203\" xlink:href=\"#DejaVuSans-48\"/>\r\n      </g>\r\n     </g>\r\n    </g>\r\n    <g id=\"xtick_2\">\r\n     <g id=\"line2d_2\">\r\n      <g>\r\n       <use style=\"stroke:#000000;stroke-width:0.8;\" x=\"89.729261\" xlink:href=\"#m4a0c0a90e5\" y=\"228.14\"/>\r\n      </g>\r\n     </g>\r\n     <g id=\"text_2\">\r\n      <!-- 0.25 -->\r\n      <defs>\r\n       <path d=\"M 19.1875 8.296875 \r\nL 53.609375 8.296875 \r\nL 53.609375 0 \r\nL 7.328125 0 \r\nL 7.328125 8.296875 \r\nQ 12.9375 14.109375 22.625 23.890625 \r\nQ 32.328125 33.6875 34.8125 36.53125 \r\nQ 39.546875 41.84375 41.421875 45.53125 \r\nQ 43.3125 49.21875 43.3125 52.78125 \r\nQ 43.3125 58.59375 39.234375 62.25 \r\nQ 35.15625 65.921875 28.609375 65.921875 \r\nQ 23.96875 65.921875 18.8125 64.3125 \r\nQ 13.671875 62.703125 7.8125 59.421875 \r\nL 7.8125 69.390625 \r\nQ 13.765625 71.78125 18.9375 73 \r\nQ 24.125 74.21875 28.421875 74.21875 \r\nQ 39.75 74.21875 46.484375 68.546875 \r\nQ 53.21875 62.890625 53.21875 53.421875 \r\nQ 53.21875 48.921875 51.53125 44.890625 \r\nQ 49.859375 40.875 45.40625 35.40625 \r\nQ 44.1875 33.984375 37.640625 27.21875 \r\nQ 31.109375 20.453125 19.1875 8.296875 \r\nz\r\n\" id=\"DejaVuSans-50\"/>\r\n       <path d=\"M 10.796875 72.90625 \r\nL 49.515625 72.90625 \r\nL 49.515625 64.59375 \r\nL 19.828125 64.59375 \r\nL 19.828125 46.734375 \r\nQ 21.96875 47.46875 24.109375 47.828125 \r\nQ 26.265625 48.1875 28.421875 48.1875 \r\nQ 40.625 48.1875 47.75 41.5 \r\nQ 54.890625 34.8125 54.890625 23.390625 \r\nQ 54.890625 11.625 47.5625 5.09375 \r\nQ 40.234375 -1.421875 26.90625 -1.421875 \r\nQ 22.3125 -1.421875 17.546875 -0.640625 \r\nQ 12.796875 0.140625 7.71875 1.703125 \r\nL 7.71875 11.625 \r\nQ 12.109375 9.234375 16.796875 8.0625 \r\nQ 21.484375 6.890625 26.703125 6.890625 \r\nQ 35.15625 6.890625 40.078125 11.328125 \r\nQ 45.015625 15.765625 45.015625 23.390625 \r\nQ 45.015625 31 40.078125 35.4375 \r\nQ 35.15625 39.890625 26.703125 39.890625 \r\nQ 22.75 39.890625 18.8125 39.015625 \r\nQ 14.890625 38.140625 10.796875 36.28125 \r\nz\r\n\" id=\"DejaVuSans-53\"/>\r\n      </defs>\r\n      <g transform=\"translate(78.596449 242.738437)scale(0.1 -0.1)\">\r\n       <use xlink:href=\"#DejaVuSans-48\"/>\r\n       <use x=\"63.623047\" xlink:href=\"#DejaVuSans-46\"/>\r\n       <use x=\"95.410156\" xlink:href=\"#DejaVuSans-50\"/>\r\n       <use x=\"159.033203\" xlink:href=\"#DejaVuSans-53\"/>\r\n      </g>\r\n     </g>\r\n    </g>\r\n    <g id=\"xtick_3\">\r\n     <g id=\"line2d_3\">\r\n      <g>\r\n       <use style=\"stroke:#000000;stroke-width:0.8;\" x=\"127.774716\" xlink:href=\"#m4a0c0a90e5\" y=\"228.14\"/>\r\n      </g>\r\n     </g>\r\n     <g id=\"text_3\">\r\n      <!-- 0.50 -->\r\n      <g transform=\"translate(116.641903 242.738437)scale(0.1 -0.1)\">\r\n       <use xlink:href=\"#DejaVuSans-48\"/>\r\n       <use x=\"63.623047\" xlink:href=\"#DejaVuSans-46\"/>\r\n       <use x=\"95.410156\" xlink:href=\"#DejaVuSans-53\"/>\r\n       <use x=\"159.033203\" xlink:href=\"#DejaVuSans-48\"/>\r\n      </g>\r\n     </g>\r\n    </g>\r\n    <g id=\"xtick_4\">\r\n     <g id=\"line2d_4\">\r\n      <g>\r\n       <use style=\"stroke:#000000;stroke-width:0.8;\" x=\"165.82017\" xlink:href=\"#m4a0c0a90e5\" y=\"228.14\"/>\r\n      </g>\r\n     </g>\r\n     <g id=\"text_4\">\r\n      <!-- 0.75 -->\r\n      <defs>\r\n       <path d=\"M 8.203125 72.90625 \r\nL 55.078125 72.90625 \r\nL 55.078125 68.703125 \r\nL 28.609375 0 \r\nL 18.3125 0 \r\nL 43.21875 64.59375 \r\nL 8.203125 64.59375 \r\nz\r\n\" id=\"DejaVuSans-55\"/>\r\n      </defs>\r\n      <g transform=\"translate(154.687358 242.738437)scale(0.1 -0.1)\">\r\n       <use xlink:href=\"#DejaVuSans-48\"/>\r\n       <use x=\"63.623047\" xlink:href=\"#DejaVuSans-46\"/>\r\n       <use x=\"95.410156\" xlink:href=\"#DejaVuSans-55\"/>\r\n       <use x=\"159.033203\" xlink:href=\"#DejaVuSans-53\"/>\r\n      </g>\r\n     </g>\r\n    </g>\r\n    <g id=\"xtick_5\">\r\n     <g id=\"line2d_5\">\r\n      <g>\r\n       <use style=\"stroke:#000000;stroke-width:0.8;\" x=\"203.865625\" xlink:href=\"#m4a0c0a90e5\" y=\"228.14\"/>\r\n      </g>\r\n     </g>\r\n     <g id=\"text_5\">\r\n      <!-- 1.00 -->\r\n      <defs>\r\n       <path d=\"M 12.40625 8.296875 \r\nL 28.515625 8.296875 \r\nL 28.515625 63.921875 \r\nL 10.984375 60.40625 \r\nL 10.984375 69.390625 \r\nL 28.421875 72.90625 \r\nL 38.28125 72.90625 \r\nL 38.28125 8.296875 \r\nL 54.390625 8.296875 \r\nL 54.390625 0 \r\nL 12.40625 0 \r\nz\r\n\" id=\"DejaVuSans-49\"/>\r\n      </defs>\r\n      <g transform=\"translate(192.732813 242.738437)scale(0.1 -0.1)\">\r\n       <use xlink:href=\"#DejaVuSans-49\"/>\r\n       <use x=\"63.623047\" xlink:href=\"#DejaVuSans-46\"/>\r\n       <use x=\"95.410156\" xlink:href=\"#DejaVuSans-48\"/>\r\n       <use x=\"159.033203\" xlink:href=\"#DejaVuSans-48\"/>\r\n      </g>\r\n     </g>\r\n    </g>\r\n    <g id=\"xtick_6\">\r\n     <g id=\"line2d_6\">\r\n      <g>\r\n       <use style=\"stroke:#000000;stroke-width:0.8;\" x=\"241.91108\" xlink:href=\"#m4a0c0a90e5\" y=\"228.14\"/>\r\n      </g>\r\n     </g>\r\n     <g id=\"text_6\">\r\n      <!-- 1.25 -->\r\n      <g transform=\"translate(230.778267 242.738437)scale(0.1 -0.1)\">\r\n       <use xlink:href=\"#DejaVuSans-49\"/>\r\n       <use x=\"63.623047\" xlink:href=\"#DejaVuSans-46\"/>\r\n       <use x=\"95.410156\" xlink:href=\"#DejaVuSans-50\"/>\r\n       <use x=\"159.033203\" xlink:href=\"#DejaVuSans-53\"/>\r\n      </g>\r\n     </g>\r\n    </g>\r\n    <g id=\"xtick_7\">\r\n     <g id=\"line2d_7\">\r\n      <g>\r\n       <use style=\"stroke:#000000;stroke-width:0.8;\" x=\"279.956534\" xlink:href=\"#m4a0c0a90e5\" y=\"228.14\"/>\r\n      </g>\r\n     </g>\r\n     <g id=\"text_7\">\r\n      <!-- 1.50 -->\r\n      <g transform=\"translate(268.823722 242.738437)scale(0.1 -0.1)\">\r\n       <use xlink:href=\"#DejaVuSans-49\"/>\r\n       <use x=\"63.623047\" xlink:href=\"#DejaVuSans-46\"/>\r\n       <use x=\"95.410156\" xlink:href=\"#DejaVuSans-53\"/>\r\n       <use x=\"159.033203\" xlink:href=\"#DejaVuSans-48\"/>\r\n      </g>\r\n     </g>\r\n    </g>\r\n    <g id=\"xtick_8\">\r\n     <g id=\"line2d_8\">\r\n      <g>\r\n       <use style=\"stroke:#000000;stroke-width:0.8;\" x=\"318.001989\" xlink:href=\"#m4a0c0a90e5\" y=\"228.14\"/>\r\n      </g>\r\n     </g>\r\n     <g id=\"text_8\">\r\n      <!-- 1.75 -->\r\n      <g transform=\"translate(306.869176 242.738437)scale(0.1 -0.1)\">\r\n       <use xlink:href=\"#DejaVuSans-49\"/>\r\n       <use x=\"63.623047\" xlink:href=\"#DejaVuSans-46\"/>\r\n       <use x=\"95.410156\" xlink:href=\"#DejaVuSans-55\"/>\r\n       <use x=\"159.033203\" xlink:href=\"#DejaVuSans-53\"/>\r\n      </g>\r\n     </g>\r\n    </g>\r\n    <g id=\"xtick_9\">\r\n     <g id=\"line2d_9\">\r\n      <g>\r\n       <use style=\"stroke:#000000;stroke-width:0.8;\" x=\"356.047443\" xlink:href=\"#m4a0c0a90e5\" y=\"228.14\"/>\r\n      </g>\r\n     </g>\r\n     <g id=\"text_9\">\r\n      <!-- 2.00 -->\r\n      <g transform=\"translate(344.914631 242.738437)scale(0.1 -0.1)\">\r\n       <use xlink:href=\"#DejaVuSans-50\"/>\r\n       <use x=\"63.623047\" xlink:href=\"#DejaVuSans-46\"/>\r\n       <use x=\"95.410156\" xlink:href=\"#DejaVuSans-48\"/>\r\n       <use x=\"159.033203\" xlink:href=\"#DejaVuSans-48\"/>\r\n      </g>\r\n     </g>\r\n    </g>\r\n   </g>\r\n   <g id=\"matplotlib.axis_2\">\r\n    <g id=\"ytick_1\">\r\n     <g id=\"line2d_10\">\r\n      <defs>\r\n       <path d=\"M 0 0 \r\nL -3.5 0 \r\n\" id=\"md69f5bf074\" style=\"stroke:#000000;stroke-width:0.8;\"/>\r\n      </defs>\r\n      <g>\r\n       <use style=\"stroke:#000000;stroke-width:0.8;\" x=\"36.465625\" xlink:href=\"#md69f5bf074\" y=\"218.256364\"/>\r\n      </g>\r\n     </g>\r\n     <g id=\"text_10\">\r\n      <!-- 0.00 -->\r\n      <g transform=\"translate(7.2 222.055582)scale(0.1 -0.1)\">\r\n       <use xlink:href=\"#DejaVuSans-48\"/>\r\n       <use x=\"63.623047\" xlink:href=\"#DejaVuSans-46\"/>\r\n       <use x=\"95.410156\" xlink:href=\"#DejaVuSans-48\"/>\r\n       <use x=\"159.033203\" xlink:href=\"#DejaVuSans-48\"/>\r\n      </g>\r\n     </g>\r\n    </g>\r\n    <g id=\"ytick_2\">\r\n     <g id=\"line2d_11\">\r\n      <g>\r\n       <use style=\"stroke:#000000;stroke-width:0.8;\" x=\"36.465625\" xlink:href=\"#md69f5bf074\" y=\"193.547273\"/>\r\n      </g>\r\n     </g>\r\n     <g id=\"text_11\">\r\n      <!-- 0.25 -->\r\n      <g transform=\"translate(7.2 197.346491)scale(0.1 -0.1)\">\r\n       <use xlink:href=\"#DejaVuSans-48\"/>\r\n       <use x=\"63.623047\" xlink:href=\"#DejaVuSans-46\"/>\r\n       <use x=\"95.410156\" xlink:href=\"#DejaVuSans-50\"/>\r\n       <use x=\"159.033203\" xlink:href=\"#DejaVuSans-53\"/>\r\n      </g>\r\n     </g>\r\n    </g>\r\n    <g id=\"ytick_3\">\r\n     <g id=\"line2d_12\">\r\n      <g>\r\n       <use style=\"stroke:#000000;stroke-width:0.8;\" x=\"36.465625\" xlink:href=\"#md69f5bf074\" y=\"168.838182\"/>\r\n      </g>\r\n     </g>\r\n     <g id=\"text_12\">\r\n      <!-- 0.50 -->\r\n      <g transform=\"translate(7.2 172.637401)scale(0.1 -0.1)\">\r\n       <use xlink:href=\"#DejaVuSans-48\"/>\r\n       <use x=\"63.623047\" xlink:href=\"#DejaVuSans-46\"/>\r\n       <use x=\"95.410156\" xlink:href=\"#DejaVuSans-53\"/>\r\n       <use x=\"159.033203\" xlink:href=\"#DejaVuSans-48\"/>\r\n      </g>\r\n     </g>\r\n    </g>\r\n    <g id=\"ytick_4\">\r\n     <g id=\"line2d_13\">\r\n      <g>\r\n       <use style=\"stroke:#000000;stroke-width:0.8;\" x=\"36.465625\" xlink:href=\"#md69f5bf074\" y=\"144.129091\"/>\r\n      </g>\r\n     </g>\r\n     <g id=\"text_13\">\r\n      <!-- 0.75 -->\r\n      <g transform=\"translate(7.2 147.92831)scale(0.1 -0.1)\">\r\n       <use xlink:href=\"#DejaVuSans-48\"/>\r\n       <use x=\"63.623047\" xlink:href=\"#DejaVuSans-46\"/>\r\n       <use x=\"95.410156\" xlink:href=\"#DejaVuSans-55\"/>\r\n       <use x=\"159.033203\" xlink:href=\"#DejaVuSans-53\"/>\r\n      </g>\r\n     </g>\r\n    </g>\r\n    <g id=\"ytick_5\">\r\n     <g id=\"line2d_14\">\r\n      <g>\r\n       <use style=\"stroke:#000000;stroke-width:0.8;\" x=\"36.465625\" xlink:href=\"#md69f5bf074\" y=\"119.42\"/>\r\n      </g>\r\n     </g>\r\n     <g id=\"text_14\">\r\n      <!-- 1.00 -->\r\n      <g transform=\"translate(7.2 123.219219)scale(0.1 -0.1)\">\r\n       <use xlink:href=\"#DejaVuSans-49\"/>\r\n       <use x=\"63.623047\" xlink:href=\"#DejaVuSans-46\"/>\r\n       <use x=\"95.410156\" xlink:href=\"#DejaVuSans-48\"/>\r\n       <use x=\"159.033203\" xlink:href=\"#DejaVuSans-48\"/>\r\n      </g>\r\n     </g>\r\n    </g>\r\n    <g id=\"ytick_6\">\r\n     <g id=\"line2d_15\">\r\n      <g>\r\n       <use style=\"stroke:#000000;stroke-width:0.8;\" x=\"36.465625\" xlink:href=\"#md69f5bf074\" y=\"94.710909\"/>\r\n      </g>\r\n     </g>\r\n     <g id=\"text_15\">\r\n      <!-- 1.25 -->\r\n      <g transform=\"translate(7.2 98.510128)scale(0.1 -0.1)\">\r\n       <use xlink:href=\"#DejaVuSans-49\"/>\r\n       <use x=\"63.623047\" xlink:href=\"#DejaVuSans-46\"/>\r\n       <use x=\"95.410156\" xlink:href=\"#DejaVuSans-50\"/>\r\n       <use x=\"159.033203\" xlink:href=\"#DejaVuSans-53\"/>\r\n      </g>\r\n     </g>\r\n    </g>\r\n    <g id=\"ytick_7\">\r\n     <g id=\"line2d_16\">\r\n      <g>\r\n       <use style=\"stroke:#000000;stroke-width:0.8;\" x=\"36.465625\" xlink:href=\"#md69f5bf074\" y=\"70.001818\"/>\r\n      </g>\r\n     </g>\r\n     <g id=\"text_16\">\r\n      <!-- 1.50 -->\r\n      <g transform=\"translate(7.2 73.801037)scale(0.1 -0.1)\">\r\n       <use xlink:href=\"#DejaVuSans-49\"/>\r\n       <use x=\"63.623047\" xlink:href=\"#DejaVuSans-46\"/>\r\n       <use x=\"95.410156\" xlink:href=\"#DejaVuSans-53\"/>\r\n       <use x=\"159.033203\" xlink:href=\"#DejaVuSans-48\"/>\r\n      </g>\r\n     </g>\r\n    </g>\r\n    <g id=\"ytick_8\">\r\n     <g id=\"line2d_17\">\r\n      <g>\r\n       <use style=\"stroke:#000000;stroke-width:0.8;\" x=\"36.465625\" xlink:href=\"#md69f5bf074\" y=\"45.292727\"/>\r\n      </g>\r\n     </g>\r\n     <g id=\"text_17\">\r\n      <!-- 1.75 -->\r\n      <g transform=\"translate(7.2 49.091946)scale(0.1 -0.1)\">\r\n       <use xlink:href=\"#DejaVuSans-49\"/>\r\n       <use x=\"63.623047\" xlink:href=\"#DejaVuSans-46\"/>\r\n       <use x=\"95.410156\" xlink:href=\"#DejaVuSans-55\"/>\r\n       <use x=\"159.033203\" xlink:href=\"#DejaVuSans-53\"/>\r\n      </g>\r\n     </g>\r\n    </g>\r\n    <g id=\"ytick_9\">\r\n     <g id=\"line2d_18\">\r\n      <g>\r\n       <use style=\"stroke:#000000;stroke-width:0.8;\" x=\"36.465625\" xlink:href=\"#md69f5bf074\" y=\"20.583636\"/>\r\n      </g>\r\n     </g>\r\n     <g id=\"text_18\">\r\n      <!-- 2.00 -->\r\n      <g transform=\"translate(7.2 24.382855)scale(0.1 -0.1)\">\r\n       <use xlink:href=\"#DejaVuSans-50\"/>\r\n       <use x=\"63.623047\" xlink:href=\"#DejaVuSans-46\"/>\r\n       <use x=\"95.410156\" xlink:href=\"#DejaVuSans-48\"/>\r\n       <use x=\"159.033203\" xlink:href=\"#DejaVuSans-48\"/>\r\n      </g>\r\n     </g>\r\n    </g>\r\n   </g>\r\n   <g id=\"line2d_19\">\r\n    <defs>\r\n     <path d=\"M 0 3 \r\nC 0.795609 3 1.55874 2.683901 2.12132 2.12132 \r\nC 2.683901 1.55874 3 0.795609 3 0 \r\nC 3 -0.795609 2.683901 -1.55874 2.12132 -2.12132 \r\nC 1.55874 -2.683901 0.795609 -3 0 -3 \r\nC -0.795609 -3 -1.55874 -2.683901 -2.12132 -2.12132 \r\nC -2.683901 -1.55874 -3 -0.795609 -3 0 \r\nC -3 0.795609 -2.683901 1.55874 -2.12132 2.12132 \r\nC -1.55874 2.683901 -0.795609 3 0 3 \r\nz\r\n\" id=\"m4e551c1749\" style=\"stroke:#000000;\"/>\r\n    </defs>\r\n    <g clip-path=\"url(#pa6b8de3ed7)\">\r\n     <use style=\"stroke:#000000;\" x=\"51.683807\" xlink:href=\"#m4e551c1749\" y=\"218.256364\"/>\r\n     <use style=\"stroke:#000000;\" x=\"51.683807\" xlink:href=\"#m4e551c1749\" y=\"119.42\"/>\r\n     <use style=\"stroke:#000000;\" x=\"51.683807\" xlink:href=\"#m4e551c1749\" y=\"20.583636\"/>\r\n     <use style=\"stroke:#000000;\" x=\"203.865625\" xlink:href=\"#m4e551c1749\" y=\"218.256364\"/>\r\n     <use style=\"stroke:#000000;\" x=\"203.865625\" xlink:href=\"#m4e551c1749\" y=\"119.42\"/>\r\n     <use style=\"stroke:#000000;\" x=\"203.865625\" xlink:href=\"#m4e551c1749\" y=\"20.583636\"/>\r\n     <use style=\"stroke:#000000;\" x=\"356.047443\" xlink:href=\"#m4e551c1749\" y=\"218.256364\"/>\r\n     <use style=\"stroke:#000000;\" x=\"356.047443\" xlink:href=\"#m4e551c1749\" y=\"119.42\"/>\r\n     <use style=\"stroke:#000000;\" x=\"356.047443\" xlink:href=\"#m4e551c1749\" y=\"20.583636\"/>\r\n    </g>\r\n   </g>\r\n   <g id=\"patch_3\">\r\n    <path d=\"M 36.465625 228.14 \r\nL 36.465625 10.7 \r\n\" style=\"fill:none;stroke:#000000;stroke-linecap:square;stroke-linejoin:miter;stroke-width:0.8;\"/>\r\n   </g>\r\n   <g id=\"patch_4\">\r\n    <path d=\"M 371.265625 228.14 \r\nL 371.265625 10.7 \r\n\" style=\"fill:none;stroke:#000000;stroke-linecap:square;stroke-linejoin:miter;stroke-width:0.8;\"/>\r\n   </g>\r\n   <g id=\"patch_5\">\r\n    <path d=\"M 36.465625 228.14 \r\nL 371.265625 228.14 \r\n\" style=\"fill:none;stroke:#000000;stroke-linecap:square;stroke-linejoin:miter;stroke-width:0.8;\"/>\r\n   </g>\r\n   <g id=\"patch_6\">\r\n    <path d=\"M 36.465625 10.7 \r\nL 371.265625 10.7 \r\n\" style=\"fill:none;stroke:#000000;stroke-linecap:square;stroke-linejoin:miter;stroke-width:0.8;\"/>\r\n   </g>\r\n  </g>\r\n </g>\r\n <defs>\r\n  <clipPath id=\"pa6b8de3ed7\">\r\n   <rect height=\"217.44\" width=\"334.8\" x=\"36.465625\" y=\"10.7\"/>\r\n  </clipPath>\r\n </defs>\r\n</svg>\r\n",
      "text/plain": [
       "<Figure size 432x288 with 1 Axes>"
      ]
     },
     "metadata": {},
     "output_type": "display_data"
    }
   ],
   "source": [
    "plt.plot(points[:,0], points[:,1], 'ko')\n",
    "plt.show()"
   ]
  },
  {
   "cell_type": "code",
   "execution_count": 6,
   "metadata": {
    "autoscroll": false,
    "collapsed": false,
    "ein.hycell": false,
    "ein.tags": "worksheet-0",
    "execute-time": [
     "2018-11-02T21:28:23.446692Z",
     "2018-11-02T21:28:23.508994Z"
    ],
    "slideshow": {
     "slide_type": "-"
    }
   },
   "outputs": [
    {
     "data": {
      "text/plain": [
       "array([[0.5, 0.5],\n",
       "       [1.5, 0.5],\n",
       "       [0.5, 1.5],\n",
       "       [1.5, 1.5]])"
      ]
     },
     "execution_count": 6,
     "metadata": {},
     "output_type": "execute_result"
    }
   ],
   "source": [
    "vor = Voronoi(points)\n",
    "vor.vertices"
   ]
  },
  {
   "cell_type": "code",
   "execution_count": 7,
   "metadata": {
    "autoscroll": false,
    "collapsed": false,
    "ein.hycell": false,
    "ein.tags": "worksheet-0",
    "execute-time": [
     "2018-11-02T21:28:25.237706Z",
     "2018-11-02T21:28:25.882210Z"
    ],
    "slideshow": {
     "slide_type": "-"
    }
   },
   "outputs": [
    {
     "data": {
      "image/svg+xml": [
       "<?xml version=\"1.0\" encoding=\"utf-8\" standalone=\"no\"?>\r\n",
       "<!DOCTYPE svg PUBLIC \"-//W3C//DTD SVG 1.1//EN\"\r\n",
       "  \"http://www.w3.org/Graphics/SVG/1.1/DTD/svg11.dtd\">\r\n",
       "<!-- Created with matplotlib (https://matplotlib.org/) -->\r\n",
       "<svg height=\"252.018125pt\" version=\"1.1\" viewBox=\"0 0 375.603125 252.018125\" width=\"375.603125pt\" xmlns=\"http://www.w3.org/2000/svg\" xmlns:xlink=\"http://www.w3.org/1999/xlink\">\r\n",
       " <defs>\r\n",
       "  <style type=\"text/css\">\r\n",
       "*{stroke-linecap:butt;stroke-linejoin:round;}\r\n",
       "  </style>\r\n",
       " </defs>\r\n",
       " <g id=\"figure_1\">\r\n",
       "  <g id=\"patch_1\">\r\n",
       "   <path d=\"M 0 252.018125 \r\n",
       "L 375.603125 252.018125 \r\n",
       "L 375.603125 0 \r\n",
       "L 0 0 \r\n",
       "z\r\n",
       "\" style=\"fill:none;\"/>\r\n",
       "  </g>\r\n",
       "  <g id=\"axes_1\">\r\n",
       "   <g id=\"patch_2\">\r\n",
       "    <path d=\"M 30.103125 228.14 \r\n",
       "L 364.903125 228.14 \r\n",
       "L 364.903125 10.7 \r\n",
       "L 30.103125 10.7 \r\n",
       "z\r\n",
       "\" style=\"fill:#ffffff;\"/>\r\n",
       "   </g>\r\n",
       "   <g id=\"matplotlib.axis_1\">\r\n",
       "    <g id=\"xtick_1\">\r\n",
       "     <g id=\"line2d_1\">\r\n",
       "      <defs>\r\n",
       "       <path d=\"M 0 0 \r\n",
       "L 0 3.5 \r\n",
       "\" id=\"m1a2ded1a6e\" style=\"stroke:#000000;stroke-width:0.8;\"/>\r\n",
       "      </defs>\r\n",
       "      <g>\r\n",
       "       <use style=\"stroke:#000000;stroke-width:0.8;\" x=\"58.003125\" xlink:href=\"#m1a2ded1a6e\" y=\"228.14\"/>\r\n",
       "      </g>\r\n",
       "     </g>\r\n",
       "     <g id=\"text_1\">\r\n",
       "      <!-- 0.0 -->\r\n",
       "      <defs>\r\n",
       "       <path d=\"M 31.78125 66.40625 \r\n",
       "Q 24.171875 66.40625 20.328125 58.90625 \r\n",
       "Q 16.5 51.421875 16.5 36.375 \r\n",
       "Q 16.5 21.390625 20.328125 13.890625 \r\n",
       "Q 24.171875 6.390625 31.78125 6.390625 \r\n",
       "Q 39.453125 6.390625 43.28125 13.890625 \r\n",
       "Q 47.125 21.390625 47.125 36.375 \r\n",
       "Q 47.125 51.421875 43.28125 58.90625 \r\n",
       "Q 39.453125 66.40625 31.78125 66.40625 \r\n",
       "z\r\n",
       "M 31.78125 74.21875 \r\n",
       "Q 44.046875 74.21875 50.515625 64.515625 \r\n",
       "Q 56.984375 54.828125 56.984375 36.375 \r\n",
       "Q 56.984375 17.96875 50.515625 8.265625 \r\n",
       "Q 44.046875 -1.421875 31.78125 -1.421875 \r\n",
       "Q 19.53125 -1.421875 13.0625 8.265625 \r\n",
       "Q 6.59375 17.96875 6.59375 36.375 \r\n",
       "Q 6.59375 54.828125 13.0625 64.515625 \r\n",
       "Q 19.53125 74.21875 31.78125 74.21875 \r\n",
       "z\r\n",
       "\" id=\"DejaVuSans-48\"/>\r\n",
       "       <path d=\"M 10.6875 12.40625 \r\n",
       "L 21 12.40625 \r\n",
       "L 21 0 \r\n",
       "L 10.6875 0 \r\n",
       "z\r\n",
       "\" id=\"DejaVuSans-46\"/>\r\n",
       "      </defs>\r\n",
       "      <g transform=\"translate(50.051563 242.738437)scale(0.1 -0.1)\">\r\n",
       "       <use xlink:href=\"#DejaVuSans-48\"/>\r\n",
       "       <use x=\"63.623047\" xlink:href=\"#DejaVuSans-46\"/>\r\n",
       "       <use x=\"95.410156\" xlink:href=\"#DejaVuSans-48\"/>\r\n",
       "      </g>\r\n",
       "     </g>\r\n",
       "    </g>\r\n",
       "    <g id=\"xtick_2\">\r\n",
       "     <g id=\"line2d_2\">\r\n",
       "      <g>\r\n",
       "       <use style=\"stroke:#000000;stroke-width:0.8;\" x=\"127.753125\" xlink:href=\"#m1a2ded1a6e\" y=\"228.14\"/>\r\n",
       "      </g>\r\n",
       "     </g>\r\n",
       "     <g id=\"text_2\">\r\n",
       "      <!-- 0.5 -->\r\n",
       "      <defs>\r\n",
       "       <path d=\"M 10.796875 72.90625 \r\n",
       "L 49.515625 72.90625 \r\n",
       "L 49.515625 64.59375 \r\n",
       "L 19.828125 64.59375 \r\n",
       "L 19.828125 46.734375 \r\n",
       "Q 21.96875 47.46875 24.109375 47.828125 \r\n",
       "Q 26.265625 48.1875 28.421875 48.1875 \r\n",
       "Q 40.625 48.1875 47.75 41.5 \r\n",
       "Q 54.890625 34.8125 54.890625 23.390625 \r\n",
       "Q 54.890625 11.625 47.5625 5.09375 \r\n",
       "Q 40.234375 -1.421875 26.90625 -1.421875 \r\n",
       "Q 22.3125 -1.421875 17.546875 -0.640625 \r\n",
       "Q 12.796875 0.140625 7.71875 1.703125 \r\n",
       "L 7.71875 11.625 \r\n",
       "Q 12.109375 9.234375 16.796875 8.0625 \r\n",
       "Q 21.484375 6.890625 26.703125 6.890625 \r\n",
       "Q 35.15625 6.890625 40.078125 11.328125 \r\n",
       "Q 45.015625 15.765625 45.015625 23.390625 \r\n",
       "Q 45.015625 31 40.078125 35.4375 \r\n",
       "Q 35.15625 39.890625 26.703125 39.890625 \r\n",
       "Q 22.75 39.890625 18.8125 39.015625 \r\n",
       "Q 14.890625 38.140625 10.796875 36.28125 \r\n",
       "z\r\n",
       "\" id=\"DejaVuSans-53\"/>\r\n",
       "      </defs>\r\n",
       "      <g transform=\"translate(119.801563 242.738437)scale(0.1 -0.1)\">\r\n",
       "       <use xlink:href=\"#DejaVuSans-48\"/>\r\n",
       "       <use x=\"63.623047\" xlink:href=\"#DejaVuSans-46\"/>\r\n",
       "       <use x=\"95.410156\" xlink:href=\"#DejaVuSans-53\"/>\r\n",
       "      </g>\r\n",
       "     </g>\r\n",
       "    </g>\r\n",
       "    <g id=\"xtick_3\">\r\n",
       "     <g id=\"line2d_3\">\r\n",
       "      <g>\r\n",
       "       <use style=\"stroke:#000000;stroke-width:0.8;\" x=\"197.503125\" xlink:href=\"#m1a2ded1a6e\" y=\"228.14\"/>\r\n",
       "      </g>\r\n",
       "     </g>\r\n",
       "     <g id=\"text_3\">\r\n",
       "      <!-- 1.0 -->\r\n",
       "      <defs>\r\n",
       "       <path d=\"M 12.40625 8.296875 \r\n",
       "L 28.515625 8.296875 \r\n",
       "L 28.515625 63.921875 \r\n",
       "L 10.984375 60.40625 \r\n",
       "L 10.984375 69.390625 \r\n",
       "L 28.421875 72.90625 \r\n",
       "L 38.28125 72.90625 \r\n",
       "L 38.28125 8.296875 \r\n",
       "L 54.390625 8.296875 \r\n",
       "L 54.390625 0 \r\n",
       "L 12.40625 0 \r\n",
       "z\r\n",
       "\" id=\"DejaVuSans-49\"/>\r\n",
       "      </defs>\r\n",
       "      <g transform=\"translate(189.551563 242.738437)scale(0.1 -0.1)\">\r\n",
       "       <use xlink:href=\"#DejaVuSans-49\"/>\r\n",
       "       <use x=\"63.623047\" xlink:href=\"#DejaVuSans-46\"/>\r\n",
       "       <use x=\"95.410156\" xlink:href=\"#DejaVuSans-48\"/>\r\n",
       "      </g>\r\n",
       "     </g>\r\n",
       "    </g>\r\n",
       "    <g id=\"xtick_4\">\r\n",
       "     <g id=\"line2d_4\">\r\n",
       "      <g>\r\n",
       "       <use style=\"stroke:#000000;stroke-width:0.8;\" x=\"267.253125\" xlink:href=\"#m1a2ded1a6e\" y=\"228.14\"/>\r\n",
       "      </g>\r\n",
       "     </g>\r\n",
       "     <g id=\"text_4\">\r\n",
       "      <!-- 1.5 -->\r\n",
       "      <g transform=\"translate(259.301563 242.738437)scale(0.1 -0.1)\">\r\n",
       "       <use xlink:href=\"#DejaVuSans-49\"/>\r\n",
       "       <use x=\"63.623047\" xlink:href=\"#DejaVuSans-46\"/>\r\n",
       "       <use x=\"95.410156\" xlink:href=\"#DejaVuSans-53\"/>\r\n",
       "      </g>\r\n",
       "     </g>\r\n",
       "    </g>\r\n",
       "    <g id=\"xtick_5\">\r\n",
       "     <g id=\"line2d_5\">\r\n",
       "      <g>\r\n",
       "       <use style=\"stroke:#000000;stroke-width:0.8;\" x=\"337.003125\" xlink:href=\"#m1a2ded1a6e\" y=\"228.14\"/>\r\n",
       "      </g>\r\n",
       "     </g>\r\n",
       "     <g id=\"text_5\">\r\n",
       "      <!-- 2.0 -->\r\n",
       "      <defs>\r\n",
       "       <path d=\"M 19.1875 8.296875 \r\n",
       "L 53.609375 8.296875 \r\n",
       "L 53.609375 0 \r\n",
       "L 7.328125 0 \r\n",
       "L 7.328125 8.296875 \r\n",
       "Q 12.9375 14.109375 22.625 23.890625 \r\n",
       "Q 32.328125 33.6875 34.8125 36.53125 \r\n",
       "Q 39.546875 41.84375 41.421875 45.53125 \r\n",
       "Q 43.3125 49.21875 43.3125 52.78125 \r\n",
       "Q 43.3125 58.59375 39.234375 62.25 \r\n",
       "Q 35.15625 65.921875 28.609375 65.921875 \r\n",
       "Q 23.96875 65.921875 18.8125 64.3125 \r\n",
       "Q 13.671875 62.703125 7.8125 59.421875 \r\n",
       "L 7.8125 69.390625 \r\n",
       "Q 13.765625 71.78125 18.9375 73 \r\n",
       "Q 24.125 74.21875 28.421875 74.21875 \r\n",
       "Q 39.75 74.21875 46.484375 68.546875 \r\n",
       "Q 53.21875 62.890625 53.21875 53.421875 \r\n",
       "Q 53.21875 48.921875 51.53125 44.890625 \r\n",
       "Q 49.859375 40.875 45.40625 35.40625 \r\n",
       "Q 44.1875 33.984375 37.640625 27.21875 \r\n",
       "Q 31.109375 20.453125 19.1875 8.296875 \r\n",
       "z\r\n",
       "\" id=\"DejaVuSans-50\"/>\r\n",
       "      </defs>\r\n",
       "      <g transform=\"translate(329.051563 242.738437)scale(0.1 -0.1)\">\r\n",
       "       <use xlink:href=\"#DejaVuSans-50\"/>\r\n",
       "       <use x=\"63.623047\" xlink:href=\"#DejaVuSans-46\"/>\r\n",
       "       <use x=\"95.410156\" xlink:href=\"#DejaVuSans-48\"/>\r\n",
       "      </g>\r\n",
       "     </g>\r\n",
       "    </g>\r\n",
       "   </g>\r\n",
       "   <g id=\"matplotlib.axis_2\">\r\n",
       "    <g id=\"ytick_1\">\r\n",
       "     <g id=\"line2d_6\">\r\n",
       "      <defs>\r\n",
       "       <path d=\"M 0 0 \r\n",
       "L -3.5 0 \r\n",
       "\" id=\"mb871bf6195\" style=\"stroke:#000000;stroke-width:0.8;\"/>\r\n",
       "      </defs>\r\n",
       "      <g>\r\n",
       "       <use style=\"stroke:#000000;stroke-width:0.8;\" x=\"30.103125\" xlink:href=\"#mb871bf6195\" y=\"210.02\"/>\r\n",
       "      </g>\r\n",
       "     </g>\r\n",
       "     <g id=\"text_6\">\r\n",
       "      <!-- 0.0 -->\r\n",
       "      <g transform=\"translate(7.2 213.819219)scale(0.1 -0.1)\">\r\n",
       "       <use xlink:href=\"#DejaVuSans-48\"/>\r\n",
       "       <use x=\"63.623047\" xlink:href=\"#DejaVuSans-46\"/>\r\n",
       "       <use x=\"95.410156\" xlink:href=\"#DejaVuSans-48\"/>\r\n",
       "      </g>\r\n",
       "     </g>\r\n",
       "    </g>\r\n",
       "    <g id=\"ytick_2\">\r\n",
       "     <g id=\"line2d_7\">\r\n",
       "      <g>\r\n",
       "       <use style=\"stroke:#000000;stroke-width:0.8;\" x=\"30.103125\" xlink:href=\"#mb871bf6195\" y=\"164.72\"/>\r\n",
       "      </g>\r\n",
       "     </g>\r\n",
       "     <g id=\"text_7\">\r\n",
       "      <!-- 0.5 -->\r\n",
       "      <g transform=\"translate(7.2 168.519219)scale(0.1 -0.1)\">\r\n",
       "       <use xlink:href=\"#DejaVuSans-48\"/>\r\n",
       "       <use x=\"63.623047\" xlink:href=\"#DejaVuSans-46\"/>\r\n",
       "       <use x=\"95.410156\" xlink:href=\"#DejaVuSans-53\"/>\r\n",
       "      </g>\r\n",
       "     </g>\r\n",
       "    </g>\r\n",
       "    <g id=\"ytick_3\">\r\n",
       "     <g id=\"line2d_8\">\r\n",
       "      <g>\r\n",
       "       <use style=\"stroke:#000000;stroke-width:0.8;\" x=\"30.103125\" xlink:href=\"#mb871bf6195\" y=\"119.42\"/>\r\n",
       "      </g>\r\n",
       "     </g>\r\n",
       "     <g id=\"text_8\">\r\n",
       "      <!-- 1.0 -->\r\n",
       "      <g transform=\"translate(7.2 123.219219)scale(0.1 -0.1)\">\r\n",
       "       <use xlink:href=\"#DejaVuSans-49\"/>\r\n",
       "       <use x=\"63.623047\" xlink:href=\"#DejaVuSans-46\"/>\r\n",
       "       <use x=\"95.410156\" xlink:href=\"#DejaVuSans-48\"/>\r\n",
       "      </g>\r\n",
       "     </g>\r\n",
       "    </g>\r\n",
       "    <g id=\"ytick_4\">\r\n",
       "     <g id=\"line2d_9\">\r\n",
       "      <g>\r\n",
       "       <use style=\"stroke:#000000;stroke-width:0.8;\" x=\"30.103125\" xlink:href=\"#mb871bf6195\" y=\"74.12\"/>\r\n",
       "      </g>\r\n",
       "     </g>\r\n",
       "     <g id=\"text_9\">\r\n",
       "      <!-- 1.5 -->\r\n",
       "      <g transform=\"translate(7.2 77.919219)scale(0.1 -0.1)\">\r\n",
       "       <use xlink:href=\"#DejaVuSans-49\"/>\r\n",
       "       <use x=\"63.623047\" xlink:href=\"#DejaVuSans-46\"/>\r\n",
       "       <use x=\"95.410156\" xlink:href=\"#DejaVuSans-53\"/>\r\n",
       "      </g>\r\n",
       "     </g>\r\n",
       "    </g>\r\n",
       "    <g id=\"ytick_5\">\r\n",
       "     <g id=\"line2d_10\">\r\n",
       "      <g>\r\n",
       "       <use style=\"stroke:#000000;stroke-width:0.8;\" x=\"30.103125\" xlink:href=\"#mb871bf6195\" y=\"28.82\"/>\r\n",
       "      </g>\r\n",
       "     </g>\r\n",
       "     <g id=\"text_10\">\r\n",
       "      <!-- 2.0 -->\r\n",
       "      <g transform=\"translate(7.2 32.619219)scale(0.1 -0.1)\">\r\n",
       "       <use xlink:href=\"#DejaVuSans-50\"/>\r\n",
       "       <use x=\"63.623047\" xlink:href=\"#DejaVuSans-46\"/>\r\n",
       "       <use x=\"95.410156\" xlink:href=\"#DejaVuSans-48\"/>\r\n",
       "      </g>\r\n",
       "     </g>\r\n",
       "    </g>\r\n",
       "   </g>\r\n",
       "   <g id=\"LineCollection_1\">\r\n",
       "    <path clip-path=\"url(#p218beb6dd4)\" d=\"M 127.753125 164.72 \r\n",
       "L 267.253125 164.72 \r\n",
       "\" style=\"fill:none;stroke:#000000;\"/>\r\n",
       "    <path clip-path=\"url(#p218beb6dd4)\" d=\"M 127.753125 74.12 \r\n",
       "L 267.253125 74.12 \r\n",
       "\" style=\"fill:none;stroke:#000000;\"/>\r\n",
       "    <path clip-path=\"url(#p218beb6dd4)\" d=\"M 127.753125 164.72 \r\n",
       "L 127.753125 74.12 \r\n",
       "\" style=\"fill:none;stroke:#000000;\"/>\r\n",
       "    <path clip-path=\"url(#p218beb6dd4)\" d=\"M 267.253125 164.72 \r\n",
       "L 267.253125 74.12 \r\n",
       "\" style=\"fill:none;stroke:#000000;\"/>\r\n",
       "   </g>\r\n",
       "   <g id=\"LineCollection_2\">\r\n",
       "    <path clip-path=\"url(#p218beb6dd4)\" d=\"M 127.753125 164.72 \r\n",
       "L -1 164.72 \r\n",
       "\" style=\"fill:none;stroke:#000000;stroke-dasharray:3.7,1.6;stroke-dashoffset:0;\"/>\r\n",
       "    <path clip-path=\"url(#p218beb6dd4)\" d=\"M 127.753125 164.72 \r\n",
       "L 127.753125 253.018125 \r\n",
       "\" style=\"fill:none;stroke:#000000;stroke-dasharray:3.7,1.6;stroke-dashoffset:0;\"/>\r\n",
       "    <path clip-path=\"url(#p218beb6dd4)\" d=\"M 267.253125 164.72 \r\n",
       "L 267.253125 253.018125 \r\n",
       "\" style=\"fill:none;stroke:#000000;stroke-dasharray:3.7,1.6;stroke-dashoffset:0;\"/>\r\n",
       "    <path clip-path=\"url(#p218beb6dd4)\" d=\"M 267.253125 164.72 \r\n",
       "L 376.603125 164.72 \r\n",
       "\" style=\"fill:none;stroke:#000000;stroke-dasharray:3.7,1.6;stroke-dashoffset:0;\"/>\r\n",
       "    <path clip-path=\"url(#p218beb6dd4)\" d=\"M 267.253125 74.12 \r\n",
       "L 267.253125 -1 \r\n",
       "\" style=\"fill:none;stroke:#000000;stroke-dasharray:3.7,1.6;stroke-dashoffset:0;\"/>\r\n",
       "    <path clip-path=\"url(#p218beb6dd4)\" d=\"M 127.753125 74.12 \r\n",
       "L 127.753125 -1 \r\n",
       "\" style=\"fill:none;stroke:#000000;stroke-dasharray:3.7,1.6;stroke-dashoffset:0;\"/>\r\n",
       "    <path clip-path=\"url(#p218beb6dd4)\" d=\"M 267.253125 74.12 \r\n",
       "L 376.603125 74.12 \r\n",
       "\" style=\"fill:none;stroke:#000000;stroke-dasharray:3.7,1.6;stroke-dashoffset:0;\"/>\r\n",
       "    <path clip-path=\"url(#p218beb6dd4)\" d=\"M 127.753125 74.12 \r\n",
       "L -1 74.12 \r\n",
       "\" style=\"fill:none;stroke:#000000;stroke-dasharray:3.7,1.6;stroke-dashoffset:0;\"/>\r\n",
       "   </g>\r\n",
       "   <g id=\"line2d_11\">\r\n",
       "    <defs>\r\n",
       "     <path d=\"M 0 1.5 \r\n",
       "C 0.397805 1.5 0.77937 1.341951 1.06066 1.06066 \r\n",
       "C 1.341951 0.77937 1.5 0.397805 1.5 0 \r\n",
       "C 1.5 -0.397805 1.341951 -0.77937 1.06066 -1.06066 \r\n",
       "C 0.77937 -1.341951 0.397805 -1.5 0 -1.5 \r\n",
       "C -0.397805 -1.5 -0.77937 -1.341951 -1.06066 -1.06066 \r\n",
       "C -1.341951 -0.77937 -1.5 -0.397805 -1.5 0 \r\n",
       "C -1.5 0.397805 -1.341951 0.77937 -1.06066 1.06066 \r\n",
       "C -0.77937 1.341951 -0.397805 1.5 0 1.5 \r\n",
       "z\r\n",
       "\" id=\"mf2c24e3eeb\" style=\"stroke:#1f77b4;\"/>\r\n",
       "    </defs>\r\n",
       "    <g clip-path=\"url(#p218beb6dd4)\">\r\n",
       "     <use style=\"fill:#1f77b4;stroke:#1f77b4;\" x=\"58.003125\" xlink:href=\"#mf2c24e3eeb\" y=\"210.02\"/>\r\n",
       "     <use style=\"fill:#1f77b4;stroke:#1f77b4;\" x=\"58.003125\" xlink:href=\"#mf2c24e3eeb\" y=\"119.42\"/>\r\n",
       "     <use style=\"fill:#1f77b4;stroke:#1f77b4;\" x=\"58.003125\" xlink:href=\"#mf2c24e3eeb\" y=\"28.82\"/>\r\n",
       "     <use style=\"fill:#1f77b4;stroke:#1f77b4;\" x=\"197.503125\" xlink:href=\"#mf2c24e3eeb\" y=\"210.02\"/>\r\n",
       "     <use style=\"fill:#1f77b4;stroke:#1f77b4;\" x=\"197.503125\" xlink:href=\"#mf2c24e3eeb\" y=\"119.42\"/>\r\n",
       "     <use style=\"fill:#1f77b4;stroke:#1f77b4;\" x=\"197.503125\" xlink:href=\"#mf2c24e3eeb\" y=\"28.82\"/>\r\n",
       "     <use style=\"fill:#1f77b4;stroke:#1f77b4;\" x=\"337.003125\" xlink:href=\"#mf2c24e3eeb\" y=\"210.02\"/>\r\n",
       "     <use style=\"fill:#1f77b4;stroke:#1f77b4;\" x=\"337.003125\" xlink:href=\"#mf2c24e3eeb\" y=\"119.42\"/>\r\n",
       "     <use style=\"fill:#1f77b4;stroke:#1f77b4;\" x=\"337.003125\" xlink:href=\"#mf2c24e3eeb\" y=\"28.82\"/>\r\n",
       "    </g>\r\n",
       "   </g>\r\n",
       "   <g id=\"line2d_12\">\r\n",
       "    <defs>\r\n",
       "     <path d=\"M 0 3 \r\n",
       "C 0.795609 3 1.55874 2.683901 2.12132 2.12132 \r\n",
       "C 2.683901 1.55874 3 0.795609 3 0 \r\n",
       "C 3 -0.795609 2.683901 -1.55874 2.12132 -2.12132 \r\n",
       "C 1.55874 -2.683901 0.795609 -3 0 -3 \r\n",
       "C -0.795609 -3 -1.55874 -2.683901 -2.12132 -2.12132 \r\n",
       "C -2.683901 -1.55874 -3 -0.795609 -3 0 \r\n",
       "C -3 0.795609 -2.683901 1.55874 -2.12132 2.12132 \r\n",
       "C -1.55874 2.683901 -0.795609 3 0 3 \r\n",
       "z\r\n",
       "\" id=\"m36ade195d3\" style=\"stroke:#ff7f0e;\"/>\r\n",
       "    </defs>\r\n",
       "    <g clip-path=\"url(#p218beb6dd4)\">\r\n",
       "     <use style=\"fill:#ff7f0e;stroke:#ff7f0e;\" x=\"127.753125\" xlink:href=\"#m36ade195d3\" y=\"164.72\"/>\r\n",
       "     <use style=\"fill:#ff7f0e;stroke:#ff7f0e;\" x=\"267.253125\" xlink:href=\"#m36ade195d3\" y=\"164.72\"/>\r\n",
       "     <use style=\"fill:#ff7f0e;stroke:#ff7f0e;\" x=\"127.753125\" xlink:href=\"#m36ade195d3\" y=\"74.12\"/>\r\n",
       "     <use style=\"fill:#ff7f0e;stroke:#ff7f0e;\" x=\"267.253125\" xlink:href=\"#m36ade195d3\" y=\"74.12\"/>\r\n",
       "    </g>\r\n",
       "   </g>\r\n",
       "   <g id=\"patch_3\">\r\n",
       "    <path d=\"M 30.103125 228.14 \r\n",
       "L 30.103125 10.7 \r\n",
       "\" style=\"fill:none;stroke:#000000;stroke-linecap:square;stroke-linejoin:miter;stroke-width:0.8;\"/>\r\n",
       "   </g>\r\n",
       "   <g id=\"patch_4\">\r\n",
       "    <path d=\"M 364.903125 228.14 \r\n",
       "L 364.903125 10.7 \r\n",
       "\" style=\"fill:none;stroke:#000000;stroke-linecap:square;stroke-linejoin:miter;stroke-width:0.8;\"/>\r\n",
       "   </g>\r\n",
       "   <g id=\"patch_5\">\r\n",
       "    <path d=\"M 30.103125 228.14 \r\n",
       "L 364.903125 228.14 \r\n",
       "\" style=\"fill:none;stroke:#000000;stroke-linecap:square;stroke-linejoin:miter;stroke-width:0.8;\"/>\r\n",
       "   </g>\r\n",
       "   <g id=\"patch_6\">\r\n",
       "    <path d=\"M 30.103125 10.7 \r\n",
       "L 364.903125 10.7 \r\n",
       "\" style=\"fill:none;stroke:#000000;stroke-linecap:square;stroke-linejoin:miter;stroke-width:0.8;\"/>\r\n",
       "   </g>\r\n",
       "  </g>\r\n",
       " </g>\r\n",
       " <defs>\r\n",
       "  <clipPath id=\"p218beb6dd4\">\r\n",
       "   <rect height=\"217.44\" width=\"334.8\" x=\"30.103125\" y=\"10.7\"/>\r\n",
       "  </clipPath>\r\n",
       " </defs>\r\n",
       "</svg>\r\n"
      ],
      "text/plain": [
       "<Figure size 432x288 with 1 Axes>"
      ]
     },
     "execution_count": 7,
     "metadata": {},
     "output_type": "execute_result"
    },
    {
     "data": {
      "image/svg": "<?xml version=\"1.0\" encoding=\"utf-8\" standalone=\"no\"?>\r\n<!DOCTYPE svg PUBLIC \"-//W3C//DTD SVG 1.1//EN\"\r\n  \"http://www.w3.org/Graphics/SVG/1.1/DTD/svg11.dtd\">\r\n<!-- Created with matplotlib (https://matplotlib.org/) -->\r\n<svg height=\"252.018125pt\" version=\"1.1\" viewBox=\"0 0 375.603125 252.018125\" width=\"375.603125pt\" xmlns=\"http://www.w3.org/2000/svg\" xmlns:xlink=\"http://www.w3.org/1999/xlink\">\r\n <defs>\r\n  <style type=\"text/css\">\r\n*{stroke-linecap:butt;stroke-linejoin:round;}\r\n  </style>\r\n </defs>\r\n <g id=\"figure_1\">\r\n  <g id=\"patch_1\">\r\n   <path d=\"M 0 252.018125 \r\nL 375.603125 252.018125 \r\nL 375.603125 0 \r\nL 0 0 \r\nz\r\n\" style=\"fill:none;\"/>\r\n  </g>\r\n  <g id=\"axes_1\">\r\n   <g id=\"patch_2\">\r\n    <path d=\"M 30.103125 228.14 \r\nL 364.903125 228.14 \r\nL 364.903125 10.7 \r\nL 30.103125 10.7 \r\nz\r\n\" style=\"fill:#ffffff;\"/>\r\n   </g>\r\n   <g id=\"matplotlib.axis_1\">\r\n    <g id=\"xtick_1\">\r\n     <g id=\"line2d_1\">\r\n      <defs>\r\n       <path d=\"M 0 0 \r\nL 0 3.5 \r\n\" id=\"mc6ce44622f\" style=\"stroke:#000000;stroke-width:0.8;\"/>\r\n      </defs>\r\n      <g>\r\n       <use style=\"stroke:#000000;stroke-width:0.8;\" x=\"58.003125\" xlink:href=\"#mc6ce44622f\" y=\"228.14\"/>\r\n      </g>\r\n     </g>\r\n     <g id=\"text_1\">\r\n      <!-- 0.0 -->\r\n      <defs>\r\n       <path d=\"M 31.78125 66.40625 \r\nQ 24.171875 66.40625 20.328125 58.90625 \r\nQ 16.5 51.421875 16.5 36.375 \r\nQ 16.5 21.390625 20.328125 13.890625 \r\nQ 24.171875 6.390625 31.78125 6.390625 \r\nQ 39.453125 6.390625 43.28125 13.890625 \r\nQ 47.125 21.390625 47.125 36.375 \r\nQ 47.125 51.421875 43.28125 58.90625 \r\nQ 39.453125 66.40625 31.78125 66.40625 \r\nz\r\nM 31.78125 74.21875 \r\nQ 44.046875 74.21875 50.515625 64.515625 \r\nQ 56.984375 54.828125 56.984375 36.375 \r\nQ 56.984375 17.96875 50.515625 8.265625 \r\nQ 44.046875 -1.421875 31.78125 -1.421875 \r\nQ 19.53125 -1.421875 13.0625 8.265625 \r\nQ 6.59375 17.96875 6.59375 36.375 \r\nQ 6.59375 54.828125 13.0625 64.515625 \r\nQ 19.53125 74.21875 31.78125 74.21875 \r\nz\r\n\" id=\"DejaVuSans-48\"/>\r\n       <path d=\"M 10.6875 12.40625 \r\nL 21 12.40625 \r\nL 21 0 \r\nL 10.6875 0 \r\nz\r\n\" id=\"DejaVuSans-46\"/>\r\n      </defs>\r\n      <g transform=\"translate(50.051563 242.738437)scale(0.1 -0.1)\">\r\n       <use xlink:href=\"#DejaVuSans-48\"/>\r\n       <use x=\"63.623047\" xlink:href=\"#DejaVuSans-46\"/>\r\n       <use x=\"95.410156\" xlink:href=\"#DejaVuSans-48\"/>\r\n      </g>\r\n     </g>\r\n    </g>\r\n    <g id=\"xtick_2\">\r\n     <g id=\"line2d_2\">\r\n      <g>\r\n       <use style=\"stroke:#000000;stroke-width:0.8;\" x=\"127.753125\" xlink:href=\"#mc6ce44622f\" y=\"228.14\"/>\r\n      </g>\r\n     </g>\r\n     <g id=\"text_2\">\r\n      <!-- 0.5 -->\r\n      <defs>\r\n       <path d=\"M 10.796875 72.90625 \r\nL 49.515625 72.90625 \r\nL 49.515625 64.59375 \r\nL 19.828125 64.59375 \r\nL 19.828125 46.734375 \r\nQ 21.96875 47.46875 24.109375 47.828125 \r\nQ 26.265625 48.1875 28.421875 48.1875 \r\nQ 40.625 48.1875 47.75 41.5 \r\nQ 54.890625 34.8125 54.890625 23.390625 \r\nQ 54.890625 11.625 47.5625 5.09375 \r\nQ 40.234375 -1.421875 26.90625 -1.421875 \r\nQ 22.3125 -1.421875 17.546875 -0.640625 \r\nQ 12.796875 0.140625 7.71875 1.703125 \r\nL 7.71875 11.625 \r\nQ 12.109375 9.234375 16.796875 8.0625 \r\nQ 21.484375 6.890625 26.703125 6.890625 \r\nQ 35.15625 6.890625 40.078125 11.328125 \r\nQ 45.015625 15.765625 45.015625 23.390625 \r\nQ 45.015625 31 40.078125 35.4375 \r\nQ 35.15625 39.890625 26.703125 39.890625 \r\nQ 22.75 39.890625 18.8125 39.015625 \r\nQ 14.890625 38.140625 10.796875 36.28125 \r\nz\r\n\" id=\"DejaVuSans-53\"/>\r\n      </defs>\r\n      <g transform=\"translate(119.801563 242.738437)scale(0.1 -0.1)\">\r\n       <use xlink:href=\"#DejaVuSans-48\"/>\r\n       <use x=\"63.623047\" xlink:href=\"#DejaVuSans-46\"/>\r\n       <use x=\"95.410156\" xlink:href=\"#DejaVuSans-53\"/>\r\n      </g>\r\n     </g>\r\n    </g>\r\n    <g id=\"xtick_3\">\r\n     <g id=\"line2d_3\">\r\n      <g>\r\n       <use style=\"stroke:#000000;stroke-width:0.8;\" x=\"197.503125\" xlink:href=\"#mc6ce44622f\" y=\"228.14\"/>\r\n      </g>\r\n     </g>\r\n     <g id=\"text_3\">\r\n      <!-- 1.0 -->\r\n      <defs>\r\n       <path d=\"M 12.40625 8.296875 \r\nL 28.515625 8.296875 \r\nL 28.515625 63.921875 \r\nL 10.984375 60.40625 \r\nL 10.984375 69.390625 \r\nL 28.421875 72.90625 \r\nL 38.28125 72.90625 \r\nL 38.28125 8.296875 \r\nL 54.390625 8.296875 \r\nL 54.390625 0 \r\nL 12.40625 0 \r\nz\r\n\" id=\"DejaVuSans-49\"/>\r\n      </defs>\r\n      <g transform=\"translate(189.551563 242.738437)scale(0.1 -0.1)\">\r\n       <use xlink:href=\"#DejaVuSans-49\"/>\r\n       <use x=\"63.623047\" xlink:href=\"#DejaVuSans-46\"/>\r\n       <use x=\"95.410156\" xlink:href=\"#DejaVuSans-48\"/>\r\n      </g>\r\n     </g>\r\n    </g>\r\n    <g id=\"xtick_4\">\r\n     <g id=\"line2d_4\">\r\n      <g>\r\n       <use style=\"stroke:#000000;stroke-width:0.8;\" x=\"267.253125\" xlink:href=\"#mc6ce44622f\" y=\"228.14\"/>\r\n      </g>\r\n     </g>\r\n     <g id=\"text_4\">\r\n      <!-- 1.5 -->\r\n      <g transform=\"translate(259.301563 242.738437)scale(0.1 -0.1)\">\r\n       <use xlink:href=\"#DejaVuSans-49\"/>\r\n       <use x=\"63.623047\" xlink:href=\"#DejaVuSans-46\"/>\r\n       <use x=\"95.410156\" xlink:href=\"#DejaVuSans-53\"/>\r\n      </g>\r\n     </g>\r\n    </g>\r\n    <g id=\"xtick_5\">\r\n     <g id=\"line2d_5\">\r\n      <g>\r\n       <use style=\"stroke:#000000;stroke-width:0.8;\" x=\"337.003125\" xlink:href=\"#mc6ce44622f\" y=\"228.14\"/>\r\n      </g>\r\n     </g>\r\n     <g id=\"text_5\">\r\n      <!-- 2.0 -->\r\n      <defs>\r\n       <path d=\"M 19.1875 8.296875 \r\nL 53.609375 8.296875 \r\nL 53.609375 0 \r\nL 7.328125 0 \r\nL 7.328125 8.296875 \r\nQ 12.9375 14.109375 22.625 23.890625 \r\nQ 32.328125 33.6875 34.8125 36.53125 \r\nQ 39.546875 41.84375 41.421875 45.53125 \r\nQ 43.3125 49.21875 43.3125 52.78125 \r\nQ 43.3125 58.59375 39.234375 62.25 \r\nQ 35.15625 65.921875 28.609375 65.921875 \r\nQ 23.96875 65.921875 18.8125 64.3125 \r\nQ 13.671875 62.703125 7.8125 59.421875 \r\nL 7.8125 69.390625 \r\nQ 13.765625 71.78125 18.9375 73 \r\nQ 24.125 74.21875 28.421875 74.21875 \r\nQ 39.75 74.21875 46.484375 68.546875 \r\nQ 53.21875 62.890625 53.21875 53.421875 \r\nQ 53.21875 48.921875 51.53125 44.890625 \r\nQ 49.859375 40.875 45.40625 35.40625 \r\nQ 44.1875 33.984375 37.640625 27.21875 \r\nQ 31.109375 20.453125 19.1875 8.296875 \r\nz\r\n\" id=\"DejaVuSans-50\"/>\r\n      </defs>\r\n      <g transform=\"translate(329.051563 242.738437)scale(0.1 -0.1)\">\r\n       <use xlink:href=\"#DejaVuSans-50\"/>\r\n       <use x=\"63.623047\" xlink:href=\"#DejaVuSans-46\"/>\r\n       <use x=\"95.410156\" xlink:href=\"#DejaVuSans-48\"/>\r\n      </g>\r\n     </g>\r\n    </g>\r\n   </g>\r\n   <g id=\"matplotlib.axis_2\">\r\n    <g id=\"ytick_1\">\r\n     <g id=\"line2d_6\">\r\n      <defs>\r\n       <path d=\"M 0 0 \r\nL -3.5 0 \r\n\" id=\"m9c6d96dc1a\" style=\"stroke:#000000;stroke-width:0.8;\"/>\r\n      </defs>\r\n      <g>\r\n       <use style=\"stroke:#000000;stroke-width:0.8;\" x=\"30.103125\" xlink:href=\"#m9c6d96dc1a\" y=\"210.02\"/>\r\n      </g>\r\n     </g>\r\n     <g id=\"text_6\">\r\n      <!-- 0.0 -->\r\n      <g transform=\"translate(7.2 213.819219)scale(0.1 -0.1)\">\r\n       <use xlink:href=\"#DejaVuSans-48\"/>\r\n       <use x=\"63.623047\" xlink:href=\"#DejaVuSans-46\"/>\r\n       <use x=\"95.410156\" xlink:href=\"#DejaVuSans-48\"/>\r\n      </g>\r\n     </g>\r\n    </g>\r\n    <g id=\"ytick_2\">\r\n     <g id=\"line2d_7\">\r\n      <g>\r\n       <use style=\"stroke:#000000;stroke-width:0.8;\" x=\"30.103125\" xlink:href=\"#m9c6d96dc1a\" y=\"164.72\"/>\r\n      </g>\r\n     </g>\r\n     <g id=\"text_7\">\r\n      <!-- 0.5 -->\r\n      <g transform=\"translate(7.2 168.519219)scale(0.1 -0.1)\">\r\n       <use xlink:href=\"#DejaVuSans-48\"/>\r\n       <use x=\"63.623047\" xlink:href=\"#DejaVuSans-46\"/>\r\n       <use x=\"95.410156\" xlink:href=\"#DejaVuSans-53\"/>\r\n      </g>\r\n     </g>\r\n    </g>\r\n    <g id=\"ytick_3\">\r\n     <g id=\"line2d_8\">\r\n      <g>\r\n       <use style=\"stroke:#000000;stroke-width:0.8;\" x=\"30.103125\" xlink:href=\"#m9c6d96dc1a\" y=\"119.42\"/>\r\n      </g>\r\n     </g>\r\n     <g id=\"text_8\">\r\n      <!-- 1.0 -->\r\n      <g transform=\"translate(7.2 123.219219)scale(0.1 -0.1)\">\r\n       <use xlink:href=\"#DejaVuSans-49\"/>\r\n       <use x=\"63.623047\" xlink:href=\"#DejaVuSans-46\"/>\r\n       <use x=\"95.410156\" xlink:href=\"#DejaVuSans-48\"/>\r\n      </g>\r\n     </g>\r\n    </g>\r\n    <g id=\"ytick_4\">\r\n     <g id=\"line2d_9\">\r\n      <g>\r\n       <use style=\"stroke:#000000;stroke-width:0.8;\" x=\"30.103125\" xlink:href=\"#m9c6d96dc1a\" y=\"74.12\"/>\r\n      </g>\r\n     </g>\r\n     <g id=\"text_9\">\r\n      <!-- 1.5 -->\r\n      <g transform=\"translate(7.2 77.919219)scale(0.1 -0.1)\">\r\n       <use xlink:href=\"#DejaVuSans-49\"/>\r\n       <use x=\"63.623047\" xlink:href=\"#DejaVuSans-46\"/>\r\n       <use x=\"95.410156\" xlink:href=\"#DejaVuSans-53\"/>\r\n      </g>\r\n     </g>\r\n    </g>\r\n    <g id=\"ytick_5\">\r\n     <g id=\"line2d_10\">\r\n      <g>\r\n       <use style=\"stroke:#000000;stroke-width:0.8;\" x=\"30.103125\" xlink:href=\"#m9c6d96dc1a\" y=\"28.82\"/>\r\n      </g>\r\n     </g>\r\n     <g id=\"text_10\">\r\n      <!-- 2.0 -->\r\n      <g transform=\"translate(7.2 32.619219)scale(0.1 -0.1)\">\r\n       <use xlink:href=\"#DejaVuSans-50\"/>\r\n       <use x=\"63.623047\" xlink:href=\"#DejaVuSans-46\"/>\r\n       <use x=\"95.410156\" xlink:href=\"#DejaVuSans-48\"/>\r\n      </g>\r\n     </g>\r\n    </g>\r\n   </g>\r\n   <g id=\"LineCollection_1\">\r\n    <path clip-path=\"url(#pebd45a07db)\" d=\"M 127.753125 164.72 \r\nL 267.253125 164.72 \r\n\" style=\"fill:none;stroke:#000000;\"/>\r\n    <path clip-path=\"url(#pebd45a07db)\" d=\"M 127.753125 74.12 \r\nL 267.253125 74.12 \r\n\" style=\"fill:none;stroke:#000000;\"/>\r\n    <path clip-path=\"url(#pebd45a07db)\" d=\"M 127.753125 164.72 \r\nL 127.753125 74.12 \r\n\" style=\"fill:none;stroke:#000000;\"/>\r\n    <path clip-path=\"url(#pebd45a07db)\" d=\"M 267.253125 164.72 \r\nL 267.253125 74.12 \r\n\" style=\"fill:none;stroke:#000000;\"/>\r\n   </g>\r\n   <g id=\"LineCollection_2\">\r\n    <path clip-path=\"url(#pebd45a07db)\" d=\"M 127.753125 164.72 \r\nL -1 164.72 \r\n\" style=\"fill:none;stroke:#000000;stroke-dasharray:3.7,1.6;stroke-dashoffset:0;\"/>\r\n    <path clip-path=\"url(#pebd45a07db)\" d=\"M 127.753125 164.72 \r\nL 127.753125 253.018125 \r\n\" style=\"fill:none;stroke:#000000;stroke-dasharray:3.7,1.6;stroke-dashoffset:0;\"/>\r\n    <path clip-path=\"url(#pebd45a07db)\" d=\"M 267.253125 164.72 \r\nL 267.253125 253.018125 \r\n\" style=\"fill:none;stroke:#000000;stroke-dasharray:3.7,1.6;stroke-dashoffset:0;\"/>\r\n    <path clip-path=\"url(#pebd45a07db)\" d=\"M 267.253125 164.72 \r\nL 376.603125 164.72 \r\n\" style=\"fill:none;stroke:#000000;stroke-dasharray:3.7,1.6;stroke-dashoffset:0;\"/>\r\n    <path clip-path=\"url(#pebd45a07db)\" d=\"M 267.253125 74.12 \r\nL 267.253125 -1 \r\n\" style=\"fill:none;stroke:#000000;stroke-dasharray:3.7,1.6;stroke-dashoffset:0;\"/>\r\n    <path clip-path=\"url(#pebd45a07db)\" d=\"M 127.753125 74.12 \r\nL 127.753125 -1 \r\n\" style=\"fill:none;stroke:#000000;stroke-dasharray:3.7,1.6;stroke-dashoffset:0;\"/>\r\n    <path clip-path=\"url(#pebd45a07db)\" d=\"M 267.253125 74.12 \r\nL 376.603125 74.12 \r\n\" style=\"fill:none;stroke:#000000;stroke-dasharray:3.7,1.6;stroke-dashoffset:0;\"/>\r\n    <path clip-path=\"url(#pebd45a07db)\" d=\"M 127.753125 74.12 \r\nL -1 74.12 \r\n\" style=\"fill:none;stroke:#000000;stroke-dasharray:3.7,1.6;stroke-dashoffset:0;\"/>\r\n   </g>\r\n   <g id=\"line2d_11\">\r\n    <defs>\r\n     <path d=\"M 0 1.5 \r\nC 0.397805 1.5 0.77937 1.341951 1.06066 1.06066 \r\nC 1.341951 0.77937 1.5 0.397805 1.5 0 \r\nC 1.5 -0.397805 1.341951 -0.77937 1.06066 -1.06066 \r\nC 0.77937 -1.341951 0.397805 -1.5 0 -1.5 \r\nC -0.397805 -1.5 -0.77937 -1.341951 -1.06066 -1.06066 \r\nC -1.341951 -0.77937 -1.5 -0.397805 -1.5 0 \r\nC -1.5 0.397805 -1.341951 0.77937 -1.06066 1.06066 \r\nC -0.77937 1.341951 -0.397805 1.5 0 1.5 \r\nz\r\n\" id=\"maa7e154fe7\" style=\"stroke:#1f77b4;\"/>\r\n    </defs>\r\n    <g clip-path=\"url(#pebd45a07db)\">\r\n     <use style=\"fill:#1f77b4;stroke:#1f77b4;\" x=\"58.003125\" xlink:href=\"#maa7e154fe7\" y=\"210.02\"/>\r\n     <use style=\"fill:#1f77b4;stroke:#1f77b4;\" x=\"58.003125\" xlink:href=\"#maa7e154fe7\" y=\"119.42\"/>\r\n     <use style=\"fill:#1f77b4;stroke:#1f77b4;\" x=\"58.003125\" xlink:href=\"#maa7e154fe7\" y=\"28.82\"/>\r\n     <use style=\"fill:#1f77b4;stroke:#1f77b4;\" x=\"197.503125\" xlink:href=\"#maa7e154fe7\" y=\"210.02\"/>\r\n     <use style=\"fill:#1f77b4;stroke:#1f77b4;\" x=\"197.503125\" xlink:href=\"#maa7e154fe7\" y=\"119.42\"/>\r\n     <use style=\"fill:#1f77b4;stroke:#1f77b4;\" x=\"197.503125\" xlink:href=\"#maa7e154fe7\" y=\"28.82\"/>\r\n     <use style=\"fill:#1f77b4;stroke:#1f77b4;\" x=\"337.003125\" xlink:href=\"#maa7e154fe7\" y=\"210.02\"/>\r\n     <use style=\"fill:#1f77b4;stroke:#1f77b4;\" x=\"337.003125\" xlink:href=\"#maa7e154fe7\" y=\"119.42\"/>\r\n     <use style=\"fill:#1f77b4;stroke:#1f77b4;\" x=\"337.003125\" xlink:href=\"#maa7e154fe7\" y=\"28.82\"/>\r\n    </g>\r\n   </g>\r\n   <g id=\"line2d_12\">\r\n    <defs>\r\n     <path d=\"M 0 3 \r\nC 0.795609 3 1.55874 2.683901 2.12132 2.12132 \r\nC 2.683901 1.55874 3 0.795609 3 0 \r\nC 3 -0.795609 2.683901 -1.55874 2.12132 -2.12132 \r\nC 1.55874 -2.683901 0.795609 -3 0 -3 \r\nC -0.795609 -3 -1.55874 -2.683901 -2.12132 -2.12132 \r\nC -2.683901 -1.55874 -3 -0.795609 -3 0 \r\nC -3 0.795609 -2.683901 1.55874 -2.12132 2.12132 \r\nC -1.55874 2.683901 -0.795609 3 0 3 \r\nz\r\n\" id=\"m25314a7ffc\" style=\"stroke:#ff7f0e;\"/>\r\n    </defs>\r\n    <g clip-path=\"url(#pebd45a07db)\">\r\n     <use style=\"fill:#ff7f0e;stroke:#ff7f0e;\" x=\"127.753125\" xlink:href=\"#m25314a7ffc\" y=\"164.72\"/>\r\n     <use style=\"fill:#ff7f0e;stroke:#ff7f0e;\" x=\"267.253125\" xlink:href=\"#m25314a7ffc\" y=\"164.72\"/>\r\n     <use style=\"fill:#ff7f0e;stroke:#ff7f0e;\" x=\"127.753125\" xlink:href=\"#m25314a7ffc\" y=\"74.12\"/>\r\n     <use style=\"fill:#ff7f0e;stroke:#ff7f0e;\" x=\"267.253125\" xlink:href=\"#m25314a7ffc\" y=\"74.12\"/>\r\n    </g>\r\n   </g>\r\n   <g id=\"patch_3\">\r\n    <path d=\"M 30.103125 228.14 \r\nL 30.103125 10.7 \r\n\" style=\"fill:none;stroke:#000000;stroke-linecap:square;stroke-linejoin:miter;stroke-width:0.8;\"/>\r\n   </g>\r\n   <g id=\"patch_4\">\r\n    <path d=\"M 364.903125 228.14 \r\nL 364.903125 10.7 \r\n\" style=\"fill:none;stroke:#000000;stroke-linecap:square;stroke-linejoin:miter;stroke-width:0.8;\"/>\r\n   </g>\r\n   <g id=\"patch_5\">\r\n    <path d=\"M 30.103125 228.14 \r\nL 364.903125 228.14 \r\n\" style=\"fill:none;stroke:#000000;stroke-linecap:square;stroke-linejoin:miter;stroke-width:0.8;\"/>\r\n   </g>\r\n   <g id=\"patch_6\">\r\n    <path d=\"M 30.103125 10.7 \r\nL 364.903125 10.7 \r\n\" style=\"fill:none;stroke:#000000;stroke-linecap:square;stroke-linejoin:miter;stroke-width:0.8;\"/>\r\n   </g>\r\n  </g>\r\n </g>\r\n <defs>\r\n  <clipPath id=\"pebd45a07db\">\r\n   <rect height=\"217.44\" width=\"334.8\" x=\"30.103125\" y=\"10.7\"/>\r\n  </clipPath>\r\n </defs>\r\n</svg>\r\n",
      "text/plain": [
       "<Figure size 432x288 with 1 Axes>"
      ]
     },
     "metadata": {},
     "output_type": "display_data"
    }
   ],
   "source": [
    "voronoi_plot_2d(vor)"
   ]
  },
  {
   "cell_type": "markdown",
   "metadata": {
    "ein.tags": "worksheet-0",
    "slideshow": {
     "slide_type": "-"
    }
   },
   "source": [
    "The values in `vor.regions` denote the set of points from `vor.vertices` forming\n",
    "the Polygonal edges of the Voronoi regions. Negative numbers indicate points at\n",
    "infinity.\n"
   ]
  },
  {
   "cell_type": "code",
   "execution_count": null,
   "metadata": {
    "autoscroll": false,
    "collapsed": false,
    "ein.hycell": false,
    "ein.tags": "worksheet-0",
    "slideshow": {
     "slide_type": "-"
    }
   },
   "outputs": [],
   "source": [
    "vor.regions"
   ]
  },
  {
   "cell_type": "markdown",
   "metadata": {
    "ein.tags": "worksheet-0",
    "slideshow": {
     "slide_type": "-"
    }
   },
   "source": [
    "`vor.ridge_vertices` indicate lines in 2-D that separate the regions. Voronoi\n",
    "ridges are perpendicular to lines drawn between the input points.\n",
    "`vor.ridge_points` are the two points each ridge corresponds to."
   ]
  },
  {
   "cell_type": "code",
   "execution_count": null,
   "metadata": {
    "autoscroll": false,
    "collapsed": false,
    "ein.hycell": false,
    "ein.tags": "worksheet-0",
    "slideshow": {
     "slide_type": "-"
    }
   },
   "outputs": [],
   "source": [
    "vor.ridge_points"
   ]
  },
  {
   "cell_type": "code",
   "execution_count": null,
   "metadata": {
    "autoscroll": false,
    "collapsed": false,
    "ein.hycell": false,
    "ein.tags": "worksheet-0",
    "slideshow": {
     "slide_type": "-"
    }
   },
   "outputs": [],
   "source": [
    "%pwd"
   ]
  },
  {
   "cell_type": "code",
   "execution_count": null,
   "metadata": {
    "autoscroll": false,
    "collapsed": false,
    "ein.hycell": false,
    "ein.tags": "worksheet-0",
    "slideshow": {
     "slide_type": "-"
    }
   },
   "outputs": [],
   "source": [
    "%run MapChunk.py"
   ]
  },
  {
   "cell_type": "markdown",
   "metadata": {
    "ein.tags": "worksheet-0",
    "slideshow": {
     "slide_type": "-"
    }
   },
   "source": [
    "### Generating a Map"
   ]
  },
  {
   "cell_type": "markdown",
   "metadata": {
    "ein.tags": "worksheet-0",
    "slideshow": {
     "slide_type": "-"
    }
   },
   "source": [
    "Grid dimensions corresponds roughly to number of points.\n",
    "\n",
    "Grid width * grid height = Points/polygons."
   ]
  },
  {
   "cell_type": "code",
   "execution_count": null,
   "metadata": {
    "autoscroll": false,
    "collapsed": false,
    "ein.hycell": false,
    "ein.tags": "worksheet-0",
    "slideshow": {
     "slide_type": "-"
    }
   },
   "outputs": [],
   "source": [
    "width, height = 100, 100\n",
    "seed = np.random.random((width*height, 2))"
   ]
  },
  {
   "cell_type": "code",
   "execution_count": null,
   "metadata": {
    "autoscroll": false,
    "collapsed": false,
    "ein.hycell": false,
    "ein.tags": "worksheet-0",
    "slideshow": {
     "slide_type": "-"
    }
   },
   "outputs": [],
   "source": [
    "plt.plot(seed[:,0], seed[:,1], 'ko')"
   ]
  },
  {
   "cell_type": "code",
   "execution_count": null,
   "metadata": {
    "autoscroll": false,
    "collapsed": false,
    "ein.hycell": false,
    "ein.tags": "worksheet-0",
    "slideshow": {
     "slide_type": "-"
    }
   },
   "outputs": [],
   "source": [
    "relaxed = relax(seed, 4)"
   ]
  },
  {
   "cell_type": "code",
   "execution_count": null,
   "metadata": {
    "autoscroll": false,
    "collapsed": false,
    "ein.hycell": false,
    "ein.tags": "worksheet-0",
    "slideshow": {
     "slide_type": "-"
    }
   },
   "outputs": [],
   "source": [
    "polymap = Voronoi(relaxed)"
   ]
  },
  {
   "cell_type": "markdown",
   "metadata": {
    "ein.tags": "worksheet-0",
    "slideshow": {
     "slide_type": "-"
    }
   },
   "source": [
    "Zoom in a bit to see if this is working."
   ]
  },
  {
   "cell_type": "code",
   "execution_count": null,
   "metadata": {
    "autoscroll": false,
    "collapsed": false,
    "ein.hycell": false,
    "ein.tags": "worksheet-0",
    "slideshow": {
     "slide_type": "-"
    }
   },
   "outputs": [],
   "source": [
    "fig = plt.plot(relaxed[:,0], relaxed[:,1], 'ko')\n",
    "plt.xlim([0.4, 0.5])\n",
    "plt.ylim([0.4, 0.5])"
   ]
  },
  {
   "cell_type": "code",
   "execution_count": null,
   "metadata": {
    "autoscroll": false,
    "collapsed": false,
    "ein.hycell": false,
    "ein.tags": "worksheet-0",
    "slideshow": {
     "slide_type": "-"
    }
   },
   "outputs": [],
   "source": [
    "voronoi_plot_2d(polymap)\n",
    "plt.xlim([0.4, 0.5])\n",
    "plt.ylim([0.4, 0.5])\n"
   ]
  },
  {
   "cell_type": "code",
   "execution_count": null,
   "metadata": {
    "autoscroll": false,
    "collapsed": false,
    "ein.hycell": false,
    "ein.tags": "worksheet-0",
    "slideshow": {
     "slide_type": "-"
    }
   },
   "outputs": [],
   "source": [
    "nearest = KDTree(polymap.points)"
   ]
  },
  {
   "cell_type": "code",
   "execution_count": null,
   "metadata": {
    "autoscroll": false,
    "collapsed": false,
    "ein.hycell": false,
    "ein.tags": "worksheet-0",
    "slideshow": {
     "slide_type": "-"
    }
   },
   "outputs": [],
   "source": [
    "nearest.query([0.983, 0.148])"
   ]
  },
  {
   "cell_type": "code",
   "execution_count": null,
   "metadata": {
    "autoscroll": false,
    "collapsed": false,
    "ein.hycell": false,
    "ein.tags": "worksheet-0",
    "slideshow": {
     "slide_type": "-"
    }
   },
   "outputs": [],
   "source": [
    "nearest.data[0]"
   ]
  },
  {
   "cell_type": "markdown",
   "metadata": {
    "ein.tags": "worksheet-0",
    "slideshow": {
     "slide_type": "-"
    }
   },
   "source": [
    "## Map Representation"
   ]
  },
  {
   "cell_type": "markdown",
   "metadata": {
    "ein.tags": "worksheet-0",
    "slideshow": {
     "slide_type": "-"
    }
   },
   "source": [
    "Now comes the task of storing points and polygons to a graph."
   ]
  },
  {
   "cell_type": "markdown",
   "metadata": {
    "ein.tags": "worksheet-0",
    "slideshow": {
     "slide_type": "-"
    }
   },
   "source": [
    " - Voronoi.vertices gives list of vertices (bound?) forming voronoi regions,\n",
    "\n",
    " - voronoi.ridge_vertices tells us how the vertices are connected.\n",
    "\n",
    " - voronoi.ridge_points are the two points on either side of a given ridge.\n",
    "\n",
    " - voronoi.region are the vertices that form a polygon for a given voronoi\n",
    "   region.\n",
    "\n",
    "   The relaxing algorithm will take a point and get the voronoi region for that\n",
    "   point. If there are no negative indices then computing the centroid is easy.\n",
    "   If not, then the question is where do(es) the infinite point(s) lay?\n",
    "\n",
    "   The number of ridges for a region = number of edges for the polygon. Number\n",
    "   of vertices for polygon == n_edges\n",
    "\n",
    "   First do we find the ridge_points connected to point?"
   ]
  },
  {
   "cell_type": "code",
   "execution_count": null,
   "metadata": {
    "autoscroll": false,
    "collapsed": false,
    "ein.hycell": false,
    "ein.tags": "worksheet-0",
    "slideshow": {
     "slide_type": "-"
    }
   },
   "outputs": [],
   "source": [
    "polymap.ridge_vertices[2]"
   ]
  },
  {
   "cell_type": "markdown",
   "metadata": {
    "ein.tags": "worksheet-0",
    "slideshow": {
     "slide_type": "-"
    }
   },
   "source": [
    "Graph is the fundamental data structure for representing the world.\n"
   ]
  },
  {
   "cell_type": "code",
   "execution_count": null,
   "metadata": {
    "autoscroll": false,
    "collapsed": false,
    "ein.hycell": false,
    "ein.tags": "worksheet-0",
    "slideshow": {
     "slide_type": "-"
    }
   },
   "outputs": [],
   "source": [
    "import networkx as nx\n"
   ]
  },
  {
   "cell_type": "markdown",
   "metadata": {
    "ein.tags": "worksheet-0",
    "slideshow": {
     "slide_type": "-"
    }
   },
   "source": [
    "One graph for polygons, another for polygon corner (vertex?).\n",
    "\n",
    "Nodes are the points/vertices, but their values need to be hashable so make the\n",
    "nodes the indexes of the points/vertices in the Voronoi object.\n",
    "\n",
    "Edges are enumerated in ridge_vertices and ridge_points. ridge_points shows\n",
    "relationships between points, ridge_vertices between vertices."
   ]
  },
  {
   "cell_type": "code",
   "execution_count": null,
   "metadata": {
    "autoscroll": false,
    "collapsed": false,
    "ein.hycell": false,
    "ein.tags": "worksheet-0",
    "slideshow": {
     "slide_type": "-"
    }
   },
   "outputs": [],
   "source": [
    "@attr.s\n",
    "class PolyFeature(object):\n",
    "    idx = attr.ib()\n",
    "    parent = attr.ib()\n",
    "    center = attr.ib()\n",
    "    elevation = attr.ib(default=0.0)\n",
    "    precipitation = attr.ib(default=0.0)\n",
    "    temperature = attr.ib(default=0.0)\n",
    "    color = attr.ib(default=0.0)"
   ]
  },
  {
   "cell_type": "code",
   "execution_count": null,
   "metadata": {
    "autoscroll": false,
    "collapsed": false,
    "ein.hycell": false,
    "ein.tags": "worksheet-0",
    "slideshow": {
     "slide_type": "-"
    }
   },
   "outputs": [],
   "source": [
    "corners = nx.Graph()\n",
    "polys = nx.Graph()\n",
    "points = relax(np.random.random((100*100,2)), 4)\n",
    "polymap = Voronoi(points)\n",
    "dist_map = KDTree(points)"
   ]
  },
  {
   "cell_type": "code",
   "execution_count": null,
   "metadata": {
    "autoscroll": false,
    "collapsed": false,
    "ein.hycell": false,
    "ein.tags": "worksheet-0",
    "slideshow": {
     "slide_type": "-"
    }
   },
   "outputs": [],
   "source": [
    "len(polymap.points)"
   ]
  },
  {
   "cell_type": "code",
   "execution_count": null,
   "metadata": {
    "autoscroll": false,
    "collapsed": false,
    "ein.hycell": false,
    "ein.tags": "worksheet-0",
    "slideshow": {
     "slide_type": "-"
    }
   },
   "outputs": [],
   "source": [
    "for p in range(len(polymap.points)):\n",
    "    f = PolyFeature(idx=p, map=polys, center=polymap.points[p])\n",
    "    polys.add_node(p, feature=f)\n",
    "\n",
    "for rp in polymap.ridge_points:\n",
    "    polys.add_edge(*rp.tolist())\n",
    "\n",
    "for c in range(len(polymap.vertices)):\n",
    "    corners.add_node(c)\n",
    "\n",
    "for rv in polymap.ridge_vertices:\n",
    "    corners.add_edge(*rv)"
   ]
  },
  {
   "cell_type": "code",
   "execution_count": null,
   "metadata": {
    "autoscroll": false,
    "collapsed": false,
    "ein.hycell": false,
    "ein.tags": "worksheet-0",
    "slideshow": {
     "slide_type": "-"
    }
   },
   "outputs": [],
   "source": [
    "polys.node[1]"
   ]
  },
  {
   "cell_type": "code",
   "execution_count": null,
   "metadata": {
    "autoscroll": false,
    "collapsed": false,
    "ein.hycell": false,
    "ein.tags": "worksheet-0",
    "slideshow": {
     "slide_type": "-"
    }
   },
   "outputs": [],
   "source": [
    "dist_map.query([0.0, 0.0])"
   ]
  },
  {
   "cell_type": "code",
   "execution_count": null,
   "metadata": {
    "autoscroll": false,
    "collapsed": false,
    "ein.hycell": false,
    "ein.tags": "worksheet-0",
    "slideshow": {
     "slide_type": "-"
    }
   },
   "outputs": [],
   "source": [
    "polys.node[9575]"
   ]
  },
  {
   "cell_type": "code",
   "execution_count": null,
   "metadata": {
    "autoscroll": false,
    "collapsed": false,
    "ein.hycell": false,
    "ein.tags": "worksheet-0",
    "slideshow": {
     "slide_type": "-"
    }
   },
   "outputs": [],
   "source": [
    "polymap.points[9575]"
   ]
  },
  {
   "cell_type": "markdown",
   "metadata": {
    "ein.tags": "worksheet-0",
    "slideshow": {
     "slide_type": "-"
    }
   },
   "source": [
    "## Exploration"
   ]
  },
  {
   "cell_type": "code",
   "execution_count": 1,
   "metadata": {
    "autoscroll": false,
    "collapsed": false,
    "ein.hycell": false,
    "ein.tags": "worksheet-0",
    "slideshow": {
     "slide_type": "-"
    }
   },
   "outputs": [],
   "source": [
    "%run MapChunk.py"
   ]
  },
  {
   "cell_type": "code",
   "execution_count": 2,
   "metadata": {
    "autoscroll": false,
    "collapsed": false,
    "ein.hycell": false,
    "ein.tags": "worksheet-0",
    "slideshow": {
     "slide_type": "-"
    }
   },
   "outputs": [],
   "source": [
    "map = PolygonMap(feature_cnt=500, width=100.0, height=100.0)"
   ]
  },
  {
   "cell_type": "code",
   "execution_count": 3,
   "metadata": {
    "autoscroll": false,
    "collapsed": false,
    "ein.hycell": false,
    "ein.tags": "worksheet-0",
    "slideshow": {
     "slide_type": "-"
    }
   },
   "outputs": [
    {
     "data": {
      "text/plain": [
       "100.0"
      ]
     },
     "execution_count": 3,
     "metadata": {},
     "output_type": "execute_result"
    }
   ],
   "source": [
    "map.width"
   ]
  },
  {
   "cell_type": "code",
   "execution_count": 5,
   "metadata": {
    "autoscroll": false,
    "collapsed": false,
    "ein.hycell": false,
    "ein.tags": "worksheet-0",
    "slideshow": {
     "slide_type": "-"
    }
   },
   "outputs": [
    {
     "name": "stdout",
     "output_type": "stream",
     "text": [
      "99.8 µs ± 1.47 µs per loop (mean ± std. dev. of 7 runs, 10000 loops each)\n"
     ]
    }
   ],
   "source": [
    "%timeit map[0,0]"
   ]
  },
  {
   "cell_type": "code",
   "execution_count": 6,
   "metadata": {
    "autoscroll": false,
    "collapsed": false,
    "ein.hycell": false,
    "ein.tags": "worksheet-0",
    "slideshow": {
     "slide_type": "-"
    }
   },
   "outputs": [],
   "source": [
    "hm = map.terrain_to_hm('elevation')"
   ]
  },
  {
   "cell_type": "code",
   "execution_count": 9,
   "metadata": {
    "autoscroll": false,
    "collapsed": false,
    "ein.hycell": false,
    "ein.tags": "worksheet-0",
    "slideshow": {
     "slide_type": "-"
    }
   },
   "outputs": [
    {
     "data": {
      "text/plain": [
       "[<matplotlib.lines.Line2D at 0x17f80839048>]"
      ]
     },
     "execution_count": 9,
     "metadata": {},
     "output_type": "execute_result"
    },
    {
     "data": {
      "image/svg+xml": [
       "<?xml version=\"1.0\" encoding=\"utf-8\" standalone=\"no\"?>\r\n<!DOCTYPE svg PUBLIC \"-//W3C//DTD SVG 1.1//EN\"\r\n  \"http://www.w3.org/Graphics/SVG/1.1/DTD/svg11.dtd\">\r\n<!-- Created with matplotlib (https://matplotlib.org/) -->\r\n<svg height=\"252.018125pt\" version=\"1.1\" viewBox=\"0 0 378.7875 252.018125\" width=\"378.7875pt\" xmlns=\"http://www.w3.org/2000/svg\" xmlns:xlink=\"http://www.w3.org/1999/xlink\">\r\n <defs>\r\n  <style type=\"text/css\">\r\n*{stroke-linecap:butt;stroke-linejoin:round;}\r\n  </style>\r\n </defs>\r\n <g id=\"figure_1\">\r\n  <g id=\"patch_1\">\r\n   <path d=\"M 0 252.018125 \r\nL 378.7875 252.018125 \r\nL 378.7875 0 \r\nL 0 0 \r\nz\r\n\" style=\"fill:none;\"/>\r\n  </g>\r\n  <g id=\"axes_1\">\r\n   <g id=\"patch_2\">\r\n    <path d=\"M 33.2875 228.14 \r\nL 368.0875 228.14 \r\nL 368.0875 10.7 \r\nL 33.2875 10.7 \r\nz\r\n\" style=\"fill:#ffffff;\"/>\r\n   </g>\r\n   <g id=\"matplotlib.axis_1\">\r\n    <g id=\"xtick_1\">\r\n     <g id=\"line2d_1\">\r\n      <defs>\r\n       <path d=\"M 0 0 \r\nL 0 3.5 \r\n\" id=\"me12d667f24\" style=\"stroke:#000000;stroke-width:0.8;\"/>\r\n      </defs>\r\n      <g>\r\n       <use style=\"stroke:#000000;stroke-width:0.8;\" x=\"48.037897\" xlink:href=\"#me12d667f24\" y=\"228.14\"/>\r\n      </g>\r\n     </g>\r\n     <g id=\"text_1\">\r\n      <!-- 0 -->\r\n      <defs>\r\n       <path d=\"M 31.78125 66.40625 \r\nQ 24.171875 66.40625 20.328125 58.90625 \r\nQ 16.5 51.421875 16.5 36.375 \r\nQ 16.5 21.390625 20.328125 13.890625 \r\nQ 24.171875 6.390625 31.78125 6.390625 \r\nQ 39.453125 6.390625 43.28125 13.890625 \r\nQ 47.125 21.390625 47.125 36.375 \r\nQ 47.125 51.421875 43.28125 58.90625 \r\nQ 39.453125 66.40625 31.78125 66.40625 \r\nz\r\nM 31.78125 74.21875 \r\nQ 44.046875 74.21875 50.515625 64.515625 \r\nQ 56.984375 54.828125 56.984375 36.375 \r\nQ 56.984375 17.96875 50.515625 8.265625 \r\nQ 44.046875 -1.421875 31.78125 -1.421875 \r\nQ 19.53125 -1.421875 13.0625 8.265625 \r\nQ 6.59375 17.96875 6.59375 36.375 \r\nQ 6.59375 54.828125 13.0625 64.515625 \r\nQ 19.53125 74.21875 31.78125 74.21875 \r\nz\r\n\" id=\"DejaVuSans-48\"/>\r\n      </defs>\r\n      <g transform=\"translate(44.856647 242.738437)scale(0.1 -0.1)\">\r\n       <use xlink:href=\"#DejaVuSans-48\"/>\r\n      </g>\r\n     </g>\r\n    </g>\r\n    <g id=\"xtick_2\">\r\n     <g id=\"line2d_2\">\r\n      <g>\r\n       <use style=\"stroke:#000000;stroke-width:0.8;\" x=\"109.151367\" xlink:href=\"#me12d667f24\" y=\"228.14\"/>\r\n      </g>\r\n     </g>\r\n     <g id=\"text_2\">\r\n      <!-- 20 -->\r\n      <defs>\r\n       <path d=\"M 19.1875 8.296875 \r\nL 53.609375 8.296875 \r\nL 53.609375 0 \r\nL 7.328125 0 \r\nL 7.328125 8.296875 \r\nQ 12.9375 14.109375 22.625 23.890625 \r\nQ 32.328125 33.6875 34.8125 36.53125 \r\nQ 39.546875 41.84375 41.421875 45.53125 \r\nQ 43.3125 49.21875 43.3125 52.78125 \r\nQ 43.3125 58.59375 39.234375 62.25 \r\nQ 35.15625 65.921875 28.609375 65.921875 \r\nQ 23.96875 65.921875 18.8125 64.3125 \r\nQ 13.671875 62.703125 7.8125 59.421875 \r\nL 7.8125 69.390625 \r\nQ 13.765625 71.78125 18.9375 73 \r\nQ 24.125 74.21875 28.421875 74.21875 \r\nQ 39.75 74.21875 46.484375 68.546875 \r\nQ 53.21875 62.890625 53.21875 53.421875 \r\nQ 53.21875 48.921875 51.53125 44.890625 \r\nQ 49.859375 40.875 45.40625 35.40625 \r\nQ 44.1875 33.984375 37.640625 27.21875 \r\nQ 31.109375 20.453125 19.1875 8.296875 \r\nz\r\n\" id=\"DejaVuSans-50\"/>\r\n      </defs>\r\n      <g transform=\"translate(102.788867 242.738437)scale(0.1 -0.1)\">\r\n       <use xlink:href=\"#DejaVuSans-50\"/>\r\n       <use x=\"63.623047\" xlink:href=\"#DejaVuSans-48\"/>\r\n      </g>\r\n     </g>\r\n    </g>\r\n    <g id=\"xtick_3\">\r\n     <g id=\"line2d_3\">\r\n      <g>\r\n       <use style=\"stroke:#000000;stroke-width:0.8;\" x=\"170.264837\" xlink:href=\"#me12d667f24\" y=\"228.14\"/>\r\n      </g>\r\n     </g>\r\n     <g id=\"text_3\">\r\n      <!-- 40 -->\r\n      <defs>\r\n       <path d=\"M 37.796875 64.3125 \r\nL 12.890625 25.390625 \r\nL 37.796875 25.390625 \r\nz\r\nM 35.203125 72.90625 \r\nL 47.609375 72.90625 \r\nL 47.609375 25.390625 \r\nL 58.015625 25.390625 \r\nL 58.015625 17.1875 \r\nL 47.609375 17.1875 \r\nL 47.609375 0 \r\nL 37.796875 0 \r\nL 37.796875 17.1875 \r\nL 4.890625 17.1875 \r\nL 4.890625 26.703125 \r\nz\r\n\" id=\"DejaVuSans-52\"/>\r\n      </defs>\r\n      <g transform=\"translate(163.902337 242.738437)scale(0.1 -0.1)\">\r\n       <use xlink:href=\"#DejaVuSans-52\"/>\r\n       <use x=\"63.623047\" xlink:href=\"#DejaVuSans-48\"/>\r\n      </g>\r\n     </g>\r\n    </g>\r\n    <g id=\"xtick_4\">\r\n     <g id=\"line2d_4\">\r\n      <g>\r\n       <use style=\"stroke:#000000;stroke-width:0.8;\" x=\"231.378306\" xlink:href=\"#me12d667f24\" y=\"228.14\"/>\r\n      </g>\r\n     </g>\r\n     <g id=\"text_4\">\r\n      <!-- 60 -->\r\n      <defs>\r\n       <path d=\"M 33.015625 40.375 \r\nQ 26.375 40.375 22.484375 35.828125 \r\nQ 18.609375 31.296875 18.609375 23.390625 \r\nQ 18.609375 15.53125 22.484375 10.953125 \r\nQ 26.375 6.390625 33.015625 6.390625 \r\nQ 39.65625 6.390625 43.53125 10.953125 \r\nQ 47.40625 15.53125 47.40625 23.390625 \r\nQ 47.40625 31.296875 43.53125 35.828125 \r\nQ 39.65625 40.375 33.015625 40.375 \r\nz\r\nM 52.59375 71.296875 \r\nL 52.59375 62.3125 \r\nQ 48.875 64.0625 45.09375 64.984375 \r\nQ 41.3125 65.921875 37.59375 65.921875 \r\nQ 27.828125 65.921875 22.671875 59.328125 \r\nQ 17.53125 52.734375 16.796875 39.40625 \r\nQ 19.671875 43.65625 24.015625 45.921875 \r\nQ 28.375 48.1875 33.59375 48.1875 \r\nQ 44.578125 48.1875 50.953125 41.515625 \r\nQ 57.328125 34.859375 57.328125 23.390625 \r\nQ 57.328125 12.15625 50.6875 5.359375 \r\nQ 44.046875 -1.421875 33.015625 -1.421875 \r\nQ 20.359375 -1.421875 13.671875 8.265625 \r\nQ 6.984375 17.96875 6.984375 36.375 \r\nQ 6.984375 53.65625 15.1875 63.9375 \r\nQ 23.390625 74.21875 37.203125 74.21875 \r\nQ 40.921875 74.21875 44.703125 73.484375 \r\nQ 48.484375 72.75 52.59375 71.296875 \r\nz\r\n\" id=\"DejaVuSans-54\"/>\r\n      </defs>\r\n      <g transform=\"translate(225.015806 242.738437)scale(0.1 -0.1)\">\r\n       <use xlink:href=\"#DejaVuSans-54\"/>\r\n       <use x=\"63.623047\" xlink:href=\"#DejaVuSans-48\"/>\r\n      </g>\r\n     </g>\r\n    </g>\r\n    <g id=\"xtick_5\">\r\n     <g id=\"line2d_5\">\r\n      <g>\r\n       <use style=\"stroke:#000000;stroke-width:0.8;\" x=\"292.491776\" xlink:href=\"#me12d667f24\" y=\"228.14\"/>\r\n      </g>\r\n     </g>\r\n     <g id=\"text_5\">\r\n      <!-- 80 -->\r\n      <defs>\r\n       <path d=\"M 31.78125 34.625 \r\nQ 24.75 34.625 20.71875 30.859375 \r\nQ 16.703125 27.09375 16.703125 20.515625 \r\nQ 16.703125 13.921875 20.71875 10.15625 \r\nQ 24.75 6.390625 31.78125 6.390625 \r\nQ 38.8125 6.390625 42.859375 10.171875 \r\nQ 46.921875 13.96875 46.921875 20.515625 \r\nQ 46.921875 27.09375 42.890625 30.859375 \r\nQ 38.875 34.625 31.78125 34.625 \r\nz\r\nM 21.921875 38.8125 \r\nQ 15.578125 40.375 12.03125 44.71875 \r\nQ 8.5 49.078125 8.5 55.328125 \r\nQ 8.5 64.0625 14.71875 69.140625 \r\nQ 20.953125 74.21875 31.78125 74.21875 \r\nQ 42.671875 74.21875 48.875 69.140625 \r\nQ 55.078125 64.0625 55.078125 55.328125 \r\nQ 55.078125 49.078125 51.53125 44.71875 \r\nQ 48 40.375 41.703125 38.8125 \r\nQ 48.828125 37.15625 52.796875 32.3125 \r\nQ 56.78125 27.484375 56.78125 20.515625 \r\nQ 56.78125 9.90625 50.3125 4.234375 \r\nQ 43.84375 -1.421875 31.78125 -1.421875 \r\nQ 19.734375 -1.421875 13.25 4.234375 \r\nQ 6.78125 9.90625 6.78125 20.515625 \r\nQ 6.78125 27.484375 10.78125 32.3125 \r\nQ 14.796875 37.15625 21.921875 38.8125 \r\nz\r\nM 18.3125 54.390625 \r\nQ 18.3125 48.734375 21.84375 45.5625 \r\nQ 25.390625 42.390625 31.78125 42.390625 \r\nQ 38.140625 42.390625 41.71875 45.5625 \r\nQ 45.3125 48.734375 45.3125 54.390625 \r\nQ 45.3125 60.0625 41.71875 63.234375 \r\nQ 38.140625 66.40625 31.78125 66.40625 \r\nQ 25.390625 66.40625 21.84375 63.234375 \r\nQ 18.3125 60.0625 18.3125 54.390625 \r\nz\r\n\" id=\"DejaVuSans-56\"/>\r\n      </defs>\r\n      <g transform=\"translate(286.129276 242.738437)scale(0.1 -0.1)\">\r\n       <use xlink:href=\"#DejaVuSans-56\"/>\r\n       <use x=\"63.623047\" xlink:href=\"#DejaVuSans-48\"/>\r\n      </g>\r\n     </g>\r\n    </g>\r\n    <g id=\"xtick_6\">\r\n     <g id=\"line2d_6\">\r\n      <g>\r\n       <use style=\"stroke:#000000;stroke-width:0.8;\" x=\"353.605245\" xlink:href=\"#me12d667f24\" y=\"228.14\"/>\r\n      </g>\r\n     </g>\r\n     <g id=\"text_6\">\r\n      <!-- 100 -->\r\n      <defs>\r\n       <path d=\"M 12.40625 8.296875 \r\nL 28.515625 8.296875 \r\nL 28.515625 63.921875 \r\nL 10.984375 60.40625 \r\nL 10.984375 69.390625 \r\nL 28.421875 72.90625 \r\nL 38.28125 72.90625 \r\nL 38.28125 8.296875 \r\nL 54.390625 8.296875 \r\nL 54.390625 0 \r\nL 12.40625 0 \r\nz\r\n\" id=\"DejaVuSans-49\"/>\r\n      </defs>\r\n      <g transform=\"translate(344.061495 242.738437)scale(0.1 -0.1)\">\r\n       <use xlink:href=\"#DejaVuSans-49\"/>\r\n       <use x=\"63.623047\" xlink:href=\"#DejaVuSans-48\"/>\r\n       <use x=\"127.246094\" xlink:href=\"#DejaVuSans-48\"/>\r\n      </g>\r\n     </g>\r\n    </g>\r\n   </g>\r\n   <g id=\"matplotlib.axis_2\">\r\n    <g id=\"ytick_1\">\r\n     <g id=\"line2d_7\">\r\n      <defs>\r\n       <path d=\"M 0 0 \r\nL -3.5 0 \r\n\" id=\"meb0b9acb75\" style=\"stroke:#000000;stroke-width:0.8;\"/>\r\n      </defs>\r\n      <g>\r\n       <use style=\"stroke:#000000;stroke-width:0.8;\" x=\"33.2875\" xlink:href=\"#meb0b9acb75\" y=\"218.719783\"/>\r\n      </g>\r\n     </g>\r\n     <g id=\"text_7\">\r\n      <!-- 0 -->\r\n      <g transform=\"translate(19.925 222.519001)scale(0.1 -0.1)\">\r\n       <use xlink:href=\"#DejaVuSans-48\"/>\r\n      </g>\r\n     </g>\r\n    </g>\r\n    <g id=\"ytick_2\">\r\n     <g id=\"line2d_8\">\r\n      <g>\r\n       <use style=\"stroke:#000000;stroke-width:0.8;\" x=\"33.2875\" xlink:href=\"#meb0b9acb75\" y=\"179.087847\"/>\r\n      </g>\r\n     </g>\r\n     <g id=\"text_8\">\r\n      <!-- 20 -->\r\n      <g transform=\"translate(13.5625 182.887066)scale(0.1 -0.1)\">\r\n       <use xlink:href=\"#DejaVuSans-50\"/>\r\n       <use x=\"63.623047\" xlink:href=\"#DejaVuSans-48\"/>\r\n      </g>\r\n     </g>\r\n    </g>\r\n    <g id=\"ytick_3\">\r\n     <g id=\"line2d_9\">\r\n      <g>\r\n       <use style=\"stroke:#000000;stroke-width:0.8;\" x=\"33.2875\" xlink:href=\"#meb0b9acb75\" y=\"139.455911\"/>\r\n      </g>\r\n     </g>\r\n     <g id=\"text_9\">\r\n      <!-- 40 -->\r\n      <g transform=\"translate(13.5625 143.25513)scale(0.1 -0.1)\">\r\n       <use xlink:href=\"#DejaVuSans-52\"/>\r\n       <use x=\"63.623047\" xlink:href=\"#DejaVuSans-48\"/>\r\n      </g>\r\n     </g>\r\n    </g>\r\n    <g id=\"ytick_4\">\r\n     <g id=\"line2d_10\">\r\n      <g>\r\n       <use style=\"stroke:#000000;stroke-width:0.8;\" x=\"33.2875\" xlink:href=\"#meb0b9acb75\" y=\"99.823975\"/>\r\n      </g>\r\n     </g>\r\n     <g id=\"text_10\">\r\n      <!-- 60 -->\r\n      <g transform=\"translate(13.5625 103.623194)scale(0.1 -0.1)\">\r\n       <use xlink:href=\"#DejaVuSans-54\"/>\r\n       <use x=\"63.623047\" xlink:href=\"#DejaVuSans-48\"/>\r\n      </g>\r\n     </g>\r\n    </g>\r\n    <g id=\"ytick_5\">\r\n     <g id=\"line2d_11\">\r\n      <g>\r\n       <use style=\"stroke:#000000;stroke-width:0.8;\" x=\"33.2875\" xlink:href=\"#meb0b9acb75\" y=\"60.192039\"/>\r\n      </g>\r\n     </g>\r\n     <g id=\"text_11\">\r\n      <!-- 80 -->\r\n      <g transform=\"translate(13.5625 63.991258)scale(0.1 -0.1)\">\r\n       <use xlink:href=\"#DejaVuSans-56\"/>\r\n       <use x=\"63.623047\" xlink:href=\"#DejaVuSans-48\"/>\r\n      </g>\r\n     </g>\r\n    </g>\r\n    <g id=\"ytick_6\">\r\n     <g id=\"line2d_12\">\r\n      <g>\r\n       <use style=\"stroke:#000000;stroke-width:0.8;\" x=\"33.2875\" xlink:href=\"#meb0b9acb75\" y=\"20.560104\"/>\r\n      </g>\r\n     </g>\r\n     <g id=\"text_12\">\r\n      <!-- 100 -->\r\n      <g transform=\"translate(7.2 24.359322)scale(0.1 -0.1)\">\r\n       <use xlink:href=\"#DejaVuSans-49\"/>\r\n       <use x=\"63.623047\" xlink:href=\"#DejaVuSans-48\"/>\r\n       <use x=\"127.246094\" xlink:href=\"#DejaVuSans-48\"/>\r\n      </g>\r\n     </g>\r\n    </g>\r\n   </g>\r\n   <g id=\"line2d_13\">\r\n    <defs>\r\n     <path d=\"M 0 3 \r\nC 0.795609 3 1.55874 2.683901 2.12132 2.12132 \r\nC 2.683901 1.55874 3 0.795609 3 0 \r\nC 3 -0.795609 2.683901 -1.55874 2.12132 -2.12132 \r\nC 1.55874 -2.683901 0.795609 -3 0 -3 \r\nC -0.795609 -3 -1.55874 -2.683901 -2.12132 -2.12132 \r\nC -2.683901 -1.55874 -3 -0.795609 -3 0 \r\nC -3 0.795609 -2.683901 1.55874 -2.12132 2.12132 \r\nC -1.55874 2.683901 -0.795609 3 0 3 \r\nz\r\n\" id=\"m00734df398\" style=\"stroke:#000000;\"/>\r\n    </defs>\r\n    <g clip-path=\"url(#p9ae5706c1c)\">\r\n     <use style=\"stroke:#000000;\" x=\"253.228886\" xlink:href=\"#m00734df398\" y=\"104.477584\"/>\r\n     <use style=\"stroke:#000000;\" x=\"270.965671\" xlink:href=\"#m00734df398\" y=\"86.684694\"/>\r\n     <use style=\"stroke:#000000;\" x=\"296.820633\" xlink:href=\"#m00734df398\" y=\"43.689095\"/>\r\n     <use style=\"stroke:#000000;\" x=\"215.681615\" xlink:href=\"#m00734df398\" y=\"121.276094\"/>\r\n     <use style=\"stroke:#000000;\" x=\"59.199468\" xlink:href=\"#m00734df398\" y=\"114.363943\"/>\r\n     <use style=\"stroke:#000000;\" x=\"161.717481\" xlink:href=\"#m00734df398\" y=\"137.555577\"/>\r\n     <use style=\"stroke:#000000;\" x=\"292.706279\" xlink:href=\"#m00734df398\" y=\"184.216404\"/>\r\n     <use style=\"stroke:#000000;\" x=\"203.997806\" xlink:href=\"#m00734df398\" y=\"32.828167\"/>\r\n     <use style=\"stroke:#000000;\" x=\"105.41383\" xlink:href=\"#m00734df398\" y=\"35.392532\"/>\r\n     <use style=\"stroke:#000000;\" x=\"151.93302\" xlink:href=\"#m00734df398\" y=\"123.113311\"/>\r\n     <use style=\"stroke:#000000;\" x=\"221.795657\" xlink:href=\"#m00734df398\" y=\"20.737648\"/>\r\n     <use style=\"stroke:#000000;\" x=\"210.234129\" xlink:href=\"#m00734df398\" y=\"90.065027\"/>\r\n     <use style=\"stroke:#000000;\" x=\"345.446498\" xlink:href=\"#m00734df398\" y=\"178.245835\"/>\r\n     <use style=\"stroke:#000000;\" x=\"96.924888\" xlink:href=\"#m00734df398\" y=\"63.482886\"/>\r\n     <use style=\"stroke:#000000;\" x=\"239.134595\" xlink:href=\"#m00734df398\" y=\"78.199279\"/>\r\n     <use style=\"stroke:#000000;\" x=\"106.224602\" xlink:href=\"#m00734df398\" y=\"142.598259\"/>\r\n     <use style=\"stroke:#000000;\" x=\"193.135012\" xlink:href=\"#m00734df398\" y=\"184.291455\"/>\r\n     <use style=\"stroke:#000000;\" x=\"244.170969\" xlink:href=\"#m00734df398\" y=\"130.382489\"/>\r\n     <use style=\"stroke:#000000;\" x=\"53.683469\" xlink:href=\"#m00734df398\" y=\"99.217936\"/>\r\n     <use style=\"stroke:#000000;\" x=\"303.598228\" xlink:href=\"#m00734df398\" y=\"209.243567\"/>\r\n     <use style=\"stroke:#000000;\" x=\"346.792898\" xlink:href=\"#m00734df398\" y=\"187.927457\"/>\r\n     <use style=\"stroke:#000000;\" x=\"258.661306\" xlink:href=\"#m00734df398\" y=\"193.606323\"/>\r\n     <use style=\"stroke:#000000;\" x=\"275.864875\" xlink:href=\"#m00734df398\" y=\"66.728687\"/>\r\n     <use style=\"stroke:#000000;\" x=\"203.2629\" xlink:href=\"#m00734df398\" y=\"97.517956\"/>\r\n     <use style=\"stroke:#000000;\" x=\"219.545019\" xlink:href=\"#m00734df398\" y=\"110.079332\"/>\r\n     <use style=\"stroke:#000000;\" x=\"85.284161\" xlink:href=\"#m00734df398\" y=\"76.22913\"/>\r\n     <use style=\"stroke:#000000;\" x=\"156.037054\" xlink:href=\"#m00734df398\" y=\"184.853212\"/>\r\n     <use style=\"stroke:#000000;\" x=\"123.099633\" xlink:href=\"#m00734df398\" y=\"195.522198\"/>\r\n     <use style=\"stroke:#000000;\" x=\"156.456262\" xlink:href=\"#m00734df398\" y=\"23.951719\"/>\r\n     <use style=\"stroke:#000000;\" x=\"62.520893\" xlink:href=\"#m00734df398\" y=\"213.196142\"/>\r\n     <use style=\"stroke:#000000;\" x=\"150.25795\" xlink:href=\"#m00734df398\" y=\"26.371425\"/>\r\n     <use style=\"stroke:#000000;\" x=\"69.188435\" xlink:href=\"#m00734df398\" y=\"65.97795\"/>\r\n     <use style=\"stroke:#000000;\" x=\"251.520204\" xlink:href=\"#m00734df398\" y=\"31.212231\"/>\r\n     <use style=\"stroke:#000000;\" x=\"294.369427\" xlink:href=\"#m00734df398\" y=\"103.925741\"/>\r\n     <use style=\"stroke:#000000;\" x=\"136.822947\" xlink:href=\"#m00734df398\" y=\"48.247649\"/>\r\n     <use style=\"stroke:#000000;\" x=\"160.149354\" xlink:href=\"#m00734df398\" y=\"143.095545\"/>\r\n     <use style=\"stroke:#000000;\" x=\"185.779796\" xlink:href=\"#m00734df398\" y=\"81.03873\"/>\r\n     <use style=\"stroke:#000000;\" x=\"341.700113\" xlink:href=\"#m00734df398\" y=\"94.178684\"/>\r\n     <use style=\"stroke:#000000;\" x=\"324.315208\" xlink:href=\"#m00734df398\" y=\"29.071118\"/>\r\n     <use style=\"stroke:#000000;\" x=\"148.758383\" xlink:href=\"#m00734df398\" y=\"153.998973\"/>\r\n     <use style=\"stroke:#000000;\" x=\"193.472529\" xlink:href=\"#m00734df398\" y=\"57.314341\"/>\r\n     <use style=\"stroke:#000000;\" x=\"236.440934\" xlink:href=\"#m00734df398\" y=\"105.830652\"/>\r\n     <use style=\"stroke:#000000;\" x=\"61.402916\" xlink:href=\"#m00734df398\" y=\"160.094627\"/>\r\n     <use style=\"stroke:#000000;\" x=\"280.463646\" xlink:href=\"#m00734df398\" y=\"76.50081\"/>\r\n     <use style=\"stroke:#000000;\" x=\"290.069334\" xlink:href=\"#m00734df398\" y=\"50.676446\"/>\r\n     <use style=\"stroke:#000000;\" x=\"245.501712\" xlink:href=\"#m00734df398\" y=\"216.975681\"/>\r\n     <use style=\"stroke:#000000;\" x=\"182.57994\" xlink:href=\"#m00734df398\" y=\"41.551081\"/>\r\n     <use style=\"stroke:#000000;\" x=\"269.904028\" xlink:href=\"#m00734df398\" y=\"207.356549\"/>\r\n     <use style=\"stroke:#000000;\" x=\"147.114734\" xlink:href=\"#m00734df398\" y=\"55.83028\"/>\r\n     <use style=\"stroke:#000000;\" x=\"140.421877\" xlink:href=\"#m00734df398\" y=\"164.733649\"/>\r\n     <use style=\"stroke:#000000;\" x=\"260.119018\" xlink:href=\"#m00734df398\" y=\"85.615119\"/>\r\n     <use style=\"stroke:#000000;\" x=\"174.396398\" xlink:href=\"#m00734df398\" y=\"205.851221\"/>\r\n     <use style=\"stroke:#000000;\" x=\"71.055231\" xlink:href=\"#m00734df398\" y=\"59.202822\"/>\r\n     <use style=\"stroke:#000000;\" x=\"86.415848\" xlink:href=\"#m00734df398\" y=\"57.364277\"/>\r\n     <use style=\"stroke:#000000;\" x=\"307.739828\" xlink:href=\"#m00734df398\" y=\"199.820544\"/>\r\n     <use style=\"stroke:#000000;\" x=\"115.387761\" xlink:href=\"#m00734df398\" y=\"118.626064\"/>\r\n     <use style=\"stroke:#000000;\" x=\"117.822719\" xlink:href=\"#m00734df398\" y=\"97.576678\"/>\r\n     <use style=\"stroke:#000000;\" x=\"317.215756\" xlink:href=\"#m00734df398\" y=\"110.044578\"/>\r\n     <use style=\"stroke:#000000;\" x=\"317.578317\" xlink:href=\"#m00734df398\" y=\"63.964938\"/>\r\n     <use style=\"stroke:#000000;\" x=\"257.350817\" xlink:href=\"#m00734df398\" y=\"142.274217\"/>\r\n     <use style=\"stroke:#000000;\" x=\"239.775919\" xlink:href=\"#m00734df398\" y=\"139.412156\"/>\r\n     <use style=\"stroke:#000000;\" x=\"137.785404\" xlink:href=\"#m00734df398\" y=\"74.594637\"/>\r\n     <use style=\"stroke:#000000;\" x=\"168.913768\" xlink:href=\"#m00734df398\" y=\"37.960348\"/>\r\n     <use style=\"stroke:#000000;\" x=\"319.50547\" xlink:href=\"#m00734df398\" y=\"145.596608\"/>\r\n     <use style=\"stroke:#000000;\" x=\"119.262317\" xlink:href=\"#m00734df398\" y=\"57.949776\"/>\r\n     <use style=\"stroke:#000000;\" x=\"49.522612\" xlink:href=\"#m00734df398\" y=\"111.181706\"/>\r\n     <use style=\"stroke:#000000;\" x=\"48.570802\" xlink:href=\"#m00734df398\" y=\"24.917797\"/>\r\n     <use style=\"stroke:#000000;\" x=\"103.637247\" xlink:href=\"#m00734df398\" y=\"74.348848\"/>\r\n     <use style=\"stroke:#000000;\" x=\"138.989436\" xlink:href=\"#m00734df398\" y=\"83.471967\"/>\r\n     <use style=\"stroke:#000000;\" x=\"264.951611\" xlink:href=\"#m00734df398\" y=\"121.019353\"/>\r\n     <use style=\"stroke:#000000;\" x=\"137.368771\" xlink:href=\"#m00734df398\" y=\"148.807753\"/>\r\n     <use style=\"stroke:#000000;\" x=\"87.695537\" xlink:href=\"#m00734df398\" y=\"110.416351\"/>\r\n     <use style=\"stroke:#000000;\" x=\"56.496458\" xlink:href=\"#m00734df398\" y=\"105.978285\"/>\r\n     <use style=\"stroke:#000000;\" x=\"191.940321\" xlink:href=\"#m00734df398\" y=\"27.191569\"/>\r\n     <use style=\"stroke:#000000;\" x=\"258.101219\" xlink:href=\"#m00734df398\" y=\"153.511538\"/>\r\n     <use style=\"stroke:#000000;\" x=\"321.110981\" xlink:href=\"#m00734df398\" y=\"50.729816\"/>\r\n     <use style=\"stroke:#000000;\" x=\"276.334839\" xlink:href=\"#m00734df398\" y=\"98.551298\"/>\r\n     <use style=\"stroke:#000000;\" x=\"103.011481\" xlink:href=\"#m00734df398\" y=\"209.275002\"/>\r\n     <use style=\"stroke:#000000;\" x=\"257.941875\" xlink:href=\"#m00734df398\" y=\"202.854272\"/>\r\n     <use style=\"stroke:#000000;\" x=\"72.150791\" xlink:href=\"#m00734df398\" y=\"166.05478\"/>\r\n     <use style=\"stroke:#000000;\" x=\"338.285698\" xlink:href=\"#m00734df398\" y=\"66.432316\"/>\r\n     <use style=\"stroke:#000000;\" x=\"281.784466\" xlink:href=\"#m00734df398\" y=\"161.611008\"/>\r\n     <use style=\"stroke:#000000;\" x=\"164.297555\" xlink:href=\"#m00734df398\" y=\"29.69523\"/>\r\n     <use style=\"stroke:#000000;\" x=\"152.611041\" xlink:href=\"#m00734df398\" y=\"97.950669\"/>\r\n     <use style=\"stroke:#000000;\" x=\"340.233566\" xlink:href=\"#m00734df398\" y=\"139.54662\"/>\r\n     <use style=\"stroke:#000000;\" x=\"282.158078\" xlink:href=\"#m00734df398\" y=\"183.616823\"/>\r\n     <use style=\"stroke:#000000;\" x=\"154.590184\" xlink:href=\"#m00734df398\" y=\"36.332375\"/>\r\n     <use style=\"stroke:#000000;\" x=\"149.719154\" xlink:href=\"#m00734df398\" y=\"204.853535\"/>\r\n     <use style=\"stroke:#000000;\" x=\"53.651089\" xlink:href=\"#m00734df398\" y=\"58.11836\"/>\r\n     <use style=\"stroke:#000000;\" x=\"59.862503\" xlink:href=\"#m00734df398\" y=\"86.293407\"/>\r\n     <use style=\"stroke:#000000;\" x=\"51.037803\" xlink:href=\"#m00734df398\" y=\"136.733646\"/>\r\n     <use style=\"stroke:#000000;\" x=\"200.011237\" xlink:href=\"#m00734df398\" y=\"83.853161\"/>\r\n     <use style=\"stroke:#000000;\" x=\"182.867068\" xlink:href=\"#m00734df398\" y=\"106.407704\"/>\r\n     <use style=\"stroke:#000000;\" x=\"213.291873\" xlink:href=\"#m00734df398\" y=\"72.982029\"/>\r\n     <use style=\"stroke:#000000;\" x=\"272.594649\" xlink:href=\"#m00734df398\" y=\"188.441244\"/>\r\n     <use style=\"stroke:#000000;\" x=\"207.735738\" xlink:href=\"#m00734df398\" y=\"54.048253\"/>\r\n     <use style=\"stroke:#000000;\" x=\"342.028705\" xlink:href=\"#m00734df398\" y=\"100.927887\"/>\r\n     <use style=\"stroke:#000000;\" x=\"337.249011\" xlink:href=\"#m00734df398\" y=\"29.128131\"/>\r\n     <use style=\"stroke:#000000;\" x=\"200.158667\" xlink:href=\"#m00734df398\" y=\"137.107051\"/>\r\n     <use style=\"stroke:#000000;\" x=\"161.612745\" xlink:href=\"#m00734df398\" y=\"94.733429\"/>\r\n     <use style=\"stroke:#000000;\" x=\"196.15971\" xlink:href=\"#m00734df398\" y=\"45.031451\"/>\r\n     <use style=\"stroke:#000000;\" x=\"180.67636\" xlink:href=\"#m00734df398\" y=\"187.592959\"/>\r\n     <use style=\"stroke:#000000;\" x=\"272.551301\" xlink:href=\"#m00734df398\" y=\"128.464898\"/>\r\n     <use style=\"stroke:#000000;\" x=\"55.786319\" xlink:href=\"#m00734df398\" y=\"176.484895\"/>\r\n     <use style=\"stroke:#000000;\" x=\"306.564464\" xlink:href=\"#m00734df398\" y=\"109.30767\"/>\r\n     <use style=\"stroke:#000000;\" x=\"230.725181\" xlink:href=\"#m00734df398\" y=\"94.415466\"/>\r\n     <use style=\"stroke:#000000;\" x=\"161.142804\" xlink:href=\"#m00734df398\" y=\"57.818459\"/>\r\n     <use style=\"stroke:#000000;\" x=\"295.052957\" xlink:href=\"#m00734df398\" y=\"120.37133\"/>\r\n     <use style=\"stroke:#000000;\" x=\"70.924064\" xlink:href=\"#m00734df398\" y=\"146.005802\"/>\r\n     <use style=\"stroke:#000000;\" x=\"231.411579\" xlink:href=\"#m00734df398\" y=\"124.619589\"/>\r\n     <use style=\"stroke:#000000;\" x=\"141.946251\" xlink:href=\"#m00734df398\" y=\"129.745795\"/>\r\n     <use style=\"stroke:#000000;\" x=\"261.819464\" xlink:href=\"#m00734df398\" y=\"45.297624\"/>\r\n     <use style=\"stroke:#000000;\" x=\"136.872619\" xlink:href=\"#m00734df398\" y=\"56.873074\"/>\r\n     <use style=\"stroke:#000000;\" x=\"269.80783\" xlink:href=\"#m00734df398\" y=\"55.420541\"/>\r\n     <use style=\"stroke:#000000;\" x=\"245.492825\" xlink:href=\"#m00734df398\" y=\"69.918027\"/>\r\n     <use style=\"stroke:#000000;\" x=\"119.040949\" xlink:href=\"#m00734df398\" y=\"43.756663\"/>\r\n     <use style=\"stroke:#000000;\" x=\"116.307783\" xlink:href=\"#m00734df398\" y=\"67.833716\"/>\r\n     <use style=\"stroke:#000000;\" x=\"108.430238\" xlink:href=\"#m00734df398\" y=\"80.678521\"/>\r\n     <use style=\"stroke:#000000;\" x=\"329.938074\" xlink:href=\"#m00734df398\" y=\"94.682312\"/>\r\n     <use style=\"stroke:#000000;\" x=\"67.011642\" xlink:href=\"#m00734df398\" y=\"174.682087\"/>\r\n     <use style=\"stroke:#000000;\" x=\"284.50847\" xlink:href=\"#m00734df398\" y=\"86.533762\"/>\r\n     <use style=\"stroke:#000000;\" x=\"79.314542\" xlink:href=\"#m00734df398\" y=\"28.499972\"/>\r\n     <use style=\"stroke:#000000;\" x=\"211.24815\" xlink:href=\"#m00734df398\" y=\"104.516295\"/>\r\n     <use style=\"stroke:#000000;\" x=\"339.036068\" xlink:href=\"#m00734df398\" y=\"162.81604\"/>\r\n     <use style=\"stroke:#000000;\" x=\"193.252612\" xlink:href=\"#m00734df398\" y=\"100.746558\"/>\r\n     <use style=\"stroke:#000000;\" x=\"140.360606\" xlink:href=\"#m00734df398\" y=\"94.627621\"/>\r\n     <use style=\"stroke:#000000;\" x=\"153.756535\" xlink:href=\"#m00734df398\" y=\"83.73294\"/>\r\n     <use style=\"stroke:#000000;\" x=\"287.946276\" xlink:href=\"#m00734df398\" y=\"218.256364\"/>\r\n     <use style=\"stroke:#000000;\" x=\"352.488873\" xlink:href=\"#m00734df398\" y=\"166.338853\"/>\r\n     <use style=\"stroke:#000000;\" x=\"181.126321\" xlink:href=\"#m00734df398\" y=\"70.514397\"/>\r\n     <use style=\"stroke:#000000;\" x=\"52.796161\" xlink:href=\"#m00734df398\" y=\"185.909991\"/>\r\n     <use style=\"stroke:#000000;\" x=\"338.874774\" xlink:href=\"#m00734df398\" y=\"75.685112\"/>\r\n     <use style=\"stroke:#000000;\" x=\"189.799835\" xlink:href=\"#m00734df398\" y=\"115.566052\"/>\r\n     <use style=\"stroke:#000000;\" x=\"326.765058\" xlink:href=\"#m00734df398\" y=\"114.625256\"/>\r\n     <use style=\"stroke:#000000;\" x=\"112.460266\" xlink:href=\"#m00734df398\" y=\"52.904017\"/>\r\n     <use style=\"stroke:#000000;\" x=\"142.321184\" xlink:href=\"#m00734df398\" y=\"65.34372\"/>\r\n     <use style=\"stroke:#000000;\" x=\"217.989575\" xlink:href=\"#m00734df398\" y=\"155.634585\"/>\r\n     <use style=\"stroke:#000000;\" x=\"100.521822\" xlink:href=\"#m00734df398\" y=\"56.559677\"/>\r\n     <use style=\"stroke:#000000;\" x=\"350.267122\" xlink:href=\"#m00734df398\" y=\"111.934813\"/>\r\n     <use style=\"stroke:#000000;\" x=\"227.701825\" xlink:href=\"#m00734df398\" y=\"71.494712\"/>\r\n     <use style=\"stroke:#000000;\" x=\"298.069839\" xlink:href=\"#m00734df398\" y=\"83.377931\"/>\r\n     <use style=\"stroke:#000000;\" x=\"80.744487\" xlink:href=\"#m00734df398\" y=\"198.6678\"/>\r\n     <use style=\"stroke:#000000;\" x=\"94.293179\" xlink:href=\"#m00734df398\" y=\"41.242031\"/>\r\n     <use style=\"stroke:#000000;\" x=\"189.298414\" xlink:href=\"#m00734df398\" y=\"154.260015\"/>\r\n     <use style=\"stroke:#000000;\" x=\"134.693013\" xlink:href=\"#m00734df398\" y=\"191.998882\"/>\r\n     <use style=\"stroke:#000000;\" x=\"185.032636\" xlink:href=\"#m00734df398\" y=\"97.512489\"/>\r\n     <use style=\"stroke:#000000;\" x=\"107.915751\" xlink:href=\"#m00734df398\" y=\"152.396599\"/>\r\n     <use style=\"stroke:#000000;\" x=\"257.800757\" xlink:href=\"#m00734df398\" y=\"37.229534\"/>\r\n     <use style=\"stroke:#000000;\" x=\"219.936693\" xlink:href=\"#m00734df398\" y=\"33.826837\"/>\r\n     <use style=\"stroke:#000000;\" x=\"79.466396\" xlink:href=\"#m00734df398\" y=\"123.34164\"/>\r\n     <use style=\"stroke:#000000;\" x=\"61.544045\" xlink:href=\"#m00734df398\" y=\"23.844201\"/>\r\n     <use style=\"stroke:#000000;\" x=\"95.312277\" xlink:href=\"#m00734df398\" y=\"79.055887\"/>\r\n     <use style=\"stroke:#000000;\" x=\"302.377702\" xlink:href=\"#m00734df398\" y=\"34.543518\"/>\r\n     <use style=\"stroke:#000000;\" x=\"74.514613\" xlink:href=\"#m00734df398\" y=\"52.024065\"/>\r\n     <use style=\"stroke:#000000;\" x=\"287.585015\" xlink:href=\"#m00734df398\" y=\"95.535193\"/>\r\n     <use style=\"stroke:#000000;\" x=\"301.935147\" xlink:href=\"#m00734df398\" y=\"22.546855\"/>\r\n     <use style=\"stroke:#000000;\" x=\"303.821915\" xlink:href=\"#m00734df398\" y=\"179.439767\"/>\r\n     <use style=\"stroke:#000000;\" x=\"249.938302\" xlink:href=\"#m00734df398\" y=\"83.826461\"/>\r\n     <use style=\"stroke:#000000;\" x=\"311.7462\" xlink:href=\"#m00734df398\" y=\"118.948103\"/>\r\n     <use style=\"stroke:#000000;\" x=\"247.488131\" xlink:href=\"#m00734df398\" y=\"23.835671\"/>\r\n     <use style=\"stroke:#000000;\" x=\"193.450865\" xlink:href=\"#m00734df398\" y=\"164.194236\"/>\r\n     <use style=\"stroke:#000000;\" x=\"224.882674\" xlink:href=\"#m00734df398\" y=\"47.220706\"/>\r\n     <use style=\"stroke:#000000;\" x=\"294.959494\" xlink:href=\"#m00734df398\" y=\"141.813134\"/>\r\n     <use style=\"stroke:#000000;\" x=\"294.652024\" xlink:href=\"#m00734df398\" y=\"168.60294\"/>\r\n     <use style=\"stroke:#000000;\" x=\"328.763077\" xlink:href=\"#m00734df398\" y=\"73.609404\"/>\r\n     <use style=\"stroke:#000000;\" x=\"125.949236\" xlink:href=\"#m00734df398\" y=\"212.102058\"/>\r\n     <use style=\"stroke:#000000;\" x=\"151.359075\" xlink:href=\"#m00734df398\" y=\"170.821434\"/>\r\n     <use style=\"stroke:#000000;\" x=\"155.947337\" xlink:href=\"#m00734df398\" y=\"178.617583\"/>\r\n     <use style=\"stroke:#000000;\" x=\"169.003173\" xlink:href=\"#m00734df398\" y=\"181.402105\"/>\r\n     <use style=\"stroke:#000000;\" x=\"207.989947\" xlink:href=\"#m00734df398\" y=\"165.004993\"/>\r\n     <use style=\"stroke:#000000;\" x=\"115.224412\" xlink:href=\"#m00734df398\" y=\"73.815421\"/>\r\n     <use style=\"stroke:#000000;\" x=\"285.574131\" xlink:href=\"#m00734df398\" y=\"174.127523\"/>\r\n     <use style=\"stroke:#000000;\" x=\"201.787669\" xlink:href=\"#m00734df398\" y=\"105.038309\"/>\r\n     <use style=\"stroke:#000000;\" x=\"107.43291\" xlink:href=\"#m00734df398\" y=\"190.157161\"/>\r\n     <use style=\"stroke:#000000;\" x=\"129.496285\" xlink:href=\"#m00734df398\" y=\"96.111182\"/>\r\n     <use style=\"stroke:#000000;\" x=\"308.397946\" xlink:href=\"#m00734df398\" y=\"93.620332\"/>\r\n     <use style=\"stroke:#000000;\" x=\"91.180922\" xlink:href=\"#m00734df398\" y=\"34.269404\"/>\r\n     <use style=\"stroke:#000000;\" x=\"130.212371\" xlink:href=\"#m00734df398\" y=\"103.655952\"/>\r\n     <use style=\"stroke:#000000;\" x=\"60.734762\" xlink:href=\"#m00734df398\" y=\"78.529077\"/>\r\n     <use style=\"stroke:#000000;\" x=\"270.092891\" xlink:href=\"#m00734df398\" y=\"38.726292\"/>\r\n     <use style=\"stroke:#000000;\" x=\"168.401301\" xlink:href=\"#m00734df398\" y=\"79.477583\"/>\r\n     <use style=\"stroke:#000000;\" x=\"141.450776\" xlink:href=\"#m00734df398\" y=\"209.528801\"/>\r\n     <use style=\"stroke:#000000;\" x=\"203.827471\" xlink:href=\"#m00734df398\" y=\"25.250653\"/>\r\n     <use style=\"stroke:#000000;\" x=\"351.479866\" xlink:href=\"#m00734df398\" y=\"94.817655\"/>\r\n     <use style=\"stroke:#000000;\" x=\"198.623655\" xlink:href=\"#m00734df398\" y=\"73.471922\"/>\r\n     <use style=\"stroke:#000000;\" x=\"274.242284\" xlink:href=\"#m00734df398\" y=\"27.167477\"/>\r\n     <use style=\"stroke:#000000;\" x=\"164.231878\" xlink:href=\"#m00734df398\" y=\"132.563222\"/>\r\n     <use style=\"stroke:#000000;\" x=\"66.252916\" xlink:href=\"#m00734df398\" y=\"183.930402\"/>\r\n     <use style=\"stroke:#000000;\" x=\"207.587121\" xlink:href=\"#m00734df398\" y=\"41.767377\"/>\r\n     <use style=\"stroke:#000000;\" x=\"119.834002\" xlink:href=\"#m00734df398\" y=\"172.602071\"/>\r\n     <use style=\"stroke:#000000;\" x=\"97.399875\" xlink:href=\"#m00734df398\" y=\"160.473463\"/>\r\n     <use style=\"stroke:#000000;\" x=\"72.974689\" xlink:href=\"#m00734df398\" y=\"76.052382\"/>\r\n     <use style=\"stroke:#000000;\" x=\"193.813347\" xlink:href=\"#m00734df398\" y=\"108.485175\"/>\r\n     <use style=\"stroke:#000000;\" x=\"272.664193\" xlink:href=\"#m00734df398\" y=\"199.177553\"/>\r\n     <use style=\"stroke:#000000;\" x=\"53.769354\" xlink:href=\"#m00734df398\" y=\"160.06376\"/>\r\n     <use style=\"stroke:#000000;\" x=\"258.978912\" xlink:href=\"#m00734df398\" y=\"211.155402\"/>\r\n     <use style=\"stroke:#000000;\" x=\"317.208091\" xlink:href=\"#m00734df398\" y=\"71.11529\"/>\r\n     <use style=\"stroke:#000000;\" x=\"251.856102\" xlink:href=\"#m00734df398\" y=\"186.363953\"/>\r\n     <use style=\"stroke:#000000;\" x=\"236.748645\" xlink:href=\"#m00734df398\" y=\"210.504938\"/>\r\n     <use style=\"stroke:#000000;\" x=\"102.348361\" xlink:href=\"#m00734df398\" y=\"47.093583\"/>\r\n     <use style=\"stroke:#000000;\" x=\"57.657152\" xlink:href=\"#m00734df398\" y=\"194.261654\"/>\r\n     <use style=\"stroke:#000000;\" x=\"349.360111\" xlink:href=\"#m00734df398\" y=\"202.161661\"/>\r\n     <use style=\"stroke:#000000;\" x=\"178.379398\" xlink:href=\"#m00734df398\" y=\"89.630129\"/>\r\n     <use style=\"stroke:#000000;\" x=\"120.197985\" xlink:href=\"#m00734df398\" y=\"31.896241\"/>\r\n     <use style=\"stroke:#000000;\" x=\"225.256167\" xlink:href=\"#m00734df398\" y=\"214.595174\"/>\r\n     <use style=\"stroke:#000000;\" x=\"174.255911\" xlink:href=\"#m00734df398\" y=\"47.356162\"/>\r\n     <use style=\"stroke:#000000;\" x=\"49.174077\" xlink:href=\"#m00734df398\" y=\"90.190856\"/>\r\n     <use style=\"stroke:#000000;\" x=\"293.952342\" xlink:href=\"#m00734df398\" y=\"76.880692\"/>\r\n     <use style=\"stroke:#000000;\" x=\"198.170377\" xlink:href=\"#m00734df398\" y=\"146.892501\"/>\r\n     <use style=\"stroke:#000000;\" x=\"239.313752\" xlink:href=\"#m00734df398\" y=\"115.910603\"/>\r\n     <use style=\"stroke:#000000;\" x=\"314.785329\" xlink:href=\"#m00734df398\" y=\"35.558561\"/>\r\n     <use style=\"stroke:#000000;\" x=\"134.659917\" xlink:href=\"#m00734df398\" y=\"184.037656\"/>\r\n     <use style=\"stroke:#000000;\" x=\"198.349877\" xlink:href=\"#m00734df398\" y=\"175.269969\"/>\r\n     <use style=\"stroke:#000000;\" x=\"331.12565\" xlink:href=\"#m00734df398\" y=\"83.394133\"/>\r\n     <use style=\"stroke:#000000;\" x=\"146.425233\" xlink:href=\"#m00734df398\" y=\"196.221636\"/>\r\n     <use style=\"stroke:#000000;\" x=\"167.61745\" xlink:href=\"#m00734df398\" y=\"190.398507\"/>\r\n     <use style=\"stroke:#000000;\" x=\"142.037253\" xlink:href=\"#m00734df398\" y=\"120.314639\"/>\r\n     <use style=\"stroke:#000000;\" x=\"235.729633\" xlink:href=\"#m00734df398\" y=\"86.987668\"/>\r\n     <use style=\"stroke:#000000;\" x=\"319.143144\" xlink:href=\"#m00734df398\" y=\"79.935923\"/>\r\n     <use style=\"stroke:#000000;\" x=\"110.750704\" xlink:href=\"#m00734df398\" y=\"171.799372\"/>\r\n     <use style=\"stroke:#000000;\" x=\"231.21766\" xlink:href=\"#m00734df398\" y=\"160.041698\"/>\r\n     <use style=\"stroke:#000000;\" x=\"127.165154\" xlink:href=\"#m00734df398\" y=\"89.116089\"/>\r\n     <use style=\"stroke:#000000;\" x=\"138.50646\" xlink:href=\"#m00734df398\" y=\"172.349106\"/>\r\n     <use style=\"stroke:#000000;\" x=\"137.940674\" xlink:href=\"#m00734df398\" y=\"139.097241\"/>\r\n     <use style=\"stroke:#000000;\" x=\"105.97744\" xlink:href=\"#m00734df398\" y=\"68.540178\"/>\r\n     <use style=\"stroke:#000000;\" x=\"247.375135\" xlink:href=\"#m00734df398\" y=\"208.811848\"/>\r\n     <use style=\"stroke:#000000;\" x=\"169.547386\" xlink:href=\"#m00734df398\" y=\"107.022512\"/>\r\n     <use style=\"stroke:#000000;\" x=\"241.996408\" xlink:href=\"#m00734df398\" y=\"179.470145\"/>\r\n     <use style=\"stroke:#000000;\" x=\"152.980327\" xlink:href=\"#m00734df398\" y=\"148.319123\"/>\r\n     <use style=\"stroke:#000000;\" x=\"178.21027\" xlink:href=\"#m00734df398\" y=\"197.448382\"/>\r\n     <use style=\"stroke:#000000;\" x=\"268.961774\" xlink:href=\"#m00734df398\" y=\"109.980665\"/>\r\n     <use style=\"stroke:#000000;\" x=\"142.259901\" xlink:href=\"#m00734df398\" y=\"27.418399\"/>\r\n     <use style=\"stroke:#000000;\" x=\"249.446923\" xlink:href=\"#m00734df398\" y=\"122.663026\"/>\r\n     <use style=\"stroke:#000000;\" x=\"165.559747\" xlink:href=\"#m00734df398\" y=\"51.518469\"/>\r\n     <use style=\"stroke:#000000;\" x=\"64.416335\" xlink:href=\"#m00734df398\" y=\"129.537912\"/>\r\n     <use style=\"stroke:#000000;\" x=\"343.798647\" xlink:href=\"#m00734df398\" y=\"34.470005\"/>\r\n     <use style=\"stroke:#000000;\" x=\"58.522688\" xlink:href=\"#m00734df398\" y=\"70.762275\"/>\r\n     <use style=\"stroke:#000000;\" x=\"151.782274\" xlink:href=\"#m00734df398\" y=\"74.604466\"/>\r\n     <use style=\"stroke:#000000;\" x=\"334.702052\" xlink:href=\"#m00734df398\" y=\"195.90305\"/>\r\n     <use style=\"stroke:#000000;\" x=\"76.6212\" xlink:href=\"#m00734df398\" y=\"93.190931\"/>\r\n     <use style=\"stroke:#000000;\" x=\"48.505682\" xlink:href=\"#m00734df398\" y=\"211.451205\"/>\r\n     <use style=\"stroke:#000000;\" x=\"127.015044\" xlink:href=\"#m00734df398\" y=\"133.587937\"/>\r\n     <use style=\"stroke:#000000;\" x=\"123.511579\" xlink:href=\"#m00734df398\" y=\"65.992237\"/>\r\n     <use style=\"stroke:#000000;\" x=\"153.386523\" xlink:href=\"#m00734df398\" y=\"63.717789\"/>\r\n     <use style=\"stroke:#000000;\" x=\"100.969691\" xlink:href=\"#m00734df398\" y=\"171.318428\"/>\r\n     <use style=\"stroke:#000000;\" x=\"153.447371\" xlink:href=\"#m00734df398\" y=\"91.327583\"/>\r\n     <use style=\"stroke:#000000;\" x=\"96.519868\" xlink:href=\"#m00734df398\" y=\"198.953573\"/>\r\n     <use style=\"stroke:#000000;\" x=\"263.221764\" xlink:href=\"#m00734df398\" y=\"183.197534\"/>\r\n     <use style=\"stroke:#000000;\" x=\"255.403693\" xlink:href=\"#m00734df398\" y=\"148.978074\"/>\r\n     <use style=\"stroke:#000000;\" x=\"219.368286\" xlink:href=\"#m00734df398\" y=\"78.543461\"/>\r\n     <use style=\"stroke:#000000;\" x=\"192.543549\" xlink:href=\"#m00734df398\" y=\"36.049038\"/>\r\n     <use style=\"stroke:#000000;\" x=\"69.283608\" xlink:href=\"#m00734df398\" y=\"100.821556\"/>\r\n     <use style=\"stroke:#000000;\" x=\"279.977833\" xlink:href=\"#m00734df398\" y=\"45.390672\"/>\r\n     <use style=\"stroke:#000000;\" x=\"146.265948\" xlink:href=\"#m00734df398\" y=\"105.090234\"/>\r\n     <use style=\"stroke:#000000;\" x=\"123.317956\" xlink:href=\"#m00734df398\" y=\"186.438317\"/>\r\n     <use style=\"stroke:#000000;\" x=\"72.790787\" xlink:href=\"#m00734df398\" y=\"191.820511\"/>\r\n     <use style=\"stroke:#000000;\" x=\"228.39065\" xlink:href=\"#m00734df398\" y=\"148.038925\"/>\r\n     <use style=\"stroke:#000000;\" x=\"110.759523\" xlink:href=\"#m00734df398\" y=\"199.74143\"/>\r\n     <use style=\"stroke:#000000;\" x=\"212.428735\" xlink:href=\"#m00734df398\" y=\"175.106046\"/>\r\n     <use style=\"stroke:#000000;\" x=\"69.658434\" xlink:href=\"#m00734df398\" y=\"118.475304\"/>\r\n     <use style=\"stroke:#000000;\" x=\"227.356462\" xlink:href=\"#m00734df398\" y=\"115.045102\"/>\r\n     <use style=\"stroke:#000000;\" x=\"162.661951\" xlink:href=\"#m00734df398\" y=\"124.156705\"/>\r\n     <use style=\"stroke:#000000;\" x=\"261.177215\" xlink:href=\"#m00734df398\" y=\"24.990136\"/>\r\n     <use style=\"stroke:#000000;\" x=\"87.234116\" xlink:href=\"#m00734df398\" y=\"169.461124\"/>\r\n     <use style=\"stroke:#000000;\" x=\"271.27208\" xlink:href=\"#m00734df398\" y=\"214.075453\"/>\r\n     <use style=\"stroke:#000000;\" x=\"173.033327\" xlink:href=\"#m00734df398\" y=\"20.583636\"/>\r\n     <use style=\"stroke:#000000;\" x=\"274.481744\" xlink:href=\"#m00734df398\" y=\"138.152144\"/>\r\n     <use style=\"stroke:#000000;\" x=\"88.926483\" xlink:href=\"#m00734df398\" y=\"191.094203\"/>\r\n     <use style=\"stroke:#000000;\" x=\"295.093232\" xlink:href=\"#m00734df398\" y=\"199.951257\"/>\r\n     <use style=\"stroke:#000000;\" x=\"298.216222\" xlink:href=\"#m00734df398\" y=\"28.79951\"/>\r\n     <use style=\"stroke:#000000;\" x=\"312.546683\" xlink:href=\"#m00734df398\" y=\"75.096282\"/>\r\n     <use style=\"stroke:#000000;\" x=\"232.771247\" xlink:href=\"#m00734df398\" y=\"133.188951\"/>\r\n     <use style=\"stroke:#000000;\" x=\"186.248042\" xlink:href=\"#m00734df398\" y=\"133.293031\"/>\r\n     <use style=\"stroke:#000000;\" x=\"61.659779\" xlink:href=\"#m00734df398\" y=\"139.95377\"/>\r\n     <use style=\"stroke:#000000;\" x=\"86.936585\" xlink:href=\"#m00734df398\" y=\"206.474824\"/>\r\n     <use style=\"stroke:#000000;\" x=\"244.41198\" xlink:href=\"#m00734df398\" y=\"95.322361\"/>\r\n     <use style=\"stroke:#000000;\" x=\"88.874814\" xlink:href=\"#m00734df398\" y=\"148.393291\"/>\r\n     <use style=\"stroke:#000000;\" x=\"49.887464\" xlink:href=\"#m00734df398\" y=\"75.715552\"/>\r\n     <use style=\"stroke:#000000;\" x=\"301.293368\" xlink:href=\"#m00734df398\" y=\"156.566536\"/>\r\n     <use style=\"stroke:#000000;\" x=\"129.729712\" xlink:href=\"#m00734df398\" y=\"158.594437\"/>\r\n     <use style=\"stroke:#000000;\" x=\"309.120096\" xlink:href=\"#m00734df398\" y=\"131.194077\"/>\r\n     <use style=\"stroke:#000000;\" x=\"162.253003\" xlink:href=\"#m00734df398\" y=\"102.197878\"/>\r\n     <use style=\"stroke:#000000;\" x=\"152.342683\" xlink:href=\"#m00734df398\" y=\"161.680363\"/>\r\n     <use style=\"stroke:#000000;\" x=\"79.144909\" xlink:href=\"#m00734df398\" y=\"213.960486\"/>\r\n     <use style=\"stroke:#000000;\" x=\"151.889213\" xlink:href=\"#m00734df398\" y=\"30.393824\"/>\r\n     <use style=\"stroke:#000000;\" x=\"263.183847\" xlink:href=\"#m00734df398\" y=\"76.00365\"/>\r\n     <use style=\"stroke:#000000;\" x=\"125.869873\" xlink:href=\"#m00734df398\" y=\"52.913801\"/>\r\n     <use style=\"stroke:#000000;\" x=\"264.911702\" xlink:href=\"#m00734df398\" y=\"159.765822\"/>\r\n     <use style=\"stroke:#000000;\" x=\"112.781714\" xlink:href=\"#m00734df398\" y=\"88.46769\"/>\r\n     <use style=\"stroke:#000000;\" x=\"211.11046\" xlink:href=\"#m00734df398\" y=\"208.581627\"/>\r\n     <use style=\"stroke:#000000;\" x=\"209.158868\" xlink:href=\"#m00734df398\" y=\"80.604084\"/>\r\n     <use style=\"stroke:#000000;\" x=\"93.544684\" xlink:href=\"#m00734df398\" y=\"181.206183\"/>\r\n     <use style=\"stroke:#000000;\" x=\"258.376251\" xlink:href=\"#m00734df398\" y=\"174.310781\"/>\r\n     <use style=\"stroke:#000000;\" x=\"207.942028\" xlink:href=\"#m00734df398\" y=\"185.806756\"/>\r\n     <use style=\"stroke:#000000;\" x=\"228.361583\" xlink:href=\"#m00734df398\" y=\"80.794417\"/>\r\n     <use style=\"stroke:#000000;\" x=\"114.282641\" xlink:href=\"#m00734df398\" y=\"163.351857\"/>\r\n     <use style=\"stroke:#000000;\" x=\"155.016736\" xlink:href=\"#m00734df398\" y=\"129.275596\"/>\r\n     <use style=\"stroke:#000000;\" x=\"173.768367\" xlink:href=\"#m00734df398\" y=\"173.339263\"/>\r\n     <use style=\"stroke:#000000;\" x=\"253.716944\" xlink:href=\"#m00734df398\" y=\"52.029941\"/>\r\n     <use style=\"stroke:#000000;\" x=\"192.188291\" xlink:href=\"#m00734df398\" y=\"205.755651\"/>\r\n     <use style=\"stroke:#000000;\" x=\"193.549766\" xlink:href=\"#m00734df398\" y=\"193.782949\"/>\r\n     <use style=\"stroke:#000000;\" x=\"183.324606\" xlink:href=\"#m00734df398\" y=\"122.910581\"/>\r\n     <use style=\"stroke:#000000;\" x=\"131.880195\" xlink:href=\"#m00734df398\" y=\"208.4385\"/>\r\n     <use style=\"stroke:#000000;\" x=\"318.290625\" xlink:href=\"#m00734df398\" y=\"189.788966\"/>\r\n     <use style=\"stroke:#000000;\" x=\"234.965163\" xlink:href=\"#m00734df398\" y=\"171.142622\"/>\r\n     <use style=\"stroke:#000000;\" x=\"287.24224\" xlink:href=\"#m00734df398\" y=\"129.268453\"/>\r\n     <use style=\"stroke:#000000;\" x=\"84.992843\" xlink:href=\"#m00734df398\" y=\"98.35308\"/>\r\n     <use style=\"stroke:#000000;\" x=\"253.74666\" xlink:href=\"#m00734df398\" y=\"179.772776\"/>\r\n     <use style=\"stroke:#000000;\" x=\"278.699047\" xlink:href=\"#m00734df398\" y=\"21.509491\"/>\r\n     <use style=\"stroke:#000000;\" x=\"312.315162\" xlink:href=\"#m00734df398\" y=\"44.907069\"/>\r\n     <use style=\"stroke:#000000;\" x=\"111.245665\" xlink:href=\"#m00734df398\" y=\"108.479029\"/>\r\n     <use style=\"stroke:#000000;\" x=\"212.376632\" xlink:href=\"#m00734df398\" y=\"65.356554\"/>\r\n     <use style=\"stroke:#000000;\" x=\"84.11133\" xlink:href=\"#m00734df398\" y=\"85.278661\"/>\r\n     <use style=\"stroke:#000000;\" x=\"61.142519\" xlink:href=\"#m00734df398\" y=\"51.585326\"/>\r\n     <use style=\"stroke:#000000;\" x=\"316.349672\" xlink:href=\"#m00734df398\" y=\"165.738049\"/>\r\n     <use style=\"stroke:#000000;\" x=\"220.120166\" xlink:href=\"#m00734df398\" y=\"93.52396\"/>\r\n     <use style=\"stroke:#000000;\" x=\"55.388707\" xlink:href=\"#m00734df398\" y=\"92.549073\"/>\r\n     <use style=\"stroke:#000000;\" x=\"67.455517\" xlink:href=\"#m00734df398\" y=\"198.364919\"/>\r\n     <use style=\"stroke:#000000;\" x=\"294.503224\" xlink:href=\"#m00734df398\" y=\"66.141062\"/>\r\n     <use style=\"stroke:#000000;\" x=\"242.790505\" xlink:href=\"#m00734df398\" y=\"200.980906\"/>\r\n     <use style=\"stroke:#000000;\" x=\"139.021037\" xlink:href=\"#m00734df398\" y=\"33.591571\"/>\r\n     <use style=\"stroke:#000000;\" x=\"156.170969\" xlink:href=\"#m00734df398\" y=\"113.680206\"/>\r\n     <use style=\"stroke:#000000;\" x=\"91.271094\" xlink:href=\"#m00734df398\" y=\"128.678627\"/>\r\n     <use style=\"stroke:#000000;\" x=\"109.686617\" xlink:href=\"#m00734df398\" y=\"216.518948\"/>\r\n     <use style=\"stroke:#000000;\" x=\"319.122359\" xlink:href=\"#m00734df398\" y=\"213.957861\"/>\r\n     <use style=\"stroke:#000000;\" x=\"71.886572\" xlink:href=\"#m00734df398\" y=\"205.680208\"/>\r\n     <use style=\"stroke:#000000;\" x=\"204.766193\" xlink:href=\"#m00734df398\" y=\"113.526864\"/>\r\n     <use style=\"stroke:#000000;\" x=\"313.242517\" xlink:href=\"#m00734df398\" y=\"101.106045\"/>\r\n     <use style=\"stroke:#000000;\" x=\"141.2439\" xlink:href=\"#m00734df398\" y=\"157.384712\"/>\r\n     <use style=\"stroke:#000000;\" x=\"183.411083\" xlink:href=\"#m00734df398\" y=\"179.114453\"/>\r\n     <use style=\"stroke:#000000;\" x=\"81.080653\" xlink:href=\"#m00734df398\" y=\"38.475145\"/>\r\n     <use style=\"stroke:#000000;\" x=\"152.425877\" xlink:href=\"#m00734df398\" y=\"49.725592\"/>\r\n     <use style=\"stroke:#000000;\" x=\"251.783613\" xlink:href=\"#m00734df398\" y=\"167.946218\"/>\r\n     <use style=\"stroke:#000000;\" x=\"279.59866\" xlink:href=\"#m00734df398\" y=\"118.805739\"/>\r\n     <use style=\"stroke:#000000;\" x=\"339.060636\" xlink:href=\"#m00734df398\" y=\"109.739711\"/>\r\n     <use style=\"stroke:#000000;\" x=\"328.048306\" xlink:href=\"#m00734df398\" y=\"58.364506\"/>\r\n     <use style=\"stroke:#000000;\" x=\"219.093948\" xlink:href=\"#m00734df398\" y=\"134.828506\"/>\r\n     <use style=\"stroke:#000000;\" x=\"327.615705\" xlink:href=\"#m00734df398\" y=\"124.748247\"/>\r\n     <use style=\"stroke:#000000;\" x=\"201.775422\" xlink:href=\"#m00734df398\" y=\"90.869646\"/>\r\n     <use style=\"stroke:#000000;\" x=\"109.550921\" xlink:href=\"#m00734df398\" y=\"61.48162\"/>\r\n     <use style=\"stroke:#000000;\" x=\"58.567195\" xlink:href=\"#m00734df398\" y=\"203.387335\"/>\r\n     <use style=\"stroke:#000000;\" x=\"143.837531\" xlink:href=\"#m00734df398\" y=\"179.3507\"/>\r\n     <use style=\"stroke:#000000;\" x=\"58.98631\" xlink:href=\"#m00734df398\" y=\"99.422606\"/>\r\n     <use style=\"stroke:#000000;\" x=\"326.095597\" xlink:href=\"#m00734df398\" y=\"66.610385\"/>\r\n     <use style=\"stroke:#000000;\" x=\"160.364611\" xlink:href=\"#m00734df398\" y=\"43.753853\"/>\r\n     <use style=\"stroke:#000000;\" x=\"305.999246\" xlink:href=\"#m00734df398\" y=\"39.973653\"/>\r\n     <use style=\"stroke:#000000;\" x=\"48.692921\" xlink:href=\"#m00734df398\" y=\"150.659843\"/>\r\n     <use style=\"stroke:#000000;\" x=\"62.815964\" xlink:href=\"#m00734df398\" y=\"96.574039\"/>\r\n     <use style=\"stroke:#000000;\" x=\"179.464794\" xlink:href=\"#m00734df398\" y=\"160.510194\"/>\r\n     <use style=\"stroke:#000000;\" x=\"173.942342\" xlink:href=\"#m00734df398\" y=\"152.705642\"/>\r\n     <use style=\"stroke:#000000;\" x=\"264.609064\" xlink:href=\"#m00734df398\" y=\"102.324709\"/>\r\n     <use style=\"stroke:#000000;\" x=\"54.643677\" xlink:href=\"#m00734df398\" y=\"43.692988\"/>\r\n     <use style=\"stroke:#000000;\" x=\"128.099909\" xlink:href=\"#m00734df398\" y=\"70.179158\"/>\r\n     <use style=\"stroke:#000000;\" x=\"302.152126\" xlink:href=\"#m00734df398\" y=\"54.063581\"/>\r\n     <use style=\"stroke:#000000;\" x=\"234.715314\" xlink:href=\"#m00734df398\" y=\"29.697202\"/>\r\n     <use style=\"stroke:#000000;\" x=\"330.136244\" xlink:href=\"#m00734df398\" y=\"133.809667\"/>\r\n     <use style=\"stroke:#000000;\" x=\"189.029493\" xlink:href=\"#m00734df398\" y=\"50.821328\"/>\r\n     <use style=\"stroke:#000000;\" x=\"165.898017\" xlink:href=\"#m00734df398\" y=\"164.502707\"/>\r\n     <use style=\"stroke:#000000;\" x=\"155.193589\" xlink:href=\"#m00734df398\" y=\"139.660945\"/>\r\n     <use style=\"stroke:#000000;\" x=\"252.10724\" xlink:href=\"#m00734df398\" y=\"159.622589\"/>\r\n     <use style=\"stroke:#000000;\" x=\"320.901475\" xlink:href=\"#m00734df398\" y=\"203.123167\"/>\r\n     <use style=\"stroke:#000000;\" x=\"223.092874\" xlink:href=\"#m00734df398\" y=\"101.18321\"/>\r\n     <use style=\"stroke:#000000;\" x=\"312.352154\" xlink:href=\"#m00734df398\" y=\"26.598381\"/>\r\n     <use style=\"stroke:#000000;\" x=\"101.705284\" xlink:href=\"#m00734df398\" y=\"98.611811\"/>\r\n     <use style=\"stroke:#000000;\" x=\"56.089044\" xlink:href=\"#m00734df398\" y=\"123.388947\"/>\r\n     <use style=\"stroke:#000000;\" x=\"319.729962\" xlink:href=\"#m00734df398\" y=\"176.39296\"/>\r\n     <use style=\"stroke:#000000;\" x=\"242.064946\" xlink:href=\"#m00734df398\" y=\"163.005523\"/>\r\n     <use style=\"stroke:#000000;\" x=\"146.061981\" xlink:href=\"#m00734df398\" y=\"41.956669\"/>\r\n     <use style=\"stroke:#000000;\" x=\"79.412804\" xlink:href=\"#m00734df398\" y=\"185.195144\"/>\r\n     <use style=\"stroke:#000000;\" x=\"153.767463\" xlink:href=\"#m00734df398\" y=\"213.712918\"/>\r\n     <use style=\"stroke:#000000;\" x=\"297.338016\" xlink:href=\"#m00734df398\" y=\"90.186904\"/>\r\n     <use style=\"stroke:#000000;\" x=\"252.729908\" xlink:href=\"#m00734df398\" y=\"113.223173\"/>\r\n     <use style=\"stroke:#000000;\" x=\"58.091611\" xlink:href=\"#m00734df398\" y=\"168.330826\"/>\r\n     <use style=\"stroke:#000000;\" x=\"165.111173\" xlink:href=\"#m00734df398\" y=\"67.948543\"/>\r\n     <use style=\"stroke:#000000;\" x=\"127.910612\" xlink:href=\"#m00734df398\" y=\"124.424184\"/>\r\n     <use style=\"stroke:#000000;\" x=\"141.364359\" xlink:href=\"#m00734df398\" y=\"21.491561\"/>\r\n     <use style=\"stroke:#000000;\" x=\"334.346978\" xlink:href=\"#m00734df398\" y=\"21.478899\"/>\r\n     <use style=\"stroke:#000000;\" x=\"162.737316\" xlink:href=\"#m00734df398\" y=\"173.778462\"/>\r\n     <use style=\"stroke:#000000;\" x=\"83.026662\" xlink:href=\"#m00734df398\" y=\"159.103785\"/>\r\n     <use style=\"stroke:#000000;\" x=\"192.291448\" xlink:href=\"#m00734df398\" y=\"91.297075\"/>\r\n     <use style=\"stroke:#000000;\" x=\"120.939149\" xlink:href=\"#m00734df398\" y=\"204.981277\"/>\r\n     <use style=\"stroke:#000000;\" x=\"93.477876\" xlink:href=\"#m00734df398\" y=\"70.551518\"/>\r\n     <use style=\"stroke:#000000;\" x=\"345.741578\" xlink:href=\"#m00734df398\" y=\"126.200934\"/>\r\n     <use style=\"stroke:#000000;\" x=\"160.431197\" xlink:href=\"#m00734df398\" y=\"155.132363\"/>\r\n     <use style=\"stroke:#000000;\" x=\"83.389265\" xlink:href=\"#m00734df398\" y=\"64.691135\"/>\r\n     <use style=\"stroke:#000000;\" x=\"309.252558\" xlink:href=\"#m00734df398\" y=\"85.987414\"/>\r\n     <use style=\"stroke:#000000;\" x=\"195.614404\" xlink:href=\"#m00734df398\" y=\"63.797942\"/>\r\n     <use style=\"stroke:#000000;\" x=\"161.431473\" xlink:href=\"#m00734df398\" y=\"199.425283\"/>\r\n     <use style=\"stroke:#000000;\" x=\"85.715915\" xlink:href=\"#m00734df398\" y=\"47.711992\"/>\r\n     <use style=\"stroke:#000000;\" x=\"124.207714\" xlink:href=\"#m00734df398\" y=\"79.820766\"/>\r\n     <use style=\"stroke:#000000;\" x=\"144.570333\" xlink:href=\"#m00734df398\" y=\"187.674619\"/>\r\n     <use style=\"stroke:#000000;\" x=\"338.363033\" xlink:href=\"#m00734df398\" y=\"207.431651\"/>\r\n     <use style=\"stroke:#000000;\" x=\"229.146312\" xlink:href=\"#m00734df398\" y=\"196.165339\"/>\r\n     <use style=\"stroke:#000000;\" x=\"290.137082\" xlink:href=\"#m00734df398\" y=\"35.638501\"/>\r\n     <use style=\"stroke:#000000;\" x=\"241.968978\" xlink:href=\"#m00734df398\" y=\"191.063221\"/>\r\n     <use style=\"stroke:#000000;\" x=\"352.84627\" xlink:href=\"#m00734df398\" y=\"66.833656\"/>\r\n     <use style=\"stroke:#000000;\" x=\"328.102806\" xlink:href=\"#m00734df398\" y=\"104.702105\"/>\r\n     <use style=\"stroke:#000000;\" x=\"339.521258\" xlink:href=\"#m00734df398\" y=\"117.720151\"/>\r\n     <use style=\"stroke:#000000;\" x=\"346.115089\" xlink:href=\"#m00734df398\" y=\"71.876189\"/>\r\n     <use style=\"stroke:#000000;\" x=\"132.902916\" xlink:href=\"#m00734df398\" y=\"113.258746\"/>\r\n     <use style=\"stroke:#000000;\" x=\"344.362377\" xlink:href=\"#m00734df398\" y=\"83.27522\"/>\r\n     <use style=\"stroke:#000000;\" x=\"258.44962\" xlink:href=\"#m00734df398\" y=\"63.584568\"/>\r\n     <use style=\"stroke:#000000;\" x=\"301.791063\" xlink:href=\"#m00734df398\" y=\"190.849352\"/>\r\n     <use style=\"stroke:#000000;\" x=\"213.383716\" xlink:href=\"#m00734df398\" y=\"97.687161\"/>\r\n     <use style=\"stroke:#000000;\" x=\"111.52176\" xlink:href=\"#m00734df398\" y=\"179.927981\"/>\r\n     <use style=\"stroke:#000000;\" x=\"97.65787\" xlink:href=\"#m00734df398\" y=\"118.961215\"/>\r\n     <use style=\"stroke:#000000;\" x=\"177.952284\" xlink:href=\"#m00734df398\" y=\"58.821077\"/>\r\n     <use style=\"stroke:#000000;\" x=\"95.777755\" xlink:href=\"#m00734df398\" y=\"23.231301\"/>\r\n     <use style=\"stroke:#000000;\" x=\"306.443944\" xlink:href=\"#m00734df398\" y=\"78.677804\"/>\r\n     <use style=\"stroke:#000000;\" x=\"118.422854\" xlink:href=\"#m00734df398\" y=\"213.119814\"/>\r\n     <use style=\"stroke:#000000;\" x=\"306.289591\" xlink:href=\"#m00734df398\" y=\"169.584508\"/>\r\n     <use style=\"stroke:#000000;\" x=\"78.214565\" xlink:href=\"#m00734df398\" y=\"176.681369\"/>\r\n     <use style=\"stroke:#000000;\" x=\"304.896696\" xlink:href=\"#m00734df398\" y=\"71.849492\"/>\r\n     <use style=\"stroke:#000000;\" x=\"171.2626\" xlink:href=\"#m00734df398\" y=\"214.715944\"/>\r\n     <use style=\"stroke:#000000;\" x=\"118.976184\" xlink:href=\"#m00734df398\" y=\"62.693819\"/>\r\n     <use style=\"stroke:#000000;\" x=\"200.31477\" xlink:href=\"#m00734df398\" y=\"125.52811\"/>\r\n     <use style=\"stroke:#000000;\" x=\"319.972763\" xlink:href=\"#m00734df398\" y=\"90.393354\"/>\r\n     <use style=\"stroke:#000000;\" x=\"259.012549\" xlink:href=\"#m00734df398\" y=\"94.331147\"/>\r\n     <use style=\"stroke:#000000;\" x=\"151.559436\" xlink:href=\"#m00734df398\" y=\"135.344438\"/>\r\n     <use style=\"stroke:#000000;\" x=\"174.744212\" xlink:href=\"#m00734df398\" y=\"114.061161\"/>\r\n     <use style=\"stroke:#000000;\" x=\"164.919546\" xlink:href=\"#m00734df398\" y=\"88.192129\"/>\r\n     <use style=\"stroke:#000000;\" x=\"172.966007\" xlink:href=\"#m00734df398\" y=\"140.386403\"/>\r\n     <use style=\"stroke:#000000;\" x=\"179.438081\" xlink:href=\"#m00734df398\" y=\"167.107307\"/>\r\n     <use style=\"stroke:#000000;\" x=\"285.475642\" xlink:href=\"#m00734df398\" y=\"206.246762\"/>\r\n     <use style=\"stroke:#000000;\" x=\"241.725782\" xlink:href=\"#m00734df398\" y=\"40.846451\"/>\r\n     <use style=\"stroke:#000000;\" x=\"227.830099\" xlink:href=\"#m00734df398\" y=\"60.408859\"/>\r\n     <use style=\"stroke:#000000;\" x=\"135.698451\" xlink:href=\"#m00734df398\" y=\"216.785571\"/>\r\n     <use style=\"stroke:#000000;\" x=\"121.725281\" xlink:href=\"#m00734df398\" y=\"153.030156\"/>\r\n     <use style=\"stroke:#000000;\" x=\"155.207785\" xlink:href=\"#m00734df398\" y=\"191.648236\"/>\r\n     <use style=\"stroke:#000000;\" x=\"298.456742\" xlink:href=\"#m00734df398\" y=\"112.941216\"/>\r\n     <use style=\"stroke:#000000;\" x=\"307.992347\" xlink:href=\"#m00734df398\" y=\"66.132553\"/>\r\n     <use style=\"stroke:#000000;\" x=\"211.682173\" xlink:href=\"#m00734df398\" y=\"145.047518\"/>\r\n     <use style=\"stroke:#000000;\" x=\"110.248206\" xlink:href=\"#m00734df398\" y=\"130.370142\"/>\r\n     <use style=\"stroke:#000000;\" x=\"226.130649\" xlink:href=\"#m00734df398\" y=\"188.359345\"/>\r\n     <use style=\"stroke:#000000;\" x=\"339.877561\" xlink:href=\"#m00734df398\" y=\"152.40367\"/>\r\n     <use style=\"stroke:#000000;\" x=\"135.563571\" xlink:href=\"#m00734df398\" y=\"201.241861\"/>\r\n     <use style=\"stroke:#000000;\" x=\"340.351445\" xlink:href=\"#m00734df398\" y=\"47.9478\"/>\r\n     <use style=\"stroke:#000000;\" x=\"211.148681\" xlink:href=\"#m00734df398\" y=\"197.175728\"/>\r\n     <use style=\"stroke:#000000;\" x=\"225.891206\" xlink:href=\"#m00734df398\" y=\"204.063071\"/>\r\n     <use style=\"stroke:#000000;\" x=\"186.029251\" xlink:href=\"#m00734df398\" y=\"144.243062\"/>\r\n     <use style=\"stroke:#000000;\" x=\"66.781143\" xlink:href=\"#m00734df398\" y=\"92.833141\"/>\r\n     <use style=\"stroke:#000000;\" x=\"285.382023\" xlink:href=\"#m00734df398\" y=\"193.538605\"/>\r\n     <use style=\"stroke:#000000;\" x=\"243.032517\" xlink:href=\"#m00734df398\" y=\"146.813422\"/>\r\n     <use style=\"stroke:#000000;\" x=\"93.711825\" xlink:href=\"#m00734df398\" y=\"28.116608\"/>\r\n     <use style=\"stroke:#000000;\" x=\"148.70203\" xlink:href=\"#m00734df398\" y=\"142.559673\"/>\r\n     <use style=\"stroke:#000000;\" x=\"197.569107\" xlink:href=\"#m00734df398\" y=\"216.699653\"/>\r\n     <use style=\"stroke:#000000;\" x=\"95.407262\" xlink:href=\"#m00734df398\" y=\"137.328399\"/>\r\n     <use style=\"stroke:#000000;\" x=\"173.97368\" xlink:href=\"#m00734df398\" y=\"129.280114\"/>\r\n     <use style=\"stroke:#000000;\" x=\"126.726843\" xlink:href=\"#m00734df398\" y=\"25.835367\"/>\r\n     <use style=\"stroke:#000000;\" x=\"275.01452\" xlink:href=\"#m00734df398\" y=\"149.653563\"/>\r\n     <use style=\"stroke:#000000;\" x=\"310.708193\" xlink:href=\"#m00734df398\" y=\"59.10941\"/>\r\n     <use style=\"stroke:#000000;\" x=\"170.256714\" xlink:href=\"#m00734df398\" y=\"94.810055\"/>\r\n     <use style=\"stroke:#000000;\" x=\"121.0817\" xlink:href=\"#m00734df398\" y=\"142.920187\"/>\r\n     <use style=\"stroke:#000000;\" x=\"97.514692\" xlink:href=\"#m00734df398\" y=\"88.199628\"/>\r\n     <use style=\"stroke:#000000;\" x=\"93.384182\" xlink:href=\"#m00734df398\" y=\"52.465769\"/>\r\n     <use style=\"stroke:#000000;\" x=\"165.05571\" xlink:href=\"#m00734df398\" y=\"147.937106\"/>\r\n     <use style=\"stroke:#000000;\" x=\"352.869318\" xlink:href=\"#m00734df398\" y=\"143.058162\"/>\r\n     <use style=\"stroke:#000000;\" x=\"343.87748\" xlink:href=\"#m00734df398\" y=\"170.136188\"/>\r\n     <use style=\"stroke:#000000;\" x=\"299.528539\" xlink:href=\"#m00734df398\" y=\"97.818515\"/>\r\n     <use style=\"stroke:#000000;\" x=\"128.432701\" xlink:href=\"#m00734df398\" y=\"177.566988\"/>\r\n     <use style=\"stroke:#000000;\" x=\"129.259809\" xlink:href=\"#m00734df398\" y=\"61.747603\"/>\r\n     <use style=\"stroke:#000000;\" x=\"64.329876\" xlink:href=\"#m00734df398\" y=\"34.813336\"/>\r\n     <use style=\"stroke:#000000;\" x=\"78.066565\" xlink:href=\"#m00734df398\" y=\"136.37261\"/>\r\n     <use style=\"stroke:#000000;\" x=\"131.920261\" xlink:href=\"#m00734df398\" y=\"39.628775\"/>\r\n     <use style=\"stroke:#000000;\" x=\"162.214348\" xlink:href=\"#m00734df398\" y=\"208.793815\"/>\r\n     <use style=\"stroke:#000000;\" x=\"80.254492\" xlink:href=\"#m00734df398\" y=\"70.2728\"/>\r\n     <use style=\"stroke:#000000;\" x=\"178.802741\" xlink:href=\"#m00734df398\" y=\"31.289934\"/>\r\n     <use style=\"stroke:#000000;\" x=\"128.492218\" xlink:href=\"#m00734df398\" y=\"167.788051\"/>\r\n     <use style=\"stroke:#000000;\" x=\"221.124818\" xlink:href=\"#m00734df398\" y=\"166.17242\"/>\r\n     <use style=\"stroke:#000000;\" x=\"333.354758\" xlink:href=\"#m00734df398\" y=\"183.777346\"/>\r\n     <use style=\"stroke:#000000;\" x=\"148.498079\" xlink:href=\"#m00734df398\" y=\"23.558643\"/>\r\n     <use style=\"stroke:#000000;\" x=\"349.801421\" xlink:href=\"#m00734df398\" y=\"79.156409\"/>\r\n     <use style=\"stroke:#000000;\" x=\"285.167504\" xlink:href=\"#m00734df398\" y=\"109.881615\"/>\r\n     <use style=\"stroke:#000000;\" x=\"223.884531\" xlink:href=\"#m00734df398\" y=\"173.869475\"/>\r\n     <use style=\"stroke:#000000;\" x=\"70.717902\" xlink:href=\"#m00734df398\" y=\"85.220525\"/>\r\n     <use style=\"stroke:#000000;\" x=\"70.211401\" xlink:href=\"#m00734df398\" y=\"44.012465\"/>\r\n     <use style=\"stroke:#000000;\" x=\"55.627905\" xlink:href=\"#m00734df398\" y=\"150.432392\"/>\r\n     <use style=\"stroke:#000000;\" x=\"342.522945\" xlink:href=\"#m00734df398\" y=\"56.370092\"/>\r\n     <use style=\"stroke:#000000;\" x=\"286.539826\" xlink:href=\"#m00734df398\" y=\"27.041851\"/>\r\n     <use style=\"stroke:#000000;\" x=\"266.670197\" xlink:href=\"#m00734df398\" y=\"31.608662\"/>\r\n     <use style=\"stroke:#000000;\" x=\"186.37682\" xlink:href=\"#m00734df398\" y=\"172.112061\"/>\r\n     <use style=\"stroke:#000000;\" x=\"204.241349\" xlink:href=\"#m00734df398\" y=\"154.987866\"/>\r\n     <use style=\"stroke:#000000;\" x=\"169.919178\" xlink:href=\"#m00734df398\" y=\"120.275551\"/>\r\n     <use style=\"stroke:#000000;\" x=\"145.531636\" xlink:href=\"#m00734df398\" y=\"88.411822\"/>\r\n     <use style=\"stroke:#000000;\" x=\"241.719404\" xlink:href=\"#m00734df398\" y=\"55.692587\"/>\r\n     <use style=\"stroke:#000000;\" x=\"220.531205\" xlink:href=\"#m00734df398\" y=\"86.451471\"/>\r\n     <use style=\"stroke:#000000;\" x=\"340.418911\" xlink:href=\"#m00734df398\" y=\"88.705484\"/>\r\n     <use style=\"stroke:#000000;\" x=\"272.563098\" xlink:href=\"#m00734df398\" y=\"177.667768\"/>\r\n     <use style=\"stroke:#000000;\" x=\"224.866649\" xlink:href=\"#m00734df398\" y=\"180.676061\"/>\r\n     <use style=\"stroke:#000000;\" x=\"71.175857\" xlink:href=\"#m00734df398\" y=\"154.609276\"/>\r\n     <use style=\"stroke:#000000;\" x=\"242.869876\" xlink:href=\"#m00734df398\" y=\"154.485279\"/>\r\n     <use style=\"stroke:#000000;\" x=\"323.863834\" xlink:href=\"#m00734df398\" y=\"159.320061\"/>\r\n     <use style=\"stroke:#000000;\" x=\"257.716351\" xlink:href=\"#m00734df398\" y=\"132.338244\"/>\r\n     <use style=\"stroke:#000000;\" x=\"328.312574\" xlink:href=\"#m00734df398\" y=\"39.339696\"/>\r\n     <use style=\"stroke:#000000;\" x=\"284.94889\" xlink:href=\"#m00734df398\" y=\"57.512393\"/>\r\n     <use style=\"stroke:#000000;\" x=\"331.865089\" xlink:href=\"#m00734df398\" y=\"171.563232\"/>\r\n     <use style=\"stroke:#000000;\" x=\"279.074046\" xlink:href=\"#m00734df398\" y=\"34.394165\"/>\r\n     <use style=\"stroke:#000000;\" x=\"175.861256\" xlink:href=\"#m00734df398\" y=\"99.408543\"/>\r\n     <use style=\"stroke:#000000;\" x=\"71.47619\" xlink:href=\"#m00734df398\" y=\"108.675893\"/>\r\n     <use style=\"stroke:#000000;\" x=\"269.209809\" xlink:href=\"#m00734df398\" y=\"168.062618\"/>\r\n    </g>\r\n   </g>\r\n   <g id=\"patch_3\">\r\n    <path d=\"M 33.2875 228.14 \r\nL 33.2875 10.7 \r\n\" style=\"fill:none;stroke:#000000;stroke-linecap:square;stroke-linejoin:miter;stroke-width:0.8;\"/>\r\n   </g>\r\n   <g id=\"patch_4\">\r\n    <path d=\"M 368.0875 228.14 \r\nL 368.0875 10.7 \r\n\" style=\"fill:none;stroke:#000000;stroke-linecap:square;stroke-linejoin:miter;stroke-width:0.8;\"/>\r\n   </g>\r\n   <g id=\"patch_5\">\r\n    <path d=\"M 33.2875 228.14 \r\nL 368.0875 228.14 \r\n\" style=\"fill:none;stroke:#000000;stroke-linecap:square;stroke-linejoin:miter;stroke-width:0.8;\"/>\r\n   </g>\r\n   <g id=\"patch_6\">\r\n    <path d=\"M 33.2875 10.7 \r\nL 368.0875 10.7 \r\n\" style=\"fill:none;stroke:#000000;stroke-linecap:square;stroke-linejoin:miter;stroke-width:0.8;\"/>\r\n   </g>\r\n  </g>\r\n </g>\r\n <defs>\r\n  <clipPath id=\"p9ae5706c1c\">\r\n   <rect height=\"217.44\" width=\"334.8\" x=\"33.2875\" y=\"10.7\"/>\r\n  </clipPath>\r\n </defs>\r\n</svg>\r\n"
      ],
      "text/plain": [
       "<Figure size 432x288 with 1 Axes>"
      ]
     },
     "metadata": {},
     "output_type": "display_data"
    }
   ],
   "source": [
    "plt.plot(map.points[:,0], map.points[:,1], 'ko')"
   ]
  },
  {
   "cell_type": "code",
   "execution_count": null,
   "metadata": {
    "autoscroll": false,
    "collapsed": false,
    "ein.hycell": false,
    "ein.tags": "worksheet-0",
    "slideshow": {
     "slide_type": "-"
    }
   },
   "outputs": [],
   "source": []
  }
 ],
 "metadata": {
  "kernelspec": {
   "display_name": "Islands (py37)",
   "name": "islands"
  },
  "language_info": {
   "codemirror_mode": {
    "name": "ipython",
    "version": 3
   },
   "file_extension": ".py",
   "mimetype": "text/x-python",
   "name": "python",
   "nbconvert_exporter": "python",
   "pygments_lexer": "ipython3",
   "version": "3.6.1"
  },
  "name": "Polygonal Map Generation.ipynb"
 },
 "nbformat": 4,
 "nbformat_minor": 1
}
