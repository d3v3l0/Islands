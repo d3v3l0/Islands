{
 "cells": [
  {
   "cell_type": "code",
   "execution_count": 1,
   "metadata": {
    "collapsed": false
   },
   "outputs": [
    {
     "name": "stdout",
     "output_type": "stream",
     "text": [
      "C:\\Users\\millejoh\\Documents\\Github\\Islands\n"
     ]
    }
   ],
   "source": [
    "%cd /Users/millejoh/Documents/Github/Islands/"
   ]
  },
  {
   "cell_type": "code",
   "execution_count": 2,
   "metadata": {
    "collapsed": false
   },
   "outputs": [],
   "source": [
    "%load_ext autoreload\n",
    "%autoreload 2"
   ]
  },
  {
   "cell_type": "code",
   "execution_count": 3,
   "metadata": {
    "collapsed": false
   },
   "outputs": [
    {
     "data": {
      "text/plain": [
       "(6, 0)"
      ]
     },
     "execution_count": 3,
     "metadata": {},
     "output_type": "execute_result"
    }
   ],
   "source": [
    "import sys\n",
    "import pygame\n",
    "from gui.gameclock import GameClock\n",
    "\n",
    "pygame.init()"
   ]
  },
  {
   "cell_type": "markdown",
   "metadata": {
    "collapsed": true
   },
   "source": [
    "# IPython GUI Support"
   ]
  },
  {
   "cell_type": "markdown",
   "metadata": {
    "collapsed": true
   },
   "source": [
    "Per the 3.x\n",
    "[documentation](http://ipython.org/ipython-doc/stable/config/eventloops.html)\n",
    "to integrate an event loop with the kernel (not the terminal) it must occasionally call\n",
    "[`IPython.kernel.zmq.kernelbase.Kernel.do_one_iteration()`](http://ipython.org/ipython-doc/stable/api/generated/IPython.kernel.zmq.kernelbase.html#IPython.kernel.zmq.kernelbase.Kernel.do_one_iteration).\n",
    "\n",
    "First, what a simple event loop looks like in Pygame:\n"
   ]
  },
  {
   "cell_type": "code",
   "execution_count": 4,
   "metadata": {
    "collapsed": false
   },
   "outputs": [],
   "source": [
    "def simplest_event_loop():\n",
    "    clock = GameClock()\n",
    "    game_is_running = True\n",
    "    while game_is_running:\n",
    "        clock.tick()\n",
    "        if clock.update_ready:\n",
    "            pass # Game update.\n",
    "        if clock.frame_ready:\n",
    "            pass # Draw update.\n"
   ]
  },
  {
   "cell_type": "markdown",
   "metadata": {
    "collapsed": true
   },
   "source": [
    "Note that `do_one_iteration()` needs to be called at least every kernel._poll_interval seconds. This could\n",
    "probably be done using `clock.schedule`."
   ]
  },
  {
   "cell_type": "code",
   "execution_count": 4,
   "metadata": {
    "collapsed": false
   },
   "outputs": [],
   "source": [
    "from IPython.kernel.zmq.eventloops import register_integration\n",
    "from pygame.locals import QUIT, KEYDOWN, K_ESCAPE\n",
    "\n",
    "@register_integration('pygame')\n",
    "def simplest_event_loop(kernel):\n",
    "    clock = GameClock()\n",
    "    screen = init_display()\n",
    "    game_is_running = True\n",
    "    while game_is_running:\n",
    "        clock.tick()\n",
    "        if clock.update_ready:\n",
    "            pass # Game update.\n",
    "        if clock.frame_ready:\n",
    "            draw(screen)\n",
    "        for e in pygame.event.get():\n",
    "            if e.type == QUIT: game_is_running = False\n",
    "            elif e.type == KEYDOWN:\n",
    "                if e.key == K_ESCAPE: game_is_running = False\n",
    "        kernel.do_one_iteration()\n"
   ]
  },
  {
   "cell_type": "markdown",
   "metadata": {
    "collapsed": true
   },
   "source": [
    "# Pygame"
   ]
  },
  {
   "cell_type": "code",
   "execution_count": 5,
   "metadata": {
    "collapsed": false
   },
   "outputs": [],
   "source": [
    "def init_display():\n",
    "    global screen\n",
    "    screen = pygame.display.set_mode((640, 480))\n",
    "    pygame.display.set_caption(\"Simple Pygame Test\")\n",
    "\n",
    "    return screen\n",
    "\n",
    "def draw(screen):\n",
    "    global textlayer\n",
    "    \n",
    "    background = pygame.Surface(screen.get_size())\n",
    "    background = background.convert()\n",
    "    background.fill((250, 250, 250))\n",
    "\n",
    "    font = pygame.font.Font(None, 36)\n",
    "    text = font.render(\"Hello There\", 1, (10, 10, 10))\n",
    "    textpos = text.get_rect()\n",
    "    textpos.centerx = background.get_rect().centerx\n",
    "    textlayer = [(text, textpos)]\n",
    "    for text, textpos in textlayer:\n",
    "        background.blit(text, textpos)\n",
    "\n",
    "    screen.blit(background, (0, 0))\n",
    "    pygame.display.flip()"
   ]
  },
  {
   "cell_type": "code",
   "execution_count": 12,
   "metadata": {
    "collapsed": false
   },
   "outputs": [],
   "source": [
    "%gui pygame"
   ]
  },
  {
   "cell_type": "code",
   "execution_count": 25,
   "metadata": {
    "collapsed": false
   },
   "outputs": [],
   "source": [
    "%gui"
   ]
  },
  {
   "cell_type": "code",
   "execution_count": null,
   "metadata": {
    "collapsed": false
   },
   "outputs": [],
   "source": [
    "1+1"
   ]
  },
  {
   "cell_type": "code",
   "execution_count": null,
   "metadata": {
    "collapsed": false
   },
   "outputs": [],
   "source": []
  }
 ],
 "metadata": {},
 "nbformat": 4,
 "nbformat_minor": 0
}
