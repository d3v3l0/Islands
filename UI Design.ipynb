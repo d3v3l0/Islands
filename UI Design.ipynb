{
 "cells": [
  {
   "cell_type": "code",
   "execution_count": 1,
   "metadata": {
    "autoscroll": false,
    "collapsed": false,
    "ein.hycell": false,
    "ein.tags": "worksheet-0",
    "slideshow": {
     "slide_type": "-"
    }
   },
   "outputs": [
    {
     "ename": "ModuleNotFoundError",
     "evalue": "No module named 'clubsandwich'",
     "output_type": "error",
     "traceback": [
      "\u001b[1;31m---------------------------------------------------------------------------\u001b[0m",
      "\u001b[1;31mModuleNotFoundError\u001b[0m                       Traceback (most recent call last)",
      "\u001b[1;32m<ipython-input-1-945ac6e7c61b>\u001b[0m in \u001b[0;36m<module>\u001b[1;34m\u001b[0m\n\u001b[0;32m      1\u001b[0m \u001b[1;32mfrom\u001b[0m \u001b[0mgameclock\u001b[0m \u001b[1;32mimport\u001b[0m \u001b[0mGameClock\u001b[0m\u001b[1;33m\u001b[0m\u001b[0m\n\u001b[0;32m      2\u001b[0m \u001b[1;32mfrom\u001b[0m \u001b[0mbearlibterminal\u001b[0m \u001b[1;32mimport\u001b[0m \u001b[0mterminal\u001b[0m\u001b[1;33m\u001b[0m\u001b[0m\n\u001b[1;32m----> 3\u001b[1;33m \u001b[1;32mfrom\u001b[0m \u001b[0mclubsandwich\u001b[0m\u001b[1;33m.\u001b[0m\u001b[0mblt\u001b[0m\u001b[1;33m.\u001b[0m\u001b[0mstate\u001b[0m \u001b[1;32mimport\u001b[0m \u001b[0mblt_state\u001b[0m\u001b[1;33m\u001b[0m\u001b[0m\n\u001b[0m\u001b[0;32m      4\u001b[0m \u001b[1;32mfrom\u001b[0m \u001b[0mclubsandwich\u001b[0m\u001b[1;33m.\u001b[0m\u001b[0mdirector\u001b[0m \u001b[1;32mimport\u001b[0m \u001b[0mDirectorLoop\u001b[0m\u001b[1;33m,\u001b[0m \u001b[0mScene\u001b[0m\u001b[1;33m\u001b[0m\u001b[0m\n\u001b[0;32m      5\u001b[0m \u001b[1;32mfrom\u001b[0m \u001b[0mclubsandwich\u001b[0m\u001b[1;33m.\u001b[0m\u001b[0mgeom\u001b[0m \u001b[1;32mimport\u001b[0m \u001b[0mRect\u001b[0m\u001b[1;33m,\u001b[0m \u001b[0mPoint\u001b[0m\u001b[1;33m,\u001b[0m \u001b[0mSize\u001b[0m\u001b[1;33m\u001b[0m\u001b[0m\n",
      "\u001b[1;31mModuleNotFoundError\u001b[0m: No module named 'clubsandwich'"
     ]
    }
   ],
   "source": [
    "from gameclock import GameClock\n",
    "from bearlibterminal import terminal\n",
    "from clubsandwich.blt.state import blt_state\n",
    "from clubsandwich.director import DirectorLoop, Scene\n",
    "from clubsandwich.geom import Rect, Point, Size\n",
    "from clubsandwich.ui import (\n",
    "    View,\n",
    "    RectView,\n",
    "    LabelView,\n",
    "    LayoutOptions,\n",
    "    UIScene,\n",
    ")"
   ]
  },
  {
   "cell_type": "code",
   "execution_count": 2,
   "metadata": {
    "autoscroll": false,
    "collapsed": false,
    "ein.hycell": false,
    "ein.tags": "worksheet-0",
    "slideshow": {
     "slide_type": "-"
    }
   },
   "outputs": [
    {
     "ename": "NameError",
     "evalue": "name 'RectView' is not defined",
     "output_type": "error",
     "traceback": [
      "\u001b[1;31m---------------------------------------------------------------------------\u001b[0m",
      "\u001b[1;31mNameError\u001b[0m                                 Traceback (most recent call last)",
      "\u001b[1;32m<ipython-input-2-5ab3334fb4c0>\u001b[0m in \u001b[0;36m<module>\u001b[1;34m\u001b[0m\n\u001b[1;32m----> 1\u001b[1;33m \u001b[1;32mclass\u001b[0m \u001b[0mInfoBar\u001b[0m\u001b[1;33m(\u001b[0m\u001b[0mRectView\u001b[0m\u001b[1;33m)\u001b[0m\u001b[1;33m:\u001b[0m\u001b[1;33m\u001b[0m\u001b[0m\n\u001b[0m\u001b[0;32m      2\u001b[0m     \u001b[1;32mdef\u001b[0m \u001b[0m__init__\u001b[0m\u001b[1;33m(\u001b[0m\u001b[0mself\u001b[0m\u001b[1;33m,\u001b[0m \u001b[1;33m*\u001b[0m\u001b[0margs\u001b[0m\u001b[1;33m,\u001b[0m \u001b[1;33m**\u001b[0m\u001b[0mkwargs\u001b[0m\u001b[1;33m)\u001b[0m\u001b[1;33m:\u001b[0m\u001b[1;33m\u001b[0m\u001b[0m\n\u001b[0;32m      3\u001b[0m         \u001b[0msuper\u001b[0m\u001b[1;33m(\u001b[0m\u001b[1;33m)\u001b[0m\u001b[1;33m.\u001b[0m\u001b[0m__init__\u001b[0m\u001b[1;33m(\u001b[0m\u001b[1;33m*\u001b[0m\u001b[0margs\u001b[0m\u001b[1;33m,\u001b[0m \u001b[1;33m**\u001b[0m\u001b[0mkwargs\u001b[0m\u001b[1;33m)\u001b[0m\u001b[1;33m\u001b[0m\u001b[0m\n\u001b[0;32m      4\u001b[0m \u001b[1;33m\u001b[0m\u001b[0m\n\u001b[0;32m      5\u001b[0m \u001b[1;32mclass\u001b[0m \u001b[0mMainDisplay\u001b[0m\u001b[1;33m(\u001b[0m\u001b[0mView\u001b[0m\u001b[1;33m)\u001b[0m\u001b[1;33m:\u001b[0m\u001b[1;33m\u001b[0m\u001b[0m\n",
      "\u001b[1;31mNameError\u001b[0m: name 'RectView' is not defined"
     ]
    }
   ],
   "source": [
    "class InfoBar(RectView):\n",
    "    def __init__(self, *args, **kwargs):\n",
    "        super().__init__(*args, **kwargs)\n",
    "\n",
    "class MainDisplay(View):\n",
    "    def __init__(self, *args, **kwargs):\n",
    "        super().__init__(*args, **kwargs)\n",
    "        self.info_bar_view = LabelView(' Status/Resources',\n",
    "                                       align_horz='left',\n",
    "                                       layout_options=LayoutOptions.row_top(1))\n",
    "        self.world_view = View(layout_options=LayoutOptions(top=2))\n",
    "        self.message_view = RectView(layout_options=LayoutOptions.row_bottom(10))\n",
    "        self.add_subviews([self.info_bar_view, self.world_view, self.message_view])\n",
    "\n",
    "class GameScene(UIScene):\n",
    "    def __init__(self, *args, **kwargs):\n",
    "        self.views = [MainDisplay()]\n",
    "        super().__init__(self.views, *args, **kwargs)\n",
    "\n",
    "    def quit(self):\n",
    "        self.director.pop_scene()\n"
   ]
  },
  {
   "cell_type": "code",
   "execution_count": 18,
   "metadata": {
    "autoscroll": false,
    "collapsed": false,
    "ein.hycell": false,
    "ein.tags": "worksheet-0",
    "slideshow": {
     "slide_type": "-"
    }
   },
   "outputs": [],
   "source": [
    "class GameLoop(DirectorLoop):\n",
    "    def __init__(self):\n",
    "        super().__init__()\n",
    "        self.clock = GameClock()\n",
    "        try:\n",
    "            import IPython.core\n",
    "            shell = IPython.core.getipython.get_ipython()\n",
    "            self._kernel = shell.kernel\n",
    "        except ImportError:\n",
    "            self._kernel = None\n",
    "\n",
    "    def terminal_init(self):\n",
    "        super().terminal_init()\n",
    "        terminal.set(\"\"\"window.resizeable=true;\"\"\")\n",
    "\n",
    "    def get_initial_scene(self):\n",
    "        return GameScene()\n",
    "\n",
    "    def terminal_update(self):\n",
    "        self.clock.tick()\n",
    "        if self._kernel:\n",
    "            self._kernel.do_one_iteration()\n",
    "        return super().terminal_update()\n",
    "\n",
    "gm = GameLoop()\n"
   ]
  },
  {
   "cell_type": "code",
   "execution_count": 20,
   "metadata": {
    "autoscroll": false,
    "collapsed": false,
    "ein.hycell": false,
    "ein.tags": "worksheet-0",
    "slideshow": {
     "slide_type": "-"
    }
   },
   "outputs": [],
   "source": [
    "gm.run()"
   ]
  },
  {
   "cell_type": "code",
   "execution_count": 19,
   "metadata": {
    "autoscroll": false,
    "collapsed": false,
    "ein.hycell": false,
    "ein.tags": "worksheet-0",
    "slideshow": {
     "slide_type": "-"
    }
   },
   "outputs": [
    {
     "data": {
      "text/plain": [
       "[MainDisplay Rect(Point(0, 0), Size(80, 25))]"
      ]
     },
     "execution_count": 19,
     "metadata": {},
     "output_type": "execute_result"
    }
   ],
   "source": [
    "gm.scene_stack[0].views"
   ]
  },
  {
   "cell_type": "code",
   "execution_count": null,
   "metadata": {
    "autoscroll": false,
    "collapsed": false,
    "ein.hycell": false,
    "ein.tags": "worksheet-0",
    "slideshow": {
     "slide_type": "-"
    }
   },
   "outputs": [],
   "source": []
  }
 ],
 "metadata": {
  "kernelspec": {
   "argv": [
    "/home/millejoh/miniconda3/envs/islands/bin/python",
    "-m",
    "ipykernel_launcher",
    "-f",
    "{connection_file}"
   ],
   "display_name": "Islands (py37)",
   "env": null,
   "interrupt_mode": "signal",
   "language": "python",
   "metadata": null,
   "name": "islands"
  },
  "name": "UI Design.ipynb"
 },
 "nbformat": 4,
 "nbformat_minor": 2
}
