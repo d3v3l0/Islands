{
 "cells": [
  {
   "cell_type": "markdown",
   "metadata": {
    "collapsed": true,
    "tags": [
     "worksheet-0"
    ]
   },
   "source": [
    "# Pyglet"
   ]
  },
  {
   "cell_type": "code",
   "execution_count": 1,
   "metadata": {
    "collapsed": false,
    "tags": [
     "worksheet-0"
    ]
   },
   "outputs": [
    {
     "name": "stdout",
     "output_type": "stream",
     "text": [
      "C:\\Users\\millejoh\\Documents\\GitHub\\Islands\n"
     ]
    }
   ],
   "source": [
    "import pyglet, time\n",
    "import numpy as np\n",
    "import matplotlib.pyplot as plt\n",
    "from pyglet.gl import *\n",
    "glEnable(GL_BLEND)\n",
    "glBlendFunc(GL_SRC_ALPHA, GL_ONE_MINUS_SRC_ALPHA)\n",
    "\n",
    "%cd /Users/millejoh/Documents/GitHub/Islands/\n",
    "%run worldgen.py\n",
    "%matplotlib inline"
   ]
  },
  {
   "cell_type": "code",
   "execution_count": null,
   "metadata": {
    "collapsed": false,
    "tags": [
     "worksheet-0"
    ]
   },
   "outputs": [],
   "source": [
    "%load_ext autoreload\n",
    "%autoreload 2"
   ]
  },
  {
   "cell_type": "markdown",
   "metadata": {
    "collapsed": true,
    "tags": [
     "worksheet-0"
    ]
   },
   "source": [
    "# Pyglet/IPython Integration"
   ]
  },
  {
   "cell_type": "markdown",
   "metadata": {
    "collapsed": true,
    "tags": [
     "worksheet-0"
    ]
   },
   "source": [
    "Per the 3.x\n",
    "[documentation](http://ipython.org/ipython-doc/stable/config/eventloops.html)\n",
    "to integrate an event loop with the kernel (not the terminal) it must occasionally call\n",
    "[`IPython.kernel.zmq.kernelbase.Kernel.do_one_iteration()`](http://ipython.org/ipython-doc/stable/api/generated/IPython.kernel.zmq.kernelbase.html#IPython.kernel.zmq.kernelbase.Kernel.do_one_iteration).\n",
    "\n",
    "The decorator `@register_integration(<name>)` will add special semantics to the `%gui <name>` magic.\n",
    "\n",
    "Wonder if scheduling calls through `pyglet.clock.schedule` will work?"
   ]
  },
  {
   "cell_type": "code",
   "execution_count": 11,
   "metadata": {
    "collapsed": false,
    "tags": [
     "worksheet-0"
    ]
   },
   "outputs": [],
   "source": [
    "from IPython.kernel.zmq.eventloops import register_integration\n",
    "\n",
    "def kernel_callback(dt, kernel):\n",
    "    kernel.do_one_iteration()\n",
    "\n",
    "@register_integration('pyglet')\n",
    "def pyglet_event_loop(kernel):\n",
    "    pyglet.clock.schedule_interval(kernel_callback, 0.1, kernel)\n",
    "    pyglet.app.run()"
   ]
  },
  {
   "cell_type": "code",
   "execution_count": null,
   "metadata": {
    "collapsed": false,
    "tags": [
     "worksheet-0"
    ]
   },
   "outputs": [],
   "source": [
    "%gui pyglet"
   ]
  },
  {
   "cell_type": "markdown",
   "metadata": {
    "collapsed": true,
    "tags": [
     "worksheet-0"
    ]
   },
   "source": [
    "Yes, yes it does. One thing that doesn't seem to work so well, however, is\n",
    "stopping and restarting the pyglet event loop. As in, doesn't work at all.\n",
    "Another issue seems to be CPU resource issue. The callback interval could\n",
    "probably be tweaked to trade off response time vs. cpu usage.\n",
    "\n",
    "Okay, now can we tweak event handlers while the app is live?"
   ]
  },
  {
   "cell_type": "markdown",
   "metadata": {
    "collapsed": true,
    "tags": [
     "worksheet-0"
    ]
   },
   "source": [
    "# Graphics"
   ]
  },
  {
   "cell_type": "code",
   "execution_count": null,
   "metadata": {
    "collapsed": false,
    "tags": [
     "worksheet-0"
    ]
   },
   "outputs": [],
   "source": [
    "world_width = 80\n",
    "world_height = 50 # n x n grid\n",
    "imsize = 12 # Font is 12x12\n",
    "\n",
    "worldpx_w, worldpx_h = world_width * imsize, world_height * imsize\n",
    "\n",
    "terrain = np.zeros((world_height, world_width))\n",
    "im_set = pyglet.image.load('12x12.png')\n",
    "im_set_seq  = pyglet.image.ImageGrid(im_set, 48, 16)\n",
    "im_set_tex_seq = pyglet.image.TextureGrid(im_set_seq)    \n"
   ]
  },
  {
   "cell_type": "code",
   "execution_count": null,
   "metadata": {
    "collapsed": false,
    "tags": [
     "worksheet-0"
    ]
   },
   "outputs": [],
   "source": [
    "plt.imshow(terrain)"
   ]
  },
  {
   "cell_type": "code",
   "execution_count": 15,
   "metadata": {
    "collapsed": false,
    "tags": [
     "worksheet-0"
    ]
   },
   "outputs": [],
   "source": [
    "canvas = pyglet.window.Window(worldpx_w, worldpx_h)\n"
   ]
  },
  {
   "cell_type": "markdown",
   "metadata": {
    "collapsed": true,
    "tags": [
     "worksheet-0"
    ]
   },
   "source": [
    "Draw a glyph."
   ]
  },
  {
   "cell_type": "code",
   "execution_count": null,
   "metadata": {
    "collapsed": false,
    "tags": [
     "worksheet-0"
    ]
   },
   "outputs": [],
   "source": [
    "glyph0 = pyglet.sprite.Sprite(im_set_seq[0])\n",
    "glyph1 = pyglet.sprite.Sprite(im_set_seq[0, 1])\n",
    "\n",
    "glyph0.x, glyph0.y = canvas.width//2, canvas.height//2"
   ]
  },
  {
   "cell_type": "code",
   "execution_count": null,
   "metadata": {
    "collapsed": false,
    "tags": [
     "worksheet-0"
    ]
   },
   "outputs": [],
   "source": [
    "water = pyglet.image.SolidColorImagePattern(color_rgba(keyrgb_color_int[0]))\n",
    "white = pyglet.image.SolidColorImagePattern((0, 0, 50, 255))\n",
    "water_square = pyglet.sprite.Sprite(water.create_image(imsize, imsize))\n",
    "big_white = pyglet.sprite.Sprite(white.create_image(12, 12))"
   ]
  },
  {
   "cell_type": "code",
   "execution_count": 18,
   "metadata": {
    "collapsed": false,
    "tags": [
     "worksheet-0"
    ]
   },
   "outputs": [],
   "source": [
    "glyph1.x, glyph1.y = 10, 10\n",
    "@canvas.event\n",
    "def on_draw():\n",
    "    canvas.clear()\n",
    "    glyph0.draw()\n",
    "    water_square.draw()\n",
    "    big_white.draw()\n",
    "    glyph1.draw()\n"
   ]
  },
  {
   "cell_type": "code",
   "execution_count": 19,
   "metadata": {
    "collapsed": false,
    "tags": [
     "worksheet-0"
    ]
   },
   "outputs": [],
   "source": [
    "big_white.x, big_white.y = 10, 10"
   ]
  },
  {
   "cell_type": "code",
   "execution_count": 20,
   "metadata": {
    "collapsed": false,
    "tags": [
     "worksheet-0"
    ]
   },
   "outputs": [],
   "source": [
    "glyph0.color = (0,0,50)"
   ]
  },
  {
   "cell_type": "code",
   "execution_count": null,
   "metadata": {
    "collapsed": false,
    "tags": [
     "worksheet-0"
    ]
   },
   "outputs": [],
   "source": [
    "glyph1.opacity = 255"
   ]
  },
  {
   "cell_type": "code",
   "execution_count": 22,
   "metadata": {
    "collapsed": false,
    "tags": [
     "worksheet-0"
    ]
   },
   "outputs": [],
   "source": [
    "def update(dt):\n",
    "    # Move 10 pixels per second\n",
    "    if glyph1.x > canvas.width:\n",
    "        glyph1.x = 0\n",
    "    else:\n",
    "        glyph1.x += dt * 10\n",
    "\n",
    "# Call update 60 times a second\n",
    "pyglet.clock.schedule_interval(update, 1/60.)"
   ]
  },
  {
   "cell_type": "markdown",
   "metadata": {
    "collapsed": true,
    "tags": [
     "worksheet-0"
    ]
   },
   "source": [
    "# World Generation"
   ]
  },
  {
   "cell_type": "code",
   "execution_count": 79,
   "metadata": {
    "collapsed": false,
    "tags": [
     "worksheet-0"
    ]
   },
   "outputs": [],
   "source": [
    "%run worldgen.py"
   ]
  },
  {
   "cell_type": "code",
   "execution_count": 80,
   "metadata": {
    "collapsed": false,
    "tags": [
     "worksheet-0"
    ]
   },
   "outputs": [
    {
     "name": "stdout",
     "output_type": "stream",
     "text": [
      "<__main__.WorldGenerator object at 0x0000000009DDFF60>\n"
     ]
    }
   ],
   "source": [
    "wg = WorldGenerator(100, 100)\n",
    "print(wg)"
   ]
  },
  {
   "cell_type": "code",
   "execution_count": 81,
   "metadata": {
    "collapsed": false,
    "tags": [
     "worksheet-0"
    ]
   },
   "outputs": [],
   "source": [
    "wg.build_base_map()"
   ]
  },
  {
   "cell_type": "code",
   "execution_count": null,
   "metadata": {
    "collapsed": false,
    "tags": [
     "worksheet-0"
    ]
   },
   "outputs": [],
   "source": [
    "wg.generate()"
   ]
  },
  {
   "cell_type": "code",
   "execution_count": null,
   "metadata": {
    "collapsed": false,
    "tags": [
     "worksheet-0"
    ]
   },
   "outputs": [],
   "source": [
    "print(wg._hm[0,1])"
   ]
  },
  {
   "cell_type": "code",
   "execution_count": 24,
   "metadata": {
    "collapsed": false,
    "tags": [
     "worksheet-0"
    ]
   },
   "outputs": [
    {
     "ename": "AttributeError",
     "evalue": "'WorldGenerator' object has no attribute 'getInterpolatedAltitude'",
     "output_type": "error",
     "traceback": [
      "\u001b[1;31m---------------------------------------------------------------------------\u001b[0m",
      "\u001b[1;31mAttributeError\u001b[0m                            Traceback (most recent call last)",
      "\u001b[1;32m<ipython-input-24-f4912d78ced5>\u001b[0m in \u001b[0;36m<module>\u001b[1;34m()\u001b[0m\n\u001b[1;32m----> 1\u001b[1;33m \u001b[0mprint\u001b[0m\u001b[1;33m(\u001b[0m\u001b[0mwg\u001b[0m\u001b[1;33m.\u001b[0m\u001b[0mreal_altitude\u001b[0m\u001b[1;33m(\u001b[0m\u001b[1;36m0\u001b[0m\u001b[1;33m,\u001b[0m\u001b[1;36m0\u001b[0m\u001b[1;33m)\u001b[0m\u001b[1;33m)\u001b[0m\u001b[1;33m\u001b[0m\u001b[0m\n\u001b[0m",
      "\u001b[1;32mC:\\Users\\millejoh\\Documents\\GitHub\\Islands\\worldgen.py\u001b[0m in \u001b[0;36mreal_altitude\u001b[1;34m(self, x, y)\u001b[0m\n\u001b[0;32m    174\u001b[0m         \u001b[0mprint\u001b[0m\u001b[1;33m(\u001b[0m\u001b[1;34m\"Setting colors...\"\u001b[0m\u001b[1;33m)\u001b[0m\u001b[1;33m\u001b[0m\u001b[0m\n\u001b[0;32m    175\u001b[0m         \u001b[0mself\u001b[0m\u001b[1;33m.\u001b[0m\u001b[0mcompute_colors\u001b[0m\u001b[1;33m(\u001b[0m\u001b[1;33m)\u001b[0m\u001b[1;33m\u001b[0m\u001b[0m\n\u001b[1;32m--> 176\u001b[1;33m \u001b[1;33m\u001b[0m\u001b[0m\n\u001b[0m\u001b[0;32m    177\u001b[0m     \u001b[1;32mdef\u001b[0m \u001b[0maltitude\u001b[0m\u001b[1;33m(\u001b[0m\u001b[0mself\u001b[0m\u001b[1;33m,\u001b[0m \u001b[0mx\u001b[0m\u001b[1;33m,\u001b[0m \u001b[0my\u001b[0m\u001b[1;33m)\u001b[0m\u001b[1;33m:\u001b[0m\u001b[1;33m\u001b[0m\u001b[0m\n\u001b[0;32m    178\u001b[0m         \u001b[1;32mreturn\u001b[0m \u001b[0mself\u001b[0m\u001b[1;33m.\u001b[0m\u001b[0m_hm\u001b[0m\u001b[1;33m[\u001b[0m\u001b[0mx\u001b[0m\u001b[1;33m,\u001b[0m \u001b[0my\u001b[0m\u001b[1;33m]\u001b[0m\u001b[1;33m\u001b[0m\u001b[0m\n",
      "\u001b[1;31mAttributeError\u001b[0m: 'WorldGenerator' object has no attribute 'getInterpolatedAltitude'"
     ]
    }
   ],
   "source": [
    "print(wg.real_altitude(0,0))"
   ]
  },
  {
   "cell_type": "code",
   "execution_count": null,
   "metadata": {
    "collapsed": false,
    "tags": [
     "worksheet-0"
    ]
   },
   "outputs": [],
   "source": [
    "wg._hm"
   ]
  },
  {
   "cell_type": "code",
   "execution_count": null,
   "metadata": {
    "collapsed": false,
    "tags": [
     "worksheet-0"
    ]
   },
   "outputs": [],
   "source": []
  }
 ],
 "metadata": {},
 "nbformat": 4,
 "nbformat_minor": 0
}
