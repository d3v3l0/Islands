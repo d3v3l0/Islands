{
 "cells": [
  {
   "cell_type": "markdown",
   "metadata": {
    "collapsed": true,
    "tags": [
     "worksheet-0"
    ]
   },
   "source": [
    "# Pyglet"
   ]
  },
  {
   "cell_type": "code",
   "execution_count": 1,
   "metadata": {
    "collapsed": false,
    "tags": [
     "worksheet-0"
    ]
   },
   "outputs": [
    {
     "name": "stdout",
     "output_type": "stream",
     "text": [
      "C:\\Users\\e341194\\Documents\\GitHub\\Islands\n"
     ]
    }
   ],
   "source": [
    "import pyglet, time\n",
    "import numpy as np\n",
    "import matplotlib.pyplot as plt\n",
    "from pyglet.gl import *\n",
    "glEnable(GL_BLEND)\n",
    "glBlendFunc(GL_SRC_ALPHA, GL_ONE_MINUS_SRC_ALPHA)\n",
    "\n",
    "%cd /Users/e341194/Documents/GitHub/Islands/\n",
    "%run worldgen.py\n",
    "%matplotlib inline"
   ]
  },
  {
   "cell_type": "markdown",
   "metadata": {
    "collapsed": true,
    "tags": [
     "worksheet-0"
    ]
   },
   "source": [
    "# IPython Integration"
   ]
  },
  {
   "cell_type": "markdown",
   "metadata": {
    "collapsed": true,
    "tags": [
     "worksheet-0"
    ]
   },
   "source": [
    "Per the 3.x\n",
    "[documentation](http://ipython.org/ipython-doc/stable/config/eventloops.html)\n",
    "to integrate an event loop with the kernel (not the terminal) it must occasionally call\n",
    "[`IPython.kernel.zmq.kernelbase.Kernel.do_one_iteration()`](http://ipython.org/ipython-doc/stable/api/generated/IPython.kernel.zmq.kernelbase.html#IPython.kernel.zmq.kernelbase.Kernel.do_one_iteration).\n",
    "\n",
    "The decorator `@register_integration(<name>)` will add special semantics to the `%gui <name>` magic.\n",
    "\n",
    "Wonder if scheduling calls through `pyglet.clock.schedule` will work?"
   ]
  },
  {
   "cell_type": "code",
   "execution_count": null,
   "metadata": {
    "collapsed": false,
    "tags": [
     "worksheet-0"
    ]
   },
   "outputs": [],
   "source": [
    "from IPython.kernel.zmq.eventloops import register_integration\n",
    "\n",
    "def kernel_callback(dt, kernel):\n",
    "    kernel.do_one_iteration()\n",
    "\n",
    "@register_integration('pyglet')\n",
    "def pyglet_event_loop(kernel):\n",
    "    pyglet.clock.schedule_interval(kernel_callback, 0.1, kernel)\n",
    "    pyglet.app.run()"
   ]
  },
  {
   "cell_type": "code",
   "execution_count": null,
   "metadata": {
    "collapsed": false,
    "tags": [
     "worksheet-0"
    ]
   },
   "outputs": [],
   "source": [
    "%gui pyglet"
   ]
  },
  {
   "cell_type": "markdown",
   "metadata": {
    "collapsed": true,
    "tags": [
     "worksheet-0"
    ]
   },
   "source": [
    "Yes, yes it does. One thing that doesn't seem to work so well, however, is\n",
    "stopping and restarting the pyglet event loop. As in, doesn't work at all.\n",
    "Another issue seems to be CPU resource issue. The callback interval could\n",
    "probably be tweaked to trade off response time vs. cpu usage.\n",
    "\n",
    "Okay, now can we tweak event handlers while the app is live?"
   ]
  },
  {
   "cell_type": "markdown",
   "metadata": {
    "collapsed": true,
    "tags": [
     "worksheet-0"
    ]
   },
   "source": [
    "# Graphics"
   ]
  },
  {
   "cell_type": "code",
   "execution_count": 4,
   "metadata": {
    "collapsed": false,
    "tags": [
     "worksheet-0"
    ]
   },
   "outputs": [],
   "source": [
    "world_width = 80\n",
    "world_height = 50 # n x n grid\n",
    "imsize = 12 # Font is 12x12\n",
    "\n",
    "worldpx_w, worldpx_h = world_width * imsize, world_height * imsize\n",
    "\n",
    "terrain = np.zeros((world_height, world_width))\n",
    "im_set = pyglet.image.load('12x12.png')\n",
    "im_set_seq  = pyglet.image.ImageGrid(im_set, 48, 16)\n",
    "im_set_tex_seq = pyglet.image.TextureGrid(im_set_seq)    \n"
   ]
  },
  {
   "cell_type": "code",
   "execution_count": 5,
   "metadata": {
    "collapsed": false,
    "tags": [
     "worksheet-0"
    ]
   },
   "outputs": [
    {
     "data": {
      "text/plain": [
       "<matplotlib.figure.Figure at 0x323c990>"
      ]
     },
     "metadata": {},
     "output_type": "display_data"
    },
    {
     "data": {
      "text/plain": [
       "<matplotlib.image.AxesImage at 0x78482f0>"
      ]
     },
     "execution_count": 5,
     "metadata": {},
     "output_type": "execute_result"
    }
   ],
   "source": [
    "plt.imshow(terrain)"
   ]
  },
  {
   "cell_type": "code",
   "execution_count": null,
   "metadata": {
    "collapsed": false,
    "tags": [
     "worksheet-0"
    ]
   },
   "outputs": [],
   "source": [
    "canvas = pyglet.window.Window(worldpx_w, worldpx_h)\n"
   ]
  },
  {
   "cell_type": "markdown",
   "metadata": {
    "collapsed": true,
    "tags": [
     "worksheet-0"
    ]
   },
   "source": [
    "Draw a glyph."
   ]
  },
  {
   "cell_type": "code",
   "execution_count": 7,
   "metadata": {
    "collapsed": false,
    "tags": [
     "worksheet-0"
    ]
   },
   "outputs": [],
   "source": [
    "glyph0 = pyglet.sprite.Sprite(im_set_seq[0])\n",
    "glyph1 = pyglet.sprite.Sprite(im_set_seq[0, 1])\n",
    "\n",
    "glyph0.x, glyph0.y = canvas.width//2, canvas.height//2"
   ]
  },
  {
   "cell_type": "code",
   "execution_count": 30,
   "metadata": {
    "collapsed": false,
    "tags": [
     "worksheet-0"
    ]
   },
   "outputs": [],
   "source": [
    "water = pyglet.image.SolidColorImagePattern(color_rgba(keyrgb_color_int[0]))\n",
    "white = pyglet.image.SolidColorImagePattern((0, 0, 50, 255))\n",
    "water_square = pyglet.sprite.Sprite(water.create_image(imsize, imsize))\n",
    "big_white = pyglet.sprite.Sprite(white.create_image(12, 12))"
   ]
  },
  {
   "cell_type": "code",
   "execution_count": 29,
   "metadata": {
    "collapsed": false,
    "tags": [
     "worksheet-0"
    ]
   },
   "outputs": [],
   "source": [
    "glyph1.x, glyph1.y = 10, 10\n",
    "@canvas.event\n",
    "def on_draw():\n",
    "    canvas.clear()\n",
    "    glyph0.draw()\n",
    "    water_square.draw()\n",
    "    big_white.draw()\n",
    "    glyph1.draw()\n"
   ]
  },
  {
   "cell_type": "code",
   "execution_count": 31,
   "metadata": {
    "collapsed": false,
    "tags": [
     "worksheet-0"
    ]
   },
   "outputs": [],
   "source": [
    "big_white.x, big_white.y = 10, 10"
   ]
  },
  {
   "cell_type": "code",
   "execution_count": null,
   "metadata": {
    "collapsed": false,
    "tags": [
     "worksheet-0"
    ]
   },
   "outputs": [],
   "source": [
    "glyph0.color = (0,0,50)"
   ]
  },
  {
   "cell_type": "code",
   "execution_count": 41,
   "metadata": {
    "collapsed": false,
    "tags": [
     "worksheet-0"
    ]
   },
   "outputs": [],
   "source": [
    "glyph1.opacity = 255"
   ]
  },
  {
   "cell_type": "code",
   "execution_count": 40,
   "metadata": {
    "collapsed": false,
    "tags": [
     "worksheet-0"
    ]
   },
   "outputs": [],
   "source": [
    "def update(dt):\n",
    "    # Move 10 pixels per second\n",
    "    if glyph1.x > canvas.width:\n",
    "        glyph1.x = 0\n",
    "    else:\n",
    "        glyph1.x += dt * 10\n",
    "\n",
    "# Call update 60 times a second\n",
    "pyglet.clock.schedule_interval(update, 1/60.)"
   ]
  },
  {
   "cell_type": "code",
   "execution_count": 43,
   "metadata": {
    "collapsed": true,
    "tags": [
     "worksheet-0"
    ]
   },
   "outputs": [
    {
     "data": {
      "text/plain": [
       "['__class__',\n '__del__',\n '__delattr__',\n '__dict__',\n '__dir__',\n '__doc__',\n '__eq__',\n '__format__',\n '__ge__',\n '__getattribute__',\n '__gt__',\n '__hash__',\n '__init__',\n '__le__',\n '__lt__',\n '__module__',\n '__ne__',\n '__new__',\n '__reduce__',\n '__reduce_ex__',\n '__repr__',\n '__setattr__',\n '__sizeof__',\n '__str__',\n '__subclasshook__',\n '__weakref__',\n '_animate',\n '_animation',\n '_batch',\n '_create_vertex_list',\n '_event_stack',\n '_get_batch',\n '_get_group',\n '_get_handlers',\n '_get_height',\n '_get_image',\n '_get_width',\n '_group',\n '_opacity',\n '_raise_dispatch_exception',\n '_rgb',\n '_rotation',\n '_scale',\n '_set_batch',\n '_set_color',\n '_set_group',\n '_set_image',\n '_set_opacity',\n '_set_rotation',\n '_set_scale',\n '_set_texture',\n '_set_visible',\n '_set_x',\n '_set_y',\n '_subpixel',\n '_texture',\n '_update_color',\n '_update_position',\n '_usage',\n '_vertex_list',\n '_visible',\n '_x',\n '_y',\n 'batch',\n 'color',\n 'delete',\n 'dispatch_event',\n 'draw',\n 'event',\n 'event_types',\n 'group',\n 'height',\n 'image',\n 'opacity',\n 'pop_handlers',\n 'position',\n 'push_handlers',\n 'register_event_type',\n 'remove_handler',\n 'remove_handlers',\n 'rotation',\n 'scale',\n 'set_handler',\n 'set_handlers',\n 'set_position',\n 'visible',\n 'width',\n 'x',\n 'y']"
      ]
     },
     "execution_count": 43,
     "metadata": {},
     "output_type": "execute_result"
    }
   ],
   "source": [
    "dir(glyph1)"
   ]
  },
  {
   "cell_type": "code",
   "execution_count": null,
   "metadata": {
    "collapsed": false,
    "tags": [
     "worksheet-0"
    ]
   },
   "outputs": [],
   "source": []
  }
 ],
 "metadata": {},
 "nbformat": 4,
 "nbformat_minor": 0
}
