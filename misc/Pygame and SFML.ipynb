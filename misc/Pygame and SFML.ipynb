{
 "cells": [
  {
   "cell_type": "code",
   "execution_count": 1,
   "metadata": {
    "autoscroll": false,
    "collapsed": false,
    "ein.hycell": false,
    "ein.tags": "worksheet-0",
    "slideshow": {
     "slide_type": "-"
    }
   },
   "outputs": [],
   "source": [
    "%load_ext autoreload\n",
    "\n",
    "%autoreload 2"
   ]
  },
  {
   "cell_type": "markdown",
   "metadata": {
    "collapsed": true,
    "ein.tags": "worksheet-0",
    "slideshow": {
     "slide_type": "-"
    }
   },
   "source": [
    "# pySFML"
   ]
  },
  {
   "cell_type": "markdown",
   "metadata": {
    "collapsed": true,
    "ein.tags": "worksheet-0",
    "slideshow": {
     "slide_type": "-"
    }
   },
   "source": [
    "Let's start with some python [tutorials](http://www.python-sfml.org/tutorials.html), then\n",
    "go on to do some sfml [tutorials](http://www.sfml-dev.org/tutorials/2.2/)."
   ]
  },
  {
   "cell_type": "code",
   "execution_count": 1,
   "metadata": {
    "autoscroll": false,
    "collapsed": false,
    "ein.hycell": false,
    "ein.tags": "worksheet-0",
    "slideshow": {
     "slide_type": "-"
    }
   },
   "outputs": [],
   "source": [
    "import sfml\n",
    "from decimal import *\n",
    "\n",
    "vector = sfml.system.Vector3()\n",
    "vector.x = 5.56\n",
    "vector.y = -4\n",
    "vector.z = Decimal(0.333333)\n",
    "x, y, z = vector"
   ]
  },
  {
   "cell_type": "code",
   "execution_count": 4,
   "metadata": {
    "autoscroll": false,
    "collapsed": false,
    "ein.hycell": false,
    "ein.tags": "worksheet-0",
    "slideshow": {
     "slide_type": "-"
    }
   },
   "outputs": [
    {
     "data": {
      "text/plain": [
       "Vector3(x=5.56, y=-4, z=0.33333299999999999041477849459624849259853363037109375)"
      ]
     },
     "execution_count": 4,
     "metadata": {},
     "output_type": "execute_result"
    }
   ],
   "source": [
    "vector"
   ]
  },
  {
   "cell_type": "code",
   "execution_count": 5,
   "metadata": {
    "autoscroll": false,
    "collapsed": false,
    "ein.hycell": false,
    "ein.tags": "worksheet-0",
    "slideshow": {
     "slide_type": "-"
    }
   },
   "outputs": [
    {
     "data": {
      "text/plain": [
       "(5.56, -4, Decimal('0.33333299999999999041477849459624849259853363037109375'))"
      ]
     },
     "execution_count": 5,
     "metadata": {},
     "output_type": "execute_result"
    }
   ],
   "source": [
    "x, y, z"
   ]
  },
  {
   "cell_type": "code",
   "execution_count": 6,
   "metadata": {
    "autoscroll": false,
    "collapsed": false,
    "ein.hycell": false,
    "ein.tags": "worksheet-0",
    "slideshow": {
     "slide_type": "-"
    }
   },
   "outputs": [
    {
     "data": {
      "text/plain": [
       "Time(milliseconds=500)"
      ]
     },
     "execution_count": 6,
     "metadata": {},
     "output_type": "execute_result"
    },
    {
     "name": "stdout",
     "output_type": "stream",
     "text": [
      "0.5\n",
      "500000\n",
      "0 milliseconds\n",
      "0 milliseconds\n"
     ]
    }
   ],
   "source": [
    "t1 = sfml.system.milliseconds(500)\n",
    "print(t1.seconds)\n",
    "print(t1.microseconds)\n",
    "\n",
    "clock = sfml.system.Clock()\n",
    "print(clock.elapsed_time)\n",
    "t2 = clock.restart()\n",
    "print(t2)\n",
    "time = t1+t2\n",
    "#time *= t2 # Time objects don't support multiplication??\n",
    "\n",
    "\n",
    "sfml.system.sleep(time)\n",
    "time"
   ]
  },
  {
   "cell_type": "code",
   "execution_count": 2,
   "metadata": {
    "autoscroll": false,
    "collapsed": false,
    "ein.hycell": false,
    "ein.tags": "worksheet-0",
    "slideshow": {
     "slide_type": "-"
    }
   },
   "outputs": [
    {
     "data": {
      "text/plain": [
       "VideoMode(size=(800, 600), bpp=32)"
      ]
     },
     "execution_count": 2,
     "metadata": {},
     "output_type": "execute_result"
    }
   ],
   "source": [
    "sfml.window.VideoMode(800, 600)"
   ]
  },
  {
   "cell_type": "code",
   "execution_count": 4,
   "metadata": {
    "autoscroll": false,
    "collapsed": false,
    "ein.hycell": false,
    "ein.tags": "worksheet-0",
    "slideshow": {
     "slide_type": "-"
    }
   },
   "outputs": [
    {
     "ename": "AttributeError",
     "evalue": "'module' object has no attribute 'RenderWindow'",
     "output_type": "error",
     "traceback": [
      "\u001b[1;31m---------------------------------------------------------------------------\u001b[0m",
      "\u001b[1;31mAttributeError\u001b[0m                            Traceback (most recent call last)",
      "\u001b[1;32m<ipython-input-4-6c73b5f50d72>\u001b[0m in \u001b[0;36m<module>\u001b[1;34m()\u001b[0m\n\u001b[1;32m----> 1\u001b[1;33m \u001b[0msfml\u001b[0m\u001b[1;33m.\u001b[0m\u001b[0mwindow\u001b[0m\u001b[1;33m.\u001b[0m\u001b[0mRenderWindow\u001b[0m\u001b[1;33m\u001b[0m\u001b[0m\n\u001b[0m",
      "\u001b[1;31mAttributeError\u001b[0m: 'module' object has no attribute 'RenderWindow'"
     ]
    }
   ],
   "source": [
    "sfml.window."
   ]
  },
  {
   "cell_type": "markdown",
   "metadata": {
    "collapsed": true,
    "ein.tags": "worksheet-0",
    "slideshow": {
     "slide_type": "-"
    }
   },
   "source": [
    "# IPython GUI Support for Pygame"
   ]
  },
  {
   "cell_type": "code",
   "execution_count": 4,
   "metadata": {
    "autoscroll": false,
    "collapsed": false,
    "ein.hycell": false,
    "ein.tags": "worksheet-0",
    "slideshow": {
     "slide_type": "-"
    }
   },
   "outputs": [
    {
     "data": {
      "text/plain": [
       "(6, 0)"
      ]
     },
     "execution_count": 4,
     "metadata": {},
     "output_type": "execute_result"
    }
   ],
   "source": [
    "import sys\n",
    "import pygame\n",
    "from gui.gameclock import GameClock\n",
    "\n",
    "pygame.init()"
   ]
  },
  {
   "cell_type": "markdown",
   "metadata": {
    "collapsed": true,
    "ein.tags": "worksheet-0",
    "slideshow": {
     "slide_type": "-"
    }
   },
   "source": [
    "Per the 3.x\n",
    "[documentation](http://ipython.org/ipython-doc/stable/config/eventloops.html)\n",
    "to integrate an event loop with the kernel (not the terminal) it must occasionally call\n",
    "[`IPython.kernel.zmq.kernelbase.Kernel.do_one_iteration()`](http://ipython.org/ipython-doc/stable/api/generated/IPython.kernel.zmq.kernelbase.html#IPython.kernel.zmq.kernelbase.Kernel.do_one_iteration).\n",
    "\n",
    "First, what a simple event loop looks like in Pygame:\n"
   ]
  },
  {
   "cell_type": "code",
   "execution_count": 5,
   "metadata": {
    "autoscroll": false,
    "collapsed": false,
    "ein.hycell": false,
    "ein.tags": "worksheet-0",
    "slideshow": {
     "slide_type": "-"
    }
   },
   "outputs": [],
   "source": [
    "def simplest_event_loop():\n",
    "    clock = GameClock()\n",
    "    game_is_running = True\n",
    "    while game_is_running:\n",
    "        clock.tick()\n",
    "        if clock.update_ready:\n",
    "            pass # Game update.\n",
    "        if clock.frame_ready:\n",
    "            pass # Draw update."
   ]
  },
  {
   "cell_type": "markdown",
   "metadata": {
    "collapsed": true,
    "ein.tags": "worksheet-0",
    "slideshow": {
     "slide_type": "-"
    }
   },
   "source": [
    "Note that `do_one_iteration()` needs to be called at least every\n",
    "kernel._poll_interval seconds. This could probably be done using\n",
    "`clock.schedule`."
   ]
  },
  {
   "cell_type": "code",
   "execution_count": 6,
   "metadata": {
    "autoscroll": false,
    "collapsed": false,
    "ein.hycell": false,
    "ein.tags": "worksheet-0",
    "slideshow": {
     "slide_type": "-"
    }
   },
   "outputs": [],
   "source": [
    "from IPython.kernel.zmq.eventloops import register_integration\n",
    "from pygame.locals import QUIT, KEYDOWN, K_ESCAPE\n",
    "\n",
    "@register_integration('pygame')\n",
    "def simplest_event_loop(kernel):\n",
    "    clock = GameClock()\n",
    "    screen = init_display()\n",
    "    game_is_running = True\n",
    "    while game_is_running:\n",
    "        clock.tick()\n",
    "        if clock.update_ready:\n",
    "            pass # Game update.\n",
    "        if clock.frame_ready:\n",
    "            draw(screen)\n",
    "        for e in pygame.event.get():\n",
    "            if e.type == QUIT: game_is_running = False\n",
    "            elif e.type == KEYDOWN:\n",
    "                if e.key == K_ESCAPE: game_is_running = False\n",
    "        kernel.do_one_iteration()"
   ]
  },
  {
   "cell_type": "markdown",
   "metadata": {
    "collapsed": true,
    "ein.tags": "worksheet-0",
    "slideshow": {
     "slide_type": "-"
    }
   },
   "source": [
    "# Pygame"
   ]
  },
  {
   "cell_type": "code",
   "execution_count": 2,
   "metadata": {
    "autoscroll": false,
    "collapsed": false,
    "ein.hycell": false,
    "ein.tags": "worksheet-0",
    "slideshow": {
     "slide_type": "-"
    }
   },
   "outputs": [],
   "source": [
    "def init_display():\n",
    "    global screen\n",
    "    screen = pygame.display.set_mode((640, 480))\n",
    "    pygame.display.set_caption(\"Simple Pygame Test\")\n",
    "\n",
    "    return screen\n",
    "\n",
    "def draw(screen):\n",
    "    global textlayer\n",
    "\n",
    "    background = pygame.Surface(screen.get_size())\n",
    "    background = background.convert()\n",
    "    background.fill((250, 250, 250))\n",
    "\n",
    "    font = pygame.font.Font(None, 36)\n",
    "    text = font.render(\"Hello There\", 1, (10, 10, 10))\n",
    "    textpos = text.get_rect()\n",
    "    textpos.centerx = background.get_rect().centerx\n",
    "    textlayer = [(text, textpos)]\n",
    "    for text, textpos in textlayer:\n",
    "        background.blit(text, textpos)\n",
    "\n",
    "    screen.blit(background, (0, 0))\n",
    "    pygame.display.flip()"
   ]
  },
  {
   "cell_type": "code",
   "execution_count": 3,
   "metadata": {
    "autoscroll": false,
    "collapsed": false,
    "ein.hycell": false,
    "ein.tags": "worksheet-0",
    "slideshow": {
     "slide_type": "-"
    }
   },
   "outputs": [
    {
     "name": "stderr",
     "output_type": "stream",
     "text": [
      "ERROR: Invalid GUI request 'pygame', valid ones are:dict_keys(['osx', 'qt5', None, 'gtk', 'wx', 'qt4', 'nbagg', 'inline', 'notebook', 'qt', 'gtk3', 'tk'])\n"
     ]
    }
   ],
   "source": [
    "%gui pygame"
   ]
  },
  {
   "cell_type": "code",
   "execution_count": 9,
   "metadata": {
    "autoscroll": false,
    "collapsed": false,
    "ein.hycell": false,
    "ein.tags": "worksheet-0",
    "slideshow": {
     "slide_type": "-"
    }
   },
   "outputs": [],
   "source": [
    "%gui"
   ]
  },
  {
   "cell_type": "code",
   "execution_count": 6,
   "metadata": {
    "autoscroll": false,
    "collapsed": false,
    "ein.hycell": false,
    "ein.tags": "worksheet-0",
    "slideshow": {
     "slide_type": "-"
    }
   },
   "outputs": [
    {
     "data": {
      "text/plain": [
       "2"
      ]
     },
     "execution_count": 6,
     "metadata": {},
     "output_type": "execute_result"
    }
   ],
   "source": [
    "1+1"
   ]
  },
  {
   "cell_type": "code",
   "execution_count": 5,
   "metadata": {
    "autoscroll": false,
    "collapsed": false,
    "ein.hycell": false,
    "ein.tags": "worksheet-0",
    "slideshow": {
     "slide_type": "-"
    }
   },
   "outputs": [],
   "source": [
    "?"
   ]
  },
  {
   "cell_type": "code",
   "execution_count": null,
   "metadata": {
    "autoscroll": false,
    "collapsed": false,
    "ein.hycell": false,
    "ein.tags": "worksheet-0",
    "slideshow": {
     "slide_type": "-"
    }
   },
   "outputs": [],
   "source": []
  }
 ],
 "metadata": {
  "kernelspec": {
   "display_name": "Islands (py37)",
   "name": "islands"
  },
  "name": "Pygame and SFML.ipynb"
 },
 "nbformat": 4,
 "nbformat_minor": 0
}
